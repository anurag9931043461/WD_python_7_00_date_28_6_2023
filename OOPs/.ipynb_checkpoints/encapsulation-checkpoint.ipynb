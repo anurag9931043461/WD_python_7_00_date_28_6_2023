{
 "cells": [
  {
   "cell_type": "code",
   "execution_count": 4,
   "id": "4cd467cd-7c8a-4ebb-9c8a-c9dea4814b02",
   "metadata": {},
   "outputs": [],
   "source": [
    "class ATM:\n",
    "    def __init__(self):\n",
    "        self.pin=\"1234\"        #instance variable\n",
    "        self.balance=10000.00  #instance variable\n",
    "    "
   ]
  },
  {
   "cell_type": "code",
   "execution_count": 5,
   "id": "b39aa5ce-3d67-4ca5-8c81-ab212a7958b0",
   "metadata": {},
   "outputs": [],
   "source": [
    "krishna=ATM()"
   ]
  },
  {
   "cell_type": "code",
   "execution_count": 6,
   "id": "cff4f886-6d48-4982-8344-8ee4da8968c9",
   "metadata": {},
   "outputs": [
    {
     "data": {
      "text/plain": [
       "'1234'"
      ]
     },
     "execution_count": 6,
     "metadata": {},
     "output_type": "execute_result"
    }
   ],
   "source": [
    "krishna.pin"
   ]
  },
  {
   "cell_type": "markdown",
   "id": "38609fe3-102a-4ca3-b02b-d1a65d121572",
   "metadata": {},
   "source": [
    "# after encasulating our instance variable."
   ]
  },
  {
   "cell_type": "code",
   "execution_count": 22,
   "id": "b967c0ce-6dba-4894-bf1a-7aec48206f00",
   "metadata": {},
   "outputs": [],
   "source": [
    "class ATM:\n",
    "    def __init__(self):\n",
    "        self.__pin=\"1234\"\n",
    "        self.__balance=10000.00\n",
    "    "
   ]
  },
  {
   "cell_type": "code",
   "execution_count": 23,
   "id": "c7ed779b-9821-422a-ba8b-08649bc314b9",
   "metadata": {},
   "outputs": [],
   "source": [
    "krishna=ATM()"
   ]
  },
  {
   "cell_type": "code",
   "execution_count": 25,
   "id": "69ea7d46-4eb3-4b82-8669-f293c13d2b06",
   "metadata": {},
   "outputs": [
    {
     "data": {
      "text/plain": [
       "'1234'"
      ]
     },
     "execution_count": 25,
     "metadata": {},
     "output_type": "execute_result"
    }
   ],
   "source": [
    "krishna._ATM__pin"
   ]
  },
  {
   "cell_type": "code",
   "execution_count": 26,
   "id": "b655f450-58b2-4a0e-b79e-afbb0bebe8dc",
   "metadata": {},
   "outputs": [
    {
     "data": {
      "text/plain": [
       "10000.0"
      ]
     },
     "execution_count": 26,
     "metadata": {},
     "output_type": "execute_result"
    }
   ],
   "source": [
    "krishna._ATM__balance"
   ]
  },
  {
   "cell_type": "code",
   "execution_count": 37,
   "id": "dd685737-b8b7-4ae1-b708-1543d5b97a5b",
   "metadata": {},
   "outputs": [],
   "source": [
    "class ATM:\n",
    "    def __init__(self):\n",
    "        self.__pin=\"1234\"\n",
    "        self.__balance=10000.00\n",
    "    def balance_enquiry(self):\n",
    "        user=input(\"Kindly you pin:\")   #\"1244\"\n",
    "        if user==self.__pin:\n",
    "            print(\"your pin is \",self.__balance)\n",
    "        else:\n",
    "            print(\"Kindly enter a valid pin\")\n",
    "    def change_pin(self):\n",
    "        user=input(\"Kindly enter your old pin:\")\n",
    "        if user==self.__pin:\n",
    "            user1=input(\"Kindly enter your new pin:\")\n",
    "            user2=input(\"Kindly re-enter your pin:\")\n",
    "            if user1==user2:\n",
    "                self.__pin=user1\n",
    "                print(\"Your pin has been changed\")\n",
    "            else:\n",
    "                print(\"Miss match pin.\")\n",
    "        else:\n",
    "            print(\"Kindly enter a valid old pin\")"
   ]
  },
  {
   "cell_type": "code",
   "execution_count": 38,
   "id": "72eaae44-dd66-4bbf-85c5-f90694438fe6",
   "metadata": {},
   "outputs": [],
   "source": [
    "krishna=ATM()"
   ]
  },
  {
   "cell_type": "code",
   "execution_count": 39,
   "id": "eaf33898-bcbb-4c16-87e9-e1f0966b37d3",
   "metadata": {},
   "outputs": [
    {
     "name": "stdin",
     "output_type": "stream",
     "text": [
      "Kindly you pin: 1234\n"
     ]
    },
    {
     "name": "stdout",
     "output_type": "stream",
     "text": [
      "your pin is  10000.0\n"
     ]
    }
   ],
   "source": [
    "krishna.balance_enquiry()"
   ]
  },
  {
   "cell_type": "code",
   "execution_count": 40,
   "id": "caa3d7f9-2b8b-4a03-b2a2-ec16390c9a06",
   "metadata": {},
   "outputs": [
    {
     "name": "stdin",
     "output_type": "stream",
     "text": [
      "Kindly enter your old pin: 1234\n",
      "Kindly enter your new pin: 9807\n",
      "Kindly re-enter your pin: 9807\n"
     ]
    },
    {
     "name": "stdout",
     "output_type": "stream",
     "text": [
      "Your pin has been changed\n"
     ]
    }
   ],
   "source": [
    "krishna.change_pin()"
   ]
  },
  {
   "cell_type": "code",
   "execution_count": 41,
   "id": "2de730a8-afdc-403a-900f-3a1db3278a7b",
   "metadata": {},
   "outputs": [
    {
     "name": "stdin",
     "output_type": "stream",
     "text": [
      "Kindly you pin: 1234\n"
     ]
    },
    {
     "name": "stdout",
     "output_type": "stream",
     "text": [
      "Kindly enter a valid pin\n"
     ]
    }
   ],
   "source": [
    "krishna.balance_enquiry()"
   ]
  },
  {
   "cell_type": "code",
   "execution_count": 42,
   "id": "33d68e10-bc69-42f8-b05c-9c6fddf3a471",
   "metadata": {},
   "outputs": [
    {
     "name": "stdin",
     "output_type": "stream",
     "text": [
      "Kindly you pin: 9807\n"
     ]
    },
    {
     "name": "stdout",
     "output_type": "stream",
     "text": [
      "your pin is  10000.0\n"
     ]
    }
   ],
   "source": [
    "krishna.balance_enquiry()"
   ]
  },
  {
   "cell_type": "code",
   "execution_count": 58,
   "id": "420ebe14-383b-4423-93f8-74d7bfff223a",
   "metadata": {},
   "outputs": [],
   "source": [
    "import random\n",
    "class ATM:\n",
    "    def __init__(self):\n",
    "        self.__pin=\"1234\"\n",
    "        self.__balance=10000.00\n",
    "        self.__mob=\"1234567890\"\n",
    "        self.__otp=random.randint(1000,9999)\n",
    "    def balance_enquiry(self):\n",
    "        user=input(\"Kindly you pin:\")   #\"1244\"\n",
    "        if user==self.__pin:\n",
    "            print(\"your pin is \",self.__balance)\n",
    "        else:\n",
    "            print(\"Kindly enter a valid pin\")\n",
    "    def change_pin(self):\n",
    "        user=input(\"Kindly enter your old pin:\")\n",
    "        mob=input(\"Kindly enter your register mobile number:\")\n",
    "        print(\"your new otp generator\",self.__otp)\n",
    "        user_otp=int(input(\"Kindly enter your otp sent to your register mobile:\"))\n",
    "        if self.__otp==user_otp:\n",
    "            if user==self.__pin:\n",
    "                user1=input(\"Kindly enter your new pin:\")\n",
    "                user2=input(\"Kindly re-enter your pin:\")\n",
    "                if user1==user2:\n",
    "                    self.__pin=user1\n",
    "                    print(\"Your pin has been changed\")\n",
    "                else:\n",
    "                    print(\"Miss match pin.\")\n",
    "            else:\n",
    "                print(\"Kindly enter a valid old pin\")\n",
    "        else:\n",
    "            print(\"Kindly enter a valid otp\")"
   ]
  },
  {
   "cell_type": "code",
   "execution_count": 59,
   "id": "2e315311-eb62-4fa8-9c86-c622f7aba80a",
   "metadata": {},
   "outputs": [],
   "source": [
    "dhava=ATM()"
   ]
  },
  {
   "cell_type": "code",
   "execution_count": 60,
   "id": "146439c8-f06e-4882-82b8-8b9a62844a0c",
   "metadata": {},
   "outputs": [
    {
     "name": "stdin",
     "output_type": "stream",
     "text": [
      "Kindly enter your old pin: 1234\n",
      "Kindly enter your register mobile number: 1234567890\n"
     ]
    },
    {
     "name": "stdout",
     "output_type": "stream",
     "text": [
      "your new otp generator 3299\n"
     ]
    },
    {
     "name": "stdin",
     "output_type": "stream",
     "text": [
      "Kindly enter your otp sent to your register mobile: 3299\n",
      "Kindly enter your new pin: 9807\n",
      "Kindly re-enter your pin: 9807\n"
     ]
    },
    {
     "name": "stdout",
     "output_type": "stream",
     "text": [
      "Your pin has been changed\n"
     ]
    }
   ],
   "source": [
    "dhava.change_pin()"
   ]
  },
  {
   "cell_type": "code",
   "execution_count": 96,
   "id": "21f68bdf-483d-4ba1-9442-07bb982c1392",
   "metadata": {},
   "outputs": [],
   "source": [
    "import random\n",
    "class ATM:\n",
    "    def __init__(self):\n",
    "        self.__pin=[\"1234\",\"3456\",\"7890\"]\n",
    "        self.__balance=10000.00\n",
    "        self.__mob=\"1234567890\"\n",
    "        self.__otp=random.randint(1000,9999)\n",
    "    def balance_enquiry(self):\n",
    "        user=input(\"Kindly you pin:\")   #\"1244\"\n",
    "        if user==self.__pin:\n",
    "            print(\"your pin is \",self.__balance)\n",
    "        else:\n",
    "            print(\"Kindly enter a valid pin\")\n",
    "    def __change_pin(self):\n",
    "        user=input(\"Kindly enter any pin:\")\n",
    "        mob=input(\"Kindly enter your register mobile number:\")\n",
    "        print(\"your new otp generator\",self.__otp)\n",
    "        user_otp=int(input(\"Kindly enter your otp sent to your register mobile:\"))\n",
    "        if self.__otp==user_otp:\n",
    "            if user in self.__pin:\n",
    "                user1=input(\"Kindly enter your new pin:\")\n",
    "                user2=input(\"Kindly re-enter your pin:\")\n",
    "                if user1==user2:\n",
    "                    self.__pin.pop(0)\n",
    "                    self.__pin.append(user1)\n",
    "                    print(self.__pin)\n",
    "                    print(\"Your pin has been changed\")\n",
    "                else:\n",
    "                    print(\"Miss match pin.\")\n",
    "            else:\n",
    "                print(\"Kindly enter a valid old pin\")\n",
    "        else:\n",
    "            print(\"Kindly enter a valid otp\")\n",
    "    def show_pin(self):\n",
    "        user"
   ]
  },
  {
   "cell_type": "code",
   "execution_count": 97,
   "id": "0df042b9-73c6-490e-944b-f77c0153f67a",
   "metadata": {},
   "outputs": [],
   "source": [
    "krishna=ATM()"
   ]
  },
  {
   "cell_type": "code",
   "execution_count": null,
   "id": "785407d7-b4dd-45dd-a6c8-ef3858e47467",
   "metadata": {},
   "outputs": [],
   "source": [
    "krishna._ATM__change_pin()"
   ]
  },
  {
   "cell_type": "code",
   "execution_count": 94,
   "id": "6527430c-1026-49bf-8daf-f5cae506f7f3",
   "metadata": {},
   "outputs": [
    {
     "name": "stdin",
     "output_type": "stream",
     "text": [
      "Kindly enter any pin: 3456\n",
      "Kindly enter your register mobile number: 1234567890\n"
     ]
    },
    {
     "name": "stdout",
     "output_type": "stream",
     "text": [
      "your new otp generator 4024\n"
     ]
    },
    {
     "name": "stdin",
     "output_type": "stream",
     "text": [
      "Kindly enter your otp sent to your register mobile: 4024\n",
      "Kindly enter your new pin: 8888\n",
      "Kindly re-enter your pin: 8888\n"
     ]
    },
    {
     "name": "stdout",
     "output_type": "stream",
     "text": [
      "['7890', '9807', '8888']\n",
      "Your pin has been changed\n"
     ]
    }
   ],
   "source": [
    "krishna.change_pin()"
   ]
  },
  {
   "cell_type": "code",
   "execution_count": null,
   "id": "90ef923f-c845-4aba-9e5e-233d30c515e0",
   "metadata": {},
   "outputs": [],
   "source": []
  }
 ],
 "metadata": {
  "kernelspec": {
   "display_name": "Python 3 (ipykernel)",
   "language": "python",
   "name": "python3"
  },
  "language_info": {
   "codemirror_mode": {
    "name": "ipython",
    "version": 3
   },
   "file_extension": ".py",
   "mimetype": "text/x-python",
   "name": "python",
   "nbconvert_exporter": "python",
   "pygments_lexer": "ipython3",
   "version": "3.11.5"
  }
 },
 "nbformat": 4,
 "nbformat_minor": 5
}
