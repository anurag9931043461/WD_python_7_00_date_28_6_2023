{
 "cells": [
  {
   "cell_type": "markdown",
   "id": "cf4f6fa2-7454-493c-ad2f-6050300cf85b",
   "metadata": {},
   "source": [
    "Class type:\n",
    "\n",
    "1> concrete class:\n",
    "\n",
    "    > we can create object(instanciation is possible) of this class\n",
    "\n",
    "2> Abstract class:\n",
    "\n",
    "    > we cannot create object(instanciation is possible) of this class\n",
    "\n",
    "    Q: How can we create a abstract class?\n",
    "\n",
    "        > a child class inherite ABC class as parent class\n",
    "\n",
    "        > at least one method of child class must be a abstract method.\n",
    "\n",
    "    Q: Why we create a Abstract class?"
   ]
  },
  {
   "cell_type": "code",
   "execution_count": 10,
   "id": "636ae384-3c46-4ac9-8eb8-11e3dc1c46f4",
   "metadata": {},
   "outputs": [],
   "source": [
    "from abc import ABC,abstractmethod\n",
    "class Paytm(ABC):\n",
    "    @abstractmethod\n",
    "    def deposite(self):   #dhama\n",
    "        pass\n",
    "    @abstractmethod\n",
    "    def withdrawal(self): #sonu\n",
    "        pass"
   ]
  },
  {
   "cell_type": "code",
   "execution_count": 11,
   "id": "1b28c0a3-9181-481c-bb0a-e90febc319ce",
   "metadata": {},
   "outputs": [
    {
     "ename": "TypeError",
     "evalue": "Can't instantiate abstract class Paytm with abstract methods deposite, withdrawal",
     "output_type": "error",
     "traceback": [
      "\u001b[1;31m---------------------------------------------------------------------------\u001b[0m",
      "\u001b[1;31mTypeError\u001b[0m                                 Traceback (most recent call last)",
      "Cell \u001b[1;32mIn[11], line 1\u001b[0m\n\u001b[1;32m----> 1\u001b[0m dhawa\u001b[38;5;241m=\u001b[39m\u001b[43mPaytm\u001b[49m\u001b[43m(\u001b[49m\u001b[43m)\u001b[49m\n",
      "\u001b[1;31mTypeError\u001b[0m: Can't instantiate abstract class Paytm with abstract methods deposite, withdrawal"
     ]
    }
   ],
   "source": [
    "dhawa=Paytm()"
   ]
  },
  {
   "cell_type": "code",
   "execution_count": 51,
   "id": "a4108df6-588d-404a-8af9-08e6bf855941",
   "metadata": {},
   "outputs": [],
   "source": [
    "from abc import ABC,abstractmethod\n",
    "class Paytm(ABC):\n",
    "    @abstractmethod\n",
    "    def deposite(self):   #dhama\n",
    "        pass\n",
    "    @abstractmethod\n",
    "    def withdrawal(self): #sonu\n",
    "        pass"
   ]
  },
  {
   "cell_type": "code",
   "execution_count": 57,
   "id": "7f0d211c-c152-449b-9899-a04a85e809cd",
   "metadata": {},
   "outputs": [],
   "source": [
    "class dhava_Paytm(Paytm):\n",
    "    def deposite(self):\n",
    "        print(\"Welcome to deposite section\")\n",
    "    def withdrawal(self):\n",
    "        pass"
   ]
  },
  {
   "cell_type": "code",
   "execution_count": 53,
   "id": "56228a03-e612-4f66-8132-73f58c21af14",
   "metadata": {},
   "outputs": [],
   "source": [
    "dhava=dhava_Paytm()"
   ]
  },
  {
   "cell_type": "code",
   "execution_count": 54,
   "id": "33ba9bd8-d0fc-44f6-a113-e32d0f7fb41a",
   "metadata": {},
   "outputs": [
    {
     "name": "stdout",
     "output_type": "stream",
     "text": [
      "Welcome to deposite section\n"
     ]
    }
   ],
   "source": [
    "dhava.deposite()"
   ]
  },
  {
   "cell_type": "code",
   "execution_count": 55,
   "id": "4041de21-1437-4b39-9ee6-e585441b9227",
   "metadata": {},
   "outputs": [],
   "source": [
    "class sonu_Paytm(Paytm):\n",
    "    def deposite(self):\n",
    "        pass\n",
    "    def withdrawal(self):\n",
    "        print(\"Welcome to withdrawal section\")"
   ]
  },
  {
   "cell_type": "code",
   "execution_count": 56,
   "id": "6c12c090-4499-42d2-83af-13896479c02e",
   "metadata": {},
   "outputs": [],
   "source": [
    "Sonu=sonu_Paytm()"
   ]
  },
  {
   "cell_type": "code",
   "execution_count": 50,
   "id": "d2be9ce3-8ea0-4576-927d-00db4348bf14",
   "metadata": {},
   "outputs": [
    {
     "name": "stdout",
     "output_type": "stream",
     "text": [
      "Welcome to withdrawal section\n"
     ]
    }
   ],
   "source": [
    "Sonu.withdrawal()"
   ]
  },
  {
   "cell_type": "code",
   "execution_count": 41,
   "id": "8c1135f1-13ed-4a1b-b5fa-02fc410e19d0",
   "metadata": {},
   "outputs": [],
   "source": [
    "\n",
    "class Paytm:\n",
    "    def deposite(self):  \n",
    "        \n",
    "        print(\"Welcome to deposite section\")\n",
    "    def withdrawal(self): \n",
    "        print(\"Welcome to withdrawal section\")"
   ]
  },
  {
   "cell_type": "code",
   "execution_count": 42,
   "id": "ed63ed7b-f2ee-4b8e-8faa-4977649d38fa",
   "metadata": {},
   "outputs": [],
   "source": [
    "krishna=Paytm()"
   ]
  },
  {
   "cell_type": "code",
   "execution_count": 43,
   "id": "76e1d6b2-c9a1-4086-b5d5-9faf32951fec",
   "metadata": {},
   "outputs": [
    {
     "name": "stdout",
     "output_type": "stream",
     "text": [
      "Welcome to deposite section\n"
     ]
    }
   ],
   "source": [
    "krishna.deposite()"
   ]
  },
  {
   "cell_type": "code",
   "execution_count": 44,
   "id": "f3f4fd64-b66e-40a2-ae29-6834d4986d31",
   "metadata": {},
   "outputs": [
    {
     "name": "stdout",
     "output_type": "stream",
     "text": [
      "Welcome to withdrawal section\n"
     ]
    }
   ],
   "source": [
    "krishna.withdrawal()"
   ]
  },
  {
   "cell_type": "code",
   "execution_count": null,
   "id": "a94b0794-a0d5-4b61-b9cb-cfbfbd33137a",
   "metadata": {},
   "outputs": [],
   "source": []
  }
 ],
 "metadata": {
  "kernelspec": {
   "display_name": "Python 3 (ipykernel)",
   "language": "python",
   "name": "python3"
  },
  "language_info": {
   "codemirror_mode": {
    "name": "ipython",
    "version": 3
   },
   "file_extension": ".py",
   "mimetype": "text/x-python",
   "name": "python",
   "nbconvert_exporter": "python",
   "pygments_lexer": "ipython3",
   "version": "3.11.5"
  }
 },
 "nbformat": 4,
 "nbformat_minor": 5
}
