{
 "cells": [
  {
   "cell_type": "code",
   "execution_count": 1,
   "id": "44abdd34-65c9-4c56-a9b2-4f7055faf040",
   "metadata": {},
   "outputs": [],
   "source": [
    "# inheritance"
   ]
  },
  {
   "cell_type": "code",
   "execution_count": null,
   "id": "aae23e62-738e-4770-9466-39f5a2e48fc5",
   "metadata": {},
   "outputs": [],
   "source": [
    "single level inheritance\n",
    "\n",
    "multi level inheritance\n",
    "\n",
    "multiple inheritance \n",
    "\n",
    "hybrid inheritance\n",
    "\n",
    "Hierarchical inheritance"
   ]
  },
  {
   "cell_type": "code",
   "execution_count": 14,
   "id": "c82430b1-412b-4b7d-b2f6-04ed6ef41ac3",
   "metadata": {},
   "outputs": [],
   "source": [
    "class A:\n",
    "    def a(self):\n",
    "        print(\"I am a\")\n",
    "class B:\n",
    "    def a(self):\n",
    "        print(\"I am a\")\n",
    "    def b(self):\n",
    "        print(\"I am b\")"
   ]
  },
  {
   "cell_type": "code",
   "execution_count": 15,
   "id": "5409e5e6-841a-4454-a206-f86c55ff5d48",
   "metadata": {},
   "outputs": [],
   "source": [
    "krishna=B()"
   ]
  },
  {
   "cell_type": "code",
   "execution_count": 16,
   "id": "ed987d03-c8ff-424e-8a13-b91c717c86ac",
   "metadata": {},
   "outputs": [
    {
     "name": "stdout",
     "output_type": "stream",
     "text": [
      "I am b\n"
     ]
    }
   ],
   "source": [
    "krishna.b()"
   ]
  },
  {
   "cell_type": "code",
   "execution_count": 11,
   "id": "160e7624-351a-4c5b-a63f-5786879c60c5",
   "metadata": {},
   "outputs": [
    {
     "name": "stdout",
     "output_type": "stream",
     "text": [
      "I am b\n"
     ]
    }
   ],
   "source": [
    "krishna."
   ]
  },
  {
   "cell_type": "code",
   "execution_count": 14,
   "id": "6ccfab1c-eda6-4b04-834a-60ea3dc028c4",
   "metadata": {},
   "outputs": [],
   "source": [
    "class Login_register:\n",
    "    def Login(self):\n",
    "        print(\"Welcome to login section\")\n",
    "    def register(self):\n",
    "        print(\"Welcome to register section\")"
   ]
  },
  {
   "cell_type": "code",
   "execution_count": 24,
   "id": "9becbbd7-7dea-4773-9b1a-877e93afbe84",
   "metadata": {},
   "outputs": [],
   "source": [
    "class Business(Login_register):\n",
    "    def transaction(self):\n",
    "        print(\"Welcome to transaction section\")"
   ]
  },
  {
   "cell_type": "code",
   "execution_count": 20,
   "id": "a5e379a1-7bb5-4b7b-9ce5-73e13b0c2fa8",
   "metadata": {},
   "outputs": [],
   "source": [
    "class Individual(Login_register):\n",
    "    def personal_chat(self):\n",
    "        print(\"Welcome to transaction section\")"
   ]
  },
  {
   "cell_type": "code",
   "execution_count": 25,
   "id": "aa753a7a-ccc8-43c2-92a7-4f64d1bb2488",
   "metadata": {},
   "outputs": [],
   "source": [
    "krishna=Business()"
   ]
  },
  {
   "cell_type": "code",
   "execution_count": 22,
   "id": "4ffd9f29-e3a0-479e-8a85-7a1bf50b43e2",
   "metadata": {},
   "outputs": [],
   "source": [
    "Mohan=Individual()"
   ]
  },
  {
   "cell_type": "code",
   "execution_count": 23,
   "id": "467a6c23-6bd7-4eab-97ac-50fa3dc057e2",
   "metadata": {},
   "outputs": [
    {
     "name": "stdout",
     "output_type": "stream",
     "text": [
      "Welcome to login section\n",
      "Welcome to transaction section\n",
      "Welcome to register section\n"
     ]
    }
   ],
   "source": [
    "Mohan.Login()\n",
    "Mohan.personal_chat()\n",
    "Mohan.register()"
   ]
  },
  {
   "cell_type": "code",
   "execution_count": 26,
   "id": "ebc72897-bf9d-4a60-a52d-e21c9af3a1bf",
   "metadata": {},
   "outputs": [
    {
     "name": "stdout",
     "output_type": "stream",
     "text": [
      "Welcome to login section\n",
      "Welcome to register section\n",
      "Welcome to transaction section\n"
     ]
    }
   ],
   "source": [
    "krishna.Login()\n",
    "krishna.register()\n",
    "krishna.transaction()"
   ]
  },
  {
   "cell_type": "markdown",
   "id": "2b2c12b3-e090-4607-a460-5465a9c019b0",
   "metadata": {},
   "source": [
    "# Single level inheritance"
   ]
  },
  {
   "cell_type": "code",
   "execution_count": 39,
   "id": "ff81c1a6-beec-45fa-aa2a-3dcf02b9de3b",
   "metadata": {},
   "outputs": [],
   "source": [
    "class A:\n",
    "    def house(self):\n",
    "        print(\"A has a house\")"
   ]
  },
  {
   "cell_type": "code",
   "execution_count": 40,
   "id": "1c0de331-9cdf-4fbd-b533-6216705904b1",
   "metadata": {},
   "outputs": [],
   "source": [
    "class B(A):\n",
    "    def toy(self):\n",
    "        print(\"B has a toy car\")"
   ]
  },
  {
   "cell_type": "code",
   "execution_count": 41,
   "id": "fb3cb1ee-b0b0-4dc1-92e5-3f6d0955c097",
   "metadata": {},
   "outputs": [],
   "source": [
    "krishna=B()"
   ]
  },
  {
   "cell_type": "code",
   "execution_count": 42,
   "id": "f46eead7-ec45-4c09-902e-a02b8058a58e",
   "metadata": {},
   "outputs": [
    {
     "name": "stdout",
     "output_type": "stream",
     "text": [
      "A has a house\n",
      "B has a toy car\n"
     ]
    }
   ],
   "source": [
    "krishna.house()\n",
    "krishna.toy()"
   ]
  },
  {
   "cell_type": "markdown",
   "id": "cdb573fa-c456-4af0-88e5-e106dadaf99e",
   "metadata": {},
   "source": [
    "# Multilevel Inheritance"
   ]
  },
  {
   "cell_type": "code",
   "execution_count": 52,
   "id": "3d1caff7-f128-473f-85fa-e49b6601b4a5",
   "metadata": {},
   "outputs": [],
   "source": [
    "class Z:\n",
    "    def landlord(self):\n",
    "        print(\"landlord\")\n",
    "class A(Z):\n",
    "    def house(self):\n",
    "        print(\"A has a house\")\n",
    "class B(A):\n",
    "    def toy(self):\n",
    "        print(\"B has a toy car\")\n",
    "class C(B):\n",
    "    def chocolate(self):\n",
    "        print(\"chocolate \")"
   ]
  },
  {
   "cell_type": "code",
   "execution_count": 53,
   "id": "38706430-e517-497e-bcd9-9349931e4e37",
   "metadata": {},
   "outputs": [],
   "source": [
    "krish=C()"
   ]
  },
  {
   "cell_type": "code",
   "execution_count": 54,
   "id": "673ac0fe-5a76-49cf-98a0-a9af46a92c01",
   "metadata": {},
   "outputs": [
    {
     "name": "stdout",
     "output_type": "stream",
     "text": [
      "chocolate \n",
      "A has a house\n",
      "landlord\n",
      "B has a toy car\n"
     ]
    }
   ],
   "source": [
    "krish.chocolate()\n",
    "krish.house()\n",
    "krish.landlord()\n",
    "krish.toy()"
   ]
  },
  {
   "cell_type": "markdown",
   "id": "030ab3b6-e6c5-4760-a095-35fe00f865aa",
   "metadata": {},
   "source": [
    "# multiple inheritance "
   ]
  },
  {
   "cell_type": "code",
   "execution_count": 58,
   "id": "d3a572d1-4730-46f8-9604-8dee88cce057",
   "metadata": {},
   "outputs": [],
   "source": [
    "class A:\n",
    "    def food(self):\n",
    "        print(\"A has food\")\n",
    "class B(A):\n",
    "    pass\n",
    "\n",
    "class C(A):\n",
    "    pass"
   ]
  },
  {
   "cell_type": "code",
   "execution_count": 59,
   "id": "4243c4b8-ccb9-4b17-ab98-f359771c548a",
   "metadata": {},
   "outputs": [],
   "source": [
    "krishna=B()\n",
    "Rohan=C()"
   ]
  },
  {
   "cell_type": "code",
   "execution_count": 60,
   "id": "bfd5d087-c920-4047-a39c-3d776744e68c",
   "metadata": {},
   "outputs": [
    {
     "name": "stdout",
     "output_type": "stream",
     "text": [
      "A has food\n",
      "A has food\n"
     ]
    }
   ],
   "source": [
    "krishna.food()\n",
    "Rohan.food()"
   ]
  },
  {
   "cell_type": "code",
   "execution_count": 66,
   "id": "093bbf9a-6176-44f5-b861-3ea9f0e1c8a2",
   "metadata": {},
   "outputs": [],
   "source": [
    "class Papa:\n",
    "    def house(self):\n",
    "        print(\"Father has a house\")\n",
    "\n",
    "class Mother:\n",
    "    def jewellery(self):\n",
    "        print(\"Mother has jewellery\")\n",
    "\n",
    "class A(Papa,Mother):\n",
    "    pass"
   ]
  },
  {
   "cell_type": "code",
   "execution_count": 67,
   "id": "22cec351-f223-4a0d-abf9-08dc962e513c",
   "metadata": {},
   "outputs": [],
   "source": [
    "krishna=A()"
   ]
  },
  {
   "cell_type": "code",
   "execution_count": 68,
   "id": "3de4a642-13e3-476e-84f2-6a2496b71e9c",
   "metadata": {},
   "outputs": [
    {
     "name": "stdout",
     "output_type": "stream",
     "text": [
      "Father has a house\n",
      "Mother has jewellery\n"
     ]
    }
   ],
   "source": [
    "krishna.house()\n",
    "krishna.jewellery()"
   ]
  },
  {
   "cell_type": "code",
   "execution_count": 78,
   "id": "4b89e2e1-9628-491c-9725-c9ced6ca24ad",
   "metadata": {},
   "outputs": [],
   "source": [
    "class A:\n",
    "    def a(self):\n",
    "        print(\"a\")\n",
    "class B(A):\n",
    "    def b(self):\n",
    "        print(\"b\")\n",
    "class D:\n",
    "    def d(self):\n",
    "        print(\"d\")\n",
    "class C(B,D):\n",
    "    def c(self):\n",
    "        print(\"c\")"
   ]
  },
  {
   "cell_type": "code",
   "execution_count": 79,
   "id": "e12db824-3e5a-4d6c-b85d-e6c4041ea5ee",
   "metadata": {},
   "outputs": [],
   "source": [
    "krishna=C()"
   ]
  },
  {
   "cell_type": "code",
   "execution_count": 80,
   "id": "4d582d4f-5d94-480d-be50-84ef2bddd6b9",
   "metadata": {},
   "outputs": [
    {
     "name": "stdout",
     "output_type": "stream",
     "text": [
      "c\n"
     ]
    }
   ],
   "source": [
    "krishna.c()"
   ]
  },
  {
   "cell_type": "markdown",
   "id": "07d4c60d-11b4-48b7-9eaf-24aec9025c27",
   "metadata": {},
   "source": [
    "# Hierarchical inheritance"
   ]
  },
  {
   "cell_type": "code",
   "execution_count": 86,
   "id": "9c8bd309-2d97-4ec1-8eac-3140d2e0aaa0",
   "metadata": {},
   "outputs": [],
   "source": [
    "class Parent:\n",
    "    def p(self):\n",
    "        print(\"p\")\n",
    "\n",
    "class A(Parent):\n",
    "    pass\n",
    "\n",
    "class B(Parent):\n",
    "    pass"
   ]
  },
  {
   "cell_type": "code",
   "execution_count": 87,
   "id": "21d6bc87-31bf-4611-a65c-1da7ca2b1c22",
   "metadata": {},
   "outputs": [],
   "source": [
    "krishna=A()"
   ]
  },
  {
   "cell_type": "code",
   "execution_count": 88,
   "id": "b213f889-9ef8-46b1-8d1f-422b12752b6b",
   "metadata": {},
   "outputs": [],
   "source": [
    "Rohan=B()"
   ]
  },
  {
   "cell_type": "code",
   "execution_count": 8,
   "id": "b429a498-098f-433e-a782-863799168fac",
   "metadata": {},
   "outputs": [],
   "source": [
    "class Brother:\n",
    "    a=10\n",
    "    def money(self):\n",
    "        print(\"Brother will give me money\")\n",
    "        \n",
    "class Mother(Brother):\n",
    "    def money(self):\n",
    "        super().money()\n",
    "        print(\"Mother will give me money\")\n",
    "\n",
    "class Dhava(Mother,Brother):\n",
    "    def money(self):\n",
    "        super().money()\n",
    "        print(\"I have money\")"
   ]
  },
  {
   "cell_type": "code",
   "execution_count": 9,
   "id": "33eab106-f81c-4bd3-aab6-13f28d0435b3",
   "metadata": {},
   "outputs": [],
   "source": [
    "sunny=Dhava()"
   ]
  },
  {
   "cell_type": "code",
   "execution_count": 10,
   "id": "76ee77d8-f38e-4999-b62b-02a13b98590c",
   "metadata": {},
   "outputs": [
    {
     "name": "stdout",
     "output_type": "stream",
     "text": [
      "Brother will give me money\n",
      "Mother will give me money\n",
      "I have money\n"
     ]
    }
   ],
   "source": [
    "sunny.money()"
   ]
  },
  {
   "cell_type": "code",
   "execution_count": null,
   "id": "c46f6fb5-fe1f-4ebf-9797-f6c8e9b9f6f8",
   "metadata": {},
   "outputs": [],
   "source": []
  }
 ],
 "metadata": {
  "kernelspec": {
   "display_name": "Python 3 (ipykernel)",
   "language": "python",
   "name": "python3"
  },
  "language_info": {
   "codemirror_mode": {
    "name": "ipython",
    "version": 3
   },
   "file_extension": ".py",
   "mimetype": "text/x-python",
   "name": "python",
   "nbconvert_exporter": "python",
   "pygments_lexer": "ipython3",
   "version": "3.11.5"
  }
 },
 "nbformat": 4,
 "nbformat_minor": 5
}
