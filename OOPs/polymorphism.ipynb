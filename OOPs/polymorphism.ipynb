{
 "cells": [
  {
   "cell_type": "code",
   "execution_count": 1,
   "id": "69db383a-3f67-4ce0-b4d0-11ba1a0b7ff9",
   "metadata": {},
   "outputs": [],
   "source": [
    "# poly =many\n",
    "\n",
    "# morph =form"
   ]
  },
  {
   "cell_type": "markdown",
   "id": "699c5cf7-df9f-4ef4-ae7b-df42f9d8f6ff",
   "metadata": {},
   "source": [
    "Polymorphism:\n",
    "\n",
    "> Overloading: java\n",
    "\n",
    "> Overriding : python "
   ]
  },
  {
   "cell_type": "code",
   "execution_count": 10,
   "id": "bd69a7e4-cec9-4475-a8c4-1cf0e6029105",
   "metadata": {},
   "outputs": [],
   "source": [
    "class A:\n",
    "    def add(self,a,b):\n",
    "        print(a+b)\n",
    "    def add(self,a):\n",
    "        print(a)"
   ]
  },
  {
   "cell_type": "code",
   "execution_count": 11,
   "id": "9d8ffe94-a08e-4653-8e02-ee8383d84d4e",
   "metadata": {},
   "outputs": [],
   "source": [
    "krishna=A()"
   ]
  },
  {
   "cell_type": "code",
   "execution_count": 12,
   "id": "0ab57729-975f-477c-a80c-228dbe7a4881",
   "metadata": {},
   "outputs": [
    {
     "ename": "TypeError",
     "evalue": "A.add() takes 2 positional arguments but 4 were given",
     "output_type": "error",
     "traceback": [
      "\u001b[1;31m---------------------------------------------------------------------------\u001b[0m",
      "\u001b[1;31mTypeError\u001b[0m                                 Traceback (most recent call last)",
      "Cell \u001b[1;32mIn[12], line 1\u001b[0m\n\u001b[1;32m----> 1\u001b[0m \u001b[43mkrishna\u001b[49m\u001b[38;5;241;43m.\u001b[39;49m\u001b[43madd\u001b[49m\u001b[43m(\u001b[49m\u001b[38;5;241;43m10\u001b[39;49m\u001b[43m,\u001b[49m\u001b[38;5;241;43m20\u001b[39;49m\u001b[43m,\u001b[49m\u001b[38;5;241;43m30\u001b[39;49m\u001b[43m)\u001b[49m\n",
      "\u001b[1;31mTypeError\u001b[0m: A.add() takes 2 positional arguments but 4 were given"
     ]
    }
   ],
   "source": [
    "krishna.add()"
   ]
  },
  {
   "cell_type": "code",
   "execution_count": 4,
   "id": "04ebe95b-b634-422a-af36-f9ddcf135945",
   "metadata": {},
   "outputs": [],
   "source": [
    "a=10"
   ]
  },
  {
   "cell_type": "code",
   "execution_count": 5,
   "id": "cd51dfec-7e7c-45a7-a3e9-3900a259c206",
   "metadata": {},
   "outputs": [],
   "source": [
    "a=20"
   ]
  },
  {
   "cell_type": "code",
   "execution_count": 6,
   "id": "331b6310-39c6-4268-bd27-01e9d67abe5c",
   "metadata": {},
   "outputs": [
    {
     "name": "stdout",
     "output_type": "stream",
     "text": [
      "20\n"
     ]
    }
   ],
   "source": [
    "print(a)"
   ]
  },
  {
   "cell_type": "code",
   "execution_count": 13,
   "id": "6ee52ac3-cb4e-439e-b57d-76fda81f1623",
   "metadata": {},
   "outputs": [],
   "source": [
    "class A:\n",
    "    def add(self,a,b):\n",
    "        print(a+b)\n",
    "    def add(self,a,b,c):\n",
    "        print(a+b+c)"
   ]
  },
  {
   "cell_type": "code",
   "execution_count": 23,
   "id": "95bb4000-2cdc-4f6b-8d66-3d7d8d7fc6ce",
   "metadata": {},
   "outputs": [],
   "source": [
    "class A:\n",
    "    def add(self,a,b,c=0):\n",
    "        print(a+b+c)"
   ]
  },
  {
   "cell_type": "code",
   "execution_count": 24,
   "id": "cf22a341-9413-4440-a9a2-5ea05e1c3f40",
   "metadata": {},
   "outputs": [],
   "source": [
    "krishna=A()"
   ]
  },
  {
   "cell_type": "code",
   "execution_count": 28,
   "id": "cc082769-73a3-457c-89f0-0529cedf1ae4",
   "metadata": {},
   "outputs": [
    {
     "name": "stdout",
     "output_type": "stream",
     "text": [
      "30\n"
     ]
    }
   ],
   "source": [
    "krishna.add(10,20)"
   ]
  },
  {
   "cell_type": "code",
   "execution_count": 26,
   "id": "93d713be-6eb4-4918-add0-1565f4a98a86",
   "metadata": {},
   "outputs": [
    {
     "name": "stdout",
     "output_type": "stream",
     "text": [
      "60\n"
     ]
    }
   ],
   "source": [
    "krishna.add(10,20,30)"
   ]
  },
  {
   "cell_type": "code",
   "execution_count": null,
   "id": "f78b8639-dea0-4e6d-9012-c5a3fff9cc22",
   "metadata": {},
   "outputs": [],
   "source": [
    "class A:\n",
    "    def add(self,a,b,c=0):\n",
    "        print(a+b+c)"
   ]
  },
  {
   "cell_type": "code",
   "execution_count": 29,
   "id": "926f90b2-6c71-4078-aa4d-7dd45893c35b",
   "metadata": {},
   "outputs": [],
   "source": [
    "class A:\n",
    "    def area(self,b,h=0):\n",
    "        if h==0:\n",
    "            print(\"area of square\",b*b)\n",
    "        else:\n",
    "            print(\"area of triangle\",0.5*b*h)"
   ]
  },
  {
   "cell_type": "code",
   "execution_count": 30,
   "id": "57552ece-2185-432e-b253-56df579fa7a4",
   "metadata": {},
   "outputs": [],
   "source": [
    "krishna=A()"
   ]
  },
  {
   "cell_type": "code",
   "execution_count": 31,
   "id": "3aaddf58-c268-4bef-998f-ef28bfbd5ed9",
   "metadata": {},
   "outputs": [
    {
     "name": "stdout",
     "output_type": "stream",
     "text": [
      "area of square 100\n"
     ]
    }
   ],
   "source": [
    "krishna.area(10)"
   ]
  },
  {
   "cell_type": "code",
   "execution_count": 32,
   "id": "a7ec0a6f-c150-402f-9016-c2b0211fa218",
   "metadata": {},
   "outputs": [
    {
     "name": "stdout",
     "output_type": "stream",
     "text": [
      "area of triangle 25.0\n"
     ]
    }
   ],
   "source": [
    "krishna.area(5,10)"
   ]
  },
  {
   "cell_type": "code",
   "execution_count": null,
   "id": "def6fec6-ddf4-404b-a244-cdf2912f9b50",
   "metadata": {},
   "outputs": [],
   "source": []
  }
 ],
 "metadata": {
  "kernelspec": {
   "display_name": "Python 3 (ipykernel)",
   "language": "python",
   "name": "python3"
  },
  "language_info": {
   "codemirror_mode": {
    "name": "ipython",
    "version": 3
   },
   "file_extension": ".py",
   "mimetype": "text/x-python",
   "name": "python",
   "nbconvert_exporter": "python",
   "pygments_lexer": "ipython3",
   "version": "3.11.5"
  }
 },
 "nbformat": 4,
 "nbformat_minor": 5
}
