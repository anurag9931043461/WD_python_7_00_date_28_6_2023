{
 "cells": [
  {
   "cell_type": "markdown",
   "id": "a789686a-2911-43e9-84b3-5a523fc880c8",
   "metadata": {},
   "source": [
    "# float\n",
    "\n",
    "> float constructor is float()\n",
    "\n",
    "> float literal is 0.0"
   ]
  },
  {
   "cell_type": "code",
   "execution_count": 2,
   "id": "ab19a80a-e1d9-43c5-967c-9cd4b9408a06",
   "metadata": {},
   "outputs": [],
   "source": [
    "a=10.00"
   ]
  },
  {
   "cell_type": "code",
   "execution_count": 5,
   "id": "54dfd9f1-0783-4f51-9ee1-834f47090a6c",
   "metadata": {},
   "outputs": [
    {
     "name": "stdout",
     "output_type": "stream",
     "text": [
      "10.0\n"
     ]
    }
   ],
   "source": [
    "print(a)"
   ]
  },
  {
   "cell_type": "code",
   "execution_count": 6,
   "id": "48e80459-0afc-471a-aad0-61d47654b41c",
   "metadata": {},
   "outputs": [
    {
     "name": "stdout",
     "output_type": "stream",
     "text": [
      "<class 'float'>\n"
     ]
    }
   ],
   "source": [
    "print(type(a))"
   ]
  },
  {
   "cell_type": "code",
   "execution_count": 7,
   "id": "b31ce552-af7c-4618-ad1c-7d2d4fdfd532",
   "metadata": {},
   "outputs": [
    {
     "ename": "SyntaxError",
     "evalue": "invalid syntax (325482102.py, line 1)",
     "output_type": "error",
     "traceback": [
      "\u001b[1;36m  Cell \u001b[1;32mIn[7], line 1\u001b[1;36m\u001b[0m\n\u001b[1;33m    b=10.00.00\u001b[0m\n\u001b[1;37m           ^\u001b[0m\n\u001b[1;31mSyntaxError\u001b[0m\u001b[1;31m:\u001b[0m invalid syntax\n"
     ]
    }
   ],
   "source": [
    "b=10.00.00"
   ]
  },
  {
   "cell_type": "code",
   "execution_count": 8,
   "id": "5f71e3b2-218e-4851-aa86-81e436110c42",
   "metadata": {},
   "outputs": [],
   "source": [
    "d=float()"
   ]
  },
  {
   "cell_type": "code",
   "execution_count": 9,
   "id": "965ca38d-4449-4712-b5c6-047f0da6b8d3",
   "metadata": {},
   "outputs": [
    {
     "name": "stdout",
     "output_type": "stream",
     "text": [
      "0.0\n"
     ]
    }
   ],
   "source": [
    "print(d)"
   ]
  },
  {
   "cell_type": "code",
   "execution_count": 10,
   "id": "4b4cd6d6-4434-4a9e-b42a-e9e3815a6143",
   "metadata": {},
   "outputs": [
    {
     "name": "stdout",
     "output_type": "stream",
     "text": [
      "0.0\n"
     ]
    }
   ],
   "source": [
    "e=0.0\n",
    "print(e)"
   ]
  },
  {
   "cell_type": "code",
   "execution_count": 23,
   "id": "e88140c2-523e-4e6b-9959-34e6aeebcf6d",
   "metadata": {},
   "outputs": [],
   "source": [
    "z=00000000000.000000000002000000"
   ]
  },
  {
   "cell_type": "code",
   "execution_count": 24,
   "id": "844df5ff-316d-4513-96e9-c5f9201d23c9",
   "metadata": {},
   "outputs": [
    {
     "name": "stdout",
     "output_type": "stream",
     "text": [
      "2e-12\n"
     ]
    }
   ],
   "source": [
    "print(z)"
   ]
  },
  {
   "cell_type": "code",
   "execution_count": 25,
   "id": "c7e9eb56-e1e3-4428-9ef3-766a68b0ae11",
   "metadata": {},
   "outputs": [],
   "source": [
    "y=2e10"
   ]
  },
  {
   "cell_type": "code",
   "execution_count": 26,
   "id": "0b28c784-e8df-4cae-a403-ce43a48d22f8",
   "metadata": {},
   "outputs": [
    {
     "name": "stdout",
     "output_type": "stream",
     "text": [
      "20000000000.0\n"
     ]
    }
   ],
   "source": [
    "print(y)"
   ]
  },
  {
   "cell_type": "code",
   "execution_count": 27,
   "id": "7b4d8421-de68-41bb-9160-c17fa7fe186e",
   "metadata": {},
   "outputs": [
    {
     "data": {
      "text/plain": [
       "20000000000"
      ]
     },
     "execution_count": 27,
     "metadata": {},
     "output_type": "execute_result"
    }
   ],
   "source": [
    "2*10**10"
   ]
  },
  {
   "cell_type": "code",
   "execution_count": 28,
   "id": "618d3c1c-1d55-4d12-9c68-7e251d647988",
   "metadata": {},
   "outputs": [
    {
     "data": {
      "text/plain": [
       "20000000000.0"
      ]
     },
     "execution_count": 28,
     "metadata": {},
     "output_type": "execute_result"
    }
   ],
   "source": [
    "2*10.0**10"
   ]
  },
  {
   "cell_type": "code",
   "execution_count": null,
   "id": "16284e5d-8c73-46e3-b883-c464d19e10ab",
   "metadata": {},
   "outputs": [],
   "source": []
  }
 ],
 "metadata": {
  "kernelspec": {
   "display_name": "Python 3 (ipykernel)",
   "language": "python",
   "name": "python3"
  },
  "language_info": {
   "codemirror_mode": {
    "name": "ipython",
    "version": 3
   },
   "file_extension": ".py",
   "mimetype": "text/x-python",
   "name": "python",
   "nbconvert_exporter": "python",
   "pygments_lexer": "ipython3",
   "version": "3.10.9"
  }
 },
 "nbformat": 4,
 "nbformat_minor": 5
}
