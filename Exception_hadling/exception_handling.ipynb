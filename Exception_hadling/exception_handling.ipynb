{
 "cells": [
  {
   "cell_type": "code",
   "execution_count": 1,
   "id": "ac516986-94be-4613-a839-794a4b2d8990",
   "metadata": {},
   "outputs": [
    {
     "ename": "SyntaxError",
     "evalue": "unterminated string literal (detected at line 2) (1486936232.py, line 2)",
     "output_type": "error",
     "traceback": [
      "\u001b[1;36m  Cell \u001b[1;32mIn[1], line 2\u001b[1;36m\u001b[0m\n\u001b[1;33m    print(\"hello world)\u001b[0m\n\u001b[1;37m          ^\u001b[0m\n\u001b[1;31mSyntaxError\u001b[0m\u001b[1;31m:\u001b[0m unterminated string literal (detected at line 2)\n"
     ]
    }
   ],
   "source": [
    "#compile time error\n",
    "print(\"hello world)"
   ]
  },
  {
   "cell_type": "code",
   "execution_count": null,
   "id": "9462c6fd-e93f-4090-8f99-3331911bd3d0",
   "metadata": {},
   "outputs": [],
   "source": [
    "a=int(input(\"Enter a number:\"))\n",
    "print(a)"
   ]
  },
  {
   "cell_type": "code",
   "execution_count": null,
   "id": "485d7aa9-8f97-45ee-b6dc-397d958df65e",
   "metadata": {},
   "outputs": [],
   "source": [
    "#runtime error\n",
    "a=int(input(\"Enter a number:\"))\n",
    "print(a)\n",
    "print(\"Hello world\")"
   ]
  },
  {
   "cell_type": "code",
   "execution_count": null,
   "id": "b8197170-b6bd-45ff-a3d2-ed4e31d95898",
   "metadata": {},
   "outputs": [],
   "source": [
    "#runtime error\n",
    "# try,except,finally\n",
    "try:\n",
    "    a=int(input(\"Enter a number:\"))\n",
    "    print(a)\n",
    "except:\n",
    "    print(\"Out of service\")\n",
    "    \n",
    "print(\"Hello world\")"
   ]
  },
  {
   "cell_type": "code",
   "execution_count": null,
   "id": "4642bc86-4328-4dfa-892f-16d1b1ea740c",
   "metadata": {},
   "outputs": [],
   "source": [
    "num1=eval(input(\"Enter 1st number:\"))\n",
    "num2=eval(input(\"Enter 2st number:\"))\n",
    "print(num1+num2)"
   ]
  },
  {
   "cell_type": "code",
   "execution_count": null,
   "id": "54c502f4-5c5f-4e23-bee6-0b697a3b9926",
   "metadata": {},
   "outputs": [],
   "source": [
    "for i in range(10):\n",
    "    num1=eval(input(\"Enter 1st number:\"))\n",
    "    num2=eval(input(\"Enter 2st number:\"))\n",
    "    print(num1+num2)"
   ]
  },
  {
   "cell_type": "markdown",
   "id": "08241994-ed79-4c67-9398-38493b18bfc4",
   "metadata": {},
   "source": [
    "for i in range(10):\n",
    "    num1=eval(input(\"Enter 1st number:\"))\n",
    "    num2=eval(input(\"Enter 2st number:\"))\n",
    "    print(num1+num2)"
   ]
  },
  {
   "cell_type": "code",
   "execution_count": null,
   "id": "bfa741da-ab2b-49be-85af-ef9c82663d66",
   "metadata": {},
   "outputs": [],
   "source": [
    "for i in range(10):\n",
    "    try:\n",
    "        num1=eval(input(\"Enter 1st number:\"))\n",
    "        num2=eval(input(\"Enter 2st number:\"))\n",
    "        print(num1/num2)\n",
    "    except ZeroDivisionError:\n",
    "        print(\"A number is not divisible by 0\")\n",
    "    except NameError:\n",
    "        print(f\"{num1} is not a variable\")\n",
    "    print(\"sab thik ho jayega\")\n",
    "    "
   ]
  },
  {
   "cell_type": "code",
   "execution_count": null,
   "id": "a7f41ab9-4f1e-40d6-8de6-9549b7645c58",
   "metadata": {},
   "outputs": [],
   "source": [
    "num1=eval(input(\"Enter 1st number:\"))\n",
    "num2=eval(input(\"Enter 2st number:\"))\n",
    "print(num1/num2)"
   ]
  },
  {
   "cell_type": "code",
   "execution_count": null,
   "id": "7b6ec4d4-2ca0-4286-8ade-7bef5df40fea",
   "metadata": {},
   "outputs": [],
   "source": [
    "for i in range(10):\n",
    "    try:\n",
    "        num1=eval(input(\"Enter 1st number:\"))\n",
    "        num2=eval(input(\"Enter 2st number:\"))\n",
    "        print(num1/num2)\n",
    "    except Exception as e:\n",
    "        print(e)\n",
    "    print(\"sab thik ho jayega\")\n",
    "    "
   ]
  },
  {
   "cell_type": "code",
   "execution_count": null,
   "id": "18c502f0-8d57-4b15-89c6-44b3d5aaed0b",
   "metadata": {},
   "outputs": [],
   "source": [
    "for i in range(10):\n",
    "    try:\n",
    "        num1=eval(input(\"Enter 1st number:\"))\n",
    "        num2=eval(input(\"Enter 2st number:\"))\n",
    "        print(num1/num2)\n",
    "    except Exception as e:\n",
    "        print(e)\n",
    "    else:\n",
    "        print(\"sab thik hai\")\n",
    "    \n",
    "    "
   ]
  },
  {
   "cell_type": "code",
   "execution_count": null,
   "id": "75c0f56b-53d9-42c3-8788-60653e5bb2c3",
   "metadata": {},
   "outputs": [],
   "source": [
    "for i in range(10):\n",
    "    try:\n",
    "        num1=eval(input(\"Enter 1st number:\"))\n",
    "        num2=eval(input(\"Enter 2st number:\"))\n",
    "        print(num1/num2)\n",
    "        \n",
    "    except Exception as e:\n",
    "        print(e)\n",
    "    else:\n",
    "        print(\"sab thik hai\")"
   ]
  },
  {
   "cell_type": "code",
   "execution_count": 2,
   "id": "68eb6f7c-b8b1-43b4-a7ef-6cae273907e5",
   "metadata": {},
   "outputs": [
    {
     "name": "stdin",
     "output_type": "stream",
     "text": [
      "Enter 1st number: 10\n",
      "Enter 2st number: 10\n"
     ]
    },
    {
     "name": "stdout",
     "output_type": "stream",
     "text": [
      "1.0\n",
      "sab thik hai\n"
     ]
    }
   ],
   "source": [
    "try:\n",
    "    num1=eval(input(\"Enter 1st number:\"))\n",
    "    num2=eval(input(\"Enter 2st number:\"))\n",
    "    print(num1/num2)\n",
    "except Exception as e:\n",
    "    print(e)\n",
    "else:\n",
    "    print(\"sab thik hai\")"
   ]
  },
  {
   "cell_type": "code",
   "execution_count": 4,
   "id": "ecdb95da-b009-4b1c-acb5-2bc10778c561",
   "metadata": {},
   "outputs": [
    {
     "name": "stdin",
     "output_type": "stream",
     "text": [
      "Enter 1st number: 10\n",
      "Enter 2st number: 10\n"
     ]
    },
    {
     "name": "stdout",
     "output_type": "stream",
     "text": [
      "Chal hat\n"
     ]
    }
   ],
   "source": [
    "try:\n",
    "    num1=eval(input(\"Enter 1st number:\"))\n",
    "    num2=eval(input(\"Enter 2st number:\"))\n",
    "    \n",
    "    if num1==num2:\n",
    "        raise Exception(\"Chal hat\")\n",
    "    print(num1/num2)\n",
    "except Exception as e:\n",
    "    print(e)\n",
    "else:\n",
    "    print(\"sab thik hai\")"
   ]
  },
  {
   "cell_type": "code",
   "execution_count": 9,
   "id": "31b109aa-395d-417f-8ba7-dce55a716feb",
   "metadata": {},
   "outputs": [
    {
     "name": "stdin",
     "output_type": "stream",
     "text": [
      "Enter 1st number: 10\n",
      "Enter 2st number: 0\n"
     ]
    },
    {
     "ename": "ZeroDivisionError",
     "evalue": "division by zero",
     "output_type": "error",
     "traceback": [
      "\u001b[1;31m---------------------------------------------------------------------------\u001b[0m",
      "\u001b[1;31mZeroDivisionError\u001b[0m                         Traceback (most recent call last)",
      "Cell \u001b[1;32mIn[9], line 6\u001b[0m\n\u001b[0;32m      4\u001b[0m \u001b[38;5;28;01mif\u001b[39;00m num1\u001b[38;5;241m==\u001b[39mnum2:\n\u001b[0;32m      5\u001b[0m         \u001b[38;5;28;01mraise\u001b[39;00m \u001b[38;5;167;01mException\u001b[39;00m(\u001b[38;5;124m\"\u001b[39m\u001b[38;5;124mChal hat\u001b[39m\u001b[38;5;124m\"\u001b[39m)\n\u001b[1;32m----> 6\u001b[0m \u001b[38;5;28mprint\u001b[39m(\u001b[43mnum1\u001b[49m\u001b[38;5;241;43m/\u001b[39;49m\u001b[43mnum2\u001b[49m)\n\u001b[0;32m      7\u001b[0m \u001b[38;5;28mprint\u001b[39m(\u001b[38;5;124m\"\u001b[39m\u001b[38;5;124mhello world\u001b[39m\u001b[38;5;124m\"\u001b[39m)\n\u001b[0;32m      8\u001b[0m \u001b[38;5;66;03m# except Exception as e:\u001b[39;00m\n\u001b[0;32m      9\u001b[0m \u001b[38;5;66;03m#     print(e)\u001b[39;00m\n\u001b[0;32m     10\u001b[0m \u001b[38;5;66;03m# else:\u001b[39;00m\n\u001b[0;32m     11\u001b[0m \u001b[38;5;66;03m#     print(\"sab thik hai\")\u001b[39;00m\n",
      "\u001b[1;31mZeroDivisionError\u001b[0m: division by zero"
     ]
    }
   ],
   "source": [
    "# try:\n",
    "num1=eval(input(\"Enter 1st number:\"))\n",
    "num2=eval(input(\"Enter 2st number:\"))\n",
    "if num1==num2:\n",
    "        raise Exception(\"Chal hat\")\n",
    "print(num1/num2)\n",
    "print(\"hello world\")\n",
    "# except Exception as e:\n",
    "#     print(e)\n",
    "# else:\n",
    "#     print(\"sab thik hai\")"
   ]
  },
  {
   "cell_type": "code",
   "execution_count": 10,
   "id": "56828892-8515-420a-8b3e-c879c8fa4429",
   "metadata": {},
   "outputs": [
    {
     "name": "stdin",
     "output_type": "stream",
     "text": [
      "Enter 1st number: 10\n",
      "Enter 2st number: 10\n"
     ]
    },
    {
     "name": "stdout",
     "output_type": "stream",
     "text": [
      "Chal hat\n"
     ]
    }
   ],
   "source": [
    "try:\n",
    "    num1=eval(input(\"Enter 1st number:\"))\n",
    "    num2=eval(input(\"Enter 2st number:\"))\n",
    "    \n",
    "    if num1==num2:\n",
    "        raise Exception(\"Chal hat\")\n",
    "    print(num1/num2)\n",
    "except Exception as e:\n",
    "    print(e)\n",
    "else:\n",
    "    print(\"sab thik hai\")"
   ]
  },
  {
   "cell_type": "code",
   "execution_count": null,
   "id": "142011b3-06c0-4929-a65a-50ec32b6b676",
   "metadata": {},
   "outputs": [],
   "source": []
  }
 ],
 "metadata": {
  "kernelspec": {
   "display_name": "Python 3 (ipykernel)",
   "language": "python",
   "name": "python3"
  },
  "language_info": {
   "codemirror_mode": {
    "name": "ipython",
    "version": 3
   },
   "file_extension": ".py",
   "mimetype": "text/x-python",
   "name": "python",
   "nbconvert_exporter": "python",
   "pygments_lexer": "ipython3",
   "version": "3.11.5"
  }
 },
 "nbformat": 4,
 "nbformat_minor": 5
}
