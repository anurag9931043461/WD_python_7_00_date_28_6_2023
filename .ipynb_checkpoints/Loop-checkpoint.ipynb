{
 "cells": [
  {
   "cell_type": "markdown",
   "id": "2fbad1b7-eb65-4c0d-9745-12be03348a15",
   "metadata": {},
   "source": [
    "# Why do we use loop?"
   ]
  },
  {
   "cell_type": "code",
   "execution_count": 1,
   "id": "4984df8c-f13e-47d5-af6b-a1e15aa63169",
   "metadata": {},
   "outputs": [
    {
     "name": "stdout",
     "output_type": "stream",
     "text": [
      "hello world\n",
      "hello world\n",
      "hello world\n",
      "hello world\n",
      "hello world\n"
     ]
    }
   ],
   "source": [
    "print(\"hello world\")\n",
    "print(\"hello world\")\n",
    "print(\"hello world\")\n",
    "print(\"hello world\")\n",
    "print(\"hello world\")"
   ]
  },
  {
   "cell_type": "code",
   "execution_count": 2,
   "id": "045f5733-6e01-4b08-ba99-79f974e5e288",
   "metadata": {},
   "outputs": [
    {
     "ename": "SyntaxError",
     "evalue": "invalid syntax (3967647072.py, line 3)",
     "output_type": "error",
     "traceback": [
      "\u001b[1;36m  Cell \u001b[1;32mIn[2], line 3\u001b[1;36m\u001b[0m\n\u001b[1;33m    > for loop : when number of iteration is known use for loop\u001b[0m\n\u001b[1;37m    ^\u001b[0m\n\u001b[1;31mSyntaxError\u001b[0m\u001b[1;31m:\u001b[0m invalid syntax\n"
     ]
    }
   ],
   "source": [
    "# Type of loops\n",
    "\n",
    "> for loop : when number of iteration is known use for loop\n",
    "\n",
    "> while loop: when number of iteration is not known use while loop"
   ]
  },
  {
   "cell_type": "code",
   "execution_count": null,
   "id": "1f254b2c-ffff-403d-8c8d-4263f96f6710",
   "metadata": {},
   "outputs": [],
   "source": [
    "for i in range(5):\n",
    "    print(\"hello world\")"
   ]
  },
  {
   "cell_type": "code",
   "execution_count": null,
   "id": "62d1c2a3-5a3c-48b3-b16c-e2bf90b36881",
   "metadata": {},
   "outputs": [],
   "source": [
    "i=0\n",
    "while i<5:\n",
    "    print(\"hello world\")\n",
    "    i=i+1"
   ]
  },
  {
   "cell_type": "code",
   "execution_count": null,
   "id": "504d4ead-361a-4074-ab74-594e5be053bd",
   "metadata": {},
   "outputs": [],
   "source": [
    "range(10)"
   ]
  },
  {
   "cell_type": "code",
   "execution_count": null,
   "id": "25b1d7a8-e8d9-4b93-bb59-84d3a1341f22",
   "metadata": {},
   "outputs": [],
   "source": [
    "a=[0,1,2,3,4,5,6,7,8,9]"
   ]
  },
  {
   "cell_type": "code",
   "execution_count": null,
   "id": "8348999c-c505-4e82-aea9-43ac9af43025",
   "metadata": {},
   "outputs": [],
   "source": [
    "for i in [0,1,2,3,4,5,6,7,8,9]:\n",
    "    print(i)"
   ]
  },
  {
   "cell_type": "code",
   "execution_count": null,
   "id": "166e2d29-905b-4156-96d9-d6e8f6466aeb",
   "metadata": {},
   "outputs": [],
   "source": [
    "for i in [0,1,2,3,4,5,6,7,8,9]:\n",
    "    print(i,\"hello world\",end=\"\\n\",sep=\" \")"
   ]
  },
  {
   "cell_type": "code",
   "execution_count": null,
   "id": "daba8b27-1686-4df9-90ca-847e06dc6ab8",
   "metadata": {},
   "outputs": [],
   "source": [
    "for i in [0,1,2,3,4,5,6,7,8,9]:\n",
    "    print(i,\"hello world\")"
   ]
  },
  {
   "cell_type": "code",
   "execution_count": null,
   "id": "3908958a-4ad9-4392-b843-fba4cf8afb79",
   "metadata": {},
   "outputs": [],
   "source": [
    "for i in range(1,10,2):\n",
    "    print(i)\n",
    "    "
   ]
  },
  {
   "cell_type": "code",
   "execution_count": null,
   "id": "a6603153-950b-4478-9732-322e3f6e7594",
   "metadata": {},
   "outputs": [],
   "source": [
    "for i in range(1,10,1):\n",
    "    print(i,\"hello world\")"
   ]
  },
  {
   "cell_type": "code",
   "execution_count": null,
   "id": "2211829f-17b4-482d-8770-cb2a8b9e8590",
   "metadata": {},
   "outputs": [],
   "source": [
    "for i in range(1,10+1,1):\n",
    "    print(i,\"hello world\")"
   ]
  },
  {
   "cell_type": "code",
   "execution_count": null,
   "id": "fc989d86-a897-459b-8399-b3877bcdb515",
   "metadata": {},
   "outputs": [],
   "source": [
    "for i in range(1,10+1,1):\n",
    "    print(11-i,\"hello world\")"
   ]
  },
  {
   "cell_type": "code",
   "execution_count": null,
   "id": "1b4fe189-ce23-4937-9854-bf95e8ca9020",
   "metadata": {},
   "outputs": [],
   "source": [
    "for i in range(10,0,-1):\n",
    "    print(i,\"hello world\")"
   ]
  },
  {
   "cell_type": "markdown",
   "id": "cc3948ed-c2b0-4177-8e72-ab1942fed9c1",
   "metadata": {},
   "source": [
    "# pattern using single for loop"
   ]
  },
  {
   "cell_type": "code",
   "execution_count": null,
   "id": "ff81cd6e-1f64-49ef-bdc5-349bbe0102d5",
   "metadata": {},
   "outputs": [],
   "source": [
    "print(\"*\")\n",
    "print(\"**\")\n",
    "print(\"***\")\n",
    "print(\"****\")\n",
    "print(\"*****\")"
   ]
  },
  {
   "cell_type": "code",
   "execution_count": null,
   "id": "fdab0393-67ee-4411-a884-d001167fb62c",
   "metadata": {},
   "outputs": [],
   "source": [
    "print(\"*\")\n",
    "print(\"**\")\n",
    "print(\"***\")\n",
    "print(\"****\")\n",
    "print(\"*****\")"
   ]
  },
  {
   "cell_type": "code",
   "execution_count": null,
   "id": "c0c3e810-b530-4ea0-be17-c10be2e53eaa",
   "metadata": {},
   "outputs": [],
   "source": [
    "\"*\"*5"
   ]
  },
  {
   "cell_type": "code",
   "execution_count": null,
   "id": "d4cbe4d3-4f46-4db7-b745-dcdd5bb5c4af",
   "metadata": {},
   "outputs": [],
   "source": [
    "print(\"*\"*1)\n",
    "print(\"*\"*2)\n",
    "print(\"*\"*3)\n",
    "print(\"*\"*4)\n",
    "print(\"*\"*5)"
   ]
  },
  {
   "cell_type": "code",
   "execution_count": null,
   "id": "5efee0ed-0765-4c3f-8f4b-5240c16215db",
   "metadata": {},
   "outputs": [],
   "source": [
    "for i in range(0,5,1):\n",
    "    print(\"*\"*(i+1))"
   ]
  },
  {
   "cell_type": "code",
   "execution_count": null,
   "id": "41acb0b2-8dc9-4ea7-a655-2d4273ef2157",
   "metadata": {},
   "outputs": [],
   "source": [
    "for i in range(0,5,1):\n",
    "    print(\"i\"*(i+1))"
   ]
  },
  {
   "cell_type": "code",
   "execution_count": null,
   "id": "3789f28b-1bbd-4a84-b0af-c25146103431",
   "metadata": {},
   "outputs": [],
   "source": [
    "for i in range(0,5,1):\n",
    "    print(f\"{i+1}\"*(i+1))"
   ]
  },
  {
   "cell_type": "code",
   "execution_count": null,
   "id": "c1fa902c-edf9-41d0-97ba-15078fdbf93e",
   "metadata": {},
   "outputs": [],
   "source": [
    "for i in range(0,5,1):\n",
    "    print(f\"{i+1}\"*(i+1))"
   ]
  },
  {
   "cell_type": "code",
   "execution_count": null,
   "id": "415cec06-62ee-472f-ac02-1a8bf350c6dc",
   "metadata": {},
   "outputs": [],
   "source": [
    "for i in range(5,0,-1):\n",
    "    print(\"*\"*i)"
   ]
  },
  {
   "cell_type": "code",
   "execution_count": null,
   "id": "37d25ee1-1bd4-4a8a-9b7e-5d4e536ff338",
   "metadata": {},
   "outputs": [],
   "source": [
    "for i in range(0,5,1):\n",
    "    print(\"*\"*(5-i))"
   ]
  },
  {
   "cell_type": "code",
   "execution_count": null,
   "id": "54a5e88e-a1bc-4032-8b30-c51c7631b3fc",
   "metadata": {},
   "outputs": [],
   "source": [
    "print(\"    \"+\"*\")\n",
    "print(\"   \"+\"**\")\n",
    "print(\"  \"+\"***\")\n",
    "print(\" \"+\"****\")\n",
    "print(\"\"+\"*****\")"
   ]
  },
  {
   "cell_type": "code",
   "execution_count": null,
   "id": "7ec65288-0646-44ba-8019-809f22c50a00",
   "metadata": {},
   "outputs": [],
   "source": [
    "print(\" \"*4+\"*\"*1)\n",
    "print(\" \"*3+\"*\"*2)\n",
    "print(\" \"*2+\"*\"*3)\n",
    "print(\" \"*1+\"*\"*4)\n",
    "print(\" \"*0+\"*\"*5)"
   ]
  },
  {
   "cell_type": "code",
   "execution_count": null,
   "id": "3cda7b2b-7d2c-415e-8a58-c38699dcd4df",
   "metadata": {},
   "outputs": [],
   "source": [
    "for i in range(0,5):\n",
    "    print(\" \"*(4-i)+\"* \"*(i+1))"
   ]
  },
  {
   "cell_type": "code",
   "execution_count": null,
   "id": "fe44fa5f-f8f8-48b5-a813-f04d621cb8b8",
   "metadata": {},
   "outputs": [],
   "source": [
    "for i in range (5,0,-1):\n",
    "    print(\" \"*(5-i)+\"* \"*(i))"
   ]
  },
  {
   "cell_type": "code",
   "execution_count": null,
   "id": "a524d29e-e400-46ba-909e-d9b1322f462b",
   "metadata": {},
   "outputs": [],
   "source": [
    "for i in range(0,5):\n",
    "    print(\" \"*(4-i)+\"*\"*(i+1))"
   ]
  },
  {
   "cell_type": "code",
   "execution_count": null,
   "id": "c2023fe1-fa9f-4330-afdc-01174f0d0a90",
   "metadata": {},
   "outputs": [],
   "source": [
    "for i in range (1,6,1):\n",
    "    print(\" \"*(5-i)+\"*\"*(2*i-1))"
   ]
  },
  {
   "cell_type": "code",
   "execution_count": null,
   "id": "36dd14e4-b692-4f26-a088-d329b55719a8",
   "metadata": {},
   "outputs": [],
   "source": [
    "for i in range (1,6,1):\n",
    "    print(\" \"*(i-1)+\"*\"*(2*(6-i)-1))"
   ]
  },
  {
   "cell_type": "code",
   "execution_count": null,
   "id": "b889cee6-e513-4948-9fd5-47ff71bf2b27",
   "metadata": {},
   "outputs": [],
   "source": [
    "for i in range (1,10,1):\n",
    "    if i<=5:\n",
    "        print(\" \"*(5-i)+\"*\"*(2*i-1))\n",
    "    else:\n",
    "        print(\" \"*(i-5)+\"*\"*(18-2*(i-1)-1))"
   ]
  },
  {
   "cell_type": "code",
   "execution_count": null,
   "id": "0b98e894-b127-4df5-9c03-1df8edea8473",
   "metadata": {},
   "outputs": [],
   "source": [
    "\n",
    "for i in range(0,9):\n",
    "    if i<5:\n",
    "        print(\" \"*i+\"* \"*(5-i))\n",
    "    else:\n",
    "        print(\" \"*(8-i)+\"* \"*(2*i-(i+3)))"
   ]
  },
  {
   "cell_type": "markdown",
   "id": "86afec20-e239-48b9-afb7-0c21b5a4a995",
   "metadata": {},
   "source": [
    "# double loop pattern using for loop"
   ]
  },
  {
   "cell_type": "code",
   "execution_count": null,
   "id": "8058fe1b-d409-4376-a3b6-220f9314a58f",
   "metadata": {},
   "outputs": [],
   "source": [
    "for i in range(0,5):\n",
    "    for j in range(0,i+1):\n",
    "        print(\"*\",end=\"\")\n",
    "    print()"
   ]
  },
  {
   "cell_type": "code",
   "execution_count": null,
   "id": "05e6ef8a-4a72-4207-a5b7-bc35509c554f",
   "metadata": {},
   "outputs": [],
   "source": [
    "for i in range(5,0,-1):\n",
    "    for j in range(i+1,1,-1):\n",
    "        print(\"*\",end=\"\")\n",
    "    print()"
   ]
  },
  {
   "cell_type": "code",
   "execution_count": null,
   "id": "e1c118f1-4d4c-425d-a31d-a647c356b8e9",
   "metadata": {},
   "outputs": [],
   "source": [
    "for i in range(5,0,-1):\n",
    "    for j in range(i+1,1,-1):\n",
    "        print(\"*\",end=\"\")\n",
    "    print()"
   ]
  },
  {
   "cell_type": "code",
   "execution_count": null,
   "id": "e74385ac-f787-4dd8-836a-e4d40e3f262c",
   "metadata": {},
   "outputs": [],
   "source": [
    "name=\"krishna\"\n",
    "age=27\n",
    "print(f\"I am {name} and I am {age}\")"
   ]
  },
  {
   "cell_type": "code",
   "execution_count": null,
   "id": "ec2f275b-f2b1-40e8-96df-01054e5f8765",
   "metadata": {},
   "outputs": [],
   "source": [
    "name=\"krishna\"\n",
    "age=27\n",
    "print(F\"I am {name} and I am {age}\")"
   ]
  },
  {
   "cell_type": "code",
   "execution_count": null,
   "id": "0c234545-3f1f-4963-b355-2a4192813c0f",
   "metadata": {},
   "outputs": [],
   "source": [
    "name=\"krishna\"\n",
    "age=27\n",
    "print(\"I am {} and I am {}\".format(name,age))"
   ]
  },
  {
   "cell_type": "code",
   "execution_count": null,
   "id": "078b2cd8-f56f-4ee6-a125-e534b4d6777e",
   "metadata": {},
   "outputs": [],
   "source": [
    "for i in range(5,0,-1):\n",
    "    for j in range(i+1,1,-1):\n",
    "        print(\"{}\".format(6-i),end=\"\")\n",
    "    print()"
   ]
  },
  {
   "cell_type": "markdown",
   "id": "79d4dcb6-e8e8-4235-9525-327e89c22173",
   "metadata": {},
   "source": [
    "# pattern using nested for loop"
   ]
  },
  {
   "cell_type": "code",
   "execution_count": null,
   "id": "093d9d1b-fdb6-484e-ad51-68cc04373ae5",
   "metadata": {},
   "outputs": [],
   "source": [
    "for i in range(5):\n",
    "    print(\"*\")"
   ]
  },
  {
   "cell_type": "code",
   "execution_count": null,
   "id": "c6344e50-c413-4cc7-8984-923931c7b4fe",
   "metadata": {},
   "outputs": [],
   "source": [
    "for i in range(5):\n",
    "    print(\"*\",end=\"\")\n",
    "print()\n",
    "print(\"Hello world\")"
   ]
  },
  {
   "cell_type": "code",
   "execution_count": null,
   "id": "77795e42-52a8-49a8-8679-8f6f6589075c",
   "metadata": {},
   "outputs": [],
   "source": [
    "for i in range(1):\n",
    "    print(\"*\",end=\"\")\n",
    "print()\n",
    "for i in range(2):\n",
    "    print(\"*\",end=\"\")\n",
    "print()\n",
    "for i in range(3):\n",
    "    print(\"*\",end=\"\")\n",
    "print()\n",
    "for i in range(4):\n",
    "    print(\"*\",end=\"\")\n",
    "print()\n",
    "for i in range(5):\n",
    "    print(\"*\",end=\"\")\n",
    "print()\n"
   ]
  },
  {
   "cell_type": "code",
   "execution_count": null,
   "id": "10d15e50-bd94-4c67-9b8a-1a48a3115c94",
   "metadata": {},
   "outputs": [],
   "source": [
    "for j in range(5):\n",
    "    for i in range(j+1):\n",
    "        print(\"*\",end=\"\")\n",
    "    print()"
   ]
  },
  {
   "cell_type": "markdown",
   "id": "52a2ed96-8def-48f3-b710-4a05c23eaeb9",
   "metadata": {},
   "source": [
    "# continue, break , pass"
   ]
  },
  {
   "cell_type": "code",
   "execution_count": null,
   "id": "a0019834-82bb-4aa3-acf2-cc43b6861350",
   "metadata": {},
   "outputs": [],
   "source": [
    "for i in range(5):\n",
    "    print(i,\"hello world\")"
   ]
  },
  {
   "cell_type": "code",
   "execution_count": null,
   "id": "dd1c3449-0624-4a5e-949c-806430902863",
   "metadata": {},
   "outputs": [],
   "source": [
    "for i in range(5):\n",
    "    if i==2:\n",
    "        continue\n",
    "    print(i,\"hello world\")"
   ]
  },
  {
   "cell_type": "code",
   "execution_count": null,
   "id": "f0b55182-47d4-4e79-807a-e058589b4158",
   "metadata": {},
   "outputs": [],
   "source": [
    "for i in range(5):\n",
    "    print(i,\"hello world\")\n",
    "    if i==2:\n",
    "        continue\n",
    "    "
   ]
  },
  {
   "cell_type": "code",
   "execution_count": null,
   "id": "6987bdd5-0e00-443c-b613-cf1a01a4229e",
   "metadata": {},
   "outputs": [],
   "source": [
    "for i in range(5):\n",
    "    if i in [1,2,4]:\n",
    "        continue\n",
    "    print(i,\"hello world\")"
   ]
  },
  {
   "cell_type": "code",
   "execution_count": null,
   "id": "57d5574d-4dde-4dbe-b14b-c7fa32c42870",
   "metadata": {},
   "outputs": [],
   "source": [
    "1 in [1,2,3,4]"
   ]
  },
  {
   "cell_type": "code",
   "execution_count": null,
   "id": "0bcfd426-dc36-4f6c-b2f0-f5474a1b5a00",
   "metadata": {},
   "outputs": [],
   "source": [
    "for i in range(5):\n",
    "    if i==1 or i==2 or i==4:\n",
    "        continue\n",
    "    print(i,\"hello world\")"
   ]
  },
  {
   "cell_type": "code",
   "execution_count": null,
   "id": "06d9bfd0-a0e3-4507-89df-28c28ec361b6",
   "metadata": {},
   "outputs": [],
   "source": [
    "for i in range(5):\n",
    "    if i==3:\n",
    "        break\n",
    "    print(i,\"hello world\")"
   ]
  },
  {
   "cell_type": "code",
   "execution_count": null,
   "id": "3ed0dcc9-9731-4f85-95ca-a58e551cb2ac",
   "metadata": {},
   "outputs": [],
   "source": [
    "for i in range(5):\n",
    "    print(i,\"hello world\")\n",
    "    if i==3:\n",
    "        break\n",
    "    "
   ]
  },
  {
   "cell_type": "code",
   "execution_count": null,
   "id": "ca640c6b-3a03-49c5-a44e-07ba46793bcb",
   "metadata": {},
   "outputs": [],
   "source": [
    "if 10==10:\n",
    "    print(\"hello world\")\n",
    "print(\"I am krishna\")"
   ]
  },
  {
   "cell_type": "code",
   "execution_count": null,
   "id": "1f996cb4-668c-4b0f-98ce-67b4672ab3ba",
   "metadata": {},
   "outputs": [],
   "source": [
    "if 10==10:\n",
    "    pass\n",
    "print(\"I am krishna\")"
   ]
  },
  {
   "cell_type": "code",
   "execution_count": null,
   "id": "6c02544f-4a5d-48ea-852d-a8a91ba2243f",
   "metadata": {},
   "outputs": [],
   "source": [
    "for i in range(5):\n",
    "    pass\n",
    "print(\"Hello world\")"
   ]
  },
  {
   "cell_type": "code",
   "execution_count": null,
   "id": "744c27d5-4b6c-4c76-8b5f-6d309d32f6e4",
   "metadata": {},
   "outputs": [],
   "source": [
    "for i in range(5):\n",
    "    if i==3:\n",
    "        break\n",
    "    print(i,\"hello world\")"
   ]
  },
  {
   "cell_type": "code",
   "execution_count": null,
   "id": "c57b7c31-8a2c-48b4-a510-76aa8c53e34e",
   "metadata": {},
   "outputs": [],
   "source": [
    "for i in range(7):\n",
    "    if i==3:\n",
    "        continue\n",
    "    elif i==4:\n",
    "        break\n",
    "    print(i,\"hello world\")"
   ]
  },
  {
   "cell_type": "markdown",
   "id": "ee4c6231-fe8a-4a28-bc9d-76eb084155d7",
   "metadata": {},
   "source": [
    "# comprehension\n",
    "\n",
    "    > list comprehension \n",
    "\n",
    "    > set comprehension \n",
    "\n",
    "    > dictionary comprehension \n",
    "    \n",
    "    > tuple comprehension (gernerator object)"
   ]
  },
  {
   "cell_type": "code",
   "execution_count": null,
   "id": "fc31e148-bb9a-487c-b20f-7cb5bc588d3f",
   "metadata": {},
   "outputs": [],
   "source": [
    "range(10)"
   ]
  },
  {
   "cell_type": "markdown",
   "id": "87c300e5-0151-427c-92d5-9da2f8a389cd",
   "metadata": {},
   "source": [
    "# List comprehension "
   ]
  },
  {
   "cell_type": "code",
   "execution_count": null,
   "id": "430c11d8-c8dc-4c25-ab4f-659851742848",
   "metadata": {},
   "outputs": [],
   "source": [
    "a=[]\n",
    "for i in range(10):\n",
    "    a.append(i)\n",
    "print(a)"
   ]
  },
  {
   "cell_type": "code",
   "execution_count": null,
   "id": "95800f7e-6278-42ad-92e1-0a8dde0fd159",
   "metadata": {},
   "outputs": [],
   "source": [
    "# b=[i for i in range(10)]"
   ]
  },
  {
   "cell_type": "code",
   "execution_count": null,
   "id": "1b93f12f-81dd-45ee-ad48-bb6d5971c519",
   "metadata": {},
   "outputs": [],
   "source": [
    "print(b)"
   ]
  },
  {
   "cell_type": "markdown",
   "id": "e303f0e8-9c71-44fb-8043-a188ab67d1a7",
   "metadata": {},
   "source": [
    "# set comprehension "
   ]
  },
  {
   "cell_type": "code",
   "execution_count": null,
   "id": "755091a0-6133-4f27-9cf9-afbf4f1f31d8",
   "metadata": {},
   "outputs": [],
   "source": [
    "a=set()\n",
    "for i in range(10):\n",
    "    a.add(i)\n",
    "print(a)"
   ]
  },
  {
   "cell_type": "code",
   "execution_count": null,
   "id": "1a816a46-2d92-4b89-b66c-003728318091",
   "metadata": {},
   "outputs": [],
   "source": [
    "b={i for i in range(10)}"
   ]
  },
  {
   "cell_type": "code",
   "execution_count": null,
   "id": "d60c4ac5-d500-425e-947b-080b801d226d",
   "metadata": {},
   "outputs": [],
   "source": [
    "print(b)"
   ]
  },
  {
   "cell_type": "code",
   "execution_count": null,
   "id": "f012a33a-688b-4bc6-92ff-bdef36aaeebc",
   "metadata": {},
   "outputs": [],
   "source": [
    "a=(1,2,3,4,5)\n",
    "b=(\"krishna\",\"Arjun\",\"Bhim\",\"nakul\",\"Shahdev\")\n",
    "for i,j in a,b:\n",
    "    print(i,j)"
   ]
  },
  {
   "cell_type": "code",
   "execution_count": null,
   "id": "55e44bf5-c5e9-4a3e-890d-a211b2cd5920",
   "metadata": {},
   "outputs": [],
   "source": [
    "a=(1,2,3,4,5)\n",
    "b=(\"krishna\",\"Arjun\",\"Bhim\",\"nakul\",\"Shahdev\")\n",
    "for i,j in zip(a,b):\n",
    "    print(i,j)"
   ]
  },
  {
   "cell_type": "code",
   "execution_count": null,
   "id": "6c209e5a-2a62-49bf-a3a5-06d890939ea8",
   "metadata": {},
   "outputs": [],
   "source": [
    "a=(1,2,3,4,5)\n",
    "b=(\"krishna\",\"Arjun\",\"Bhim\",\"nakul\",\"Shahdev\")\n",
    "c={}\n",
    "for i,j in zip(a,b):\n",
    "    c.update({i:j})\n",
    "print(c)"
   ]
  },
  {
   "cell_type": "code",
   "execution_count": null,
   "id": "53625c97-4657-4984-b8f9-c5350f492415",
   "metadata": {},
   "outputs": [],
   "source": [
    "d={i:j for i,j in zip(a,b)}"
   ]
  },
  {
   "cell_type": "code",
   "execution_count": null,
   "id": "51cddf59-8572-4312-acc7-656e64c62df8",
   "metadata": {},
   "outputs": [],
   "source": [
    "print(d)"
   ]
  },
  {
   "cell_type": "code",
   "execution_count": null,
   "id": "8450933c-7307-4c08-bff9-15ab4c75dec4",
   "metadata": {},
   "outputs": [],
   "source": [
    "e={i:j for i,j in zip((1,2,3,4,5),(\"krishna\",\"Arjun\",\"Bhim\",\"nakul\",\"Shahdev\"))}"
   ]
  },
  {
   "cell_type": "code",
   "execution_count": null,
   "id": "258694ff-a1f5-4294-81bb-c3f26a59f98e",
   "metadata": {},
   "outputs": [],
   "source": [
    "print(e)"
   ]
  },
  {
   "cell_type": "code",
   "execution_count": null,
   "id": "854afb95-ef03-4cb0-bc07-937c80f8a585",
   "metadata": {},
   "outputs": [],
   "source": [
    "a=(1,2,3)\n",
    "b=(1,2,4,5)\n",
    "print(a+b)"
   ]
  },
  {
   "cell_type": "code",
   "execution_count": null,
   "id": "0bfdd797-c8d0-486f-96cb-a69d38c7976d",
   "metadata": {},
   "outputs": [],
   "source": [
    "a=()\n",
    "for i in range(10):\n",
    "    a=a+(i,)\n",
    "print(a)"
   ]
  },
  {
   "cell_type": "code",
   "execution_count": null,
   "id": "debcc975-5f6c-474b-93a8-440fce6d46a1",
   "metadata": {},
   "outputs": [],
   "source": [
    "v=(i for i in range(10))"
   ]
  },
  {
   "cell_type": "code",
   "execution_count": null,
   "id": "4dcd3952-01bd-485d-9aa4-93973cec7af6",
   "metadata": {},
   "outputs": [],
   "source": [
    "print(v)"
   ]
  },
  {
   "cell_type": "code",
   "execution_count": null,
   "id": "141ab508-374a-49be-8aaf-7806d4f969a4",
   "metadata": {},
   "outputs": [],
   "source": [
    "next(v)"
   ]
  },
  {
   "cell_type": "code",
   "execution_count": null,
   "id": "6a5cce38-939c-4cb8-b697-c710f2977dae",
   "metadata": {},
   "outputs": [],
   "source": [
    "next(v)"
   ]
  },
  {
   "cell_type": "code",
   "execution_count": null,
   "id": "7ff96678-eaf5-4ff9-951e-46a7b60e528a",
   "metadata": {},
   "outputs": [],
   "source": [
    "v=(i for i in range(10))"
   ]
  },
  {
   "cell_type": "code",
   "execution_count": null,
   "id": "9acf2da5-d4f6-45b3-8d69-9d7760a5877e",
   "metadata": {},
   "outputs": [],
   "source": [
    "v.__next__()"
   ]
  },
  {
   "cell_type": "code",
   "execution_count": null,
   "id": "b978ea11-a771-4019-86c9-bb0badcf2817",
   "metadata": {},
   "outputs": [],
   "source": [
    "frozenset({1,2})+frozenset({4,5})"
   ]
  },
  {
   "cell_type": "code",
   "execution_count": null,
   "id": "dea50483-3275-445d-b36a-800ebaa021aa",
   "metadata": {},
   "outputs": [],
   "source": [
    "a=frozenset()"
   ]
  },
  {
   "cell_type": "code",
   "execution_count": null,
   "id": "0fabe26b-55e5-4568-8b7c-0110f5a5311c",
   "metadata": {},
   "outputs": [],
   "source": [
    "for i in range(10):\n",
    "    a=a.union(frozenset({i}))"
   ]
  },
  {
   "cell_type": "code",
   "execution_count": null,
   "id": "a3943765-08b5-411e-92a4-42f9cb40d0fa",
   "metadata": {},
   "outputs": [],
   "source": [
    "print(a)"
   ]
  },
  {
   "cell_type": "code",
   "execution_count": null,
   "id": "5ecd1f4a-a37a-4243-a3f0-d4e7268b6355",
   "metadata": {},
   "outputs": [],
   "source": [
    "frozenset({i for i in range(10)})"
   ]
  },
  {
   "cell_type": "markdown",
   "id": "754d80ea-54ba-419e-8a0f-72414cc90f5a",
   "metadata": {},
   "source": [
    "# Date: 8/8/2023"
   ]
  },
  {
   "cell_type": "markdown",
   "id": "fe82ec0c-44fb-4fb3-8940-e7fd1dee1de2",
   "metadata": {},
   "source": [
    "# while loop\n",
    "\n",
    "    > simple while loop\n",
    "    \n",
    "    > nested while loop\n",
    "    \n",
    "    > pattern using single while loop\n",
    "    \n",
    "    > pattern using nested while loop \n",
    "    \n",
    "    > continue\n",
    "    \n",
    "    > break\n",
    "    \n",
    "    > pass"
   ]
  },
  {
   "cell_type": "raw",
   "id": "070bb393-dabe-40d0-8caf-381160162ffd",
   "metadata": {},
   "source": [
    "initializer\n",
    "while condition:\n",
    "    statement(s)\n",
    "    increment/decrement"
   ]
  },
  {
   "cell_type": "code",
   "execution_count": null,
   "id": "15fde273-824a-445e-b6ed-2c7196c41b81",
   "metadata": {},
   "outputs": [],
   "source": [
    "i=1\n",
    "while i<5:\n",
    "    print(\"hello world\")\n",
    "    i=i+1  #i+=1"
   ]
  },
  {
   "cell_type": "code",
   "execution_count": null,
   "id": "85e85ff9-d97a-47c9-bf90-8fa545c252a2",
   "metadata": {},
   "outputs": [],
   "source": [
    "i=1\n",
    "while i<=5:\n",
    "    print(i,\"hello world\")\n",
    "    i=i+1"
   ]
  },
  {
   "cell_type": "code",
   "execution_count": null,
   "id": "02ae5870-b439-44ac-adba-1a5be5a5fd1d",
   "metadata": {},
   "outputs": [],
   "source": [
    "i=1\n",
    "while i<=5:\n",
    "    print(6-i,\"hello world\")\n",
    "    i=i+1"
   ]
  },
  {
   "cell_type": "markdown",
   "id": "7bca453a-6ef7-4a02-a573-34578db22c83",
   "metadata": {},
   "source": [
    "# continue\n",
    "\n",
    "work with loop only"
   ]
  },
  {
   "cell_type": "code",
   "execution_count": null,
   "id": "68f59de5-4e7c-495e-bc7a-e7be2e9b49f6",
   "metadata": {},
   "outputs": [],
   "source": [
    "i=1\n",
    "while i<=5:\n",
    "    if i==2:\n",
    "        i=i+1\n",
    "        continue\n",
    "    print(i,\"hello world\")\n",
    "    i=i+1"
   ]
  },
  {
   "cell_type": "code",
   "execution_count": null,
   "id": "ea8e227f-227e-4ce1-aa4d-d6c003d1e5d6",
   "metadata": {},
   "outputs": [],
   "source": [
    "i=1\n",
    "while i<=5:\n",
    "    if i==2:\n",
    "        continue\n",
    "        i=i+1\n",
    "    print(i,\"hello world\")\n",
    "    i=i+1"
   ]
  },
  {
   "cell_type": "code",
   "execution_count": null,
   "id": "dd5c72e8-4b42-4e0b-92ca-ee9680bc21b3",
   "metadata": {},
   "outputs": [],
   "source": [
    "i=1\n",
    "while i<=5:\n",
    "    if i==2:\n",
    "        break\n",
    "    print(i,\"hello world\")\n",
    "    i=i+1"
   ]
  },
  {
   "cell_type": "code",
   "execution_count": null,
   "id": "1d0c2fb9-7ff2-401c-b109-4e99f329c969",
   "metadata": {},
   "outputs": [],
   "source": [
    "i=1\n",
    "while i<=5:\n",
    "    pass\n",
    "    i=i+1\n",
    "print(\"this is my first while loop\")"
   ]
  },
  {
   "cell_type": "code",
   "execution_count": null,
   "id": "1144d393-98d3-4d39-86f0-50e6d7b5d1a9",
   "metadata": {},
   "outputs": [],
   "source": [
    "i=1\n",
    "while i<=5:\n",
    "    pass\n",
    "    i=i+1\n",
    "print(\"this is my first while loop\")"
   ]
  },
  {
   "cell_type": "markdown",
   "id": "c148c9b5-6ea4-4bf2-9aab-97d027bc5b0e",
   "metadata": {},
   "source": [
    "> nested while loop\n",
    "\n",
    "> pattern using single while loop\n",
    "\n",
    "> pattern using nested while loop "
   ]
  },
  {
   "cell_type": "code",
   "execution_count": null,
   "id": "2af16a7c-e899-4b86-96de-ea8a2fff7254",
   "metadata": {},
   "outputs": [],
   "source": [
    "i=1\n",
    "while i<=5:\n",
    "    print(\"*\"*i)\n",
    "    i=i+1"
   ]
  },
  {
   "cell_type": "code",
   "execution_count": null,
   "id": "fdd4caa9-702d-4473-a856-96d566a50c48",
   "metadata": {},
   "outputs": [],
   "source": [
    "print(\"*\"*1)\n",
    "print(\"*\"*2)\n",
    "print(\"*\"*3)\n",
    "print(\"*\"*4)\n",
    "print(\"*\"*5)"
   ]
  },
  {
   "cell_type": "code",
   "execution_count": null,
   "id": "4bdc5c21-639e-4636-99ad-17de469487fc",
   "metadata": {},
   "outputs": [],
   "source": [
    "i=1\n",
    "while i<=5:\n",
    "    print(\"*\"*i)\n",
    "    i=i+1"
   ]
  },
  {
   "cell_type": "code",
   "execution_count": null,
   "id": "654ed626-26a7-4641-8db4-38aa50c463e5",
   "metadata": {},
   "outputs": [],
   "source": [
    "for i in range(1,6):\n",
    "    print(\"*\"*i)"
   ]
  },
  {
   "cell_type": "markdown",
   "id": "d673b52f-2a63-4ae0-9d9d-2745cc432809",
   "metadata": {},
   "source": [
    "# Pattern using nested while loop "
   ]
  },
  {
   "cell_type": "code",
   "execution_count": null,
   "id": "8108f028-3830-4bcf-ac7f-a75807dc4e30",
   "metadata": {},
   "outputs": [],
   "source": [
    "for i in range(5):\n",
    "    for j in range(i+1):\n",
    "        print(\"*\",end=\"\")\n",
    "    print()"
   ]
  },
  {
   "cell_type": "code",
   "execution_count": null,
   "id": "81617aee-16a8-4655-ab2e-9da85010fe66",
   "metadata": {},
   "outputs": [],
   "source": [
    "i=0\n",
    "while i<5:#for i in range(5):\n",
    "    j=0\n",
    "    while j<(i+1):    #for j in range(i+1):\n",
    "     #   print(\"*\",end=\"\")\n",
    "    #print()"
   ]
  },
  {
   "cell_type": "code",
   "execution_count": null,
   "id": "7f9e384e-cbcb-4fa9-b825-b5365eeafd24",
   "metadata": {},
   "outputs": [],
   "source": [
    "j=0\n",
    "while j<5:\n",
    "    print(\"*\")\n",
    "    j=j+1"
   ]
  },
  {
   "cell_type": "code",
   "execution_count": null,
   "id": "a8da95ac-c61a-4520-9fd0-c2f3dfdc9ca1",
   "metadata": {},
   "outputs": [],
   "source": [
    "j=0\n",
    "while j<1:\n",
    "    print(\"*\",end=\"\")\n",
    "    j=j+1\n",
    "print()\n",
    "j=0\n",
    "while j<2:\n",
    "    print(\"*\",end=\"\")\n",
    "    j=j+1\n",
    "print()\n",
    "j=0\n",
    "while j<3:\n",
    "    print(\"*\",end=\"\")\n",
    "    j=j+1\n",
    "print()\n",
    "j=0\n",
    "while j<4:\n",
    "    print(\"*\",end=\"\")\n",
    "    j=j+1\n",
    "print()\n",
    "j=0\n",
    "while j<5:\n",
    "    print(\"*\",end=\"\")\n",
    "    j=j+1\n",
    "print()"
   ]
  },
  {
   "cell_type": "code",
   "execution_count": null,
   "id": "2c2fb084-08bb-445b-a406-a8d8f21bc578",
   "metadata": {},
   "outputs": [],
   "source": [
    "i=0\n",
    "while i<5:\n",
    "    j=0\n",
    "    while j<i+1:\n",
    "        print(\"*\",end=\"\")\n",
    "        j=j+1\n",
    "    print()\n",
    "    i=i+1"
   ]
  },
  {
   "cell_type": "code",
   "execution_count": null,
   "id": "bb47c8cb-64b9-4d51-b386-3d67a9cd7da5",
   "metadata": {},
   "outputs": [],
   "source": [
    "for i in range(5):\n",
    "    j=0\n",
    "    while j<i+1:\n",
    "        print(\"*\",end=\"\")\n",
    "        j=j+1\n",
    "    print()   "
   ]
  },
  {
   "cell_type": "markdown",
   "id": "ca58fd52-aee4-441a-9758-33b886f0f3f1",
   "metadata": {},
   "source": [
    "# else: \n",
    "if ,while ,for , exception handling(try, except, finally )"
   ]
  },
  {
   "cell_type": "code",
   "execution_count": null,
   "id": "2c8d0676-ce65-4068-a192-9b68fe067bc1",
   "metadata": {},
   "outputs": [],
   "source": [
    "for i in range(0):\n",
    "    print(\"Hello world\")\n",
    "else:\n",
    "    print(\"terminated\")"
   ]
  },
  {
   "cell_type": "code",
   "execution_count": null,
   "id": "aabe5eca-eff6-427c-99b6-89130deb429a",
   "metadata": {},
   "outputs": [],
   "source": [
    "for i in range(0):\n",
    "    print(\"Hello world\")\n",
    "\n",
    "print(\"terminated\")"
   ]
  },
  {
   "cell_type": "code",
   "execution_count": null,
   "id": "d97521a3-2d8b-4c65-888f-928c66e8c63f",
   "metadata": {},
   "outputs": [],
   "source": [
    "i=1\n",
    "while i<5:\n",
    "    print(\"Hello world\")\n",
    "    i=i+1\n",
    "else:\n",
    "    print(\"terminated\")"
   ]
  },
  {
   "cell_type": "code",
   "execution_count": null,
   "id": "8c3b384e-4010-4751-a665-55cdebda3893",
   "metadata": {},
   "outputs": [],
   "source": [
    "i=1\n",
    "while i<5:\n",
    "    print(\"Hello world\")\n",
    "    i=i+1\n",
    "print(\"terminated\")"
   ]
  },
  {
   "cell_type": "code",
   "execution_count": null,
   "id": "bf484c33-8ecf-41c5-ab4d-ee9c023cecda",
   "metadata": {},
   "outputs": [],
   "source": [
    "# a=[\"abc\",\"cde\",\"fghi\",\"klm\"]\n",
    "\n",
    "# output: [\"mlk\",\"ihgf\",\"edc\",\"cba\"]"
   ]
  },
  {
   "cell_type": "code",
   "execution_count": null,
   "id": "6cc14267-c0bd-4190-bf86-9b6bd6c3a1d3",
   "metadata": {},
   "outputs": [],
   "source": [
    "a=[\"abc\",\"cde\",\"fghi\",\"klm\"]\n",
    "a[-1::-1]"
   ]
  },
  {
   "cell_type": "code",
   "execution_count": null,
   "id": "b2ae079e-cd8e-47b2-8393-5f04d15f42fe",
   "metadata": {},
   "outputs": [],
   "source": [
    "c=\"fghi\"\n",
    "c[-1::-1]"
   ]
  },
  {
   "cell_type": "code",
   "execution_count": null,
   "id": "9a85cc2a-1f48-46f6-bc39-39b7657844c3",
   "metadata": {},
   "outputs": [],
   "source": [
    "a=[\"abc\",\"cde\",\"fghi\",\"klm\"]\n",
    "b=[]\n",
    "i=0\n",
    "while i<4:\n",
    "    d=a[-(i+1)]\n",
    "    e=d[-1::-1]\n",
    "    b.append(e)\n",
    "    i=i+1"
   ]
  },
  {
   "cell_type": "code",
   "execution_count": null,
   "id": "780b8349-7eb8-4a57-a5dc-3c4743542c9a",
   "metadata": {},
   "outputs": [],
   "source": [
    "print(b)"
   ]
  },
  {
   "cell_type": "code",
   "execution_count": null,
   "id": "ea117287-3a91-43f4-b57f-c200d304cdfb",
   "metadata": {},
   "outputs": [],
   "source": [
    "a[-2]"
   ]
  },
  {
   "cell_type": "code",
   "execution_count": null,
   "id": "fcacca85-1d01-48e2-a1c4-ed8d8d0d1d06",
   "metadata": {},
   "outputs": [],
   "source": [
    "a=[\"abc\",\"cde\",\"fghi\",\"klm\"]\n",
    "b=[]\n",
    "i=0\n",
    "while i<4:\n",
    "    b.append(a[-(i+1)][-1::-1])\n",
    "    i=i+1"
   ]
  },
  {
   "cell_type": "code",
   "execution_count": null,
   "id": "ecd17ac0-ccb3-4a24-9401-a20214940988",
   "metadata": {},
   "outputs": [],
   "source": [
    "print(b)"
   ]
  },
  {
   "cell_type": "code",
   "execution_count": null,
   "id": "3151474d-d338-4ebb-87d2-1756a709445c",
   "metadata": {},
   "outputs": [],
   "source": [
    "a=[\"krishna\",10,10.0,20j]\n",
    "for i in a:\n",
    "    print(type(i),i)"
   ]
  },
  {
   "cell_type": "code",
   "execution_count": null,
   "id": "8f8345ef-a191-4cdc-b120-701353f209d8",
   "metadata": {},
   "outputs": [],
   "source": [
    "a=[\"krishna\",10,10.0,20j]\n",
    "for i in a:\n",
    "    print(i)"
   ]
  },
  {
   "cell_type": "code",
   "execution_count": null,
   "id": "04416c40-53c3-4eae-9c3b-a5e39c5de769",
   "metadata": {},
   "outputs": [],
   "source": [
    "a=[\"krishna\",10,10.0,20j]\n",
    "for i in a:\n",
    "    print(type(i),i)"
   ]
  },
  {
   "cell_type": "code",
   "execution_count": null,
   "id": "2e36cdc0-2d3e-4af8-afcd-74f4e4f11139",
   "metadata": {},
   "outputs": [],
   "source": [
    "print(a)"
   ]
  },
  {
   "cell_type": "code",
   "execution_count": null,
   "id": "9b00b202-1ffd-4cef-8606-e688d39f017e",
   "metadata": {},
   "outputs": [],
   "source": [
    "len(a)"
   ]
  },
  {
   "cell_type": "code",
   "execution_count": 5,
   "id": "8b8fb8fd-d3c8-467e-bb82-d52e40f6591b",
   "metadata": {},
   "outputs": [
    {
     "name": "stdout",
     "output_type": "stream",
     "text": [
      "<class 'str'> krishna\n",
      "<class 'int'> 10\n",
      "<class 'float'> 10.0\n",
      "<class 'complex'> 20j\n"
     ]
    }
   ],
   "source": [
    "a=[\"krishna\",10,10.0,20j]\n",
    "\n",
    "i=0\n",
    "while i<len(a):\n",
    "    print(type(a[i]),a[i])\n",
    "    i=i+1"
   ]
  },
  {
   "cell_type": "code",
   "execution_count": 9,
   "id": "354236d0-f28d-4c2a-97d7-6fd77620da81",
   "metadata": {},
   "outputs": [
    {
     "name": "stdout",
     "output_type": "stream",
     "text": [
      "<class 'complex'> 20j\n",
      "<class 'float'> 10.0\n",
      "<class 'int'> 10\n",
      "<class 'str'> krishna\n"
     ]
    }
   ],
   "source": [
    "i=-1\n",
    "while i>=-len(a):\n",
    "    print(type(a[i]),a[i])\n",
    "    i=i-1"
   ]
  },
  {
   "cell_type": "code",
   "execution_count": 7,
   "id": "ea81cd2f-2fb5-4f92-8605-dacb5670697c",
   "metadata": {},
   "outputs": [
    {
     "data": {
      "text/plain": [
       "-4"
      ]
     },
     "execution_count": 7,
     "metadata": {},
     "output_type": "execute_result"
    }
   ],
   "source": [
    "-len(a)"
   ]
  },
  {
   "cell_type": "code",
   "execution_count": 10,
   "id": "ff222724-7e3b-4ec8-a306-ee2063ee14cf",
   "metadata": {},
   "outputs": [
    {
     "name": "stdout",
     "output_type": "stream",
     "text": [
      "<class 'complex'> 20j\n",
      "<class 'float'> 10.0\n",
      "<class 'int'> 10\n",
      "<class 'str'> krishna\n"
     ]
    }
   ],
   "source": [
    "i=-1\n",
    "while i>=-len(a):\n",
    "    pass\n",
    "    print(type(a[i]),a[i])\n",
    "    i=i-1"
   ]
  },
  {
   "cell_type": "code",
   "execution_count": 13,
   "id": "6b84fe8b-15d8-4d8d-a75f-dba3921a4249",
   "metadata": {},
   "outputs": [],
   "source": [
    "b=[1,2,3,2,3,4,65,3,243,453,54,65,76]\n",
    "c=[]\n"
   ]
  },
  {
   "cell_type": "code",
   "execution_count": 11,
   "id": "424e619b-d529-4e15-852d-83985380fc12",
   "metadata": {},
   "outputs": [
    {
     "data": {
      "text/plain": [
       "True"
      ]
     },
     "execution_count": 11,
     "metadata": {},
     "output_type": "execute_result"
    }
   ],
   "source": [
    "243%2==1"
   ]
  },
  {
   "cell_type": "code",
   "execution_count": 14,
   "id": "67825740-efd8-4abf-8fdf-8f1492a60e73",
   "metadata": {},
   "outputs": [
    {
     "data": {
      "text/plain": [
       "13"
      ]
     },
     "execution_count": 14,
     "metadata": {},
     "output_type": "execute_result"
    }
   ],
   "source": [
    "len(b)"
   ]
  },
  {
   "cell_type": "code",
   "execution_count": 15,
   "id": "6e4894dc-b87c-45ec-a098-9df7228bac1f",
   "metadata": {},
   "outputs": [
    {
     "name": "stdout",
     "output_type": "stream",
     "text": [
      "1\n",
      "3\n",
      "3\n",
      "65\n",
      "3\n",
      "243\n",
      "453\n",
      "65\n"
     ]
    }
   ],
   "source": [
    "b=[1,2,3,2,3,4,65,3,243,453,54,65,76]\n",
    "c=[]\n",
    "i=0\n",
    "while i<len(b):\n",
    "    if b[i]%2==1:\n",
    "        print(b[i])\n",
    "    i=i+1\n",
    "    "
   ]
  },
  {
   "cell_type": "code",
   "execution_count": 16,
   "id": "62a26536-d925-46d1-ac25-8d7eb8d9d5a5",
   "metadata": {},
   "outputs": [],
   "source": [
    "b=[1,2,3,2,3,4,65,3,243,453,54,65,76]\n",
    "c=[]\n",
    "i=0\n",
    "while i<len(b):\n",
    "    if b[i]%2==1:\n",
    "        c.append(b[i])\n",
    "    i=i+1"
   ]
  },
  {
   "cell_type": "code",
   "execution_count": 17,
   "id": "06749cae-7ada-4594-89ad-ea85906235a6",
   "metadata": {},
   "outputs": [
    {
     "name": "stdout",
     "output_type": "stream",
     "text": [
      "[1, 3, 3, 65, 3, 243, 453, 65]\n"
     ]
    }
   ],
   "source": [
    "print(c)"
   ]
  },
  {
   "cell_type": "code",
   "execution_count": 18,
   "id": "e788cb89-2308-4d1a-8903-d05867be7f5a",
   "metadata": {},
   "outputs": [
    {
     "name": "stdout",
     "output_type": "stream",
     "text": [
      "[1, 3, 3, 65, 3, 243, 453, 65]\n",
      "[2, 2, 4, 54, 76]\n"
     ]
    }
   ],
   "source": [
    "b=[1,2,3,2,3,4,65,3,243,453,54,65,76]\n",
    "c=[]\n",
    "d=[]\n",
    "i=0\n",
    "while i<len(b):\n",
    "    if b[i]%2==1:\n",
    "        c.append(b[i])\n",
    "    else:\n",
    "        d.append(b[i])\n",
    "    i=i+1\n",
    "\n",
    "print(c)\n",
    "print(d)"
   ]
  },
  {
   "cell_type": "code",
   "execution_count": null,
   "id": "65731147-6584-4695-ba8c-eb8c91df1693",
   "metadata": {},
   "outputs": [],
   "source": [
    "num1=int(input(\"Enter your number:\"))\n",
    "for i in range(num1+1)"
   ]
  }
 ],
 "metadata": {
  "kernelspec": {
   "display_name": "Python 3 (ipykernel)",
   "language": "python",
   "name": "python3"
  },
  "language_info": {
   "codemirror_mode": {
    "name": "ipython",
    "version": 3
   },
   "file_extension": ".py",
   "mimetype": "text/x-python",
   "name": "python",
   "nbconvert_exporter": "python",
   "pygments_lexer": "ipython3",
   "version": "3.11.4"
  }
 },
 "nbformat": 4,
 "nbformat_minor": 5
}
