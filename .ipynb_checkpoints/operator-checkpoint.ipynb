{
 "cells": [
  {
   "cell_type": "markdown",
   "id": "e4022930-55ad-4db4-9dfb-00e28f2d2f9f",
   "metadata": {},
   "source": [
    "# Python divides the operators in the following groups:\n",
    "\n",
    "> Arithmetic operators\n",
    "\n",
    "> Assignment operators\n",
    "\n",
    "> Comparison operators\n",
    "\n",
    "> Logical operators\n",
    "\n",
    "> Identity operators\n",
    "\n",
    "> Membership operators\n",
    "\n",
    "> Bitwise operators"
   ]
  },
  {
   "cell_type": "code",
   "execution_count": 1,
   "id": "d3861d52-072a-4be0-9631-f6a7b04c83ee",
   "metadata": {},
   "outputs": [],
   "source": [
    "# Arithmetic operators\n",
    "# +,-,/,*,**,//,%"
   ]
  },
  {
   "cell_type": "code",
   "execution_count": 2,
   "id": "20b7c2c4-460d-41fc-aa79-776c3a4e43cb",
   "metadata": {},
   "outputs": [
    {
     "data": {
      "text/plain": [
       "30"
      ]
     },
     "execution_count": 2,
     "metadata": {},
     "output_type": "execute_result"
    }
   ],
   "source": [
    "10+20"
   ]
  },
  {
   "cell_type": "code",
   "execution_count": 3,
   "id": "2539df12-b448-4961-91ea-96f8ab6efb05",
   "metadata": {},
   "outputs": [
    {
     "data": {
      "text/plain": [
       "-10"
      ]
     },
     "execution_count": 3,
     "metadata": {},
     "output_type": "execute_result"
    }
   ],
   "source": [
    "10-20"
   ]
  },
  {
   "cell_type": "code",
   "execution_count": 4,
   "id": "2ce99aab-e16b-42de-8c5c-e8553e61b9a5",
   "metadata": {},
   "outputs": [
    {
     "data": {
      "text/plain": [
       "2.0"
      ]
     },
     "execution_count": 4,
     "metadata": {},
     "output_type": "execute_result"
    }
   ],
   "source": [
    "20/10"
   ]
  },
  {
   "cell_type": "code",
   "execution_count": 5,
   "id": "331ef5f0-01a9-4040-8a68-39b0cdee9c7e",
   "metadata": {},
   "outputs": [
    {
     "data": {
      "text/plain": [
       "2"
      ]
     },
     "execution_count": 5,
     "metadata": {},
     "output_type": "execute_result"
    }
   ],
   "source": [
    "20//10"
   ]
  },
  {
   "cell_type": "code",
   "execution_count": 6,
   "id": "546fdc24-f804-46d2-9d3b-268827930fb7",
   "metadata": {},
   "outputs": [
    {
     "data": {
      "text/plain": [
       "3.3333333333333335"
      ]
     },
     "execution_count": 6,
     "metadata": {},
     "output_type": "execute_result"
    }
   ],
   "source": [
    "10/3"
   ]
  },
  {
   "cell_type": "code",
   "execution_count": 7,
   "id": "440a0494-3893-496e-bf1a-2bdb159acd1f",
   "metadata": {},
   "outputs": [
    {
     "data": {
      "text/plain": [
       "3"
      ]
     },
     "execution_count": 7,
     "metadata": {},
     "output_type": "execute_result"
    }
   ],
   "source": [
    "10//3"
   ]
  },
  {
   "cell_type": "code",
   "execution_count": 8,
   "id": "454b0116-488e-463c-ab36-9651874d4811",
   "metadata": {},
   "outputs": [
    {
     "data": {
      "text/plain": [
       "3.0"
      ]
     },
     "execution_count": 8,
     "metadata": {},
     "output_type": "execute_result"
    }
   ],
   "source": [
    "10.0//3"
   ]
  },
  {
   "cell_type": "code",
   "execution_count": 9,
   "id": "ee40e1fa-0986-4c1d-974e-575b8a9a6fa1",
   "metadata": {},
   "outputs": [
    {
     "data": {
      "text/plain": [
       "1"
      ]
     },
     "execution_count": 9,
     "metadata": {},
     "output_type": "execute_result"
    }
   ],
   "source": [
    "10%3"
   ]
  },
  {
   "cell_type": "code",
   "execution_count": 10,
   "id": "ad579e72-ddb2-4e09-b53c-e4c706503956",
   "metadata": {},
   "outputs": [
    {
     "data": {
      "text/plain": [
       "200"
      ]
     },
     "execution_count": 10,
     "metadata": {},
     "output_type": "execute_result"
    }
   ],
   "source": [
    "10*20"
   ]
  },
  {
   "cell_type": "code",
   "execution_count": 11,
   "id": "e759edc1-ded6-4204-8482-373e202032f5",
   "metadata": {},
   "outputs": [
    {
     "data": {
      "text/plain": [
       "1000"
      ]
     },
     "execution_count": 11,
     "metadata": {},
     "output_type": "execute_result"
    }
   ],
   "source": [
    "10**3"
   ]
  },
  {
   "cell_type": "markdown",
   "id": "f1b7af98-2af4-428d-bfd1-843e158cd9c8",
   "metadata": {},
   "source": [
    "# Assignment operators\n",
    "\n",
    "=,+=,-=,*=,**=,%=,/=,//=,"
   ]
  },
  {
   "cell_type": "code",
   "execution_count": 12,
   "id": "6b01e12e-e6ee-4152-afc4-86f0a64112d0",
   "metadata": {},
   "outputs": [],
   "source": [
    "a=10"
   ]
  },
  {
   "cell_type": "code",
   "execution_count": 14,
   "id": "7ea6f2c9-4339-4016-aacc-7f92c27bcede",
   "metadata": {},
   "outputs": [],
   "source": [
    "a=a+1"
   ]
  },
  {
   "cell_type": "code",
   "execution_count": 15,
   "id": "f46c87d6-4216-4dbb-9e9b-2975c9ebc9c2",
   "metadata": {},
   "outputs": [
    {
     "name": "stdout",
     "output_type": "stream",
     "text": [
      "11\n"
     ]
    }
   ],
   "source": [
    "print(a)"
   ]
  },
  {
   "cell_type": "code",
   "execution_count": 16,
   "id": "8826d591-4bed-4a26-aa27-76fa533d5d62",
   "metadata": {},
   "outputs": [],
   "source": [
    "a+=3            #a=a+1"
   ]
  },
  {
   "cell_type": "code",
   "execution_count": 17,
   "id": "d4064011-acf9-4054-a792-ff937276d3f9",
   "metadata": {},
   "outputs": [
    {
     "name": "stdout",
     "output_type": "stream",
     "text": [
      "14\n"
     ]
    }
   ],
   "source": [
    "print(a)"
   ]
  },
  {
   "cell_type": "code",
   "execution_count": 18,
   "id": "0a090062-a086-4c4c-99fa-efd784a94f5f",
   "metadata": {},
   "outputs": [],
   "source": [
    "a-=3             #a=a-3"
   ]
  },
  {
   "cell_type": "code",
   "execution_count": 19,
   "id": "94463aa7-c253-4e1c-b9b9-043e14aeb3a8",
   "metadata": {},
   "outputs": [
    {
     "name": "stdout",
     "output_type": "stream",
     "text": [
      "11\n"
     ]
    }
   ],
   "source": [
    "print(a)"
   ]
  },
  {
   "cell_type": "code",
   "execution_count": 20,
   "id": "049215e9-8f85-4f62-b251-ebee63072ef7",
   "metadata": {},
   "outputs": [],
   "source": [
    "a*=10                  #a=a*10"
   ]
  },
  {
   "cell_type": "code",
   "execution_count": 21,
   "id": "de49944d-e560-4a6e-bd1c-a7e511ae0fcc",
   "metadata": {},
   "outputs": [
    {
     "name": "stdout",
     "output_type": "stream",
     "text": [
      "110\n"
     ]
    }
   ],
   "source": [
    "print(a)"
   ]
  },
  {
   "cell_type": "code",
   "execution_count": 22,
   "id": "08ad3797-79df-4e2d-a42c-b67c1fa42c04",
   "metadata": {},
   "outputs": [],
   "source": [
    "a/=11                   #a=a/11"
   ]
  },
  {
   "cell_type": "code",
   "execution_count": 23,
   "id": "ec4fdd5c-a890-4a5a-896e-05bd28690619",
   "metadata": {},
   "outputs": [
    {
     "name": "stdout",
     "output_type": "stream",
     "text": [
      "10.0\n"
     ]
    }
   ],
   "source": [
    "print(a)"
   ]
  },
  {
   "cell_type": "code",
   "execution_count": 24,
   "id": "acb930ac-2db9-46fa-9656-db0f402cf381",
   "metadata": {},
   "outputs": [],
   "source": [
    "a//=3             #a=a//3"
   ]
  },
  {
   "cell_type": "code",
   "execution_count": 25,
   "id": "046ae37d-f3e2-43c2-b14f-29786f6d6d21",
   "metadata": {},
   "outputs": [
    {
     "name": "stdout",
     "output_type": "stream",
     "text": [
      "3.0\n"
     ]
    }
   ],
   "source": [
    "print(a)"
   ]
  },
  {
   "cell_type": "code",
   "execution_count": 26,
   "id": "da231ae0-fd76-46e0-9902-a6ca363c2594",
   "metadata": {},
   "outputs": [],
   "source": [
    "a=int(a)"
   ]
  },
  {
   "cell_type": "code",
   "execution_count": 27,
   "id": "e2b0ab7e-606c-4294-b5f9-9b6dd33d1e4b",
   "metadata": {},
   "outputs": [
    {
     "name": "stdout",
     "output_type": "stream",
     "text": [
      "3\n"
     ]
    }
   ],
   "source": [
    "print(a)"
   ]
  },
  {
   "cell_type": "code",
   "execution_count": 28,
   "id": "9eca1e4e-3d31-44d5-9cc5-a6c582dcdb7a",
   "metadata": {},
   "outputs": [],
   "source": [
    "a**=4            #a=a**4"
   ]
  },
  {
   "cell_type": "code",
   "execution_count": 29,
   "id": "c8ab69b3-ccb9-4eda-abb2-51ceaa9e4b99",
   "metadata": {},
   "outputs": [
    {
     "name": "stdout",
     "output_type": "stream",
     "text": [
      "81\n"
     ]
    }
   ],
   "source": [
    "print(a)"
   ]
  },
  {
   "cell_type": "code",
   "execution_count": 30,
   "id": "e6ee82a7-3f58-4ec0-870b-dbae9c82ba04",
   "metadata": {},
   "outputs": [],
   "source": [
    "a%=8            #a=a%8"
   ]
  },
  {
   "cell_type": "code",
   "execution_count": 31,
   "id": "e61715dd-c826-4e46-bb24-9303ba964839",
   "metadata": {},
   "outputs": [
    {
     "name": "stdout",
     "output_type": "stream",
     "text": [
      "1\n"
     ]
    }
   ],
   "source": [
    "print(a)"
   ]
  },
  {
   "cell_type": "markdown",
   "id": "00d3ea07-e5ac-428e-bb2a-2937d2d0f6a2",
   "metadata": {},
   "source": [
    "# Comparison operators\n",
    "==,<=,>=,!=,>,<"
   ]
  },
  {
   "cell_type": "code",
   "execution_count": 32,
   "id": "6ceda314-f68b-4b68-9907-eacc49926fad",
   "metadata": {},
   "outputs": [
    {
     "data": {
      "text/plain": [
       "True"
      ]
     },
     "execution_count": 32,
     "metadata": {},
     "output_type": "execute_result"
    }
   ],
   "source": [
    "10==10"
   ]
  },
  {
   "cell_type": "code",
   "execution_count": 33,
   "id": "ab4a4112-99e5-42e4-8530-63a038cb8953",
   "metadata": {},
   "outputs": [
    {
     "data": {
      "text/plain": [
       "True"
      ]
     },
     "execution_count": 33,
     "metadata": {},
     "output_type": "execute_result"
    }
   ],
   "source": [
    "20>10"
   ]
  },
  {
   "cell_type": "code",
   "execution_count": 34,
   "id": "953742bd-d8e7-4ae1-aaaa-61185b1409f3",
   "metadata": {},
   "outputs": [
    {
     "data": {
      "text/plain": [
       "True"
      ]
     },
     "execution_count": 34,
     "metadata": {},
     "output_type": "execute_result"
    }
   ],
   "source": [
    "20>=20"
   ]
  },
  {
   "cell_type": "code",
   "execution_count": 35,
   "id": "6c4e0524-007a-4462-95ba-2ae4e456574c",
   "metadata": {},
   "outputs": [
    {
     "data": {
      "text/plain": [
       "True"
      ]
     },
     "execution_count": 35,
     "metadata": {},
     "output_type": "execute_result"
    }
   ],
   "source": [
    "20<=20"
   ]
  },
  {
   "cell_type": "code",
   "execution_count": 36,
   "id": "6c60980c-1aa7-447f-bbf0-39b2f3c3bba9",
   "metadata": {},
   "outputs": [
    {
     "data": {
      "text/plain": [
       "False"
      ]
     },
     "execution_count": 36,
     "metadata": {},
     "output_type": "execute_result"
    }
   ],
   "source": [
    "20!=20"
   ]
  },
  {
   "cell_type": "code",
   "execution_count": 38,
   "id": "089fd5df-828b-4519-aaff-388361bd3e2f",
   "metadata": {},
   "outputs": [
    {
     "data": {
      "text/plain": [
       "False"
      ]
     },
     "execution_count": 38,
     "metadata": {},
     "output_type": "execute_result"
    }
   ],
   "source": [
    "20<10"
   ]
  },
  {
   "cell_type": "markdown",
   "id": "7fb19244-048c-4ae8-a168-cc7c92a2da38",
   "metadata": {},
   "source": [
    "# Logical operators\n",
    "and, or , not"
   ]
  },
  {
   "cell_type": "code",
   "execution_count": 39,
   "id": "b3fb6791-b1af-4a7d-8c6e-a96bb514ceda",
   "metadata": {},
   "outputs": [
    {
     "data": {
      "text/plain": [
       "True"
      ]
     },
     "execution_count": 39,
     "metadata": {},
     "output_type": "execute_result"
    }
   ],
   "source": [
    "10==10 and 20==20"
   ]
  },
  {
   "cell_type": "code",
   "execution_count": 40,
   "id": "ae5c0148-6abf-476f-86a7-1bad1d7d74da",
   "metadata": {},
   "outputs": [
    {
     "data": {
      "text/plain": [
       "True"
      ]
     },
     "execution_count": 40,
     "metadata": {},
     "output_type": "execute_result"
    }
   ],
   "source": [
    "10==10 and 20==20 and 30!=29"
   ]
  },
  {
   "cell_type": "code",
   "execution_count": 43,
   "id": "f942e510-a40b-4bd2-b0dc-0ead7e879e56",
   "metadata": {},
   "outputs": [
    {
     "data": {
      "text/plain": [
       "False"
      ]
     },
     "execution_count": 43,
     "metadata": {},
     "output_type": "execute_result"
    }
   ],
   "source": [
    "not(10!=10 or 20==20 and 30!=29)"
   ]
  },
  {
   "cell_type": "code",
   "execution_count": 44,
   "id": "9de830ca-280c-4f2a-bd3e-c912bea164c3",
   "metadata": {},
   "outputs": [
    {
     "data": {
      "text/plain": [
       "True"
      ]
     },
     "execution_count": 44,
     "metadata": {},
     "output_type": "execute_result"
    }
   ],
   "source": [
    "not 10!=10 or 20==20 and 30!=29"
   ]
  },
  {
   "cell_type": "code",
   "execution_count": 46,
   "id": "cd5b91d4-b402-475a-90de-23ed97e0d31c",
   "metadata": {},
   "outputs": [
    {
     "data": {
      "text/plain": [
       "True"
      ]
     },
     "execution_count": 46,
     "metadata": {},
     "output_type": "execute_result"
    }
   ],
   "source": [
    "not 10!=10"
   ]
  },
  {
   "cell_type": "markdown",
   "id": "4d7ac592-e2f2-410e-a1a6-f94aeafeec40",
   "metadata": {},
   "source": [
    "# Identity operators\n",
    "is, is not"
   ]
  },
  {
   "cell_type": "code",
   "execution_count": 47,
   "id": "8136407b-2220-4d22-9735-5c59162ee07f",
   "metadata": {},
   "outputs": [
    {
     "name": "stderr",
     "output_type": "stream",
     "text": [
      "<>:1: SyntaxWarning: \"is\" with a literal. Did you mean \"==\"?\n",
      "<>:1: SyntaxWarning: \"is\" with a literal. Did you mean \"==\"?\n",
      "C:\\Users\\Ducat\\AppData\\Local\\Temp\\ipykernel_10284\\3585426024.py:1: SyntaxWarning: \"is\" with a literal. Did you mean \"==\"?\n",
      "  \"python\" is \"python\"\n"
     ]
    },
    {
     "data": {
      "text/plain": [
       "True"
      ]
     },
     "execution_count": 47,
     "metadata": {},
     "output_type": "execute_result"
    }
   ],
   "source": [
    "\"python\" is \"python\""
   ]
  },
  {
   "cell_type": "code",
   "execution_count": 48,
   "id": "65c72b63-2588-4a3b-8618-f460cfc947d1",
   "metadata": {},
   "outputs": [
    {
     "data": {
      "text/plain": [
       "True"
      ]
     },
     "execution_count": 48,
     "metadata": {},
     "output_type": "execute_result"
    }
   ],
   "source": [
    "\"python\" == \"python\""
   ]
  },
  {
   "cell_type": "code",
   "execution_count": 49,
   "id": "b424d173-f3a0-4667-abe2-62dc3831d8b3",
   "metadata": {},
   "outputs": [
    {
     "name": "stderr",
     "output_type": "stream",
     "text": [
      "<>:1: SyntaxWarning: \"is not\" with a literal. Did you mean \"!=\"?\n",
      "<>:1: SyntaxWarning: \"is not\" with a literal. Did you mean \"!=\"?\n",
      "C:\\Users\\Ducat\\AppData\\Local\\Temp\\ipykernel_10284\\1685314422.py:1: SyntaxWarning: \"is not\" with a literal. Did you mean \"!=\"?\n",
      "  \"Python\" is not \"python\"\n"
     ]
    },
    {
     "data": {
      "text/plain": [
       "True"
      ]
     },
     "execution_count": 49,
     "metadata": {},
     "output_type": "execute_result"
    }
   ],
   "source": [
    "\"Python\" is not \"python\""
   ]
  },
  {
   "cell_type": "code",
   "execution_count": 50,
   "id": "5d016e34-866e-4922-9cab-17cf16f7b017",
   "metadata": {},
   "outputs": [
    {
     "data": {
      "text/plain": [
       "True"
      ]
     },
     "execution_count": 50,
     "metadata": {},
     "output_type": "execute_result"
    }
   ],
   "source": [
    "\"Python\" != \"python\""
   ]
  },
  {
   "cell_type": "code",
   "execution_count": 51,
   "id": "1af726d7-c671-439e-bfe6-b0a52f42c388",
   "metadata": {},
   "outputs": [
    {
     "name": "stderr",
     "output_type": "stream",
     "text": [
      "<>:1: SyntaxWarning: \"is\" with a literal. Did you mean \"==\"?\n",
      "<>:1: SyntaxWarning: \"is\" with a literal. Did you mean \"==\"?\n",
      "C:\\Users\\Ducat\\AppData\\Local\\Temp\\ipykernel_10284\\3938569512.py:1: SyntaxWarning: \"is\" with a literal. Did you mean \"==\"?\n",
      "  10 is 10\n"
     ]
    },
    {
     "data": {
      "text/plain": [
       "True"
      ]
     },
     "execution_count": 51,
     "metadata": {},
     "output_type": "execute_result"
    }
   ],
   "source": [
    "10 is 10"
   ]
  },
  {
   "cell_type": "code",
   "execution_count": null,
   "id": "8e156a0e-8073-44a1-bf2c-fbb6e641769c",
   "metadata": {},
   "outputs": [],
   "source": [
    "# Membership operators\n",
    "\n",
    "in, not in "
   ]
  },
  {
   "cell_type": "code",
   "execution_count": 52,
   "id": "aa747f2b-3f1b-4bc9-90a9-91a74b28301e",
   "metadata": {},
   "outputs": [
    {
     "name": "stderr",
     "output_type": "stream",
     "text": [
      "<>:1: SyntaxWarning: \"is\" with a literal. Did you mean \"==\"?\n",
      "<>:1: SyntaxWarning: \"is\" with a literal. Did you mean \"==\"?\n",
      "C:\\Users\\Ducat\\AppData\\Local\\Temp\\ipykernel_10284\\1248704369.py:1: SyntaxWarning: \"is\" with a literal. Did you mean \"==\"?\n",
      "  \"python\" is \"python is funny language\"\n"
     ]
    },
    {
     "data": {
      "text/plain": [
       "False"
      ]
     },
     "execution_count": 52,
     "metadata": {},
     "output_type": "execute_result"
    }
   ],
   "source": [
    "\"python\" is \"python is funny language\""
   ]
  },
  {
   "cell_type": "code",
   "execution_count": 53,
   "id": "081cfc07-f055-4011-8ec7-07d73731e089",
   "metadata": {},
   "outputs": [
    {
     "data": {
      "text/plain": [
       "True"
      ]
     },
     "execution_count": 53,
     "metadata": {},
     "output_type": "execute_result"
    }
   ],
   "source": [
    "\"python\" in \"python is funny language\""
   ]
  },
  {
   "cell_type": "code",
   "execution_count": 54,
   "id": "38293ab2-bdca-4fc4-b0d4-26812e9cdb3e",
   "metadata": {},
   "outputs": [
    {
     "data": {
      "text/plain": [
       "False"
      ]
     },
     "execution_count": 54,
     "metadata": {},
     "output_type": "execute_result"
    }
   ],
   "source": [
    "\"python\" in \"Python is funny language\""
   ]
  },
  {
   "cell_type": "code",
   "execution_count": 56,
   "id": "231b16ea-67fb-4914-8395-32a032e09f32",
   "metadata": {},
   "outputs": [
    {
     "data": {
      "text/plain": [
       "True"
      ]
     },
     "execution_count": 56,
     "metadata": {},
     "output_type": "execute_result"
    }
   ],
   "source": [
    "\"python\" in \"Python is funny languagepythongdsfgsdgsdfgsdfgsdf\""
   ]
  },
  {
   "cell_type": "code",
   "execution_count": 57,
   "id": "81b49de1-47bf-4ecf-84c3-20a64e578885",
   "metadata": {},
   "outputs": [],
   "source": [
    "a=\"Python is funny languagepythongdsfgsdgsdfgsdfgsdf\""
   ]
  },
  {
   "cell_type": "code",
   "execution_count": 59,
   "id": "17dd22c2-a09d-4c35-bb37-0bd42d2157c2",
   "metadata": {},
   "outputs": [
    {
     "data": {
      "text/plain": [
       "24"
      ]
     },
     "execution_count": 59,
     "metadata": {},
     "output_type": "execute_result"
    }
   ],
   "source": [
    "a.find(\"python\")"
   ]
  },
  {
   "cell_type": "code",
   "execution_count": 60,
   "id": "3f2dd67f-e301-4c4d-89d1-c2dfa2fabe65",
   "metadata": {},
   "outputs": [
    {
     "ename": "TypeError",
     "evalue": "argument of type 'int' is not iterable",
     "output_type": "error",
     "traceback": [
      "\u001b[1;31m---------------------------------------------------------------------------\u001b[0m",
      "\u001b[1;31mTypeError\u001b[0m                                 Traceback (most recent call last)",
      "Cell \u001b[1;32mIn[60], line 1\u001b[0m\n\u001b[1;32m----> 1\u001b[0m \u001b[38;5;241;43m10\u001b[39;49m\u001b[43m \u001b[49m\u001b[38;5;129;43;01mnot\u001b[39;49;00m\u001b[43m \u001b[49m\u001b[38;5;129;43;01min\u001b[39;49;00m\u001b[43m  \u001b[49m\u001b[38;5;241;43m10000190\u001b[39;49m\n",
      "\u001b[1;31mTypeError\u001b[0m: argument of type 'int' is not iterable"
     ]
    }
   ],
   "source": [
    "10 not in  10000190"
   ]
  },
  {
   "cell_type": "code",
   "execution_count": 61,
   "id": "dd78c201-f338-43ec-a96d-cfbbecb75938",
   "metadata": {},
   "outputs": [
    {
     "data": {
      "text/plain": [
       "True"
      ]
     },
     "execution_count": 61,
     "metadata": {},
     "output_type": "execute_result"
    }
   ],
   "source": [
    "10 in {10,20,30,40}"
   ]
  },
  {
   "cell_type": "code",
   "execution_count": 63,
   "id": "9a686ca5-0aba-48ff-a558-76765d6e5622",
   "metadata": {},
   "outputs": [
    {
     "data": {
      "text/plain": [
       "False"
      ]
     },
     "execution_count": 63,
     "metadata": {},
     "output_type": "execute_result"
    }
   ],
   "source": [
    "100 in [10,20,30,40]"
   ]
  },
  {
   "cell_type": "code",
   "execution_count": 64,
   "id": "141074ac-0892-49d3-9637-6466c266dbd1",
   "metadata": {},
   "outputs": [
    {
     "data": {
      "text/plain": [
       "False"
      ]
     },
     "execution_count": 64,
     "metadata": {},
     "output_type": "execute_result"
    }
   ],
   "source": [
    "10 not in {10,20,30,40}"
   ]
  },
  {
   "cell_type": "code",
   "execution_count": null,
   "id": "7b2a40b9-d030-4dea-ba01-0ccc7216ad6f",
   "metadata": {},
   "outputs": [],
   "source": []
  }
 ],
 "metadata": {
  "kernelspec": {
   "display_name": "Python 3 (ipykernel)",
   "language": "python",
   "name": "python3"
  },
  "language_info": {
   "codemirror_mode": {
    "name": "ipython",
    "version": 3
   },
   "file_extension": ".py",
   "mimetype": "text/x-python",
   "name": "python",
   "nbconvert_exporter": "python",
   "pygments_lexer": "ipython3",
   "version": "3.11.4"
  }
 },
 "nbformat": 4,
 "nbformat_minor": 5
}
