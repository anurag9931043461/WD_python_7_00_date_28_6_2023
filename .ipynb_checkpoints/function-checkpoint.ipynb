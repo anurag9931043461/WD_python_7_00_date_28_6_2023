{
 "cells": [
  {
   "cell_type": "raw",
   "id": "9d0bf8c4-4058-49de-93de-4dec08a326f3",
   "metadata": {},
   "source": [
    "# function\n",
    "\n",
    "> def \n",
    "    > positional argument\n",
    "\n",
    "    > key value argument\n",
    "\n",
    "    > arbitrary argument\n",
    "\n",
    "    > keyword argument.\n",
    "        \n",
    "> lambda: anonymous function\n",
    "\n",
    "> global variable \n",
    "\n",
    "> local variable\n",
    "\n",
    "> global scope\n",
    "\n",
    "> local scope\n",
    "\n"
   ]
  },
  {
   "cell_type": "code",
   "execution_count": 2,
   "id": "1d900329-0bd7-4787-9e9e-813cb0c19753",
   "metadata": {},
   "outputs": [
    {
     "name": "stdout",
     "output_type": "stream",
     "text": [
      "Hello world\n",
      "Hello world\n",
      "Hello world\n",
      "Hello world\n",
      "Hello world\n"
     ]
    }
   ],
   "source": [
    "print(\"Hello world\")\n",
    "print(\"Hello world\")\n",
    "print(\"Hello world\")\n",
    "print(\"Hello world\")\n",
    "print(\"Hello world\")"
   ]
  },
  {
   "cell_type": "code",
   "execution_count": 3,
   "id": "2f5bee64-f247-4d9a-b7e7-1dc701a3aac9",
   "metadata": {},
   "outputs": [
    {
     "name": "stdout",
     "output_type": "stream",
     "text": [
      "hello world\n",
      "hello world\n",
      "hello world\n",
      "hello world\n",
      "hello world\n"
     ]
    }
   ],
   "source": [
    "for i in range(5):\n",
    "    print(\"hello world\")"
   ]
  },
  {
   "cell_type": "code",
   "execution_count": 5,
   "id": "a1e24ee3-49a1-4190-a6ad-c1fd90aed7ec",
   "metadata": {},
   "outputs": [],
   "source": [
    "def hello():\n",
    "    for i in range(5):\n",
    "        print(\"hello world\")"
   ]
  },
  {
   "cell_type": "code",
   "execution_count": 6,
   "id": "6cdc0279-9d84-4123-81ed-d1a991f7b461",
   "metadata": {},
   "outputs": [
    {
     "name": "stdout",
     "output_type": "stream",
     "text": [
      "hello world\n",
      "hello world\n",
      "hello world\n",
      "hello world\n",
      "hello world\n"
     ]
    }
   ],
   "source": [
    "hello()"
   ]
  },
  {
   "cell_type": "code",
   "execution_count": 7,
   "id": "d8a4cf2f-d971-4bb5-9aa0-f27561042044",
   "metadata": {},
   "outputs": [
    {
     "name": "stdout",
     "output_type": "stream",
     "text": [
      "hello world\n",
      "hello world\n",
      "hello world\n",
      "hello world\n",
      "hello world\n"
     ]
    }
   ],
   "source": [
    "hello()"
   ]
  },
  {
   "cell_type": "code",
   "execution_count": 8,
   "id": "75a65e26-21e4-48af-9844-99ebfe336d9f",
   "metadata": {},
   "outputs": [
    {
     "name": "stdout",
     "output_type": "stream",
     "text": [
      "hello world\n",
      "hello world\n",
      "hello world\n",
      "hello world\n",
      "hello world\n"
     ]
    }
   ],
   "source": [
    "hello()"
   ]
  },
  {
   "cell_type": "code",
   "execution_count": 9,
   "id": "0870f067-83e4-42d7-b2cb-b8819eb2a057",
   "metadata": {},
   "outputs": [],
   "source": [
    "def hello1(n):\n",
    "    for i in range(n):\n",
    "        print(\"Hello world\")\n"
   ]
  },
  {
   "cell_type": "code",
   "execution_count": 11,
   "id": "cd43ec82-f7cb-4a65-be0f-a3b96f7c114e",
   "metadata": {},
   "outputs": [
    {
     "name": "stdout",
     "output_type": "stream",
     "text": [
      "Hello world\n",
      "Hello world\n"
     ]
    }
   ],
   "source": [
    "hello1(2)"
   ]
  },
  {
   "cell_type": "code",
   "execution_count": 12,
   "id": "9f7d8011-3337-4221-bb81-52c1354fd48c",
   "metadata": {},
   "outputs": [
    {
     "name": "stdout",
     "output_type": "stream",
     "text": [
      "Hello world\n",
      "Hello world\n",
      "Hello world\n",
      "Hello world\n",
      "Hello world\n",
      "Hello world\n",
      "Hello world\n",
      "Hello world\n",
      "Hello world\n",
      "Hello world\n"
     ]
    }
   ],
   "source": [
    "hello1(10)"
   ]
  },
  {
   "cell_type": "code",
   "execution_count": 14,
   "id": "808e0ded-76c2-45ff-899e-ed039932fabf",
   "metadata": {},
   "outputs": [],
   "source": [
    "def hello2(n):\n",
    "    for i in range(n):\n",
    "        print(i,\"Hello world\")"
   ]
  },
  {
   "cell_type": "code",
   "execution_count": 15,
   "id": "db2bb4d5-2692-4dc9-97fc-45ece60723ca",
   "metadata": {},
   "outputs": [
    {
     "name": "stdout",
     "output_type": "stream",
     "text": [
      "0 Hello world\n",
      "1 Hello world\n"
     ]
    }
   ],
   "source": [
    "hello2(2)"
   ]
  },
  {
   "cell_type": "code",
   "execution_count": 18,
   "id": "615563ed-867c-4bf7-a1fd-4079e747f2ae",
   "metadata": {},
   "outputs": [],
   "source": [
    "def hello3(a,n):\n",
    "    for i in range(a,n+1):\n",
    "        print(i,\"Hello world\")"
   ]
  },
  {
   "cell_type": "code",
   "execution_count": 19,
   "id": "bcbefd1a-d4c9-4437-b575-056b1bd576a4",
   "metadata": {},
   "outputs": [
    {
     "name": "stdout",
     "output_type": "stream",
     "text": [
      "10 Hello world\n",
      "11 Hello world\n",
      "12 Hello world\n",
      "13 Hello world\n",
      "14 Hello world\n",
      "15 Hello world\n"
     ]
    }
   ],
   "source": [
    "hello3(10,15)"
   ]
  },
  {
   "cell_type": "code",
   "execution_count": 20,
   "id": "bb588c0a-ca45-4a85-b9e8-73a84fecef99",
   "metadata": {},
   "outputs": [
    {
     "ename": "TypeError",
     "evalue": "hello3() takes 2 positional arguments but 3 were given",
     "output_type": "error",
     "traceback": [
      "\u001b[1;31m---------------------------------------------------------------------------\u001b[0m",
      "\u001b[1;31mTypeError\u001b[0m                                 Traceback (most recent call last)",
      "Cell \u001b[1;32mIn[20], line 1\u001b[0m\n\u001b[1;32m----> 1\u001b[0m \u001b[43mhello3\u001b[49m\u001b[43m(\u001b[49m\u001b[38;5;241;43m-\u001b[39;49m\u001b[38;5;241;43m15\u001b[39;49m\u001b[43m,\u001b[49m\u001b[38;5;241;43m-\u001b[39;49m\u001b[38;5;241;43m10\u001b[39;49m\u001b[43m,\u001b[49m\u001b[38;5;241;43m-\u001b[39;49m\u001b[38;5;241;43m1\u001b[39;49m\u001b[43m)\u001b[49m\n",
      "\u001b[1;31mTypeError\u001b[0m: hello3() takes 2 positional arguments but 3 were given"
     ]
    }
   ],
   "source": [
    "hello3(-15,-10,-1)"
   ]
  },
  {
   "cell_type": "code",
   "execution_count": 22,
   "id": "287527c3-9eff-4a38-a558-c22dae23e9b4",
   "metadata": {},
   "outputs": [],
   "source": [
    "def hello4(a,n,m):\n",
    "    for i in range(a,n+1,m):\n",
    "        print(i,\"Hello world\")"
   ]
  },
  {
   "cell_type": "code",
   "execution_count": 23,
   "id": "1d6c03e4-3284-4773-b0d0-1a37240cb28b",
   "metadata": {},
   "outputs": [
    {
     "name": "stdout",
     "output_type": "stream",
     "text": [
      "10 Hello world\n",
      "11 Hello world\n",
      "12 Hello world\n",
      "13 Hello world\n",
      "14 Hello world\n",
      "15 Hello world\n"
     ]
    }
   ],
   "source": [
    "hello4(10,15,1)"
   ]
  },
  {
   "cell_type": "code",
   "execution_count": 24,
   "id": "81d365e7-a03e-480b-ae8b-fcd70c6c48a5",
   "metadata": {},
   "outputs": [
    {
     "name": "stdout",
     "output_type": "stream",
     "text": [
      "15 Hello world\n",
      "14 Hello world\n",
      "13 Hello world\n",
      "12 Hello world\n"
     ]
    }
   ],
   "source": [
    "hello4(15,10,-1)"
   ]
  },
  {
   "cell_type": "code",
   "execution_count": 25,
   "id": "e22eeaa0-e67d-4872-a66d-4fc9d64b7fef",
   "metadata": {},
   "outputs": [],
   "source": [
    "def hello5(a,n,m):\n",
    "    if m>=0:\n",
    "        for i in range(a,n+1,m):\n",
    "            print(i,\"Hello world\")\n",
    "    else:\n",
    "        for i in range(a,n-1,m):\n",
    "            print(i,\"Hello world\")"
   ]
  },
  {
   "cell_type": "code",
   "execution_count": 26,
   "id": "dd86c28e-9de8-4290-a790-e608dd3f104a",
   "metadata": {},
   "outputs": [
    {
     "name": "stdout",
     "output_type": "stream",
     "text": [
      "15 Hello world\n",
      "14 Hello world\n",
      "13 Hello world\n",
      "12 Hello world\n",
      "11 Hello world\n",
      "10 Hello world\n"
     ]
    }
   ],
   "source": [
    "hello5(15,10,-1)"
   ]
  },
  {
   "cell_type": "code",
   "execution_count": 27,
   "id": "c22229d7-2dc0-4d57-a77d-76eee5be0c25",
   "metadata": {},
   "outputs": [],
   "source": [
    "def rate_of_interest(p,r,t):\n",
    "    result=p*r*t/100\n",
    "    print(result)"
   ]
  },
  {
   "cell_type": "code",
   "execution_count": 28,
   "id": "a9e6c402-f315-4863-808f-f3abae313719",
   "metadata": {},
   "outputs": [
    {
     "name": "stdout",
     "output_type": "stream",
     "text": [
      "1000.0\n"
     ]
    }
   ],
   "source": [
    "rate_of_interest(10000,5,2)"
   ]
  },
  {
   "cell_type": "code",
   "execution_count": 29,
   "id": "2b20c89c-12d8-47d4-8cbc-ee1330da7293",
   "metadata": {},
   "outputs": [
    {
     "name": "stdout",
     "output_type": "stream",
     "text": [
      "166.66666666666663\n"
     ]
    }
   ],
   "source": [
    "rate_of_interest(10000,5,1/3)"
   ]
  },
  {
   "cell_type": "code",
   "execution_count": 30,
   "id": "8cc080b3-2868-472c-b14d-d647452ba122",
   "metadata": {},
   "outputs": [],
   "source": [
    "def speed(s,t):\n",
    "    print(\"s :\",s)\n",
    "    print(\"t :\",t)\n",
    "    result=s/t\n",
    "    print(result)"
   ]
  },
  {
   "cell_type": "code",
   "execution_count": 31,
   "id": "5256a127-1ad3-4ac6-9918-b5db7f1bb0c9",
   "metadata": {},
   "outputs": [
    {
     "name": "stdout",
     "output_type": "stream",
     "text": [
      "s : 100\n",
      "t : 2\n",
      "50.0\n"
     ]
    }
   ],
   "source": [
    "speed(100,2)"
   ]
  },
  {
   "cell_type": "code",
   "execution_count": 32,
   "id": "df72255b-5e71-4e91-9906-b1e33517c6f0",
   "metadata": {},
   "outputs": [],
   "source": [
    "def speed(t,s):\n",
    "    print(\"s :\",s)\n",
    "    print(\"t :\",t)\n",
    "    result=s/t\n",
    "    print(result)"
   ]
  },
  {
   "cell_type": "code",
   "execution_count": 33,
   "id": "d30d8376-0570-48a2-b03b-0a57cba7e10d",
   "metadata": {},
   "outputs": [
    {
     "name": "stdout",
     "output_type": "stream",
     "text": [
      "s : 2\n",
      "t : 100\n",
      "0.02\n"
     ]
    }
   ],
   "source": [
    "speed(100,2)"
   ]
  },
  {
   "cell_type": "markdown",
   "id": "c57ba72b-0497-4fc9-b8f3-1d9375b413eb",
   "metadata": {},
   "source": [
    "# key value argument"
   ]
  },
  {
   "cell_type": "code",
   "execution_count": 34,
   "id": "2e6ed12e-9ad1-4eed-a593-bb6e5146ede2",
   "metadata": {},
   "outputs": [],
   "source": [
    "def hello5(a,n,m=1):\n",
    "    if m>=0:\n",
    "        for i in range(a,n+1,m):\n",
    "            print(i,\"Hello world\")\n",
    "    else:\n",
    "        for i in range(a,n-1,m):\n",
    "            print(i,\"Hello world\")"
   ]
  },
  {
   "cell_type": "code",
   "execution_count": 35,
   "id": "7367bc31-e518-4768-b9eb-8a6d5bfd7ee4",
   "metadata": {},
   "outputs": [
    {
     "name": "stdout",
     "output_type": "stream",
     "text": [
      "10 Hello world\n",
      "11 Hello world\n",
      "12 Hello world\n",
      "13 Hello world\n",
      "14 Hello world\n",
      "15 Hello world\n"
     ]
    }
   ],
   "source": [
    "hello5(10,15,1)"
   ]
  },
  {
   "cell_type": "code",
   "execution_count": 36,
   "id": "49a7718a-0fc4-46ad-bfe5-b7c0111be112",
   "metadata": {},
   "outputs": [
    {
     "name": "stdout",
     "output_type": "stream",
     "text": [
      "10 Hello world\n",
      "11 Hello world\n",
      "12 Hello world\n",
      "13 Hello world\n",
      "14 Hello world\n",
      "15 Hello world\n"
     ]
    }
   ],
   "source": [
    "hello5(10,15)"
   ]
  },
  {
   "cell_type": "code",
   "execution_count": 38,
   "id": "f3c84adb-b2aa-45c5-b8f5-a6c9dfac13df",
   "metadata": {},
   "outputs": [
    {
     "name": "stdout",
     "output_type": "stream",
     "text": [
      "15 Hello world\n",
      "13 Hello world\n",
      "11 Hello world\n"
     ]
    }
   ],
   "source": [
    "hello5(15,10,-2)"
   ]
  },
  {
   "cell_type": "code",
   "execution_count": 47,
   "id": "bcd8cb19-8646-4b26-8024-f36c06c78ad7",
   "metadata": {},
   "outputs": [],
   "source": [
    "def hello5(a=1,n=5,m=1):\n",
    "    if m>=0:\n",
    "        for i in range(a,n+1,m):\n",
    "            print(i,\"Hello world\")\n",
    "    else:\n",
    "        for i in range(a,n-1,m):\n",
    "            print(i,\"Hello world\")"
   ]
  },
  {
   "cell_type": "code",
   "execution_count": 49,
   "id": "270f0fca-25ab-41c0-883b-0e6438c597db",
   "metadata": {},
   "outputs": [
    {
     "name": "stdout",
     "output_type": "stream",
     "text": [
      "1 Hello world\n",
      "2 Hello world\n",
      "3 Hello world\n",
      "4 Hello world\n",
      "5 Hello world\n"
     ]
    }
   ],
   "source": [
    "hello5()"
   ]
  },
  {
   "cell_type": "code",
   "execution_count": null,
   "id": "eb8d14ef-c98e-4ae5-bf6c-2156be3b54a2",
   "metadata": {},
   "outputs": [],
   "source": []
  }
 ],
 "metadata": {
  "kernelspec": {
   "display_name": "Python 3 (ipykernel)",
   "language": "python",
   "name": "python3"
  },
  "language_info": {
   "codemirror_mode": {
    "name": "ipython",
    "version": 3
   },
   "file_extension": ".py",
   "mimetype": "text/x-python",
   "name": "python",
   "nbconvert_exporter": "python",
   "pygments_lexer": "ipython3",
   "version": "3.11.4"
  }
 },
 "nbformat": 4,
 "nbformat_minor": 5
}
