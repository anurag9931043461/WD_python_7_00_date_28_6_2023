{
 "cells": [
  {
   "cell_type": "code",
   "execution_count": 4,
   "id": "d432f8fe-5b7f-401a-8ccf-1b22ebc9e13d",
   "metadata": {},
   "outputs": [
    {
     "name": "stdout",
     "output_type": "stream",
     "text": [
      "30\n"
     ]
    }
   ],
   "source": [
    "#top line programming \n",
    "a=10\n",
    "b=20\n",
    "print(a+b)"
   ]
  },
  {
   "cell_type": "code",
   "execution_count": 8,
   "id": "148ae9b1-af17-44e2-8be6-b7af9098fffb",
   "metadata": {},
   "outputs": [],
   "source": [
    "# procedural programming /functional programming \n",
    "def add(k,p):\n",
    "    a=k\n",
    "    b=p\n",
    "    print(a+b)\n"
   ]
  },
  {
   "cell_type": "code",
   "execution_count": 9,
   "id": "65a80ef3-43f8-4b34-a526-5d24a2ca02c5",
   "metadata": {},
   "outputs": [
    {
     "name": "stdout",
     "output_type": "stream",
     "text": [
      "60\n"
     ]
    }
   ],
   "source": [
    "add(20,40)"
   ]
  },
  {
   "cell_type": "code",
   "execution_count": 10,
   "id": "c198cda4-f11a-4730-8058-06af0191a4a2",
   "metadata": {},
   "outputs": [],
   "source": [
    "# Object Oriented programming\n",
    "class ABC:\n",
    "    def add(self,k,p):\n",
    "        a=k\n",
    "        b=p\n",
    "        print(a+b)"
   ]
  },
  {
   "cell_type": "code",
   "execution_count": 11,
   "id": "04509c7a-9ea4-4d7e-92a5-d6614c79da42",
   "metadata": {},
   "outputs": [],
   "source": [
    "a=ABC()"
   ]
  },
  {
   "cell_type": "code",
   "execution_count": 12,
   "id": "dd2cb024-44d2-46fa-8afd-8dca9b96c836",
   "metadata": {},
   "outputs": [
    {
     "name": "stdout",
     "output_type": "stream",
     "text": [
      "40\n"
     ]
    }
   ],
   "source": [
    "a.add(10,30)"
   ]
  },
  {
   "cell_type": "code",
   "execution_count": null,
   "id": "b21712bf-32df-40e4-96ba-4e178cba06ee",
   "metadata": {},
   "outputs": [],
   "source": []
  }
 ],
 "metadata": {
  "kernelspec": {
   "display_name": "Python 3 (ipykernel)",
   "language": "python",
   "name": "python3"
  },
  "language_info": {
   "codemirror_mode": {
    "name": "ipython",
    "version": 3
   },
   "file_extension": ".py",
   "mimetype": "text/x-python",
   "name": "python",
   "nbconvert_exporter": "python",
   "pygments_lexer": "ipython3",
   "version": "3.11.5"
  }
 },
 "nbformat": 4,
 "nbformat_minor": 5
}
