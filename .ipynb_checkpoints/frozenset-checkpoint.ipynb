{
 "cells": [
  {
   "cell_type": "markdown",
   "id": "bda0863e-aed1-4a18-b5f0-98532067d214",
   "metadata": {},
   "source": [
    "# frozenset \n",
    "\n",
    "> frozenset constructor is frozenset()\n",
    "\n",
    "> frozenset literal is not available \n",
    "\n",
    "> frozenset is unordered set of sequence of elements.\n",
    "\n",
    "> frozenset is immutable(hashable)\n",
    "\n",
    "> frozenset does not support indexing and slicing\n",
    "\n",
    "> frozenset does not support concatination.\n",
    "\n",
    "> frozenset support nested frozenset\n",
    "\n",
    "> frozenset methods."
   ]
  },
  {
   "cell_type": "code",
   "execution_count": 1,
   "id": "88ddd22f-a23b-4e25-b872-6ae37dced769",
   "metadata": {},
   "outputs": [],
   "source": [
    "a=frozenset([1,1,1,1,2,2,2,3,3,4,4,5])"
   ]
  },
  {
   "cell_type": "code",
   "execution_count": 2,
   "id": "70c498fa-694c-45e5-8fc8-06564c10ad2e",
   "metadata": {},
   "outputs": [
    {
     "name": "stdout",
     "output_type": "stream",
     "text": [
      "frozenset({1, 2, 3, 4, 5})\n"
     ]
    }
   ],
   "source": [
    "print(a)"
   ]
  },
  {
   "cell_type": "code",
   "execution_count": 3,
   "id": "6016b985-933c-4743-9919-669f2717dc99",
   "metadata": {},
   "outputs": [],
   "source": [
    "a=frozenset((1,1,1,1,2,2,2,3,3,4,4,5))"
   ]
  },
  {
   "cell_type": "code",
   "execution_count": 4,
   "id": "0dc26ac3-80e2-4c8c-9d9b-eb87c22e834d",
   "metadata": {},
   "outputs": [
    {
     "name": "stdout",
     "output_type": "stream",
     "text": [
      "frozenset({1, 2, 3, 4, 5})\n"
     ]
    }
   ],
   "source": [
    "print(a)"
   ]
  },
  {
   "cell_type": "code",
   "execution_count": 5,
   "id": "cfce982f-3d9b-4c1e-aa10-950768c2a242",
   "metadata": {},
   "outputs": [],
   "source": [
    "a=frozenset({1,1,1,1,2,2,2,3,3,4,4,5})"
   ]
  },
  {
   "cell_type": "code",
   "execution_count": 6,
   "id": "a250c062-5523-4a9f-ace5-32f9d11217ec",
   "metadata": {},
   "outputs": [
    {
     "name": "stdout",
     "output_type": "stream",
     "text": [
      "frozenset({1, 2, 3, 4, 5})\n"
     ]
    }
   ],
   "source": [
    "print(a)"
   ]
  },
  {
   "cell_type": "code",
   "execution_count": 7,
   "id": "5aa0fd16-26cc-45d4-bcfb-875655d54d6f",
   "metadata": {},
   "outputs": [
    {
     "data": {
      "text/plain": [
       "frozenset({'a', 'h', 'i', 'k', 'n', 'r', 's'})"
      ]
     },
     "execution_count": 7,
     "metadata": {},
     "output_type": "execute_result"
    }
   ],
   "source": [
    "frozenset(\"krishna\")"
   ]
  },
  {
   "cell_type": "code",
   "execution_count": 8,
   "id": "5b608a2e-b9cf-47f7-a382-b724e8020740",
   "metadata": {},
   "outputs": [],
   "source": [
    "b=frozenset()"
   ]
  },
  {
   "cell_type": "code",
   "execution_count": 9,
   "id": "d703a318-8b79-40db-8317-2a8032694e69",
   "metadata": {},
   "outputs": [
    {
     "name": "stdout",
     "output_type": "stream",
     "text": [
      "frozenset()\n"
     ]
    }
   ],
   "source": [
    "print(b)"
   ]
  },
  {
   "cell_type": "code",
   "execution_count": 10,
   "id": "640f52ce-543b-451f-875e-d10f9d3e1b41",
   "metadata": {},
   "outputs": [
    {
     "data": {
      "text/plain": [
       "0"
      ]
     },
     "execution_count": 10,
     "metadata": {},
     "output_type": "execute_result"
    }
   ],
   "source": [
    "len(b)"
   ]
  },
  {
   "cell_type": "code",
   "execution_count": 13,
   "id": "8af8e735-1236-4cea-9a60-3574373e2c71",
   "metadata": {},
   "outputs": [],
   "source": [
    "c=frozenset({1,2,3,4,5,6})\n",
    "d=frozenset({4,5,6,7,8,9})"
   ]
  },
  {
   "cell_type": "code",
   "execution_count": 14,
   "id": "86ee856d-24fc-4305-8fc3-dd9db350f8cc",
   "metadata": {},
   "outputs": [
    {
     "data": {
      "text/plain": [
       "frozenset({1, 2, 3})"
      ]
     },
     "execution_count": 14,
     "metadata": {},
     "output_type": "execute_result"
    }
   ],
   "source": [
    "c-d"
   ]
  },
  {
   "cell_type": "code",
   "execution_count": 15,
   "id": "37190dd3-9166-4e55-921e-789560f692b5",
   "metadata": {},
   "outputs": [
    {
     "data": {
      "text/plain": [
       "frozenset({1, 2, 3})"
      ]
     },
     "execution_count": 15,
     "metadata": {},
     "output_type": "execute_result"
    }
   ],
   "source": [
    "c.difference(d)"
   ]
  },
  {
   "cell_type": "code",
   "execution_count": 16,
   "id": "db84f65a-a522-49df-a831-5ce46744f06c",
   "metadata": {},
   "outputs": [
    {
     "name": "stdout",
     "output_type": "stream",
     "text": [
      "frozenset({1, 2, 3, 4, 5, 6})\n"
     ]
    }
   ],
   "source": [
    "print(c)"
   ]
  },
  {
   "cell_type": "code",
   "execution_count": 17,
   "id": "b1caea2a-e789-4454-ad6e-b878013868ea",
   "metadata": {},
   "outputs": [
    {
     "name": "stdout",
     "output_type": "stream",
     "text": [
      "frozenset({4, 5, 6, 7, 8, 9})\n"
     ]
    }
   ],
   "source": [
    "print(d)"
   ]
  },
  {
   "cell_type": "code",
   "execution_count": 18,
   "id": "44174afa-3bb4-4cd6-8cfb-b8c8b29dae02",
   "metadata": {},
   "outputs": [
    {
     "data": {
      "text/plain": [
       "frozenset({4, 5, 6})"
      ]
     },
     "execution_count": 18,
     "metadata": {},
     "output_type": "execute_result"
    }
   ],
   "source": [
    "c.intersection(d)"
   ]
  },
  {
   "cell_type": "code",
   "execution_count": 19,
   "id": "a60248d8-e6b7-496e-9320-f5525d00ed28",
   "metadata": {},
   "outputs": [
    {
     "data": {
      "text/plain": [
       "False"
      ]
     },
     "execution_count": 19,
     "metadata": {},
     "output_type": "execute_result"
    }
   ],
   "source": [
    "c.isdisjoint(d)"
   ]
  },
  {
   "cell_type": "code",
   "execution_count": 21,
   "id": "17757c6a-dfe9-4dfa-8112-8dfba17d5ad2",
   "metadata": {},
   "outputs": [],
   "source": [
    "e=frozenset({1,2})"
   ]
  },
  {
   "cell_type": "code",
   "execution_count": 22,
   "id": "0d792049-30df-446a-badd-5adfd80a0866",
   "metadata": {},
   "outputs": [
    {
     "data": {
      "text/plain": [
       "frozenset({1, 2, 3, 4, 5, 6})"
      ]
     },
     "execution_count": 22,
     "metadata": {},
     "output_type": "execute_result"
    }
   ],
   "source": [
    "c"
   ]
  },
  {
   "cell_type": "code",
   "execution_count": 23,
   "id": "ace15f09-0b0d-4a39-be87-5011e55a3cef",
   "metadata": {},
   "outputs": [
    {
     "data": {
      "text/plain": [
       "True"
      ]
     },
     "execution_count": 23,
     "metadata": {},
     "output_type": "execute_result"
    }
   ],
   "source": [
    "e.issubset(c)"
   ]
  },
  {
   "cell_type": "code",
   "execution_count": 24,
   "id": "7099f9a3-3507-4d9c-aaed-d86946709493",
   "metadata": {},
   "outputs": [
    {
     "data": {
      "text/plain": [
       "True"
      ]
     },
     "execution_count": 24,
     "metadata": {},
     "output_type": "execute_result"
    }
   ],
   "source": [
    "c.issuperset(e)"
   ]
  },
  {
   "cell_type": "code",
   "execution_count": 25,
   "id": "aec9c71d-f219-4846-9018-fe9c0e3b144b",
   "metadata": {},
   "outputs": [
    {
     "data": {
      "text/plain": [
       "frozenset({1, 2, 3, 4, 5, 6})"
      ]
     },
     "execution_count": 25,
     "metadata": {},
     "output_type": "execute_result"
    }
   ],
   "source": [
    "c"
   ]
  },
  {
   "cell_type": "code",
   "execution_count": 26,
   "id": "793b272a-f48c-43b1-8381-f643400240f3",
   "metadata": {},
   "outputs": [
    {
     "data": {
      "text/plain": [
       "frozenset({4, 5, 6, 7, 8, 9})"
      ]
     },
     "execution_count": 26,
     "metadata": {},
     "output_type": "execute_result"
    }
   ],
   "source": [
    "d"
   ]
  },
  {
   "cell_type": "code",
   "execution_count": 27,
   "id": "c636cbbf-af23-4714-af96-480e4ca782c4",
   "metadata": {},
   "outputs": [
    {
     "data": {
      "text/plain": [
       "frozenset({1, 2, 3, 7, 8, 9})"
      ]
     },
     "execution_count": 27,
     "metadata": {},
     "output_type": "execute_result"
    }
   ],
   "source": [
    "c.symmetric_difference(d)"
   ]
  },
  {
   "cell_type": "code",
   "execution_count": 28,
   "id": "d65e183a-254e-4855-8b4e-14c29d7eb96a",
   "metadata": {},
   "outputs": [
    {
     "data": {
      "text/plain": [
       "frozenset({1, 2, 3, 4, 5, 6, 7, 8, 9})"
      ]
     },
     "execution_count": 28,
     "metadata": {},
     "output_type": "execute_result"
    }
   ],
   "source": [
    "c.union(d)"
   ]
  },
  {
   "cell_type": "code",
   "execution_count": null,
   "id": "d6c90155-04d3-4561-ba33-27602bd6ed8d",
   "metadata": {},
   "outputs": [],
   "source": []
  }
 ],
 "metadata": {
  "kernelspec": {
   "display_name": "Python 3 (ipykernel)",
   "language": "python",
   "name": "python3"
  },
  "language_info": {
   "codemirror_mode": {
    "name": "ipython",
    "version": 3
   },
   "file_extension": ".py",
   "mimetype": "text/x-python",
   "name": "python",
   "nbconvert_exporter": "python",
   "pygments_lexer": "ipython3",
   "version": "3.11.4"
  }
 },
 "nbformat": 4,
 "nbformat_minor": 5
}
