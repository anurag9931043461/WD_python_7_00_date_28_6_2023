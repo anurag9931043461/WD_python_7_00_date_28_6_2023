{
 "cells": [
  {
   "cell_type": "code",
   "execution_count": 1,
   "id": "bf546d72-1ec2-48db-acd9-2e817caafcc1",
   "metadata": {},
   "outputs": [],
   "source": [
    "# complex"
   ]
  },
  {
   "cell_type": "code",
   "execution_count": 2,
   "id": "963666c2-1b2d-4eff-aeae-a61aa303d219",
   "metadata": {},
   "outputs": [],
   "source": [
    "# i=iota, "
   ]
  },
  {
   "cell_type": "markdown",
   "id": "0470ca77-ee30-4553-baa3-a3cb3ef5d929",
   "metadata": {},
   "source": [
    "# complex number\n",
    "\n",
    "constructor is complex()\n",
    "\n",
    "literal is 0j\n",
    "\n",
    "complex number formula a+bi"
   ]
  },
  {
   "cell_type": "code",
   "execution_count": 3,
   "id": "2a7a432f-b81a-4f91-9617-a32a91793673",
   "metadata": {},
   "outputs": [],
   "source": [
    "a=2+3j"
   ]
  },
  {
   "cell_type": "code",
   "execution_count": 4,
   "id": "668b091c-d9fd-4881-bb7b-4d133a2d0e25",
   "metadata": {},
   "outputs": [
    {
     "name": "stdout",
     "output_type": "stream",
     "text": [
      "(2+3j)\n"
     ]
    }
   ],
   "source": [
    "print(a)"
   ]
  },
  {
   "cell_type": "code",
   "execution_count": 5,
   "id": "c31905e1-d397-48bc-90b0-cd674e9f3ad4",
   "metadata": {},
   "outputs": [
    {
     "name": "stdout",
     "output_type": "stream",
     "text": [
      "3j\n"
     ]
    }
   ],
   "source": [
    "b=3j\n",
    "print(b)"
   ]
  },
  {
   "cell_type": "code",
   "execution_count": 7,
   "id": "b921de33-1d95-4de7-876e-0d767f5edb89",
   "metadata": {},
   "outputs": [
    {
     "data": {
      "text/plain": [
       "3j"
      ]
     },
     "execution_count": 7,
     "metadata": {},
     "output_type": "execute_result"
    }
   ],
   "source": [
    "3j"
   ]
  },
  {
   "cell_type": "code",
   "execution_count": 9,
   "id": "14180849-997c-4185-8238-4772890f1c0c",
   "metadata": {},
   "outputs": [],
   "source": [
    "j=1.23"
   ]
  },
  {
   "cell_type": "code",
   "execution_count": 10,
   "id": "aaca504e-7b33-4213-b852-40b17f2e3cf5",
   "metadata": {},
   "outputs": [
    {
     "data": {
      "text/plain": [
       "3.69"
      ]
     },
     "execution_count": 10,
     "metadata": {},
     "output_type": "execute_result"
    }
   ],
   "source": [
    "3*j"
   ]
  },
  {
   "cell_type": "code",
   "execution_count": 11,
   "id": "35dd7cb8-65f6-4ed7-bd0e-967b0878ff85",
   "metadata": {},
   "outputs": [
    {
     "data": {
      "text/plain": [
       "(2+0j)"
      ]
     },
     "execution_count": 11,
     "metadata": {},
     "output_type": "execute_result"
    }
   ],
   "source": [
    "complex(2)"
   ]
  },
  {
   "cell_type": "code",
   "execution_count": 12,
   "id": "899e88ee-f078-46da-a983-6a2a362bf8d1",
   "metadata": {},
   "outputs": [
    {
     "data": {
      "text/plain": [
       "(2+3j)"
      ]
     },
     "execution_count": 12,
     "metadata": {},
     "output_type": "execute_result"
    }
   ],
   "source": [
    "complex(2,3)"
   ]
  },
  {
   "cell_type": "code",
   "execution_count": 13,
   "id": "dc78677f-823f-449e-8e78-5fe8dddda142",
   "metadata": {},
   "outputs": [
    {
     "data": {
      "text/plain": [
       "0j"
      ]
     },
     "execution_count": 13,
     "metadata": {},
     "output_type": "execute_result"
    }
   ],
   "source": [
    "complex()"
   ]
  },
  {
   "cell_type": "code",
   "execution_count": 14,
   "id": "6351db86-84d4-458f-85b6-54c4e5b6930c",
   "metadata": {},
   "outputs": [],
   "source": [
    "c=0j"
   ]
  },
  {
   "cell_type": "code",
   "execution_count": 20,
   "id": "e30992d1-e233-4156-bb9c-d2724fba4d38",
   "metadata": {},
   "outputs": [],
   "source": [
    "del j"
   ]
  },
  {
   "cell_type": "code",
   "execution_count": 15,
   "id": "8675fbbc-b70b-4736-984e-0fc341766c3c",
   "metadata": {},
   "outputs": [
    {
     "name": "stdout",
     "output_type": "stream",
     "text": [
      "0j\n"
     ]
    }
   ],
   "source": [
    "print(c)"
   ]
  },
  {
   "cell_type": "code",
   "execution_count": 16,
   "id": "3012ad8c-8172-449d-9965-d7148832b4bc",
   "metadata": {},
   "outputs": [
    {
     "data": {
      "text/plain": [
       "complex"
      ]
     },
     "execution_count": 16,
     "metadata": {},
     "output_type": "execute_result"
    }
   ],
   "source": [
    "type(c)"
   ]
  },
  {
   "cell_type": "code",
   "execution_count": 17,
   "id": "c888ddc5-47f1-4731-93e3-8b83557b4af5",
   "metadata": {},
   "outputs": [],
   "source": [
    "a=2+2j"
   ]
  },
  {
   "cell_type": "code",
   "execution_count": 22,
   "id": "4ae468d9-38e3-4527-9995-802c15c71642",
   "metadata": {},
   "outputs": [],
   "source": [
    "b=1+1j"
   ]
  },
  {
   "cell_type": "code",
   "execution_count": 23,
   "id": "d8651395-adfe-4d5a-b46a-f9996127da1c",
   "metadata": {},
   "outputs": [
    {
     "name": "stdout",
     "output_type": "stream",
     "text": [
      "(1+1j)\n"
     ]
    }
   ],
   "source": [
    "print(b)"
   ]
  },
  {
   "cell_type": "code",
   "execution_count": 24,
   "id": "64c3b3f9-76d7-4eab-b6b1-4b284ffacdf5",
   "metadata": {},
   "outputs": [
    {
     "name": "stdout",
     "output_type": "stream",
     "text": [
      "(2+2j)\n"
     ]
    }
   ],
   "source": [
    "print(a)"
   ]
  },
  {
   "cell_type": "code",
   "execution_count": 25,
   "id": "077d61e4-db9f-4653-8bac-16ffd5d8ce48",
   "metadata": {},
   "outputs": [
    {
     "name": "stdout",
     "output_type": "stream",
     "text": [
      "(1+1j)\n"
     ]
    }
   ],
   "source": [
    "print(b)"
   ]
  },
  {
   "cell_type": "code",
   "execution_count": 27,
   "id": "9acc0af0-8d36-48a7-85e8-9269cabc2d1b",
   "metadata": {},
   "outputs": [
    {
     "data": {
      "text/plain": [
       "(3+3j)"
      ]
     },
     "execution_count": 27,
     "metadata": {},
     "output_type": "execute_result"
    }
   ],
   "source": [
    "a+b"
   ]
  },
  {
   "cell_type": "code",
   "execution_count": 28,
   "id": "2d3e20c8-f850-406b-a7f1-80c5e5c46120",
   "metadata": {},
   "outputs": [
    {
     "data": {
      "text/plain": [
       "4j"
      ]
     },
     "execution_count": 28,
     "metadata": {},
     "output_type": "execute_result"
    }
   ],
   "source": [
    "a*b"
   ]
  },
  {
   "cell_type": "code",
   "execution_count": 29,
   "id": "321869ce-9406-461a-83dc-52c4e20aec45",
   "metadata": {},
   "outputs": [
    {
     "data": {
      "text/plain": [
       "(2+0j)"
      ]
     },
     "execution_count": 29,
     "metadata": {},
     "output_type": "execute_result"
    }
   ],
   "source": [
    "a/b"
   ]
  },
  {
   "cell_type": "code",
   "execution_count": null,
   "id": "49f2cc79-2b4f-409f-ab7b-22250594c58d",
   "metadata": {},
   "outputs": [],
   "source": []
  }
 ],
 "metadata": {
  "kernelspec": {
   "display_name": "Python 3 (ipykernel)",
   "language": "python",
   "name": "python3"
  },
  "language_info": {
   "codemirror_mode": {
    "name": "ipython",
    "version": 3
   },
   "file_extension": ".py",
   "mimetype": "text/x-python",
   "name": "python",
   "nbconvert_exporter": "python",
   "pygments_lexer": "ipython3",
   "version": "3.11.4"
  }
 },
 "nbformat": 4,
 "nbformat_minor": 5
}
