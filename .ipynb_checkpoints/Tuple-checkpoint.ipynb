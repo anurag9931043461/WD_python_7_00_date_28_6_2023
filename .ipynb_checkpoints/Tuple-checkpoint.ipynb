{
 "cells": [
  {
   "cell_type": "markdown",
   "id": "a8c979ef-8552-4c25-90aa-93f0ff2c1f1e",
   "metadata": {},
   "source": [
    "# Tuple\n",
    "\n",
    "> tuple constructor is tuple()\n",
    "\n",
    "> tuple literal is ()\n",
    "\n",
    "> tuple is set of sequence of elements.\n",
    "\n",
    "> tuple support indexing \n",
    "\n",
    "> tuple support slicing \n",
    "\n",
    "> tuple support concatination \n",
    "\n",
    "> tuple support nested tuple\n",
    "\n",
    "> tuple is faster then list\n",
    "\n",
    "> tuple methods index(), count()"
   ]
  },
  {
   "cell_type": "code",
   "execution_count": 1,
   "id": "f7fa9e5b-f446-45ea-87b0-6241ea1d3a60",
   "metadata": {},
   "outputs": [],
   "source": [
    "a=(10,10.0,\"10\",[10,10.0,'10'],(1,2,3,4))"
   ]
  },
  {
   "cell_type": "code",
   "execution_count": 2,
   "id": "bc21cb1f-b8d4-4665-8f6b-26099631ed52",
   "metadata": {},
   "outputs": [
    {
     "name": "stdout",
     "output_type": "stream",
     "text": [
      "(10, 10.0, '10', [10, 10.0, '10'], (1, 2, 3, 4))\n"
     ]
    }
   ],
   "source": [
    "print(a)"
   ]
  },
  {
   "cell_type": "code",
   "execution_count": 3,
   "id": "8c37acae-fc85-43dd-847e-17c5620b7678",
   "metadata": {},
   "outputs": [
    {
     "data": {
      "text/plain": [
       "5"
      ]
     },
     "execution_count": 3,
     "metadata": {},
     "output_type": "execute_result"
    }
   ],
   "source": [
    "len(a)"
   ]
  },
  {
   "cell_type": "code",
   "execution_count": 5,
   "id": "141c95d5-5b7d-4f45-8d5f-cacb45a24200",
   "metadata": {},
   "outputs": [
    {
     "name": "stdout",
     "output_type": "stream",
     "text": [
      "[10, 10.0, '10']\n"
     ]
    }
   ],
   "source": [
    "print(a[3])"
   ]
  },
  {
   "cell_type": "code",
   "execution_count": 6,
   "id": "5c7db62d-d069-4fab-8445-f0757898475c",
   "metadata": {},
   "outputs": [
    {
     "name": "stdout",
     "output_type": "stream",
     "text": [
      "[10, 10.0, '10']\n"
     ]
    }
   ],
   "source": [
    "print(a[-2])"
   ]
  },
  {
   "cell_type": "code",
   "execution_count": 7,
   "id": "c35d0a92-430c-4d9e-85ca-93f0fdb9946e",
   "metadata": {},
   "outputs": [
    {
     "name": "stdout",
     "output_type": "stream",
     "text": [
      "10.0\n"
     ]
    }
   ],
   "source": [
    "print(a[3][1])"
   ]
  },
  {
   "cell_type": "code",
   "execution_count": 9,
   "id": "b9c359a9-ac29-48e5-8127-f1894286dc68",
   "metadata": {},
   "outputs": [],
   "source": [
    "c=a[4][1:3:1]"
   ]
  },
  {
   "cell_type": "code",
   "execution_count": 10,
   "id": "c1fa8b02-5571-4a2b-8e85-54ac8c4c3b76",
   "metadata": {},
   "outputs": [
    {
     "data": {
      "text/plain": [
       "(2, 3)"
      ]
     },
     "execution_count": 10,
     "metadata": {},
     "output_type": "execute_result"
    }
   ],
   "source": [
    "c"
   ]
  },
  {
   "cell_type": "code",
   "execution_count": 12,
   "id": "4680cfda-5253-4a43-ad4d-52c135f3b1a6",
   "metadata": {},
   "outputs": [
    {
     "data": {
      "text/plain": [
       "(1, 2, 3, 3, 4, 5)"
      ]
     },
     "execution_count": 12,
     "metadata": {},
     "output_type": "execute_result"
    }
   ],
   "source": [
    "(1,2,3)+(3,4,5)  #tuple concatination "
   ]
  },
  {
   "cell_type": "code",
   "execution_count": 17,
   "id": "196ef9ec-9a72-437e-a5f8-7f7a47287cd9",
   "metadata": {},
   "outputs": [
    {
     "name": "stdout",
     "output_type": "stream",
     "text": [
      "<class 'tuple'>\n",
      "()\n",
      "0\n"
     ]
    }
   ],
   "source": [
    "a=tuple()\n",
    "print(type(a))\n",
    "print(a)\n",
    "print(len(a))"
   ]
  },
  {
   "cell_type": "code",
   "execution_count": 18,
   "id": "f25f6330-be62-4138-baf4-9ec9c24e4813",
   "metadata": {},
   "outputs": [
    {
     "name": "stdout",
     "output_type": "stream",
     "text": [
      "<class 'tuple'>\n",
      "()\n",
      "0\n"
     ]
    }
   ],
   "source": [
    "b=()\n",
    "print(type(b))\n",
    "print(b)\n",
    "print(len(b))"
   ]
  },
  {
   "cell_type": "code",
   "execution_count": 20,
   "id": "c8d1c028-9075-4c09-ba00-f7b7b5683fa5",
   "metadata": {},
   "outputs": [],
   "source": [
    "a=(1,2,3,3,3,3,3,4,44,5,5,6,6,7,8,9)"
   ]
  },
  {
   "cell_type": "code",
   "execution_count": 21,
   "id": "604d203d-aa5d-428d-9b65-495e0eca6072",
   "metadata": {},
   "outputs": [
    {
     "data": {
      "text/plain": [
       "5"
      ]
     },
     "execution_count": 21,
     "metadata": {},
     "output_type": "execute_result"
    }
   ],
   "source": [
    "a.count(3)"
   ]
  },
  {
   "cell_type": "code",
   "execution_count": 22,
   "id": "8cd88d39-7186-41fe-bc31-e8320e9117de",
   "metadata": {},
   "outputs": [
    {
     "data": {
      "text/plain": [
       "1"
      ]
     },
     "execution_count": 22,
     "metadata": {},
     "output_type": "execute_result"
    }
   ],
   "source": [
    "a.count(4)"
   ]
  },
  {
   "cell_type": "code",
   "execution_count": 23,
   "id": "c3afa207-3ab4-4bda-bece-306f51e97924",
   "metadata": {},
   "outputs": [
    {
     "data": {
      "text/plain": [
       "1"
      ]
     },
     "execution_count": 23,
     "metadata": {},
     "output_type": "execute_result"
    }
   ],
   "source": [
    "a.count(44)"
   ]
  },
  {
   "cell_type": "code",
   "execution_count": 24,
   "id": "0b9136e6-bf0f-436b-a253-682da7f6b349",
   "metadata": {},
   "outputs": [
    {
     "data": {
      "text/plain": [
       "0"
      ]
     },
     "execution_count": 24,
     "metadata": {},
     "output_type": "execute_result"
    }
   ],
   "source": [
    "a.count(9999)"
   ]
  },
  {
   "cell_type": "code",
   "execution_count": 25,
   "id": "34b4981e-9de9-4e41-80f1-ecbda87fbda5",
   "metadata": {},
   "outputs": [
    {
     "data": {
      "text/plain": [
       "2"
      ]
     },
     "execution_count": 25,
     "metadata": {},
     "output_type": "execute_result"
    }
   ],
   "source": [
    "a.index(3)"
   ]
  },
  {
   "cell_type": "code",
   "execution_count": null,
   "id": "baa5c591-d6b8-4895-9c32-3bde93b34e13",
   "metadata": {},
   "outputs": [],
   "source": []
  }
 ],
 "metadata": {
  "kernelspec": {
   "display_name": "Python 3 (ipykernel)",
   "language": "python",
   "name": "python3"
  },
  "language_info": {
   "codemirror_mode": {
    "name": "ipython",
    "version": 3
   },
   "file_extension": ".py",
   "mimetype": "text/x-python",
   "name": "python",
   "nbconvert_exporter": "python",
   "pygments_lexer": "ipython3",
   "version": "3.11.4"
  }
 },
 "nbformat": 4,
 "nbformat_minor": 5
}
