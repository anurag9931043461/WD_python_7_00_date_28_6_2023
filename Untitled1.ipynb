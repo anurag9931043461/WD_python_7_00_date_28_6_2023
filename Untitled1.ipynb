{
 "cells": [
  {
   "cell_type": "markdown",
   "id": "d12d21a6-5e89-4635-9dc9-f743d246500d",
   "metadata": {},
   "source": [
    "# input()\n",
    "\n",
    ">input() function is use to accept input from the user like 1,2,\"krishna\",etc.\n",
    "\n",
    "> input() function all the values in the from of string"
   ]
  },
  {
   "cell_type": "code",
   "execution_count": 1,
   "id": "27943855-4148-410e-9060-14bcf7c973b0",
   "metadata": {},
   "outputs": [
    {
     "name": "stdin",
     "output_type": "stream",
     "text": [
      " hgfygfjytdryd\n"
     ]
    },
    {
     "data": {
      "text/plain": [
       "'hgfygfjytdryd'"
      ]
     },
     "execution_count": 1,
     "metadata": {},
     "output_type": "execute_result"
    }
   ],
   "source": [
    "input()"
   ]
  },
  {
   "cell_type": "code",
   "execution_count": 2,
   "id": "ab1d9632-2a59-4f1f-8272-596c559175c2",
   "metadata": {},
   "outputs": [
    {
     "name": "stdin",
     "output_type": "stream",
     "text": [
      "Enter you 4 digit atm pin: 9807\n"
     ]
    }
   ],
   "source": [
    "pin=input(\"Enter you 4 digit atm pin:\")"
   ]
  },
  {
   "cell_type": "code",
   "execution_count": 3,
   "id": "88b7276c-8063-49fa-a4b4-116b1d3e0474",
   "metadata": {},
   "outputs": [
    {
     "data": {
      "text/plain": [
       "'9807'"
      ]
     },
     "execution_count": 3,
     "metadata": {},
     "output_type": "execute_result"
    }
   ],
   "source": [
    "pin"
   ]
  },
  {
   "cell_type": "code",
   "execution_count": 5,
   "id": "bf064355-8a2b-4420-8b02-55ac1d5ca5fe",
   "metadata": {},
   "outputs": [
    {
     "name": "stdin",
     "output_type": "stream",
     "text": [
      "Enter your 1st number: 10\n",
      "Enter your 2nd number: 20\n"
     ]
    },
    {
     "name": "stdout",
     "output_type": "stream",
     "text": [
      "1020\n"
     ]
    }
   ],
   "source": [
    "num1=input(\"Enter your 1st number:\")\n",
    "num2=input(\"Enter your 2nd number:\")\n",
    "print(num1+num2)"
   ]
  },
  {
   "cell_type": "code",
   "execution_count": 6,
   "id": "77e8a22a-6d00-4387-9976-3ce3a07235f4",
   "metadata": {},
   "outputs": [
    {
     "data": {
      "text/plain": [
       "'10'"
      ]
     },
     "execution_count": 6,
     "metadata": {},
     "output_type": "execute_result"
    }
   ],
   "source": [
    "num1"
   ]
  },
  {
   "cell_type": "code",
   "execution_count": 7,
   "id": "9126ca12-18cb-47e8-b70b-fa964d4fc9ef",
   "metadata": {},
   "outputs": [
    {
     "data": {
      "text/plain": [
       "'20'"
      ]
     },
     "execution_count": 7,
     "metadata": {},
     "output_type": "execute_result"
    }
   ],
   "source": [
    "num2"
   ]
  },
  {
   "cell_type": "code",
   "execution_count": 8,
   "id": "0ad5d88a-f81e-46d3-aec3-202dc1f5d2ea",
   "metadata": {},
   "outputs": [
    {
     "name": "stdin",
     "output_type": "stream",
     "text": [
      "Enter your 1st number: 10\n",
      "Enter your 2nd number: 20\n"
     ]
    },
    {
     "name": "stdout",
     "output_type": "stream",
     "text": [
      "30\n"
     ]
    }
   ],
   "source": [
    "num1=input(\"Enter your 1st number:\")\n",
    "num1_int=int(num1)\n",
    "num2=input(\"Enter your 2nd number:\")\n",
    "num2_int=int(num2)\n",
    "print(num1_int+num2_int)"
   ]
  },
  {
   "cell_type": "code",
   "execution_count": 9,
   "id": "6a2379b0-5df9-4f73-b660-34cb576c9010",
   "metadata": {},
   "outputs": [
    {
     "name": "stdin",
     "output_type": "stream",
     "text": [
      "Enter your 1st number: 10\n",
      "Enter your 2nd number: 20\n"
     ]
    },
    {
     "name": "stdout",
     "output_type": "stream",
     "text": [
      "30\n"
     ]
    }
   ],
   "source": [
    "num1_int=int(input(\"Enter your 1st number:\"))\n",
    "num2_int=int(input(\"Enter your 2nd number:\"))\n",
    "print(num1_int+num2_int)"
   ]
  },
  {
   "cell_type": "code",
   "execution_count": 10,
   "id": "0c0aa0b9-f4c3-4dda-9c62-41d565e3f494",
   "metadata": {},
   "outputs": [
    {
     "name": "stdin",
     "output_type": "stream",
     "text": [
      "Enter your 1st number: 10\n",
      "Enter your 2nd number: 20\n"
     ]
    },
    {
     "name": "stdout",
     "output_type": "stream",
     "text": [
      "30\n"
     ]
    }
   ],
   "source": [
    "print(int(input(\"Enter your 1st number:\"))+int(input(\"Enter your 2nd number:\")))"
   ]
  },
  {
   "cell_type": "code",
   "execution_count": 11,
   "id": "c25e3361-7710-43d5-96a0-a6ee05175f46",
   "metadata": {},
   "outputs": [
    {
     "name": "stdin",
     "output_type": "stream",
     "text": [
      "Enter your 1st number: 10.25\n"
     ]
    },
    {
     "ename": "ValueError",
     "evalue": "invalid literal for int() with base 10: '10.25'",
     "output_type": "error",
     "traceback": [
      "\u001b[1;31m---------------------------------------------------------------------------\u001b[0m",
      "\u001b[1;31mValueError\u001b[0m                                Traceback (most recent call last)",
      "Cell \u001b[1;32mIn[11], line 2\u001b[0m\n\u001b[0;32m      1\u001b[0m num1\u001b[38;5;241m=\u001b[39m\u001b[38;5;28minput\u001b[39m(\u001b[38;5;124m\"\u001b[39m\u001b[38;5;124mEnter your 1st number:\u001b[39m\u001b[38;5;124m\"\u001b[39m)\n\u001b[1;32m----> 2\u001b[0m num1_int\u001b[38;5;241m=\u001b[39m\u001b[38;5;28;43mint\u001b[39;49m\u001b[43m(\u001b[49m\u001b[43mnum1\u001b[49m\u001b[43m)\u001b[49m\n\u001b[0;32m      3\u001b[0m num2\u001b[38;5;241m=\u001b[39m\u001b[38;5;28minput\u001b[39m(\u001b[38;5;124m\"\u001b[39m\u001b[38;5;124mEnter your 2nd number:\u001b[39m\u001b[38;5;124m\"\u001b[39m)\n\u001b[0;32m      4\u001b[0m num2_int\u001b[38;5;241m=\u001b[39m\u001b[38;5;28mint\u001b[39m(num2)\n",
      "\u001b[1;31mValueError\u001b[0m: invalid literal for int() with base 10: '10.25'"
     ]
    }
   ],
   "source": [
    "num1=input(\"Enter your 1st number:\")\n",
    "num1_int=int(num1)\n",
    "num2=input(\"Enter your 2nd number:\")\n",
    "num2_int=int(num2)\n",
    "print(num1_int+num2_int)"
   ]
  },
  {
   "cell_type": "code",
   "execution_count": 12,
   "id": "b32f77b4-5ce0-44a5-a01c-fb6686c6d77c",
   "metadata": {},
   "outputs": [
    {
     "name": "stdin",
     "output_type": "stream",
     "text": [
      "Enter your 1st number: 10.25\n",
      "Enter your 2nd number: 20\n"
     ]
    },
    {
     "name": "stdout",
     "output_type": "stream",
     "text": [
      "30\n"
     ]
    }
   ],
   "source": [
    "num1=input(\"Enter your 1st number:\")\n",
    "num1_int=int(float(num1))\n",
    "num2=input(\"Enter your 2nd number:\")\n",
    "num2_int=int(float(num2))\n",
    "print(num1_int+num2_int)"
   ]
  },
  {
   "cell_type": "code",
   "execution_count": null,
   "id": "7e5fd90b-d22c-4963-b056-62325780b66d",
   "metadata": {},
   "outputs": [],
   "source": [
    "num1=input(\"Enter your 1st number:\")\n",
    "num1_int=int(float(num1))\n",
    "num2=input(\"Enter your 2nd number:\")\n",
    "num2_int=int(float(num2))\n",
    "print(num1_int+num2_int)"
   ]
  },
  {
   "cell_type": "code",
   "execution_count": 15,
   "id": "2b0c4243-35fb-4444-9024-757efbb8ff09",
   "metadata": {},
   "outputs": [
    {
     "name": "stdin",
     "output_type": "stream",
     "text": [
      "Enter your 1st number: 10.25\n",
      "Enter your 2nd number: 20\n"
     ]
    },
    {
     "name": "stdout",
     "output_type": "stream",
     "text": [
      "30.25\n"
     ]
    }
   ],
   "source": [
    "num1=input(\"Enter your 1st number:\")\n",
    "num1_int=eval(num1)\n",
    "num2=input(\"Enter your 2nd number:\")\n",
    "num2_int=eval(num2)\n",
    "print(num1_int+num2_int)"
   ]
  },
  {
   "cell_type": "code",
   "execution_count": 13,
   "id": "8685598e-6b6f-46a6-890f-75cabb1f480d",
   "metadata": {},
   "outputs": [
    {
     "data": {
      "text/plain": [
       "10.25"
      ]
     },
     "execution_count": 13,
     "metadata": {},
     "output_type": "execute_result"
    }
   ],
   "source": [
    "eval(\"10.25\")"
   ]
  },
  {
   "cell_type": "code",
   "execution_count": 14,
   "id": "a1fbd980-31d3-4e2a-a09b-a7a1794786c4",
   "metadata": {},
   "outputs": [
    {
     "data": {
      "text/plain": [
       "10"
      ]
     },
     "execution_count": 14,
     "metadata": {},
     "output_type": "execute_result"
    }
   ],
   "source": [
    "eval(\"10\")"
   ]
  },
  {
   "cell_type": "code",
   "execution_count": null,
   "id": "fcdbadac-bad1-4404-b816-2b47fab6f970",
   "metadata": {},
   "outputs": [],
   "source": []
  }
 ],
 "metadata": {
  "kernelspec": {
   "display_name": "Python 3 (ipykernel)",
   "language": "python",
   "name": "python3"
  },
  "language_info": {
   "codemirror_mode": {
    "name": "ipython",
    "version": 3
   },
   "file_extension": ".py",
   "mimetype": "text/x-python",
   "name": "python",
   "nbconvert_exporter": "python",
   "pygments_lexer": "ipython3",
   "version": "3.11.4"
  }
 },
 "nbformat": 4,
 "nbformat_minor": 5
}
