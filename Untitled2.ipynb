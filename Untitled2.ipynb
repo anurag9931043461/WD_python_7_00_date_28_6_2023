{
 "cells": [
  {
   "cell_type": "code",
   "execution_count": 13,
   "id": "d432f8fe-5b7f-401a-8ccf-1b22ebc9e13d",
   "metadata": {},
   "outputs": [
    {
     "name": "stdout",
     "output_type": "stream",
     "text": [
      "1020\n"
     ]
    }
   ],
   "source": [
    "#top line programming \n",
    "a=1000\n",
    "b=20\n",
    "print(a+b)"
   ]
  },
  {
   "cell_type": "code",
   "execution_count": 14,
   "id": "148ae9b1-af17-44e2-8be6-b7af9098fffb",
   "metadata": {},
   "outputs": [],
   "source": [
    "# procedural programming /functional programming \n",
    "def krishna(k,p):\n",
    "    a=k\n",
    "    b=p\n",
    "    print(a+b)\n",
    "\n",
    "def dhava(k,p):\n",
    "    a=k\n",
    "    b=p\n",
    "    print(a+b)"
   ]
  },
  {
   "cell_type": "code",
   "execution_count": 9,
   "id": "65a80ef3-43f8-4b34-a526-5d24a2ca02c5",
   "metadata": {},
   "outputs": [
    {
     "name": "stdout",
     "output_type": "stream",
     "text": [
      "60\n"
     ]
    }
   ],
   "source": [
    "add(20,40)"
   ]
  },
  {
   "cell_type": "code",
   "execution_count": 10,
   "id": "c198cda4-f11a-4730-8058-06af0191a4a2",
   "metadata": {},
   "outputs": [],
   "source": [
    "# Object Oriented programming\n",
    "class ABC:\n",
    "    def add(self,k,p):\n",
    "        a=k\n",
    "        b=p\n",
    "        print(a+b)"
   ]
  },
  {
   "cell_type": "code",
   "execution_count": 15,
   "id": "04509c7a-9ea4-4d7e-92a5-d6614c79da42",
   "metadata": {},
   "outputs": [],
   "source": [
    "krishna=ABC()"
   ]
  },
  {
   "cell_type": "code",
   "execution_count": 17,
   "id": "dd2cb024-44d2-46fa-8afd-8dca9b96c836",
   "metadata": {},
   "outputs": [
    {
     "name": "stdout",
     "output_type": "stream",
     "text": [
      "40\n"
     ]
    }
   ],
   "source": [
    "krishna.add(10,30)"
   ]
  },
  {
   "cell_type": "code",
   "execution_count": 18,
   "id": "b21712bf-32df-40e4-96ba-4e178cba06ee",
   "metadata": {},
   "outputs": [],
   "source": [
    "dhava=ABC()"
   ]
  },
  {
   "cell_type": "code",
   "execution_count": 19,
   "id": "9b5ad045-65af-4d18-9f53-0e5986d96856",
   "metadata": {},
   "outputs": [
    {
     "name": "stdout",
     "output_type": "stream",
     "text": [
      "50\n"
     ]
    }
   ],
   "source": [
    "dhava.add(20,30)"
   ]
  },
  {
   "cell_type": "code",
   "execution_count": 20,
   "id": "32590299-db67-4406-9a26-875cfc8cef38",
   "metadata": {},
   "outputs": [],
   "source": [
    "class ATM:\n",
    "    def __init__(self):\n",
    "        self.pin=1234\n",
    "        self.balance=10000"
   ]
  },
  {
   "cell_type": "code",
   "execution_count": 21,
   "id": "cc74e0d5-54f8-485a-967a-283e012a7a01",
   "metadata": {},
   "outputs": [],
   "source": [
    "krishna=ATM()"
   ]
  },
  {
   "cell_type": "code",
   "execution_count": 23,
   "id": "06a0bf49-3563-4c2a-96af-27cbc03fa676",
   "metadata": {},
   "outputs": [],
   "source": [
    "krishna.pin=9807"
   ]
  },
  {
   "cell_type": "code",
   "execution_count": 24,
   "id": "a44e821c-3d02-4926-b098-a753060e7d7a",
   "metadata": {},
   "outputs": [
    {
     "data": {
      "text/plain": [
       "9807"
      ]
     },
     "execution_count": 24,
     "metadata": {},
     "output_type": "execute_result"
    }
   ],
   "source": [
    "krishna.pin"
   ]
  },
  {
   "cell_type": "code",
   "execution_count": 25,
   "id": "c7d0ac92-2cc9-4b61-99c2-b558597bba9c",
   "metadata": {},
   "outputs": [
    {
     "data": {
      "text/plain": [
       "10000"
      ]
     },
     "execution_count": 25,
     "metadata": {},
     "output_type": "execute_result"
    }
   ],
   "source": [
    "krishna.balance"
   ]
  },
  {
   "cell_type": "code",
   "execution_count": 26,
   "id": "0ad060da-fafb-40ec-8142-6cc42a24d300",
   "metadata": {},
   "outputs": [],
   "source": [
    "dhava=ATM()"
   ]
  },
  {
   "cell_type": "code",
   "execution_count": 28,
   "id": "822aec9d-808e-4bf1-a7f7-6b24c35d5d96",
   "metadata": {},
   "outputs": [],
   "source": [
    "dhava.pin=9211420"
   ]
  },
  {
   "cell_type": "code",
   "execution_count": 29,
   "id": "9eef8150-0f62-4471-94c5-6435f51e64b5",
   "metadata": {},
   "outputs": [
    {
     "data": {
      "text/plain": [
       "10000"
      ]
     },
     "execution_count": 29,
     "metadata": {},
     "output_type": "execute_result"
    }
   ],
   "source": [
    "dhava.balance"
   ]
  },
  {
   "cell_type": "code",
   "execution_count": 30,
   "id": "403d59e8-425c-49e0-81f6-4e0307d6cf9d",
   "metadata": {},
   "outputs": [],
   "source": [
    "dhava.balance=5"
   ]
  },
  {
   "cell_type": "code",
   "execution_count": 31,
   "id": "d422c7b1-fb31-4945-98b7-4187e199e40a",
   "metadata": {},
   "outputs": [
    {
     "data": {
      "text/plain": [
       "10000"
      ]
     },
     "execution_count": 31,
     "metadata": {},
     "output_type": "execute_result"
    }
   ],
   "source": [
    "krishna.balance"
   ]
  },
  {
   "cell_type": "code",
   "execution_count": 32,
   "id": "ead1de97-418e-4f0a-bced-36969c56c5af",
   "metadata": {},
   "outputs": [
    {
     "data": {
      "text/plain": [
       "9807"
      ]
     },
     "execution_count": 32,
     "metadata": {},
     "output_type": "execute_result"
    }
   ],
   "source": [
    "krishna.pin"
   ]
  },
  {
   "cell_type": "code",
   "execution_count": 33,
   "id": "cc197dd7-f933-4e0a-8a45-d53fd0fdfc5c",
   "metadata": {},
   "outputs": [
    {
     "data": {
      "text/plain": [
       "5"
      ]
     },
     "execution_count": 33,
     "metadata": {},
     "output_type": "execute_result"
    }
   ],
   "source": [
    "dhava.balance"
   ]
  },
  {
   "cell_type": "code",
   "execution_count": 34,
   "id": "ec164b8f-e64c-4bb3-9831-1c08c6e163a4",
   "metadata": {},
   "outputs": [
    {
     "data": {
      "text/plain": [
       "9211420"
      ]
     },
     "execution_count": 34,
     "metadata": {},
     "output_type": "execute_result"
    }
   ],
   "source": [
    "dhava.pin"
   ]
  },
  {
   "cell_type": "code",
   "execution_count": 37,
   "id": "5433ecf9-c7ea-4188-8dfa-b4ffe3b4832c",
   "metadata": {},
   "outputs": [],
   "source": [
    "class ATM:\n",
    "    def __init__(self):\n",
    "        print(\"id of self:\",id(self))\n",
    "        self.pin=1234\n",
    "        self.balance=10000"
   ]
  },
  {
   "cell_type": "code",
   "execution_count": 38,
   "id": "510bc128-0146-4742-a549-49cbf2f0fc6b",
   "metadata": {},
   "outputs": [
    {
     "name": "stdout",
     "output_type": "stream",
     "text": [
      "id of self: 1977787258064\n"
     ]
    }
   ],
   "source": [
    "krishna=ATM()"
   ]
  },
  {
   "cell_type": "code",
   "execution_count": 39,
   "id": "2614ee18-b133-4417-837c-c2442bbe04f6",
   "metadata": {},
   "outputs": [
    {
     "data": {
      "text/plain": [
       "1977787258064"
      ]
     },
     "execution_count": 39,
     "metadata": {},
     "output_type": "execute_result"
    }
   ],
   "source": [
    "id(krishna)"
   ]
  },
  {
   "cell_type": "code",
   "execution_count": 40,
   "id": "0e19ee38-247d-4389-a34c-5531239f9286",
   "metadata": {},
   "outputs": [
    {
     "name": "stdout",
     "output_type": "stream",
     "text": [
      "id of self: 1977787036624\n"
     ]
    }
   ],
   "source": [
    "dhava=ATM()"
   ]
  },
  {
   "cell_type": "code",
   "execution_count": 42,
   "id": "4525552e-fbc0-413b-bd49-c1cafc982511",
   "metadata": {},
   "outputs": [
    {
     "name": "stdout",
     "output_type": "stream",
     "text": [
      "1977787036624\n"
     ]
    }
   ],
   "source": [
    "print(id(dhava))"
   ]
  },
  {
   "cell_type": "code",
   "execution_count": 43,
   "id": "d6aea91b-bb4d-4ee1-b98f-5319994b1532",
   "metadata": {},
   "outputs": [],
   "source": [
    "a=10"
   ]
  },
  {
   "cell_type": "code",
   "execution_count": 45,
   "id": "23ddf9eb-18e5-41ab-aaaa-fbb700431c39",
   "metadata": {},
   "outputs": [
    {
     "name": "stdout",
     "output_type": "stream",
     "text": [
      "<class 'int'>\n"
     ]
    }
   ],
   "source": [
    "print(type(a))"
   ]
  },
  {
   "cell_type": "code",
   "execution_count": 60,
   "id": "801339e3-963b-472d-9534-cfcc6b12f138",
   "metadata": {},
   "outputs": [],
   "source": [
    "class ATM:\n",
    "    a=10     # class variable\n",
    "    def __init__(self):  # constructor\n",
    "        print(\"id of self:\",id(self))\n",
    "        self.pin=1234\n",
    "        self.balance=10000\n",
    "    def add(self,a,b):\n",
    "        print(a+b)"
   ]
  },
  {
   "cell_type": "code",
   "execution_count": 61,
   "id": "b6bf9a06-b0d7-4644-919d-af71b734093c",
   "metadata": {},
   "outputs": [
    {
     "name": "stdout",
     "output_type": "stream",
     "text": [
      "id of self: 1977779538640\n"
     ]
    }
   ],
   "source": [
    "krishna=ATM()"
   ]
  },
  {
   "cell_type": "code",
   "execution_count": 62,
   "id": "314de0cb-5ac2-4ece-92c7-bd0e82283ec2",
   "metadata": {},
   "outputs": [
    {
     "ename": "NameError",
     "evalue": "name 'krishan' is not defined",
     "output_type": "error",
     "traceback": [
      "\u001b[1;31m---------------------------------------------------------------------------\u001b[0m",
      "\u001b[1;31mNameError\u001b[0m                                 Traceback (most recent call last)",
      "Cell \u001b[1;32mIn[62], line 1\u001b[0m\n\u001b[1;32m----> 1\u001b[0m \u001b[43mkrishan\u001b[49m\u001b[38;5;241m.\u001b[39mpin\n",
      "\u001b[1;31mNameError\u001b[0m: name 'krishan' is not defined"
     ]
    }
   ],
   "source": []
  },
  {
   "cell_type": "code",
   "execution_count": null,
   "id": "89a6c5cc-cd72-46a4-a70a-545342623a31",
   "metadata": {},
   "outputs": [],
   "source": []
  }
 ],
 "metadata": {
  "kernelspec": {
   "display_name": "Python 3 (ipykernel)",
   "language": "python",
   "name": "python3"
  },
  "language_info": {
   "codemirror_mode": {
    "name": "ipython",
    "version": 3
   },
   "file_extension": ".py",
   "mimetype": "text/x-python",
   "name": "python",
   "nbconvert_exporter": "python",
   "pygments_lexer": "ipython3",
   "version": "3.11.5"
  }
 },
 "nbformat": 4,
 "nbformat_minor": 5
}
