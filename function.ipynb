{
 "cells": [
  {
   "cell_type": "raw",
   "id": "9d0bf8c4-4058-49de-93de-4dec08a326f3",
   "metadata": {},
   "source": [
    "# function\n",
    "\n",
    "> def \n",
    "    > positional argument\n",
    "\n",
    "    > default argument\n",
    "\n",
    "    > keyword argument\n",
    "\n",
    "    > arbitrary positional argument\n",
    "\n",
    "    > arbitrary keyword positional argument\n",
    "        \n",
    "> lambda: anonymous function\n",
    "\n",
    "> global variable \n",
    "\n",
    "> local variable\n",
    "\n",
    "> global scope\n",
    "\n",
    "> local scope\n",
    "\n"
   ]
  },
  {
   "cell_type": "code",
   "execution_count": 2,
   "id": "1d900329-0bd7-4787-9e9e-813cb0c19753",
   "metadata": {},
   "outputs": [
    {
     "name": "stdout",
     "output_type": "stream",
     "text": [
      "Hello world\n",
      "Hello world\n",
      "Hello world\n",
      "Hello world\n",
      "Hello world\n"
     ]
    }
   ],
   "source": [
    "print(\"Hello world\")\n",
    "print(\"Hello world\")\n",
    "print(\"Hello world\")\n",
    "print(\"Hello world\")\n",
    "print(\"Hello world\")"
   ]
  },
  {
   "cell_type": "code",
   "execution_count": 3,
   "id": "2f5bee64-f247-4d9a-b7e7-1dc701a3aac9",
   "metadata": {},
   "outputs": [
    {
     "name": "stdout",
     "output_type": "stream",
     "text": [
      "hello world\n",
      "hello world\n",
      "hello world\n",
      "hello world\n",
      "hello world\n"
     ]
    }
   ],
   "source": [
    "for i in range(5):\n",
    "    print(\"hello world\")"
   ]
  },
  {
   "cell_type": "code",
   "execution_count": 5,
   "id": "a1e24ee3-49a1-4190-a6ad-c1fd90aed7ec",
   "metadata": {},
   "outputs": [],
   "source": [
    "def hello():\n",
    "    for i in range(5):\n",
    "        print(\"hello world\")"
   ]
  },
  {
   "cell_type": "code",
   "execution_count": 6,
   "id": "6cdc0279-9d84-4123-81ed-d1a991f7b461",
   "metadata": {},
   "outputs": [
    {
     "name": "stdout",
     "output_type": "stream",
     "text": [
      "hello world\n",
      "hello world\n",
      "hello world\n",
      "hello world\n",
      "hello world\n"
     ]
    }
   ],
   "source": [
    "hello()"
   ]
  },
  {
   "cell_type": "code",
   "execution_count": 7,
   "id": "d8a4cf2f-d971-4bb5-9aa0-f27561042044",
   "metadata": {},
   "outputs": [
    {
     "name": "stdout",
     "output_type": "stream",
     "text": [
      "hello world\n",
      "hello world\n",
      "hello world\n",
      "hello world\n",
      "hello world\n"
     ]
    }
   ],
   "source": [
    "hello()"
   ]
  },
  {
   "cell_type": "code",
   "execution_count": 8,
   "id": "75a65e26-21e4-48af-9844-99ebfe336d9f",
   "metadata": {},
   "outputs": [
    {
     "name": "stdout",
     "output_type": "stream",
     "text": [
      "hello world\n",
      "hello world\n",
      "hello world\n",
      "hello world\n",
      "hello world\n"
     ]
    }
   ],
   "source": [
    "hello()"
   ]
  },
  {
   "cell_type": "code",
   "execution_count": 9,
   "id": "0870f067-83e4-42d7-b2cb-b8819eb2a057",
   "metadata": {},
   "outputs": [],
   "source": [
    "def hello1(n):\n",
    "    for i in range(n):\n",
    "        print(\"Hello world\")\n"
   ]
  },
  {
   "cell_type": "code",
   "execution_count": 11,
   "id": "cd43ec82-f7cb-4a65-be0f-a3b96f7c114e",
   "metadata": {},
   "outputs": [
    {
     "name": "stdout",
     "output_type": "stream",
     "text": [
      "Hello world\n",
      "Hello world\n"
     ]
    }
   ],
   "source": [
    "hello1(2)"
   ]
  },
  {
   "cell_type": "code",
   "execution_count": 12,
   "id": "9f7d8011-3337-4221-bb81-52c1354fd48c",
   "metadata": {},
   "outputs": [
    {
     "name": "stdout",
     "output_type": "stream",
     "text": [
      "Hello world\n",
      "Hello world\n",
      "Hello world\n",
      "Hello world\n",
      "Hello world\n",
      "Hello world\n",
      "Hello world\n",
      "Hello world\n",
      "Hello world\n",
      "Hello world\n"
     ]
    }
   ],
   "source": [
    "hello1(10)"
   ]
  },
  {
   "cell_type": "code",
   "execution_count": 14,
   "id": "808e0ded-76c2-45ff-899e-ed039932fabf",
   "metadata": {},
   "outputs": [],
   "source": [
    "def hello2(n):\n",
    "    for i in range(n):\n",
    "        print(i,\"Hello world\")"
   ]
  },
  {
   "cell_type": "code",
   "execution_count": 15,
   "id": "db2bb4d5-2692-4dc9-97fc-45ece60723ca",
   "metadata": {},
   "outputs": [
    {
     "name": "stdout",
     "output_type": "stream",
     "text": [
      "0 Hello world\n",
      "1 Hello world\n"
     ]
    }
   ],
   "source": [
    "hello2(2)"
   ]
  },
  {
   "cell_type": "code",
   "execution_count": 18,
   "id": "615563ed-867c-4bf7-a1fd-4079e747f2ae",
   "metadata": {},
   "outputs": [],
   "source": [
    "def hello3(a,n):\n",
    "    for i in range(a,n+1):\n",
    "        print(i,\"Hello world\")"
   ]
  },
  {
   "cell_type": "code",
   "execution_count": 19,
   "id": "bcbefd1a-d4c9-4437-b575-056b1bd576a4",
   "metadata": {},
   "outputs": [
    {
     "name": "stdout",
     "output_type": "stream",
     "text": [
      "10 Hello world\n",
      "11 Hello world\n",
      "12 Hello world\n",
      "13 Hello world\n",
      "14 Hello world\n",
      "15 Hello world\n"
     ]
    }
   ],
   "source": [
    "hello3(10,15)"
   ]
  },
  {
   "cell_type": "code",
   "execution_count": 20,
   "id": "bb588c0a-ca45-4a85-b9e8-73a84fecef99",
   "metadata": {},
   "outputs": [
    {
     "ename": "TypeError",
     "evalue": "hello3() takes 2 positional arguments but 3 were given",
     "output_type": "error",
     "traceback": [
      "\u001b[1;31m---------------------------------------------------------------------------\u001b[0m",
      "\u001b[1;31mTypeError\u001b[0m                                 Traceback (most recent call last)",
      "Cell \u001b[1;32mIn[20], line 1\u001b[0m\n\u001b[1;32m----> 1\u001b[0m \u001b[43mhello3\u001b[49m\u001b[43m(\u001b[49m\u001b[38;5;241;43m-\u001b[39;49m\u001b[38;5;241;43m15\u001b[39;49m\u001b[43m,\u001b[49m\u001b[38;5;241;43m-\u001b[39;49m\u001b[38;5;241;43m10\u001b[39;49m\u001b[43m,\u001b[49m\u001b[38;5;241;43m-\u001b[39;49m\u001b[38;5;241;43m1\u001b[39;49m\u001b[43m)\u001b[49m\n",
      "\u001b[1;31mTypeError\u001b[0m: hello3() takes 2 positional arguments but 3 were given"
     ]
    }
   ],
   "source": [
    "hello3(-15,-10,-1)"
   ]
  },
  {
   "cell_type": "code",
   "execution_count": 22,
   "id": "287527c3-9eff-4a38-a558-c22dae23e9b4",
   "metadata": {},
   "outputs": [],
   "source": [
    "def hello4(a,n,m):\n",
    "    for i in range(a,n+1,m):\n",
    "        print(i,\"Hello world\")"
   ]
  },
  {
   "cell_type": "code",
   "execution_count": 23,
   "id": "1d6c03e4-3284-4773-b0d0-1a37240cb28b",
   "metadata": {},
   "outputs": [
    {
     "name": "stdout",
     "output_type": "stream",
     "text": [
      "10 Hello world\n",
      "11 Hello world\n",
      "12 Hello world\n",
      "13 Hello world\n",
      "14 Hello world\n",
      "15 Hello world\n"
     ]
    }
   ],
   "source": [
    "hello4(10,15,1)"
   ]
  },
  {
   "cell_type": "code",
   "execution_count": 24,
   "id": "81d365e7-a03e-480b-ae8b-fcd70c6c48a5",
   "metadata": {},
   "outputs": [
    {
     "name": "stdout",
     "output_type": "stream",
     "text": [
      "15 Hello world\n",
      "14 Hello world\n",
      "13 Hello world\n",
      "12 Hello world\n"
     ]
    }
   ],
   "source": [
    "hello4(15,10,-1)"
   ]
  },
  {
   "cell_type": "code",
   "execution_count": 25,
   "id": "e22eeaa0-e67d-4872-a66d-4fc9d64b7fef",
   "metadata": {},
   "outputs": [],
   "source": [
    "def hello5(a,n,m):\n",
    "    if m>=0:\n",
    "        for i in range(a,n+1,m):\n",
    "            print(i,\"Hello world\")\n",
    "    else:\n",
    "        for i in range(a,n-1,m):\n",
    "            print(i,\"Hello world\")"
   ]
  },
  {
   "cell_type": "code",
   "execution_count": 26,
   "id": "dd86c28e-9de8-4290-a790-e608dd3f104a",
   "metadata": {},
   "outputs": [
    {
     "name": "stdout",
     "output_type": "stream",
     "text": [
      "15 Hello world\n",
      "14 Hello world\n",
      "13 Hello world\n",
      "12 Hello world\n",
      "11 Hello world\n",
      "10 Hello world\n"
     ]
    }
   ],
   "source": [
    "hello5(15,10,-1)"
   ]
  },
  {
   "cell_type": "code",
   "execution_count": 27,
   "id": "c22229d7-2dc0-4d57-a77d-76eee5be0c25",
   "metadata": {},
   "outputs": [],
   "source": [
    "def rate_of_interest(p,r,t):\n",
    "    result=p*r*t/100\n",
    "    print(result)"
   ]
  },
  {
   "cell_type": "code",
   "execution_count": 28,
   "id": "a9e6c402-f315-4863-808f-f3abae313719",
   "metadata": {},
   "outputs": [
    {
     "name": "stdout",
     "output_type": "stream",
     "text": [
      "1000.0\n"
     ]
    }
   ],
   "source": [
    "rate_of_interest(10000,5,2)"
   ]
  },
  {
   "cell_type": "code",
   "execution_count": 29,
   "id": "2b20c89c-12d8-47d4-8cbc-ee1330da7293",
   "metadata": {},
   "outputs": [
    {
     "name": "stdout",
     "output_type": "stream",
     "text": [
      "166.66666666666663\n"
     ]
    }
   ],
   "source": [
    "rate_of_interest(10000,5,1/3)"
   ]
  },
  {
   "cell_type": "code",
   "execution_count": 30,
   "id": "8cc080b3-2868-472c-b14d-d647452ba122",
   "metadata": {},
   "outputs": [],
   "source": [
    "def speed(s,t):\n",
    "    print(\"s :\",s)\n",
    "    print(\"t :\",t)\n",
    "    result=s/t\n",
    "    print(result)"
   ]
  },
  {
   "cell_type": "code",
   "execution_count": 31,
   "id": "5256a127-1ad3-4ac6-9918-b5db7f1bb0c9",
   "metadata": {},
   "outputs": [
    {
     "name": "stdout",
     "output_type": "stream",
     "text": [
      "s : 100\n",
      "t : 2\n",
      "50.0\n"
     ]
    }
   ],
   "source": [
    "speed(100,2)"
   ]
  },
  {
   "cell_type": "code",
   "execution_count": 32,
   "id": "df72255b-5e71-4e91-9906-b1e33517c6f0",
   "metadata": {},
   "outputs": [],
   "source": [
    "def speed(t,s):\n",
    "    print(\"s :\",s)\n",
    "    print(\"t :\",t)\n",
    "    result=s/t\n",
    "    print(result)"
   ]
  },
  {
   "cell_type": "code",
   "execution_count": 33,
   "id": "d30d8376-0570-48a2-b03b-0a57cba7e10d",
   "metadata": {},
   "outputs": [
    {
     "name": "stdout",
     "output_type": "stream",
     "text": [
      "s : 2\n",
      "t : 100\n",
      "0.02\n"
     ]
    }
   ],
   "source": [
    "speed(100,2)"
   ]
  },
  {
   "cell_type": "markdown",
   "id": "c57ba72b-0497-4fc9-b8f3-1d9375b413eb",
   "metadata": {},
   "source": [
    "# key value argument"
   ]
  },
  {
   "cell_type": "code",
   "execution_count": 34,
   "id": "2e6ed12e-9ad1-4eed-a593-bb6e5146ede2",
   "metadata": {},
   "outputs": [],
   "source": [
    "def hello5(a,n,m=1):\n",
    "    if m>=0:\n",
    "        for i in range(a,n+1,m):\n",
    "            print(i,\"Hello world\")\n",
    "    else:\n",
    "        for i in range(a,n-1,m):\n",
    "            print(i,\"Hello world\")"
   ]
  },
  {
   "cell_type": "code",
   "execution_count": 35,
   "id": "7367bc31-e518-4768-b9eb-8a6d5bfd7ee4",
   "metadata": {},
   "outputs": [
    {
     "name": "stdout",
     "output_type": "stream",
     "text": [
      "10 Hello world\n",
      "11 Hello world\n",
      "12 Hello world\n",
      "13 Hello world\n",
      "14 Hello world\n",
      "15 Hello world\n"
     ]
    }
   ],
   "source": [
    "hello5(10,15,1)"
   ]
  },
  {
   "cell_type": "code",
   "execution_count": 36,
   "id": "49a7718a-0fc4-46ad-bfe5-b7c0111be112",
   "metadata": {},
   "outputs": [
    {
     "name": "stdout",
     "output_type": "stream",
     "text": [
      "10 Hello world\n",
      "11 Hello world\n",
      "12 Hello world\n",
      "13 Hello world\n",
      "14 Hello world\n",
      "15 Hello world\n"
     ]
    }
   ],
   "source": [
    "hello5(10,15)"
   ]
  },
  {
   "cell_type": "code",
   "execution_count": 38,
   "id": "f3c84adb-b2aa-45c5-b8f5-a6c9dfac13df",
   "metadata": {},
   "outputs": [
    {
     "name": "stdout",
     "output_type": "stream",
     "text": [
      "15 Hello world\n",
      "13 Hello world\n",
      "11 Hello world\n"
     ]
    }
   ],
   "source": [
    "hello5(15,10,-2)"
   ]
  },
  {
   "cell_type": "code",
   "execution_count": 47,
   "id": "bcd8cb19-8646-4b26-8024-f36c06c78ad7",
   "metadata": {},
   "outputs": [],
   "source": [
    "def hello5(a=1,n=5,m=1):\n",
    "    if m>=0:\n",
    "        for i in range(a,n+1,m):\n",
    "            print(i,\"Hello world\")\n",
    "    else:\n",
    "        for i in range(a,n-1,m):\n",
    "            print(i,\"Hello world\")"
   ]
  },
  {
   "cell_type": "code",
   "execution_count": 49,
   "id": "270f0fca-25ab-41c0-883b-0e6438c597db",
   "metadata": {},
   "outputs": [
    {
     "name": "stdout",
     "output_type": "stream",
     "text": [
      "1 Hello world\n",
      "2 Hello world\n",
      "3 Hello world\n",
      "4 Hello world\n",
      "5 Hello world\n"
     ]
    }
   ],
   "source": [
    "hello5()"
   ]
  },
  {
   "cell_type": "markdown",
   "id": "7643d079-84bc-47b5-8b4c-f502f7ae98df",
   "metadata": {},
   "source": [
    "> def \n",
    "\n",
    "    > local variable \n",
    "\n",
    "    > global variable\n",
    "    \n",
    "    > positional argument\n",
    "\n",
    "    > default argument\n",
    "\n",
    "    > keyword argument\n",
    "\n",
    "    > arbitrary positional argument\n",
    "\n",
    "    > arbitrary keyword positional argument"
   ]
  },
  {
   "cell_type": "markdown",
   "id": "fbca0057-2d26-4d62-9a5b-5c5be5b6c1f5",
   "metadata": {},
   "source": [
    "# local variable and global variable"
   ]
  },
  {
   "cell_type": "code",
   "execution_count": 1,
   "id": "ba9d26a2-0c68-41af-b977-018c0a3ffe0c",
   "metadata": {},
   "outputs": [],
   "source": [
    "def add():\n",
    "    a=10\n",
    "    b=20\n",
    "    print(a+b)"
   ]
  },
  {
   "cell_type": "code",
   "execution_count": 2,
   "id": "461f4a51-964d-45c0-9587-f21c4efd9d07",
   "metadata": {},
   "outputs": [
    {
     "name": "stdout",
     "output_type": "stream",
     "text": [
      "30\n"
     ]
    }
   ],
   "source": [
    "add()"
   ]
  },
  {
   "cell_type": "code",
   "execution_count": 3,
   "id": "b75a193d-c806-484b-b159-b80d8d77ccc6",
   "metadata": {},
   "outputs": [
    {
     "ename": "NameError",
     "evalue": "name 'a' is not defined",
     "output_type": "error",
     "traceback": [
      "\u001b[1;31m---------------------------------------------------------------------------\u001b[0m",
      "\u001b[1;31mNameError\u001b[0m                                 Traceback (most recent call last)",
      "Cell \u001b[1;32mIn[3], line 1\u001b[0m\n\u001b[1;32m----> 1\u001b[0m \u001b[38;5;28mprint\u001b[39m(\u001b[43ma\u001b[49m)\n",
      "\u001b[1;31mNameError\u001b[0m: name 'a' is not defined"
     ]
    }
   ],
   "source": [
    "print(a)"
   ]
  },
  {
   "cell_type": "code",
   "execution_count": 4,
   "id": "88a1d49b-b108-41d6-ae62-655380ded0b2",
   "metadata": {},
   "outputs": [
    {
     "ename": "NameError",
     "evalue": "name 'b' is not defined",
     "output_type": "error",
     "traceback": [
      "\u001b[1;31m---------------------------------------------------------------------------\u001b[0m",
      "\u001b[1;31mNameError\u001b[0m                                 Traceback (most recent call last)",
      "Cell \u001b[1;32mIn[4], line 1\u001b[0m\n\u001b[1;32m----> 1\u001b[0m \u001b[38;5;28mprint\u001b[39m(\u001b[43mb\u001b[49m)\n",
      "\u001b[1;31mNameError\u001b[0m: name 'b' is not defined"
     ]
    }
   ],
   "source": [
    "print(b)"
   ]
  },
  {
   "cell_type": "code",
   "execution_count": 5,
   "id": "8fc63041-bdd7-44aa-abd5-b50f57a8a6a7",
   "metadata": {},
   "outputs": [],
   "source": [
    "def add():\n",
    "    global a,b\n",
    "    a=10\n",
    "    b=20\n",
    "    print(a+b)"
   ]
  },
  {
   "cell_type": "code",
   "execution_count": 6,
   "id": "7d669713-44ee-436f-81f0-775bc2e80ec6",
   "metadata": {},
   "outputs": [
    {
     "name": "stdout",
     "output_type": "stream",
     "text": [
      "30\n"
     ]
    }
   ],
   "source": [
    "add()"
   ]
  },
  {
   "cell_type": "code",
   "execution_count": 7,
   "id": "e137fa17-9f5b-4165-98df-28f8755e88a7",
   "metadata": {},
   "outputs": [
    {
     "name": "stdout",
     "output_type": "stream",
     "text": [
      "10\n"
     ]
    }
   ],
   "source": [
    "print(a)"
   ]
  },
  {
   "cell_type": "code",
   "execution_count": 8,
   "id": "2f6206d6-875b-44a0-8350-7ad3281bab4e",
   "metadata": {},
   "outputs": [
    {
     "name": "stdout",
     "output_type": "stream",
     "text": [
      "20\n"
     ]
    }
   ],
   "source": [
    "print(b)"
   ]
  },
  {
   "cell_type": "code",
   "execution_count": 9,
   "id": "2a3149f6-5fde-43b9-9c7e-f85fb88cb110",
   "metadata": {},
   "outputs": [],
   "source": [
    "x=10"
   ]
  },
  {
   "cell_type": "code",
   "execution_count": 10,
   "id": "fcbc4b14-7d97-45a7-9c42-54582f8dac9a",
   "metadata": {},
   "outputs": [],
   "source": [
    "y=20"
   ]
  },
  {
   "cell_type": "code",
   "execution_count": 11,
   "id": "bdbbceae-7ea8-4180-a0e7-86b49366cbe2",
   "metadata": {},
   "outputs": [
    {
     "name": "stdout",
     "output_type": "stream",
     "text": [
      "10\n"
     ]
    }
   ],
   "source": [
    "print(x)"
   ]
  },
  {
   "cell_type": "code",
   "execution_count": 12,
   "id": "0bb1b2cd-c32d-46c7-9ada-9b9b30fc117a",
   "metadata": {},
   "outputs": [
    {
     "name": "stdout",
     "output_type": "stream",
     "text": [
      "20\n"
     ]
    }
   ],
   "source": [
    "print(y)"
   ]
  },
  {
   "cell_type": "code",
   "execution_count": 13,
   "id": "1a32c2e6-bb6c-4852-88f9-0d0b2ed721b3",
   "metadata": {},
   "outputs": [],
   "source": [
    "def add2():\n",
    "    print(x+y)"
   ]
  },
  {
   "cell_type": "code",
   "execution_count": 14,
   "id": "040c798e-4da3-4c99-a0c1-94b8108c3847",
   "metadata": {},
   "outputs": [
    {
     "name": "stdout",
     "output_type": "stream",
     "text": [
      "30\n"
     ]
    }
   ],
   "source": [
    "add2()"
   ]
  },
  {
   "cell_type": "markdown",
   "id": "ed2332ae-3135-43de-bbd8-0c0872eb7cf8",
   "metadata": {},
   "source": [
    "    > positional argument\n",
    "\n",
    "    > default argument\n",
    "\n",
    "    > keyword argument\n",
    "\n",
    "    > arbitrary positional argument\n",
    "\n",
    "    > arbitrary keyword positional argument"
   ]
  },
  {
   "cell_type": "markdown",
   "id": "92a99a8a-dabf-4ef5-908f-64c2645f4c92",
   "metadata": {},
   "source": [
    "# Positional argument"
   ]
  },
  {
   "cell_type": "code",
   "execution_count": 15,
   "id": "36adecbb-ec23-409f-8ac1-c513b23a16f1",
   "metadata": {},
   "outputs": [],
   "source": [
    "def sum(a,b):\n",
    "    print(a+b)"
   ]
  },
  {
   "cell_type": "code",
   "execution_count": 16,
   "id": "092036b2-afe5-4272-bf64-d76278ce11c0",
   "metadata": {},
   "outputs": [
    {
     "name": "stdout",
     "output_type": "stream",
     "text": [
      "30\n"
     ]
    }
   ],
   "source": [
    "sum(10,20)"
   ]
  },
  {
   "cell_type": "markdown",
   "id": "635118bd-b4fc-4ecd-8af7-88dda12e837b",
   "metadata": {},
   "source": [
    "# default argument"
   ]
  },
  {
   "cell_type": "code",
   "execution_count": 17,
   "id": "ea440976-07e1-414e-b307-fc18464c3153",
   "metadata": {},
   "outputs": [],
   "source": [
    "def sum2(a=10,b=20):\n",
    "    print(a+b)"
   ]
  },
  {
   "cell_type": "code",
   "execution_count": 18,
   "id": "4f7802a7-a721-41e7-8697-eb197bf92b5f",
   "metadata": {},
   "outputs": [
    {
     "name": "stdout",
     "output_type": "stream",
     "text": [
      "30\n"
     ]
    }
   ],
   "source": [
    "sum2()"
   ]
  },
  {
   "cell_type": "code",
   "execution_count": 19,
   "id": "671f02af-1f0d-4bdc-951e-16498540426b",
   "metadata": {},
   "outputs": [
    {
     "name": "stdout",
     "output_type": "stream",
     "text": [
      "300\n"
     ]
    }
   ],
   "source": [
    "sum2(100,200)"
   ]
  },
  {
   "cell_type": "code",
   "execution_count": 20,
   "id": "e5e018b4-6448-445d-8c38-0251a928cb82",
   "metadata": {},
   "outputs": [
    {
     "name": "stdout",
     "output_type": "stream",
     "text": [
      "30\n"
     ]
    }
   ],
   "source": [
    "sum2()"
   ]
  },
  {
   "cell_type": "markdown",
   "id": "37b11cd2-265c-4cfd-9122-878b564871b7",
   "metadata": {},
   "source": [
    "# keyword argument"
   ]
  },
  {
   "cell_type": "code",
   "execution_count": 21,
   "id": "ba8d7c47-895f-4a0d-a158-d0ad0438f3f4",
   "metadata": {},
   "outputs": [],
   "source": [
    "def sum3(a,b):\n",
    "    print(a+b)"
   ]
  },
  {
   "cell_type": "code",
   "execution_count": 22,
   "id": "d235cd3d-2acf-4cb0-bffe-7903a74a2246",
   "metadata": {},
   "outputs": [
    {
     "name": "stdout",
     "output_type": "stream",
     "text": [
      "30\n"
     ]
    }
   ],
   "source": [
    "sum3(b=20,a=10)"
   ]
  },
  {
   "cell_type": "markdown",
   "id": "79550f43-c9a2-42d4-8e83-1237e703114d",
   "metadata": {},
   "source": [
    "# arbitrary positional argument"
   ]
  },
  {
   "cell_type": "code",
   "execution_count": 23,
   "id": "b818ade3-decb-40c5-b82c-fc43b7d2f5c2",
   "metadata": {},
   "outputs": [],
   "source": [
    "def sum4(*n):\n",
    "    print(n)"
   ]
  },
  {
   "cell_type": "code",
   "execution_count": 24,
   "id": "36563dcc-b485-42fa-b2f5-60435e169bef",
   "metadata": {},
   "outputs": [
    {
     "name": "stdout",
     "output_type": "stream",
     "text": [
      "(1, 2, 3, 4, 5, 6, 7, 8, 5, 432, 3, 345, 54, 56, 6767, 56)\n"
     ]
    }
   ],
   "source": [
    "sum4(1,2,3,4,5,6,7,8,5,432,3,345,54,56,6767,56)"
   ]
  },
  {
   "cell_type": "code",
   "execution_count": 25,
   "id": "8aada54d-d25d-4d1c-9ff2-47a47d02dc0c",
   "metadata": {},
   "outputs": [],
   "source": [
    "a=43,4,34,3,5,66,87,87,5654,34,32"
   ]
  },
  {
   "cell_type": "code",
   "execution_count": 26,
   "id": "d51bf2c7-9f07-465d-a9a2-2c06deb87541",
   "metadata": {},
   "outputs": [
    {
     "name": "stdout",
     "output_type": "stream",
     "text": [
      "(43, 4, 34, 3, 5, 66, 87, 87, 5654, 34, 32)\n"
     ]
    }
   ],
   "source": [
    "print(a)"
   ]
  },
  {
   "cell_type": "code",
   "execution_count": 27,
   "id": "d9cca31d-c3ec-4f84-b1a0-03ee136f9d4a",
   "metadata": {},
   "outputs": [],
   "source": [
    "def sum5(*n):\n",
    "    for i in n:\n",
    "        print(i)"
   ]
  },
  {
   "cell_type": "code",
   "execution_count": 28,
   "id": "fab10835-07e1-4823-9fdb-031c1774dedd",
   "metadata": {},
   "outputs": [
    {
     "name": "stdout",
     "output_type": "stream",
     "text": [
      "1\n",
      "3\n",
      "4\n",
      "3\n",
      "4\n",
      "32\n",
      "4\n",
      "5\n"
     ]
    }
   ],
   "source": [
    "sum5(1,3,4,3,4,32,4,5)"
   ]
  },
  {
   "cell_type": "code",
   "execution_count": 29,
   "id": "0ff4234e-fa39-480d-8015-50dccd43d2b6",
   "metadata": {},
   "outputs": [],
   "source": [
    "def sum6(*n):\n",
    "    k=0\n",
    "    for i in n:\n",
    "        k=k+i\n",
    "    print(k)"
   ]
  },
  {
   "cell_type": "code",
   "execution_count": 30,
   "id": "4a75da18-5a0b-43f6-a265-9ca55d8f8e02",
   "metadata": {},
   "outputs": [
    {
     "name": "stdout",
     "output_type": "stream",
     "text": [
      "1152\n"
     ]
    }
   ],
   "source": [
    "sum6(1,32,43,54,656,43,323)"
   ]
  },
  {
   "cell_type": "markdown",
   "id": "25bad6d4-f9b3-415b-be68-808ae17ff9f9",
   "metadata": {},
   "source": [
    "# arbitrary keyword positional argument"
   ]
  },
  {
   "cell_type": "code",
   "execution_count": 31,
   "id": "3d67edb2-2b75-4710-bab9-84576411a2c3",
   "metadata": {},
   "outputs": [],
   "source": [
    "def sum7(**n):\n",
    "    print(n)"
   ]
  },
  {
   "cell_type": "code",
   "execution_count": 32,
   "id": "c014c5ad-18ea-4617-8fce-c56f559543c9",
   "metadata": {},
   "outputs": [
    {
     "name": "stdout",
     "output_type": "stream",
     "text": [
      "{'name': 'krishna', 'age': 27, 'weight': 72}\n"
     ]
    }
   ],
   "source": [
    "sum7(name=\"krishna\",age=27, weight=72)"
   ]
  },
  {
   "cell_type": "markdown",
   "id": "69a22a76-4eca-4a23-a316-2c7c6ebff5a6",
   "metadata": {},
   "source": [
    "# return"
   ]
  },
  {
   "cell_type": "code",
   "execution_count": 33,
   "id": "97392bd6-dd8a-4af2-b0cf-b4dbbf694f41",
   "metadata": {},
   "outputs": [],
   "source": [
    "def sum8(a,b):\n",
    "    print(a+b)"
   ]
  },
  {
   "cell_type": "code",
   "execution_count": 35,
   "id": "f425979f-b41e-4037-8874-e14f419c5b81",
   "metadata": {},
   "outputs": [
    {
     "name": "stdout",
     "output_type": "stream",
     "text": [
      "30\n"
     ]
    }
   ],
   "source": [
    "z=sum8(10,20)"
   ]
  },
  {
   "cell_type": "code",
   "execution_count": 36,
   "id": "faf479a5-2be2-496f-be33-b78664fd1445",
   "metadata": {},
   "outputs": [
    {
     "name": "stdout",
     "output_type": "stream",
     "text": [
      "None\n"
     ]
    }
   ],
   "source": [
    "print(z)"
   ]
  },
  {
   "cell_type": "code",
   "execution_count": 37,
   "id": "63a2c883-0ee0-497d-bf74-2c6e52f8df0f",
   "metadata": {},
   "outputs": [],
   "source": [
    "def sum8(a,b):\n",
    "    return (a+b)"
   ]
  },
  {
   "cell_type": "code",
   "execution_count": 39,
   "id": "983c14a2-5caa-45bb-bb6b-e5cc095f3aa0",
   "metadata": {},
   "outputs": [],
   "source": [
    "y=sum8(10,20)"
   ]
  },
  {
   "cell_type": "code",
   "execution_count": 40,
   "id": "3959b30d-5736-4555-91f2-bb58fce87a6e",
   "metadata": {},
   "outputs": [
    {
     "name": "stdout",
     "output_type": "stream",
     "text": [
      "30\n"
     ]
    }
   ],
   "source": [
    "print(y)"
   ]
  },
  {
   "cell_type": "code",
   "execution_count": 41,
   "id": "9d3428b2-f748-49a0-a8e1-78993c521ef7",
   "metadata": {},
   "outputs": [
    {
     "data": {
      "text/plain": [
       "50"
      ]
     },
     "execution_count": 41,
     "metadata": {},
     "output_type": "execute_result"
    }
   ],
   "source": [
    "y+20"
   ]
  },
  {
   "cell_type": "code",
   "execution_count": 42,
   "id": "c4230220-311a-4d1a-b57d-2d9744044e88",
   "metadata": {},
   "outputs": [],
   "source": [
    "# A function has only one return keyword."
   ]
  },
  {
   "cell_type": "code",
   "execution_count": 48,
   "id": "14b31280-4bdd-429e-9e95-d9527e6eb0cb",
   "metadata": {},
   "outputs": [],
   "source": [
    "def sum9(a,b):\n",
    "    return a\n",
    "    return b"
   ]
  },
  {
   "cell_type": "code",
   "execution_count": 47,
   "id": "7425c938-9488-4b40-9239-2d9e2f2795e9",
   "metadata": {},
   "outputs": [
    {
     "data": {
      "text/plain": [
       "20"
      ]
     },
     "execution_count": 47,
     "metadata": {},
     "output_type": "execute_result"
    }
   ],
   "source": [
    "sum9(10,20)"
   ]
  },
  {
   "cell_type": "markdown",
   "id": "91cdab5a-a384-4dfc-889a-5ece080b2088",
   "metadata": {},
   "source": [
    "# lambda function"
   ]
  },
  {
   "cell_type": "code",
   "execution_count": 1,
   "id": "77aae5d5-2b0c-4c8d-bba7-704d4f12b961",
   "metadata": {},
   "outputs": [],
   "source": [
    "def sum(a,b):\n",
    "    print(a+b)"
   ]
  },
  {
   "cell_type": "code",
   "execution_count": 3,
   "id": "c4594307-059f-4329-9513-550fa6d07819",
   "metadata": {},
   "outputs": [],
   "source": [
    "x=lambda a,b:print(a+b)"
   ]
  },
  {
   "cell_type": "code",
   "execution_count": 4,
   "id": "365fd220-b8b8-47f4-8857-dd1bf0a4bd17",
   "metadata": {},
   "outputs": [
    {
     "name": "stdout",
     "output_type": "stream",
     "text": [
      "30\n"
     ]
    }
   ],
   "source": [
    "x(10,20)"
   ]
  },
  {
   "cell_type": "markdown",
   "id": "75c92bad-e30c-4f88-8b93-03a1366d0c9c",
   "metadata": {},
   "source": [
    "> lambda function contain single expression or statements.\n",
    "\n",
    "> lambda function assigned to a variable and use variable_name(arguments)"
   ]
  },
  {
   "cell_type": "code",
   "execution_count": 5,
   "id": "ef005680-d9e8-4498-9fc3-da66386dfce3",
   "metadata": {},
   "outputs": [
    {
     "name": "stdout",
     "output_type": "stream",
     "text": [
      "[2, 4, 6, 8, 10, 12, 14, 16, 18, 20]\n"
     ]
    }
   ],
   "source": [
    "cont=[]\n",
    "for i in range(1,11):\n",
    "    cont.append(2*i)\n",
    "print(cont)"
   ]
  },
  {
   "cell_type": "code",
   "execution_count": 6,
   "id": "0a928c80-3459-431b-b6cb-188fedb78365",
   "metadata": {},
   "outputs": [],
   "source": [
    "cont2=[i*2 for i in range(1,11)]"
   ]
  },
  {
   "cell_type": "code",
   "execution_count": 7,
   "id": "82c70e1d-c8d5-4e19-8e9d-61861ee14eb8",
   "metadata": {},
   "outputs": [
    {
     "data": {
      "text/plain": [
       "[2, 4, 6, 8, 10, 12, 14, 16, 18, 20]"
      ]
     },
     "execution_count": 7,
     "metadata": {},
     "output_type": "execute_result"
    }
   ],
   "source": [
    "cont2"
   ]
  },
  {
   "cell_type": "code",
   "execution_count": 8,
   "id": "0e411d5c-590d-4c9f-93a6-ac5f57dd5d96",
   "metadata": {},
   "outputs": [],
   "source": [
    "y=lambda :[i*2 for i in range(1,11)]"
   ]
  },
  {
   "cell_type": "code",
   "execution_count": 9,
   "id": "49f6ee7a-5cb8-4411-b73e-62925c53a470",
   "metadata": {},
   "outputs": [
    {
     "data": {
      "text/plain": [
       "[2, 4, 6, 8, 10, 12, 14, 16, 18, 20]"
      ]
     },
     "execution_count": 9,
     "metadata": {},
     "output_type": "execute_result"
    }
   ],
   "source": [
    "y()"
   ]
  },
  {
   "cell_type": "code",
   "execution_count": 13,
   "id": "c48a4198-cf97-41f1-8489-7c66116fc943",
   "metadata": {},
   "outputs": [
    {
     "name": "stdout",
     "output_type": "stream",
     "text": [
      "[2, 4, 6, 8]\n"
     ]
    }
   ],
   "source": [
    "cont=[]\n",
    "for i in range(1,10):\n",
    "    if i%2==0:\n",
    "        cont.append(i)\n",
    "print(cont)"
   ]
  },
  {
   "cell_type": "code",
   "execution_count": 27,
   "id": "47e59730-1fde-4338-a152-b4829c96cc04",
   "metadata": {},
   "outputs": [],
   "source": [
    "y=lambda :sum(set([i for i in range(1,11) if i%2==1]))"
   ]
  },
  {
   "cell_type": "code",
   "execution_count": 28,
   "id": "85501d91-6137-48cf-a38e-b777f6d0aa21",
   "metadata": {},
   "outputs": [
    {
     "data": {
      "text/plain": [
       "25"
      ]
     },
     "execution_count": 28,
     "metadata": {},
     "output_type": "execute_result"
    }
   ],
   "source": [
    "y()"
   ]
  },
  {
   "cell_type": "code",
   "execution_count": 26,
   "id": "b80b8a85-136e-44f4-9032-30925ff020d3",
   "metadata": {},
   "outputs": [
    {
     "data": {
      "text/plain": [
       "10"
      ]
     },
     "execution_count": 26,
     "metadata": {},
     "output_type": "execute_result"
    }
   ],
   "source": [
    "sum([1,2,3,4])"
   ]
  },
  {
   "cell_type": "code",
   "execution_count": 25,
   "id": "474ccc35-9108-4a25-9132-7a550401474f",
   "metadata": {},
   "outputs": [],
   "source": [
    "a=[1,2,3,4,5,6,7,8,9]"
   ]
  },
  {
   "cell_type": "code",
   "execution_count": 31,
   "id": "a47b5ce4-1640-406e-9587-40e600d79186",
   "metadata": {},
   "outputs": [
    {
     "name": "stdout",
     "output_type": "stream",
     "text": [
      "[1, 3, 5, 7, 9]\n",
      "[2, 4, 6, 8]\n"
     ]
    }
   ],
   "source": [
    "a=[1,2,3,4,5,6,7,8,9]\n",
    "odd=[]\n",
    "even=[]\n",
    "for i in a:\n",
    "    even.append(i) if i%2==0 else odd.append(i)\n",
    "print(odd)\n",
    "print(even)"
   ]
  },
  {
   "cell_type": "code",
   "execution_count": 39,
   "id": "752e8b16-cf00-46b4-a290-ee12bfe07170",
   "metadata": {},
   "outputs": [
    {
     "data": {
      "text/plain": [
       "[[2], [4], [6], [8]]"
      ]
     },
     "execution_count": 39,
     "metadata": {},
     "output_type": "execute_result"
    }
   ],
   "source": [
    "[[i] for i in a if i%2==0 ]"
   ]
  },
  {
   "cell_type": "markdown",
   "id": "52554e70-7121-40ee-bf3e-004c0bbcb276",
   "metadata": {},
   "source": [
    "> nested function\n",
    "\n",
    "> decorator\n",
    "\n",
    "> generator(yield)"
   ]
  },
  {
   "cell_type": "code",
   "execution_count": 3,
   "id": "14377ea7-5c83-4f4f-9fe9-9ed68551682c",
   "metadata": {},
   "outputs": [],
   "source": [
    "def intro():\n",
    "    print(\"I am AI Trainer\")"
   ]
  },
  {
   "cell_type": "code",
   "execution_count": 4,
   "id": "b78de07c-264b-4971-91c3-6135d1928ba5",
   "metadata": {},
   "outputs": [
    {
     "name": "stdout",
     "output_type": "stream",
     "text": [
      "I am AI Trainer\n"
     ]
    }
   ],
   "source": [
    "intro()"
   ]
  },
  {
   "cell_type": "code",
   "execution_count": 5,
   "id": "2a3c4d8f-fe3f-4fe6-8214-df21549354ab",
   "metadata": {},
   "outputs": [
    {
     "name": "stdout",
     "output_type": "stream",
     "text": [
      "I am krishna\n",
      "I am AI Trainer\n"
     ]
    }
   ],
   "source": [
    "print(\"I am krishna\")\n",
    "intro()"
   ]
  },
  {
   "cell_type": "code",
   "execution_count": 34,
   "id": "6d594995-aa3b-4aa4-9513-257d7653c1d0",
   "metadata": {},
   "outputs": [],
   "source": [
    "def super(arg):\n",
    "    def inner():\n",
    "        print(\"I am krishna\")\n",
    "        arg()\n",
    "    return inner\n"
   ]
  },
  {
   "cell_type": "code",
   "execution_count": 36,
   "id": "21223143-5ff0-4926-92e6-2ba25ed4723e",
   "metadata": {},
   "outputs": [
    {
     "name": "stdout",
     "output_type": "stream",
     "text": [
      "I am krishna\n",
      "I am AI Trainer\n"
     ]
    }
   ],
   "source": [
    "val=super(intro)\n",
    "val()"
   ]
  },
  {
   "cell_type": "code",
   "execution_count": 15,
   "id": "90a1a7ef-a1a9-4b40-83b8-149e36149223",
   "metadata": {},
   "outputs": [],
   "source": [
    "def inner():\n",
    "    return (\"I am krishna\")\n",
    "    "
   ]
  },
  {
   "cell_type": "code",
   "execution_count": 17,
   "id": "90b43af0-cfd9-4b86-9331-9402b73783df",
   "metadata": {},
   "outputs": [
    {
     "data": {
      "text/plain": [
       "'I am krishna'"
      ]
     },
     "execution_count": 17,
     "metadata": {},
     "output_type": "execute_result"
    }
   ],
   "source": [
    "inner()"
   ]
  },
  {
   "cell_type": "markdown",
   "id": "1971eeda-9af1-488b-8375-d07649b1a644",
   "metadata": {},
   "source": [
    "# decorator"
   ]
  },
  {
   "cell_type": "code",
   "execution_count": 30,
   "id": "69251132-4ee6-4d91-aecd-d0ab6a611919",
   "metadata": {},
   "outputs": [
    {
     "name": "stdout",
     "output_type": "stream",
     "text": [
      "I am krishna\n",
      "I am Ai Trainer\n"
     ]
    }
   ],
   "source": [
    "def super(arg):\n",
    "    def inner():\n",
    "        print(\"I am krishna\")\n",
    "        arg()\n",
    "    inner()\n",
    "\n",
    "@super\n",
    "def intro1():\n",
    "    print(\"I am Ai Trainer\")"
   ]
  },
  {
   "cell_type": "code",
   "execution_count": 25,
   "id": "45ff0af2-591b-47fe-8ea2-f75d1e5df2ec",
   "metadata": {},
   "outputs": [
    {
     "ename": "TypeError",
     "evalue": "'NoneType' object is not callable",
     "output_type": "error",
     "traceback": [
      "\u001b[1;31m---------------------------------------------------------------------------\u001b[0m",
      "\u001b[1;31mTypeError\u001b[0m                                 Traceback (most recent call last)",
      "Cell \u001b[1;32mIn[25], line 1\u001b[0m\n\u001b[1;32m----> 1\u001b[0m \u001b[43mintro1\u001b[49m\u001b[43m(\u001b[49m\u001b[43m)\u001b[49m\n",
      "\u001b[1;31mTypeError\u001b[0m: 'NoneType' object is not callable"
     ]
    }
   ],
   "source": [
    "intro1()"
   ]
  },
  {
   "cell_type": "markdown",
   "id": "30079db3-b25b-4ee4-97c2-c2cf0ac39503",
   "metadata": {},
   "source": [
    "# generator"
   ]
  },
  {
   "cell_type": "code",
   "execution_count": 40,
   "id": "d3c80f9b-658a-431a-8102-6b103860324d",
   "metadata": {},
   "outputs": [],
   "source": [
    "def counter():\n",
    "    yield 1\n",
    "    yield 2\n",
    "    yield 3"
   ]
  },
  {
   "cell_type": "code",
   "execution_count": 41,
   "id": "0ca5718d-0181-453a-97ec-5ca784bf682d",
   "metadata": {},
   "outputs": [],
   "source": [
    "a=counter()"
   ]
  },
  {
   "cell_type": "code",
   "execution_count": 42,
   "id": "7e0a309f-7ede-4756-aa06-b49ad3310afb",
   "metadata": {},
   "outputs": [
    {
     "data": {
      "text/plain": [
       "1"
      ]
     },
     "execution_count": 42,
     "metadata": {},
     "output_type": "execute_result"
    }
   ],
   "source": [
    "next(a)"
   ]
  },
  {
   "cell_type": "code",
   "execution_count": 43,
   "id": "e2f0ae38-6bec-4625-a410-8138b9ea2f0f",
   "metadata": {},
   "outputs": [
    {
     "data": {
      "text/plain": [
       "2"
      ]
     },
     "execution_count": 43,
     "metadata": {},
     "output_type": "execute_result"
    }
   ],
   "source": [
    "next(a)"
   ]
  },
  {
   "cell_type": "code",
   "execution_count": 44,
   "id": "45138bc4-460c-475f-9bf8-003e8c90b267",
   "metadata": {},
   "outputs": [
    {
     "data": {
      "text/plain": [
       "3"
      ]
     },
     "execution_count": 44,
     "metadata": {},
     "output_type": "execute_result"
    }
   ],
   "source": [
    "a.__next__()"
   ]
  },
  {
   "cell_type": "code",
   "execution_count": 45,
   "id": "6ba27437-3d22-4b4e-9dbe-89d6a453902a",
   "metadata": {},
   "outputs": [
    {
     "ename": "StopIteration",
     "evalue": "",
     "output_type": "error",
     "traceback": [
      "\u001b[1;31m---------------------------------------------------------------------------\u001b[0m",
      "\u001b[1;31mStopIteration\u001b[0m                             Traceback (most recent call last)",
      "Cell \u001b[1;32mIn[45], line 1\u001b[0m\n\u001b[1;32m----> 1\u001b[0m \u001b[43ma\u001b[49m\u001b[38;5;241;43m.\u001b[39;49m\u001b[38;5;21;43m__next__\u001b[39;49m\u001b[43m(\u001b[49m\u001b[43m)\u001b[49m\n",
      "\u001b[1;31mStopIteration\u001b[0m: "
     ]
    }
   ],
   "source": [
    "a.__next__()"
   ]
  },
  {
   "cell_type": "code",
   "execution_count": 46,
   "id": "e4510ac3-7a46-4325-99b6-c9b85e391280",
   "metadata": {},
   "outputs": [],
   "source": [
    "def new(a,b):\n",
    "    print(a-b)\n",
    "    "
   ]
  },
  {
   "cell_type": "code",
   "execution_count": 47,
   "id": "b6c788b2-409e-44c8-b1f0-7627aa13d2d8",
   "metadata": {},
   "outputs": [
    {
     "name": "stdout",
     "output_type": "stream",
     "text": [
      "-10\n"
     ]
    }
   ],
   "source": [
    "new(10,20)"
   ]
  },
  {
   "cell_type": "code",
   "execution_count": 49,
   "id": "a275754c-df4d-4572-aa6e-6a20b7ccac60",
   "metadata": {},
   "outputs": [
    {
     "name": "stdout",
     "output_type": "stream",
     "text": [
      "Enter 1st argument: 10\n",
      "Enter 2nd argument: 20\n"
     ]
    },
    {
     "name": "stdout",
     "output_type": "stream",
     "text": [
      "10\n"
     ]
    }
   ],
   "source": [
    "def dhava(new):\n",
    "    def sunny():\n",
    "        a=eval(input(\"Enter 1st argument:\"))\n",
    "        b=eval(input(\"Enter 2nd argument:\"))\n",
    "        if a<b:\n",
    "            a,b=b,a\n",
    "            new(a,b)\n",
    "    return sunny\n",
    "val=dhava(new)\n",
    "val()"
   ]
  },
  {
   "cell_type": "code",
   "execution_count": null,
   "id": "1373871f-b837-45b1-95c7-7a689e1e2536",
   "metadata": {},
   "outputs": [],
   "source": []
  }
 ],
 "metadata": {
  "kernelspec": {
   "display_name": "Python 3 (ipykernel)",
   "language": "python",
   "name": "python3"
  },
  "language_info": {
   "codemirror_mode": {
    "name": "ipython",
    "version": 3
   },
   "file_extension": ".py",
   "mimetype": "text/x-python",
   "name": "python",
   "nbconvert_exporter": "python",
   "pygments_lexer": "ipython3",
   "version": "3.11.4"
  }
 },
 "nbformat": 4,
 "nbformat_minor": 5
}
