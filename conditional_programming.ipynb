{
 "cells": [
  {
   "cell_type": "code",
   "execution_count": 1,
   "id": "56c91efc-df8b-483b-b130-24f01d1ce60f",
   "metadata": {},
   "outputs": [],
   "source": [
    "# > conditional programming\n",
    "\n",
    "#     >if else\n",
    "\n",
    "#         > nested if else\n",
    "\n",
    "#         > ternary operator\n",
    "\n",
    "#     > if elif else\n",
    "\n",
    "#         > nested if elif else"
   ]
  },
  {
   "cell_type": "code",
   "execution_count": 5,
   "id": "ea45e00a-78fc-4f2e-9650-87f3e83967a8",
   "metadata": {},
   "outputs": [
    {
     "ename": "IndentationError",
     "evalue": "unexpected indent (3117445229.py, line 3)",
     "output_type": "error",
     "traceback": [
      "\u001b[1;36m  Cell \u001b[1;32mIn[5], line 3\u001b[1;36m\u001b[0m\n\u001b[1;33m    print(\"hello world\")\u001b[0m\n\u001b[1;37m    ^\u001b[0m\n\u001b[1;31mIndentationError\u001b[0m\u001b[1;31m:\u001b[0m unexpected indent\n"
     ]
    }
   ],
   "source": [
    "print(\"hello world\")\n",
    "print(\"hello world\")\n",
    "    print(\"hello world\")\n",
    "print(\"hello world\")\n",
    "print(\"hello world\")\n",
    "print(\"hello world\")\n"
   ]
  },
  {
   "cell_type": "code",
   "execution_count": 6,
   "id": "eb195cf8-1b35-4110-b425-5a76c038ce2b",
   "metadata": {},
   "outputs": [
    {
     "name": "stdin",
     "output_type": "stream",
     "text": [
      " jnblkcjbasldkjfhas\n"
     ]
    }
   ],
   "source": [
    "user=input()"
   ]
  },
  {
   "cell_type": "code",
   "execution_count": 7,
   "id": "133c3750-299c-4bc8-8379-cd7b43e493f1",
   "metadata": {},
   "outputs": [
    {
     "name": "stdin",
     "output_type": "stream",
     "text": [
      "Enter your destination: Lucknow\n"
     ]
    }
   ],
   "source": [
    "user=input(\"Enter your destination:\")"
   ]
  },
  {
   "cell_type": "code",
   "execution_count": 8,
   "id": "50fdb402-606d-4e7f-a81b-423b33b53ce7",
   "metadata": {},
   "outputs": [
    {
     "name": "stdout",
     "output_type": "stream",
     "text": [
      "Lucknow\n"
     ]
    }
   ],
   "source": [
    "print(user)"
   ]
  },
  {
   "cell_type": "code",
   "execution_count": 10,
   "id": "ca45270a-a817-451f-9bf8-c694b4fa93be",
   "metadata": {},
   "outputs": [
    {
     "name": "stdout",
     "output_type": "stream",
     "text": [
      "I am going to Lucknow\n",
      "I will buy a water bottle\n",
      "I will stay in a hotel at night\n"
     ]
    }
   ],
   "source": [
    "if user==\"Lucknow\":\n",
    "    print(\"I am going to Lucknow\")\n",
    "    print(\"I will buy a water bottle\")\n",
    "    print(\"I will stay in a hotel at night\")\n"
   ]
  },
  {
   "cell_type": "code",
   "execution_count": 11,
   "id": "1e7019ce-4d57-4326-ac2f-193e2925b506",
   "metadata": {},
   "outputs": [
    {
     "name": "stdin",
     "output_type": "stream",
     "text": [
      "Enter your destination: kanpur\n"
     ]
    },
    {
     "name": "stdout",
     "output_type": "stream",
     "text": [
      "I am going to unknown\n"
     ]
    }
   ],
   "source": [
    "user=input(\"Enter your destination:\")\n",
    "if user==\"Lucknow\":\n",
    "    print(\"I am going to Lucknow\")\n",
    "    print(\"I will buy a water bottle\")\n",
    "    print(\"I will stay in a hotel at night\")\n",
    "else:\n",
    "    print(\"I am going to unknown\")"
   ]
  },
  {
   "cell_type": "code",
   "execution_count": 19,
   "id": "9195251e-cce6-4c64-a618-255fe6805d18",
   "metadata": {},
   "outputs": [
    {
     "name": "stdin",
     "output_type": "stream",
     "text": [
      "Enter a number: 10\n"
     ]
    },
    {
     "name": "stdout",
     "output_type": "stream",
     "text": [
      "Number is even\n"
     ]
    }
   ],
   "source": [
    "user=int(input(\"Enter a number:\"))\n",
    "if user%2==0:\n",
    "    print(\"Number is even\")\n",
    "else:\n",
    "    print(\"Number is odd\")"
   ]
  },
  {
   "cell_type": "code",
   "execution_count": 18,
   "id": "1e082c52-b94e-4b9c-9dc8-ff1ad3838bc3",
   "metadata": {},
   "outputs": [
    {
     "data": {
      "text/plain": [
       "0"
      ]
     },
     "execution_count": 18,
     "metadata": {},
     "output_type": "execute_result"
    }
   ],
   "source": [
    "10%2"
   ]
  },
  {
   "cell_type": "code",
   "execution_count": 20,
   "id": "4216d197-d4ce-40cd-ac21-ee46843fa0e5",
   "metadata": {},
   "outputs": [
    {
     "name": "stdin",
     "output_type": "stream",
     "text": [
      "Enter a number: 10\n"
     ]
    },
    {
     "name": "stdout",
     "output_type": "stream",
     "text": [
      "10 is even\n"
     ]
    }
   ],
   "source": [
    "user=int(input(\"Enter a number:\"))\n",
    "if user%2==0:\n",
    "    print(user,\"is even\")\n",
    "else:\n",
    "    print(\"Number is odd\")"
   ]
  },
  {
   "cell_type": "code",
   "execution_count": 22,
   "id": "7282e964-0c9f-47a9-ab1a-e9db7b0a992f",
   "metadata": {},
   "outputs": [
    {
     "name": "stdin",
     "output_type": "stream",
     "text": [
      "Enter a number: 11\n"
     ]
    },
    {
     "name": "stdout",
     "output_type": "stream",
     "text": [
      "11 is odd\n"
     ]
    }
   ],
   "source": [
    "user=int(input(\"Enter a number:\"))\n",
    "if user%2==0:\n",
    "    print(user,\"is even\")\n",
    "else:\n",
    "    print(f\"{user} is odd\")"
   ]
  },
  {
   "cell_type": "code",
   "execution_count": 24,
   "id": "cf94562e-a9f0-4c4c-be96-249baafdc481",
   "metadata": {},
   "outputs": [],
   "source": [
    "name=\"krishna\"\n",
    "age=27"
   ]
  },
  {
   "cell_type": "code",
   "execution_count": 26,
   "id": "06dd1d70-1312-4f17-a7a8-556fc9d08fe9",
   "metadata": {},
   "outputs": [
    {
     "name": "stdout",
     "output_type": "stream",
     "text": [
      "this is krishna and I am 27\n"
     ]
    }
   ],
   "source": [
    "print(f\"this is {name} and I am {age}\")"
   ]
  },
  {
   "cell_type": "code",
   "execution_count": 27,
   "id": "9dabea85-7456-4ce1-8f7e-72f1c9d37e43",
   "metadata": {},
   "outputs": [
    {
     "name": "stdout",
     "output_type": "stream",
     "text": [
      "this is krishna and I am 27\n"
     ]
    }
   ],
   "source": [
    "print(F\"this is {name} and I am {age}\")"
   ]
  },
  {
   "cell_type": "code",
   "execution_count": 28,
   "id": "3418127d-ec61-4a3b-8459-b3f285f301e7",
   "metadata": {},
   "outputs": [
    {
     "name": "stdout",
     "output_type": "stream",
     "text": [
      "this is krishna and I am 27\n"
     ]
    }
   ],
   "source": [
    "print(\"this is {} and I am {}\".format(name,age))"
   ]
  },
  {
   "cell_type": "code",
   "execution_count": 29,
   "id": "dd361483-ce4b-44e2-899c-49e6e5172525",
   "metadata": {},
   "outputs": [
    {
     "name": "stdout",
     "output_type": "stream",
     "text": [
      "this is krishna and I am 27\n"
     ]
    }
   ],
   "source": [
    "print(\"this is {0} and I am {1}\".format(name,age))"
   ]
  },
  {
   "cell_type": "code",
   "execution_count": 30,
   "id": "dbbfd288-bdd4-48aa-8ca6-3e6e9136f8af",
   "metadata": {},
   "outputs": [
    {
     "name": "stdout",
     "output_type": "stream",
     "text": [
      "this is 27 and I am krishna\n"
     ]
    }
   ],
   "source": [
    "print(\"this is {1} and I am {0}\".format(name,age))"
   ]
  },
  {
   "cell_type": "code",
   "execution_count": 31,
   "id": "1f75c578-ad5e-4d53-8434-fd73b2068c98",
   "metadata": {},
   "outputs": [
    {
     "name": "stdout",
     "output_type": "stream",
     "text": [
      "this is krishna and I am 27\n"
     ]
    }
   ],
   "source": [
    "print(\"this is {1} and I am {0}\".format(age,name))"
   ]
  },
  {
   "cell_type": "markdown",
   "id": "1523b414-6423-4504-9fd3-525a09c7d28c",
   "metadata": {},
   "source": [
    "# nested if else"
   ]
  },
  {
   "cell_type": "code",
   "execution_count": 10,
   "id": "e937c0d9-dbe0-4b8e-aa69-d6f86da0cce9",
   "metadata": {},
   "outputs": [
    {
     "name": "stdin",
     "output_type": "stream",
     "text": [
      "Enter a number : 0\n"
     ]
    }
   ],
   "source": [
    "user=int(input(\"Enter a number :\"))"
   ]
  },
  {
   "cell_type": "code",
   "execution_count": 11,
   "id": "e5d73a1b-d79c-4126-a740-8a42be0d03ac",
   "metadata": {},
   "outputs": [
    {
     "data": {
      "text/plain": [
       "int"
      ]
     },
     "execution_count": 11,
     "metadata": {},
     "output_type": "execute_result"
    }
   ],
   "source": [
    "type(user)"
   ]
  },
  {
   "cell_type": "code",
   "execution_count": 14,
   "id": "43f77bfa-ff93-43ae-ad68-1f6a941339d2",
   "metadata": {},
   "outputs": [
    {
     "name": "stdout",
     "output_type": "stream",
     "text": [
      "Positive number\n"
     ]
    }
   ],
   "source": [
    "if user>=0:\n",
    "    print(\"Positive number\")\n",
    "else:\n",
    "    print(\"Negative number\")"
   ]
  },
  {
   "cell_type": "code",
   "execution_count": 15,
   "id": "a6ac0e64-cbcb-4182-96bf-d9cbac13ce48",
   "metadata": {},
   "outputs": [
    {
     "name": "stdin",
     "output_type": "stream",
     "text": [
      "Enter a number : 10\n"
     ]
    },
    {
     "name": "stdout",
     "output_type": "stream",
     "text": [
      "Positive number\n"
     ]
    }
   ],
   "source": [
    "user=int(input(\"Enter a number :\"))\n",
    "if user>=0:\n",
    "    print(\"Positive number\")\n",
    "else:\n",
    "    print(\"Negative number\")"
   ]
  },
  {
   "cell_type": "code",
   "execution_count": 16,
   "id": "952be6bc-337f-4e7c-b4eb-054bf9686f12",
   "metadata": {},
   "outputs": [
    {
     "name": "stdin",
     "output_type": "stream",
     "text": [
      "Enter a number : -10\n"
     ]
    },
    {
     "name": "stdout",
     "output_type": "stream",
     "text": [
      "Negative number\n"
     ]
    }
   ],
   "source": [
    "user=int(input(\"Enter a number :\"))\n",
    "if user>=0:\n",
    "    print(\"Positive number\")\n",
    "else:\n",
    "    print(\"Negative number\")"
   ]
  },
  {
   "cell_type": "code",
   "execution_count": 21,
   "id": "c4bd5a47-e852-4c3a-b582-1f83f1a3cdfd",
   "metadata": {},
   "outputs": [
    {
     "name": "stdin",
     "output_type": "stream",
     "text": [
      "Enter a number : 10\n"
     ]
    },
    {
     "name": "stdout",
     "output_type": "stream",
     "text": [
      "Positive number\n",
      "even number\n"
     ]
    }
   ],
   "source": [
    "user=int(input(\"Enter a number :\"))\n",
    "if user>=0:\n",
    "    print(\"Positive number\")\n",
    "    if user%2==0:\n",
    "        print(\"even number\")\n",
    "else:\n",
    "    print(\"Negative number\")"
   ]
  },
  {
   "cell_type": "code",
   "execution_count": 19,
   "id": "db342324-8d25-4b99-a5cc-e67ecdcec666",
   "metadata": {},
   "outputs": [
    {
     "data": {
      "text/plain": [
       "True"
      ]
     },
     "execution_count": 19,
     "metadata": {},
     "output_type": "execute_result"
    }
   ],
   "source": [
    "user%2==0"
   ]
  },
  {
   "cell_type": "code",
   "execution_count": 20,
   "id": "51f4fea1-1678-4454-9f14-b608fb47ed72",
   "metadata": {},
   "outputs": [
    {
     "data": {
      "text/plain": [
       "-10"
      ]
     },
     "execution_count": 20,
     "metadata": {},
     "output_type": "execute_result"
    }
   ],
   "source": [
    "user"
   ]
  },
  {
   "cell_type": "code",
   "execution_count": 22,
   "id": "1fc151db-eb18-487c-9ac1-6ce9514fa510",
   "metadata": {},
   "outputs": [
    {
     "name": "stdin",
     "output_type": "stream",
     "text": [
      "Enter a number : -100000000000000000000000000000000000000000000000001\n"
     ]
    },
    {
     "name": "stdout",
     "output_type": "stream",
     "text": [
      "Negative number\n",
      "odd number1\n"
     ]
    }
   ],
   "source": [
    "user=int(input(\"Enter a number :\"))\n",
    "if user>=0:\n",
    "    print(\"Positive number\")\n",
    "    if user%2==0:\n",
    "        print(\"even number\")\n",
    "    else:\n",
    "        print(\"odd number\")\n",
    "else:\n",
    "    print(\"Negative number\")\n",
    "    if user%2==0:\n",
    "        print(\"even number1\")\n",
    "    else:\n",
    "        print(\"odd number1\")"
   ]
  },
  {
   "cell_type": "markdown",
   "id": "380338b8-a68b-402f-aa4a-047a2ea1a19d",
   "metadata": {},
   "source": [
    "# if elif else"
   ]
  },
  {
   "cell_type": "code",
   "execution_count": 23,
   "id": "eb60ce92-384f-4be9-bee3-67eb22991257",
   "metadata": {},
   "outputs": [
    {
     "name": "stdin",
     "output_type": "stream",
     "text": [
      "Choose an option: A\n"
     ]
    }
   ],
   "source": [
    "user=input(\"Choose an option:\")"
   ]
  },
  {
   "cell_type": "code",
   "execution_count": 30,
   "id": "4edc12ba-a4a8-4da1-8dd8-d0c718d53776",
   "metadata": {},
   "outputs": [
    {
     "name": "stdout",
     "output_type": "stream",
     "text": [
      "option A\n"
     ]
    }
   ],
   "source": [
    "if user==\"A\":\n",
    "    print(\"option A\")\n",
    "elif user==\"B\":\n",
    "    print(\"option B\")\n",
    "elif user==\"C\":\n",
    "    print(\"option C\")\n",
    "elif user==\"D\":\n",
    "    print(\"option D\")\n",
    "else:\n",
    "    print(\"Kindly choose a valid option\")"
   ]
  },
  {
   "cell_type": "code",
   "execution_count": 31,
   "id": "5d95c530-5d7a-4eeb-881b-34c6d48f80d9",
   "metadata": {},
   "outputs": [
    {
     "name": "stdin",
     "output_type": "stream",
     "text": [
      "Choose an option: B\n"
     ]
    },
    {
     "name": "stdout",
     "output_type": "stream",
     "text": [
      "option B\n"
     ]
    }
   ],
   "source": [
    "user=input(\"Choose an option:\")\n",
    "if user==\"A\":\n",
    "    print(\"option A\")\n",
    "elif user==\"B\":\n",
    "    print(\"option B\")\n",
    "elif user==\"C\":\n",
    "    print(\"option C\")\n",
    "elif user==\"D\":\n",
    "    print(\"option D\")\n",
    "else:\n",
    "    print(\"Kindly choose a valid option\")"
   ]
  },
  {
   "cell_type": "code",
   "execution_count": null,
   "id": "308c03ae-954b-4cc2-a4fb-0f4e820e21e4",
   "metadata": {},
   "outputs": [],
   "source": [
    "user=input(\"Choose an option:\")\n",
    "if user==\"A\":\n",
    "    print(\"option A\")\n",
    "elif user==\"B\":\n",
    "    print(\"option B\")\n",
    "elif user==\"C\":\n",
    "    print(\"option C\")\n",
    "elif user==\"D\":\n",
    "    print(\"option D\")\n",
    "else:\n",
    "    print(\"Kindly choose a valid option\")"
   ]
  },
  {
   "cell_type": "code",
   "execution_count": 34,
   "id": "61e8e9d3-b1c7-4231-abb0-15b8c02fce88",
   "metadata": {},
   "outputs": [
    {
     "name": "stdin",
     "output_type": "stream",
     "text": [
      "Enter you age : 10\n"
     ]
    }
   ],
   "source": [
    "age=int(input(\"Enter you age :\"))\n"
   ]
  },
  {
   "cell_type": "code",
   "execution_count": 35,
   "id": "53520e41-7cac-4fee-b657-e59bac7e6b43",
   "metadata": {},
   "outputs": [
    {
     "data": {
      "text/plain": [
       "10"
      ]
     },
     "execution_count": 35,
     "metadata": {},
     "output_type": "execute_result"
    }
   ],
   "source": [
    "age"
   ]
  },
  {
   "cell_type": "code",
   "execution_count": 36,
   "id": "94c886fa-5269-4984-b9a7-27279de9a9b6",
   "metadata": {},
   "outputs": [
    {
     "data": {
      "text/plain": [
       "True"
      ]
     },
     "execution_count": 36,
     "metadata": {},
     "output_type": "execute_result"
    }
   ],
   "source": [
    "age>0"
   ]
  },
  {
   "cell_type": "code",
   "execution_count": 37,
   "id": "6c9f4ca9-9fc4-4c7c-98c2-fd095fbb58b9",
   "metadata": {},
   "outputs": [
    {
     "data": {
      "text/plain": [
       "True"
      ]
     },
     "execution_count": 37,
     "metadata": {},
     "output_type": "execute_result"
    }
   ],
   "source": [
    "age<=18"
   ]
  },
  {
   "cell_type": "code",
   "execution_count": 40,
   "id": "16d6d7ad-3987-42cf-9d23-d890fb4321a6",
   "metadata": {},
   "outputs": [
    {
     "name": "stdout",
     "output_type": "stream",
     "text": [
      "I will give you books\n"
     ]
    }
   ],
   "source": [
    "if age>0 and age<=18:\n",
    "    print(\"I will give you books\")\n",
    "elif age>18 and age<=60:\n",
    "    print(\"I will give you vehicle\")\n",
    "else:\n",
    "    print(\"I will give you clothes\")"
   ]
  },
  {
   "cell_type": "code",
   "execution_count": 48,
   "id": "3ce3aa29-f89f-4f90-be78-77675aeee809",
   "metadata": {},
   "outputs": [
    {
     "name": "stdin",
     "output_type": "stream",
     "text": [
      "Enter you age : 35\n"
     ]
    },
    {
     "name": "stdout",
     "output_type": "stream",
     "text": [
      "I will give you car\n"
     ]
    }
   ],
   "source": [
    "age=int(input(\"Enter you age :\"))\n",
    "if age>0 and age<=18:\n",
    "    if age>0 and age<=5:\n",
    "        print(\"I will give you chocolate\")\n",
    "    elif age>5 and age<=15:\n",
    "        print(\"I will give you books\")\n",
    "    else:\n",
    "        print(\"I will give you phone\")\n",
    "elif age>18 and age<=60:\n",
    "    if age>18 and age<=30:\n",
    "        print(\"I will give you KTM\")\n",
    "    else:\n",
    "        print(\"I will give you car\")\n",
    "else:\n",
    "    print(\"I will give you clothes\")"
   ]
  },
  {
   "cell_type": "code",
   "execution_count": 57,
   "id": "8296ea48-94f5-4814-9c80-7a9b07189f7c",
   "metadata": {},
   "outputs": [
    {
     "name": "stdin",
     "output_type": "stream",
     "text": [
      "Enter you age : 10\n"
     ]
    },
    {
     "name": "stdout",
     "output_type": "stream",
     "text": [
      "I will give you books 10.0\n"
     ]
    }
   ],
   "source": [
    "age=float(input(\"Enter you age :\"))\n",
    "if age>0 and age<=18:\n",
    "    if age>0 and age<=5:\n",
    "        print(F\"I will give you chocolate {age}\")\n",
    "    elif age>5 and age<=15:\n",
    "        print(f\"I will give you books {age}\")\n",
    "    else:\n",
    "        print(\"I will give you phone {}\".format(age))\n",
    "elif age>18 and age<=60:\n",
    "    if age>18 and age<=30:\n",
    "        print(\"I will give you KTM\",age)\n",
    "    else:\n",
    "        print(\"I will give you car\")\n",
    "else:\n",
    "    print(\"I will give you clothes\")"
   ]
  },
  {
   "cell_type": "code",
   "execution_count": 59,
   "id": "68bf2633-7209-4968-a5fe-31991d52e218",
   "metadata": {},
   "outputs": [
    {
     "name": "stdin",
     "output_type": "stream",
     "text": [
      "Enter you age : 10.25\n"
     ]
    },
    {
     "name": "stdout",
     "output_type": "stream",
     "text": [
      "I will give you books 10.25\n"
     ]
    }
   ],
   "source": [
    "age=eval(input(\"Enter you age :\"))\n",
    "if age>0 and age<=18:\n",
    "    if age>0 and age<=5:\n",
    "        print(F\"I will give you chocolate {age}\")\n",
    "    elif age>5 and age<=15:\n",
    "        print(f\"I will give you books {age}\")\n",
    "    else:\n",
    "        print(\"I will give you phone {}\".format(age))\n",
    "elif age>18 and age<=60:\n",
    "    if age>18 and age<=30:\n",
    "        print(\"I will give you KTM\",age)\n",
    "    else:\n",
    "        print(\"I will give you car\")\n",
    "else:\n",
    "    print(\"I will give you clothes\")"
   ]
  },
  {
   "cell_type": "code",
   "execution_count": 60,
   "id": "96ce3b56-2804-414e-8e0c-8eb54229dc2d",
   "metadata": {},
   "outputs": [
    {
     "name": "stdin",
     "output_type": "stream",
     "text": [
      "Enter you age : 10.25age\n"
     ]
    },
    {
     "ename": "SyntaxError",
     "evalue": "invalid decimal literal (<string>, line 1)",
     "output_type": "error",
     "traceback": [
      "Traceback \u001b[1;36m(most recent call last)\u001b[0m:\n",
      "\u001b[0m  File \u001b[0;32m~\\AppData\\Local\\Programs\\Python\\Python311\\Lib\\site-packages\\IPython\\core\\interactiveshell.py:3508\u001b[0m in \u001b[0;35mrun_code\u001b[0m\n    exec(code_obj, self.user_global_ns, self.user_ns)\u001b[0m\n",
      "\u001b[1;36m  Cell \u001b[1;32mIn[60], line 1\u001b[1;36m\n\u001b[1;33m    age=eval(input(\"Enter you age :\"))\u001b[1;36m\n",
      "\u001b[1;36m  File \u001b[1;32m<string>:1\u001b[1;36m\u001b[0m\n\u001b[1;33m    10.25age\u001b[0m\n\u001b[1;37m        ^\u001b[0m\n\u001b[1;31mSyntaxError\u001b[0m\u001b[1;31m:\u001b[0m invalid decimal literal\n"
     ]
    }
   ],
   "source": [
    "age=eval(input(\"Enter you age :\"))\n",
    "if age>0 and age<=18:\n",
    "    if age>0 and age<=5:\n",
    "        print(F\"I will give you chocolate {age}\")\n",
    "    elif age>5 and age<=15:\n",
    "        print(f\"I will give you books {age}\")\n",
    "    else:\n",
    "        print(\"I will give you phone {}\".format(age))\n",
    "elif age>18 and age<=60:\n",
    "    if age>18 and age<=30:\n",
    "        print(\"I will give you KTM\",age)\n",
    "    else:\n",
    "        print(\"I will give you car\")\n",
    "else:\n",
    "    print(\"I will give you clothes\")"
   ]
  },
  {
   "cell_type": "code",
   "execution_count": 61,
   "id": "6b6aa954-7116-466e-90db-6f4dd1b18277",
   "metadata": {},
   "outputs": [],
   "source": [
    "import re"
   ]
  },
  {
   "cell_type": "code",
   "execution_count": 64,
   "id": "9f85b5f0-299f-4732-b215-9477252d4b62",
   "metadata": {},
   "outputs": [
    {
     "name": "stdin",
     "output_type": "stream",
     "text": [
      "Enter you age : 10.25age\n"
     ]
    },
    {
     "data": {
      "text/plain": [
       "'10.25'"
      ]
     },
     "execution_count": 64,
     "metadata": {},
     "output_type": "execute_result"
    }
   ],
   "source": [
    "age=input(\"Enter you age :\")\n",
    "age=re.sub(\"[A-z]\",\"\",age)"
   ]
  },
  {
   "cell_type": "code",
   "execution_count": 67,
   "id": "c59dc936-6fec-4703-b5c7-03686c43d390",
   "metadata": {},
   "outputs": [
    {
     "name": "stdin",
     "output_type": "stream",
     "text": [
      "Enter you age : 10.25\n"
     ]
    },
    {
     "name": "stdout",
     "output_type": "stream",
     "text": [
      "I will give you books 10.25\n"
     ]
    }
   ],
   "source": [
    "age=input(\"Enter you age :\")\n",
    "age=eval(re.sub(\"[A-z]\",\"\",age))\n",
    "if age>0 and age<=18:\n",
    "    if age>0 and age<=5:\n",
    "        print(F\"I will give you chocolate {age}\")\n",
    "    elif age>5 and age<=15:\n",
    "        print(f\"I will give you books {age}\")\n",
    "    else:\n",
    "        print(\"I will give you phone {}\".format(age))\n",
    "elif age>18 and age<=60:\n",
    "    if age>18 and age<=30:\n",
    "        print(\"I will give you KTM\",age)\n",
    "    else:\n",
    "        print(\"I will give you car\")\n",
    "else:\n",
    "    print(\"I will give you clothes\")"
   ]
  },
  {
   "cell_type": "code",
   "execution_count": 68,
   "id": "97c6d1c3-b6b7-4d77-b7bd-de2b8dafaafb",
   "metadata": {},
   "outputs": [
    {
     "name": "stdin",
     "output_type": "stream",
     "text": [
      "Enter you age : 10.25age.\n"
     ]
    },
    {
     "ename": "SyntaxError",
     "evalue": "invalid syntax (<string>, line 1)",
     "output_type": "error",
     "traceback": [
      "Traceback \u001b[1;36m(most recent call last)\u001b[0m:\n",
      "\u001b[0m  File \u001b[0;32m~\\AppData\\Local\\Programs\\Python\\Python311\\Lib\\site-packages\\IPython\\core\\interactiveshell.py:3508\u001b[0m in \u001b[0;35mrun_code\u001b[0m\n    exec(code_obj, self.user_global_ns, self.user_ns)\u001b[0m\n",
      "\u001b[1;36m  Cell \u001b[1;32mIn[68], line 2\u001b[1;36m\n\u001b[1;33m    age=eval(re.sub(\"[A-z]\",\"\",age))\u001b[1;36m\n",
      "\u001b[1;36m  File \u001b[1;32m<string>:1\u001b[1;36m\u001b[0m\n\u001b[1;33m    10.25.\u001b[0m\n\u001b[1;37m         ^\u001b[0m\n\u001b[1;31mSyntaxError\u001b[0m\u001b[1;31m:\u001b[0m invalid syntax\n"
     ]
    }
   ],
   "source": [
    "age=input(\"Enter you age :\")\n",
    "age=eval(re.sub(\"[A-z]\",\"\",age))\n",
    "if age>0 and age<=18:\n",
    "    if age>0 and age<=5:\n",
    "        print(F\"I will give you chocolate {age}\")\n",
    "    elif age>5 and age<=15:\n",
    "        print(f\"I will give you books {age}\")\n",
    "    else:\n",
    "        print(\"I will give you phone {}\".format(age))\n",
    "elif age>18 and age<=60:\n",
    "    if age>18 and age<=30:\n",
    "        print(\"I will give you KTM\",age)\n",
    "    else:\n",
    "        print(\"I will give you car\")\n",
    "else:\n",
    "    print(\"I will give you clothes\")"
   ]
  },
  {
   "cell_type": "code",
   "execution_count": 69,
   "id": "eb7ce8ad-b05d-4c87-ba06-5a56d5944fcc",
   "metadata": {},
   "outputs": [
    {
     "name": "stdin",
     "output_type": "stream",
     "text": [
      "Enter you age : 10.25age\n"
     ]
    },
    {
     "data": {
      "text/plain": [
       "'10.25'"
      ]
     },
     "execution_count": 69,
     "metadata": {},
     "output_type": "execute_result"
    }
   ],
   "source": [
    "age=input(\"Enter you age :\")\n",
    "re.sub(\"[A-z]\",\"\",age)"
   ]
  },
  {
   "cell_type": "code",
   "execution_count": 71,
   "id": "f625d435-1992-45f5-a948-9a138fdd342f",
   "metadata": {},
   "outputs": [
    {
     "name": "stdin",
     "output_type": "stream",
     "text": [
      "Enter you age : 10.25age.\n"
     ]
    },
    {
     "data": {
      "text/plain": [
       "'1025'"
      ]
     },
     "execution_count": 71,
     "metadata": {},
     "output_type": "execute_result"
    }
   ],
   "source": [
    "age=input(\"Enter you age :\")\n",
    "re.sub(\"[A-z.]\",\"\",age)"
   ]
  },
  {
   "cell_type": "code",
   "execution_count": 4,
   "id": "0b508b89-4058-4f2c-942b-674a3bf02ed2",
   "metadata": {},
   "outputs": [
    {
     "name": "stdin",
     "output_type": "stream",
     "text": [
      "Enter a number: -10\n"
     ]
    },
    {
     "name": "stdout",
     "output_type": "stream",
     "text": [
      "Number is even\n"
     ]
    }
   ],
   "source": [
    "user=int(input(\"Enter a number:\"))\n",
    "if user%2==0:\n",
    "    print(\"Number is even\")\n",
    "else:\n",
    "    print(\"Number is odd\")"
   ]
  },
  {
   "cell_type": "code",
   "execution_count": 7,
   "id": "f6cbe17a-3800-4711-8d42-e5ab6b0225c3",
   "metadata": {},
   "outputs": [
    {
     "name": "stdin",
     "output_type": "stream",
     "text": [
      "Enter a number: 10\n"
     ]
    },
    {
     "name": "stdout",
     "output_type": "stream",
     "text": [
      "Number is even\n"
     ]
    }
   ],
   "source": [
    "user=int(input(\"Enter a number:\"))\n",
    "print(\"Number is even\") if user%2==0 else print(\"Number is odd\")"
   ]
  },
  {
   "cell_type": "code",
   "execution_count": null,
   "id": "f5578263-87de-4abf-b0e1-f86704350aee",
   "metadata": {},
   "outputs": [],
   "source": []
  }
 ],
 "metadata": {
  "kernelspec": {
   "display_name": "Python 3 (ipykernel)",
   "language": "python",
   "name": "python3"
  },
  "language_info": {
   "codemirror_mode": {
    "name": "ipython",
    "version": 3
   },
   "file_extension": ".py",
   "mimetype": "text/x-python",
   "name": "python",
   "nbconvert_exporter": "python",
   "pygments_lexer": "ipython3",
   "version": "3.11.5"
  }
 },
 "nbformat": 4,
 "nbformat_minor": 5
}
