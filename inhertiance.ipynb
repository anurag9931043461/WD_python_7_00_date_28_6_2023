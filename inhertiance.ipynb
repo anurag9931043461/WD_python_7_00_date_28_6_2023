{
 "cells": [
  {
   "cell_type": "code",
   "execution_count": 1,
   "id": "977ee9c1-cd0c-4312-ac36-55c246127f86",
   "metadata": {},
   "outputs": [],
   "source": [
    "class Networking:\n",
    "    def Network(self):\n",
    "        print(\"Network is ok\")\n",
    "class Graphic:\n",
    "    def design(self):\n",
    "        print(\"Design is ok\")\n",
    "\n",
    "class Database:\n",
    "    def db(self):\n",
    "        print(\"DB is ok\")"
   ]
  },
  {
   "cell_type": "code",
   "execution_count": null,
   "id": "fc99536c-fb71-449c-8bf6-27f793c5e8f8",
   "metadata": {},
   "outputs": [],
   "source": []
  }
 ],
 "metadata": {
  "kernelspec": {
   "display_name": "Python 3 (ipykernel)",
   "language": "python",
   "name": "python3"
  },
  "language_info": {
   "codemirror_mode": {
    "name": "ipython",
    "version": 3
   },
   "file_extension": ".py",
   "mimetype": "text/x-python",
   "name": "python",
   "nbconvert_exporter": "python",
   "pygments_lexer": "ipython3",
   "version": "3.11.5"
  }
 },
 "nbformat": 4,
 "nbformat_minor": 5
}
