{
 "cells": [
  {
   "cell_type": "markdown",
   "id": "2d5ee352-c7e9-470c-b2bf-4f786d8cc5ba",
   "metadata": {},
   "source": [
    "# boolean\n",
    "\n",
    "> boolean constructor is bool()\n",
    "\n",
    "> boolean literal is False"
   ]
  },
  {
   "cell_type": "code",
   "execution_count": 1,
   "id": "f3c9c710-8063-4e4a-a3bc-2e115aba06a4",
   "metadata": {},
   "outputs": [],
   "source": [
    "a=bool()"
   ]
  },
  {
   "cell_type": "code",
   "execution_count": 2,
   "id": "335bf75b-2de0-4ca3-80b3-f2d165bb5746",
   "metadata": {},
   "outputs": [
    {
     "name": "stdout",
     "output_type": "stream",
     "text": [
      "False\n"
     ]
    }
   ],
   "source": [
    "print(a)"
   ]
  },
  {
   "cell_type": "code",
   "execution_count": 3,
   "id": "299ce4cf-dd29-4572-8a30-61379a5915d0",
   "metadata": {},
   "outputs": [
    {
     "name": "stdout",
     "output_type": "stream",
     "text": [
      "hello world\n"
     ]
    }
   ],
   "source": [
    "print(\"hello world\")"
   ]
  },
  {
   "cell_type": "code",
   "execution_count": 10,
   "id": "48af23f6-9018-4d0f-a06a-7ce67bb3e248",
   "metadata": {},
   "outputs": [
    {
     "name": "stdout",
     "output_type": "stream",
     "text": [
      "hello world\n"
     ]
    }
   ],
   "source": [
    "print(\"hello world\")"
   ]
  },
  {
   "cell_type": "code",
   "execution_count": 11,
   "id": "4472359f-6b4f-4026-8415-05df789ae5d1",
   "metadata": {},
   "outputs": [],
   "source": [
    "# python reservered keyword never used as variable name "
   ]
  },
  {
   "cell_type": "code",
   "execution_count": 12,
   "id": "af3ba5a4-6684-4b5b-8f35-0549b330159d",
   "metadata": {},
   "outputs": [],
   "source": [
    "# False means nothing ,None, int(),str(), float(),list(),tuple(),set(),frozenset(),dict(),complex(),bool(),False,0,0.0,'',\"\",\"\"\"\"\"\"\n",
    "# '''''',[],(),{},0j,"
   ]
  },
  {
   "cell_type": "code",
   "execution_count": 13,
   "id": "da280507-d3aa-4928-b15d-821410c5d6e8",
   "metadata": {},
   "outputs": [
    {
     "data": {
      "text/plain": [
       "False"
      ]
     },
     "execution_count": 13,
     "metadata": {},
     "output_type": "execute_result"
    }
   ],
   "source": [
    "bool(False)"
   ]
  },
  {
   "cell_type": "code",
   "execution_count": 14,
   "id": "5004ed6a-53c6-4675-9c80-82635e8b8144",
   "metadata": {},
   "outputs": [
    {
     "data": {
      "text/plain": [
       "False"
      ]
     },
     "execution_count": 14,
     "metadata": {},
     "output_type": "execute_result"
    }
   ],
   "source": [
    "bool(None)"
   ]
  },
  {
   "cell_type": "code",
   "execution_count": 15,
   "id": "a6d863a1-c90e-4902-86b3-99c5c3001453",
   "metadata": {},
   "outputs": [
    {
     "data": {
      "text/plain": [
       "False"
      ]
     },
     "execution_count": 15,
     "metadata": {},
     "output_type": "execute_result"
    }
   ],
   "source": [
    "bool(int())"
   ]
  },
  {
   "cell_type": "code",
   "execution_count": 16,
   "id": "1604bd11-34da-472d-ad23-d0899bd904ab",
   "metadata": {},
   "outputs": [
    {
     "data": {
      "text/plain": [
       "False"
      ]
     },
     "execution_count": 16,
     "metadata": {},
     "output_type": "execute_result"
    }
   ],
   "source": [
    "bool(float())"
   ]
  },
  {
   "cell_type": "code",
   "execution_count": 17,
   "id": "d83ee566-0499-437a-9066-2184dcc8cb74",
   "metadata": {},
   "outputs": [
    {
     "data": {
      "text/plain": [
       "False"
      ]
     },
     "execution_count": 17,
     "metadata": {},
     "output_type": "execute_result"
    }
   ],
   "source": [
    "bool(str())"
   ]
  },
  {
   "cell_type": "code",
   "execution_count": 18,
   "id": "57b68abf-e149-45f0-9434-2427f96547c6",
   "metadata": {},
   "outputs": [
    {
     "data": {
      "text/plain": [
       "False"
      ]
     },
     "execution_count": 18,
     "metadata": {},
     "output_type": "execute_result"
    }
   ],
   "source": [
    "bool(list())"
   ]
  },
  {
   "cell_type": "code",
   "execution_count": 19,
   "id": "07a4d340-1c75-457e-9a94-331db7ada34b",
   "metadata": {},
   "outputs": [
    {
     "data": {
      "text/plain": [
       "False"
      ]
     },
     "execution_count": 19,
     "metadata": {},
     "output_type": "execute_result"
    }
   ],
   "source": [
    "bool(tuple())"
   ]
  },
  {
   "cell_type": "code",
   "execution_count": 20,
   "id": "137457c9-d9af-4c84-921a-dfd148275dfb",
   "metadata": {},
   "outputs": [
    {
     "data": {
      "text/plain": [
       "False"
      ]
     },
     "execution_count": 20,
     "metadata": {},
     "output_type": "execute_result"
    }
   ],
   "source": [
    "bool(set())"
   ]
  },
  {
   "cell_type": "code",
   "execution_count": 21,
   "id": "c504b8d4-c3bd-4fe0-a7bd-42ee33572622",
   "metadata": {},
   "outputs": [
    {
     "data": {
      "text/plain": [
       "False"
      ]
     },
     "execution_count": 21,
     "metadata": {},
     "output_type": "execute_result"
    }
   ],
   "source": [
    "bool(frozenset())"
   ]
  },
  {
   "cell_type": "code",
   "execution_count": 22,
   "id": "5387c33b-5750-4511-b2fc-7a9add35ccba",
   "metadata": {},
   "outputs": [
    {
     "data": {
      "text/plain": [
       "False"
      ]
     },
     "execution_count": 22,
     "metadata": {},
     "output_type": "execute_result"
    }
   ],
   "source": [
    "bool(complex())"
   ]
  },
  {
   "cell_type": "code",
   "execution_count": 23,
   "id": "8215dc7b-6c5a-4704-ba26-fe2fdac62d04",
   "metadata": {},
   "outputs": [
    {
     "data": {
      "text/plain": [
       "False"
      ]
     },
     "execution_count": 23,
     "metadata": {},
     "output_type": "execute_result"
    }
   ],
   "source": [
    "bool(dict())"
   ]
  },
  {
   "cell_type": "code",
   "execution_count": 24,
   "id": "b5a30055-8123-49f5-8e70-d9b17ae2dcf3",
   "metadata": {},
   "outputs": [
    {
     "data": {
      "text/plain": [
       "False"
      ]
     },
     "execution_count": 24,
     "metadata": {},
     "output_type": "execute_result"
    }
   ],
   "source": [
    "bool(bool())"
   ]
  },
  {
   "cell_type": "code",
   "execution_count": 25,
   "id": "de8dd4de-9d47-4f66-9f01-840c7135cd37",
   "metadata": {},
   "outputs": [
    {
     "data": {
      "text/plain": [
       "False"
      ]
     },
     "execution_count": 25,
     "metadata": {},
     "output_type": "execute_result"
    }
   ],
   "source": [
    "bool(0)"
   ]
  },
  {
   "cell_type": "code",
   "execution_count": 26,
   "id": "2ab54262-2f76-4efc-91f1-a1da22cff610",
   "metadata": {},
   "outputs": [
    {
     "data": {
      "text/plain": [
       "False"
      ]
     },
     "execution_count": 26,
     "metadata": {},
     "output_type": "execute_result"
    }
   ],
   "source": [
    "bool(0.0)"
   ]
  },
  {
   "cell_type": "code",
   "execution_count": 27,
   "id": "069df8ba-5409-434f-910e-18fc99fcbb03",
   "metadata": {},
   "outputs": [
    {
     "data": {
      "text/plain": [
       "False"
      ]
     },
     "execution_count": 27,
     "metadata": {},
     "output_type": "execute_result"
    }
   ],
   "source": [
    "bool('')"
   ]
  },
  {
   "cell_type": "code",
   "execution_count": 29,
   "id": "a4ba6846-f3e2-4414-8861-c4c7be6bf344",
   "metadata": {},
   "outputs": [
    {
     "data": {
      "text/plain": [
       "False"
      ]
     },
     "execution_count": 29,
     "metadata": {},
     "output_type": "execute_result"
    }
   ],
   "source": [
    "bool(\"\")"
   ]
  },
  {
   "cell_type": "code",
   "execution_count": 30,
   "id": "f29429b5-ea00-4631-a3ae-d76aa79d17da",
   "metadata": {},
   "outputs": [
    {
     "data": {
      "text/plain": [
       "False"
      ]
     },
     "execution_count": 30,
     "metadata": {},
     "output_type": "execute_result"
    }
   ],
   "source": [
    "bool(\"\"\"\"\"\")"
   ]
  },
  {
   "cell_type": "code",
   "execution_count": 31,
   "id": "a6503f34-f22e-4b02-8cb1-45d24b68c14d",
   "metadata": {},
   "outputs": [
    {
     "data": {
      "text/plain": [
       "False"
      ]
     },
     "execution_count": 31,
     "metadata": {},
     "output_type": "execute_result"
    }
   ],
   "source": [
    "bool('''''')"
   ]
  },
  {
   "cell_type": "code",
   "execution_count": 32,
   "id": "76099bb4-4d43-4b02-82ad-746de4b289cb",
   "metadata": {},
   "outputs": [
    {
     "data": {
      "text/plain": [
       "False"
      ]
     },
     "execution_count": 32,
     "metadata": {},
     "output_type": "execute_result"
    }
   ],
   "source": [
    "bool([])"
   ]
  },
  {
   "cell_type": "code",
   "execution_count": 33,
   "id": "c6d3666d-ff86-44c4-ad05-f61997373be7",
   "metadata": {},
   "outputs": [
    {
     "data": {
      "text/plain": [
       "False"
      ]
     },
     "execution_count": 33,
     "metadata": {},
     "output_type": "execute_result"
    }
   ],
   "source": [
    "bool(())"
   ]
  },
  {
   "cell_type": "code",
   "execution_count": 34,
   "id": "8198df92-e9a7-439e-ab91-f5e53305a954",
   "metadata": {},
   "outputs": [
    {
     "data": {
      "text/plain": [
       "False"
      ]
     },
     "execution_count": 34,
     "metadata": {},
     "output_type": "execute_result"
    }
   ],
   "source": [
    "bool({})"
   ]
  },
  {
   "cell_type": "code",
   "execution_count": 35,
   "id": "d88f6f69-d16c-4b7e-90f7-727baac0075e",
   "metadata": {},
   "outputs": [
    {
     "data": {
      "text/plain": [
       "False"
      ]
     },
     "execution_count": 35,
     "metadata": {},
     "output_type": "execute_result"
    }
   ],
   "source": [
    "bool(0j)"
   ]
  },
  {
   "cell_type": "code",
   "execution_count": null,
   "id": "c9943acd-f845-4f94-b86a-eaaaef5d39b5",
   "metadata": {},
   "outputs": [],
   "source": [
    "a=0.00000000000000000"
   ]
  }
 ],
 "metadata": {
  "kernelspec": {
   "display_name": "Python 3 (ipykernel)",
   "language": "python",
   "name": "python3"
  },
  "language_info": {
   "codemirror_mode": {
    "name": "ipython",
    "version": 3
   },
   "file_extension": ".py",
   "mimetype": "text/x-python",
   "name": "python",
   "nbconvert_exporter": "python",
   "pygments_lexer": "ipython3",
   "version": "3.11.5"
  }
 },
 "nbformat": 4,
 "nbformat_minor": 5
}
