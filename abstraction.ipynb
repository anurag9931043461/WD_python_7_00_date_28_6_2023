{
 "cells": [
  {
   "cell_type": "markdown",
   "id": "d2be6e22-5c5a-45ff-a87c-a4ae19b62c25",
   "metadata": {},
   "source": [
    "# abstraction"
   ]
  },
  {
   "cell_type": "code",
   "execution_count": null,
   "id": "f16d5507-09c6-4808-a957-86c1662dcd7f",
   "metadata": {},
   "outputs": [],
   "source": [
    "module  Abstraction module name abc"
   ]
  },
  {
   "cell_type": "code",
   "execution_count": 4,
   "id": "cfb7047e-15d4-4846-b023-2a8d7e2427aa",
   "metadata": {},
   "outputs": [],
   "source": [
    "from abc import ABC,abstractmethod\n",
    "class ATM(ABC):\n",
    "    @abstractmethod\n",
    "    def withrawal(self):  # krishna\n",
    "        pass\n",
    "    def deposit(self):   # rohan\n",
    "        pass\n",
    "    def balance(self):  # sohan\n",
    "        pass"
   ]
  },
  {
   "cell_type": "code",
   "execution_count": 5,
   "id": "f9b8154f-2a25-4eaa-b4ba-16bb4a7e6319",
   "metadata": {},
   "outputs": [
    {
     "ename": "TypeError",
     "evalue": "Can't instantiate abstract class ATM with abstract method withrawal",
     "output_type": "error",
     "traceback": [
      "\u001b[1;31m---------------------------------------------------------------------------\u001b[0m",
      "\u001b[1;31mTypeError\u001b[0m                                 Traceback (most recent call last)",
      "Cell \u001b[1;32mIn[5], line 1\u001b[0m\n\u001b[1;32m----> 1\u001b[0m krishna\u001b[38;5;241m=\u001b[39m\u001b[43mATM\u001b[49m\u001b[43m(\u001b[49m\u001b[43m)\u001b[49m\n",
      "\u001b[1;31mTypeError\u001b[0m: Can't instantiate abstract class ATM with abstract method withrawal"
     ]
    }
   ],
   "source": [
    "krishna=ATM()"
   ]
  },
  {
   "cell_type": "code",
   "execution_count": 6,
   "id": "9da10b61-2533-4855-b85d-eb73ba0afe2d",
   "metadata": {},
   "outputs": [],
   "source": [
    "class Atm1(ATM):\n",
    "    def withrawal(self):\n",
    "        print(\"Welcome to withdrawal section\")"
   ]
  },
  {
   "cell_type": "code",
   "execution_count": 7,
   "id": "75b8180e-2fd4-45bd-9127-4225893906fc",
   "metadata": {},
   "outputs": [],
   "source": [
    "krishna=Atm1()"
   ]
  },
  {
   "cell_type": "code",
   "execution_count": 9,
   "id": "18399003-68a3-4114-8c35-6601764c5854",
   "metadata": {},
   "outputs": [
    {
     "name": "stdout",
     "output_type": "stream",
     "text": [
      "Welcome to withdrawal section\n"
     ]
    }
   ],
   "source": [
    "krishna.withrawal()"
   ]
  },
  {
   "cell_type": "code",
   "execution_count": null,
   "id": "ec9ecd2e-f305-40fc-a76d-777b829baffa",
   "metadata": {},
   "outputs": [],
   "source": []
  }
 ],
 "metadata": {
  "kernelspec": {
   "display_name": "Python 3 (ipykernel)",
   "language": "python",
   "name": "python3"
  },
  "language_info": {
   "codemirror_mode": {
    "name": "ipython",
    "version": 3
   },
   "file_extension": ".py",
   "mimetype": "text/x-python",
   "name": "python",
   "nbconvert_exporter": "python",
   "pygments_lexer": "ipython3",
   "version": "3.11.5"
  }
 },
 "nbformat": 4,
 "nbformat_minor": 5
}
