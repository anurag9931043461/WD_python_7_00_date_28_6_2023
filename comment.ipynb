{
 "cells": [
  {
   "cell_type": "code",
   "execution_count": null,
   "id": "af5ad9bd-9419-4914-b347-ea480596532b",
   "metadata": {},
   "outputs": [],
   "source": [
    "# Comment\n",
    "\n",
    "# > to make notes\n",
    "# > to test our code."
   ]
  },
  {
   "cell_type": "code",
   "execution_count": 2,
   "id": "e2868b1b-39ab-46de-b32f-6e7b70ed1505",
   "metadata": {},
   "outputs": [
    {
     "name": "stdout",
     "output_type": "stream",
     "text": [
      "hello\n"
     ]
    }
   ],
   "source": [
    "print(\"hello\")    # abcd"
   ]
  },
  {
   "cell_type": "code",
   "execution_count": 5,
   "id": "15f004d7-548b-4953-aa6f-22178172d001",
   "metadata": {},
   "outputs": [
    {
     "name": "stdout",
     "output_type": "stream",
     "text": [
      "hello\n"
     ]
    }
   ],
   "source": [
    "print(\"hello\")    #abcd"
   ]
  },
  {
   "cell_type": "code",
   "execution_count": 8,
   "id": "c551dab3-d27a-4496-a56c-c734e2e9c451",
   "metadata": {},
   "outputs": [],
   "source": [
    "#lkjfjsdlfkjadlksfjlkasjflkjasdlkfjlkasjfdlkasjdlfkjaslkfjlkasjflkajsdlk\n",
    "#dfsajdhfasjdfh"
   ]
  },
  {
   "cell_type": "code",
   "execution_count": 13,
   "id": "eba1a394-1d0f-45eb-b3b3-ab4d0e9c6776",
   "metadata": {},
   "outputs": [
    {
     "name": "stdout",
     "output_type": "stream",
     "text": [
      "hello world\n",
      "hello world\n",
      "hello world\n",
      "hello world\n",
      "hello world\n"
     ]
    }
   ],
   "source": [
    "print(\"hello world\")   #print() function is used to echo something\n",
    "print(\"hello world\")\n",
    "print(\"hello world\")\n",
    "print(\"hello world\")\n",
    "print(\"hello world\")"
   ]
  },
  {
   "cell_type": "code",
   "execution_count": 14,
   "id": "d39a6273-1286-4bd6-92b6-2c1afdf65fd7",
   "metadata": {},
   "outputs": [
    {
     "ename": "SyntaxError",
     "evalue": "unterminated string literal (detected at line 3) (3365344507.py, line 3)",
     "output_type": "error",
     "traceback": [
      "\u001b[1;36m  Cell \u001b[1;32mIn[14], line 3\u001b[1;36m\u001b[0m\n\u001b[1;33m    print(\"hello world)\u001b[0m\n\u001b[1;37m          ^\u001b[0m\n\u001b[1;31mSyntaxError\u001b[0m\u001b[1;31m:\u001b[0m unterminated string literal (detected at line 3)\n"
     ]
    }
   ],
   "source": [
    "print(\"hello world\")   \n",
    "print(\"hello world\")\n",
    "print(\"hello world)\n",
    "print(\"hello world\")\n",
    "print(\"hello world\")"
   ]
  },
  {
   "cell_type": "code",
   "execution_count": 23,
   "id": "40346663-85ed-4007-a823-1e6ba377d65e",
   "metadata": {},
   "outputs": [
    {
     "name": "stdout",
     "output_type": "stream",
     "text": [
      "hello world\n",
      "hello world\n",
      "hello world\n",
      "hello world\n",
      "hello world\n"
     ]
    }
   ],
   "source": [
    "print(\"hello world\")   \n",
    "print(\"hello world\")\n",
    "print(\"hello world\")\n",
    "print(\"hello world\")\n",
    "print(\"hello world\")"
   ]
  },
  {
   "cell_type": "code",
   "execution_count": null,
   "id": "463f500f-221b-4192-b409-8716e98011fc",
   "metadata": {},
   "outputs": [],
   "source": [
    "8700103696"
   ]
  }
 ],
 "metadata": {
  "kernelspec": {
   "display_name": "Python 3 (ipykernel)",
   "language": "python",
   "name": "python3"
  },
  "language_info": {
   "codemirror_mode": {
    "name": "ipython",
    "version": 3
   },
   "file_extension": ".py",
   "mimetype": "text/x-python",
   "name": "python",
   "nbconvert_exporter": "python",
   "pygments_lexer": "ipython3",
   "version": "3.11.4"
  }
 },
 "nbformat": 4,
 "nbformat_minor": 5
}
