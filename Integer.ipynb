{
 "cells": [
  {
   "cell_type": "markdown",
   "id": "05bc9eea-8d92-4440-ad52-aeb8e267a5a4",
   "metadata": {},
   "source": [
    "# Integer datatype:\n",
    "\n",
    "> integer constructor is int()\n",
    "\n",
    "> integer literal is 0\n",
    "\n",
    "> integer character are 0,1,2,3,4,5,6,7,8,9 "
   ]
  },
  {
   "cell_type": "code",
   "execution_count": 2,
   "id": "4b18de56-5bbd-4c48-ab90-1cea3fe36da8",
   "metadata": {},
   "outputs": [
    {
     "name": "stdout",
     "output_type": "stream",
     "text": [
      "hello world\n"
     ]
    }
   ],
   "source": [
    "print(\"hello world\")"
   ]
  },
  {
   "cell_type": "code",
   "execution_count": 3,
   "id": "6a94002d-65cc-4b58-8efd-93945850fabf",
   "metadata": {},
   "outputs": [],
   "source": [
    "a=10"
   ]
  },
  {
   "cell_type": "code",
   "execution_count": 4,
   "id": "b1d629bd-8ce4-4926-8eec-37580a1be32b",
   "metadata": {},
   "outputs": [],
   "source": [
    "b=20"
   ]
  },
  {
   "cell_type": "code",
   "execution_count": 5,
   "id": "16b18546-13be-4263-882f-60dbb6fb76c7",
   "metadata": {},
   "outputs": [
    {
     "name": "stdout",
     "output_type": "stream",
     "text": [
      "30\n"
     ]
    }
   ],
   "source": [
    "print(a+b)"
   ]
  },
  {
   "cell_type": "code",
   "execution_count": 13,
   "id": "b131a547-ca40-464d-9b1a-c2dff3062c9c",
   "metadata": {},
   "outputs": [
    {
     "name": "stdout",
     "output_type": "stream",
     "text": [
      "0\n",
      "<class 'int'>\n"
     ]
    }
   ],
   "source": [
    "c=0    # using literal creating empty datatype of integer\n",
    "print(c)\n",
    "print(type(c))"
   ]
  },
  {
   "cell_type": "code",
   "execution_count": 12,
   "id": "abe43aab-7034-400a-ba09-a53772795432",
   "metadata": {},
   "outputs": [
    {
     "name": "stdout",
     "output_type": "stream",
     "text": [
      "0\n"
     ]
    }
   ],
   "source": [
    "e=int()  # using constructor creating empty datatype of integer\n",
    "print(e)"
   ]
  },
  {
   "cell_type": "markdown",
   "id": "b942bfaf-55b4-470f-bc07-9953227bc0b2",
   "metadata": {},
   "source": [
    "# number system in computer world\n",
    "\n",
    "> Binary number system : 0,1   base 2\n",
    "\n",
    "> Decimal number system : 0,1,2,3,4,5,6,7,8,9 base 10\n",
    "\n",
    "> Octal number system: 0,1,2,3,4,5,6,7  base 8\n",
    "\n",
    "> hexdecimal number system: 0,1,2,3,4,5,6,7,8,9,a,b,c,d,e,f base 16"
   ]
  },
  {
   "cell_type": "code",
   "execution_count": 14,
   "id": "8d8f978f-5219-4462-87b9-a5a32d9d25d6",
   "metadata": {},
   "outputs": [],
   "source": [
    "b=2000"
   ]
  },
  {
   "cell_type": "code",
   "execution_count": 15,
   "id": "5ff68b71-df1c-40ee-94db-134168902814",
   "metadata": {},
   "outputs": [
    {
     "name": "stdout",
     "output_type": "stream",
     "text": [
      "0b11111010000\n"
     ]
    }
   ],
   "source": [
    "print(bin(b))"
   ]
  },
  {
   "cell_type": "code",
   "execution_count": 16,
   "id": "1ed4c1bd-afa2-4e63-b35b-2a0e6b399d98",
   "metadata": {},
   "outputs": [
    {
     "name": "stdout",
     "output_type": "stream",
     "text": [
      "0o3720\n"
     ]
    }
   ],
   "source": [
    "print(oct(b))"
   ]
  },
  {
   "cell_type": "code",
   "execution_count": 17,
   "id": "dd3cf04d-6a61-48df-b52d-b2b0c8393e06",
   "metadata": {},
   "outputs": [
    {
     "name": "stdout",
     "output_type": "stream",
     "text": [
      "0x7d0\n"
     ]
    }
   ],
   "source": [
    "print(hex(b))"
   ]
  },
  {
   "cell_type": "code",
   "execution_count": 18,
   "id": "2c2d3427-d542-4fd0-81fa-1c60fda2ec3f",
   "metadata": {},
   "outputs": [
    {
     "ename": "SyntaxError",
     "evalue": "leading zeros in decimal integer literals are not permitted; use an 0o prefix for octal integers (1613958160.py, line 1)",
     "output_type": "error",
     "traceback": [
      "\u001b[1;36m  Cell \u001b[1;32mIn[18], line 1\u001b[1;36m\u001b[0m\n\u001b[1;33m    c=010\u001b[0m\n\u001b[1;37m      ^\u001b[0m\n\u001b[1;31mSyntaxError\u001b[0m\u001b[1;31m:\u001b[0m leading zeros in decimal integer literals are not permitted; use an 0o prefix for octal integers\n"
     ]
    }
   ],
   "source": [
    "c=010"
   ]
  },
  {
   "cell_type": "code",
   "execution_count": null,
   "id": "a9328999-a87b-423c-b5aa-c8b3623b7151",
   "metadata": {},
   "outputs": [],
   "source": []
  }
 ],
 "metadata": {
  "kernelspec": {
   "display_name": "Python 3 (ipykernel)",
   "language": "python",
   "name": "python3"
  },
  "language_info": {
   "codemirror_mode": {
    "name": "ipython",
    "version": 3
   },
   "file_extension": ".py",
   "mimetype": "text/x-python",
   "name": "python",
   "nbconvert_exporter": "python",
   "pygments_lexer": "ipython3",
   "version": "3.10.9"
  }
 },
 "nbformat": 4,
 "nbformat_minor": 5
}
