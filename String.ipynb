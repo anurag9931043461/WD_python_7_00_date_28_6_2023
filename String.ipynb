{
 "cells": [
  {
   "cell_type": "markdown",
   "id": "805e7d14-6f44-4ea5-b671-0c0f098bd873",
   "metadata": {},
   "source": [
    "# String\n",
    "\n",
    "> String constructor is str()\n",
    "\n",
    "> String literal is '',\"\",\"\"\"\"\"\",''''''\n",
    "\n",
    "> String is a set of sequence of character.\n",
    "\n",
    "> String support concatination \n",
    "\n",
    "> String support indexing and slicing\n",
    "\n",
    "> String is immutable(hashable)\n",
    "\n",
    "> String methods 30+"
   ]
  },
  {
   "cell_type": "code",
   "execution_count": 3,
   "id": "fb7b9ae0-e0c2-4192-af3e-407aa26edd19",
   "metadata": {},
   "outputs": [
    {
     "name": "stdout",
     "output_type": "stream",
     "text": [
      "Hello world\n"
     ]
    }
   ],
   "source": [
    "print(\"Hello world\")"
   ]
  },
  {
   "cell_type": "code",
   "execution_count": 8,
   "id": "224202c8-2ad5-4439-8afe-fddbfe1bd992",
   "metadata": {},
   "outputs": [
    {
     "name": "stdout",
     "output_type": "stream",
     "text": [
      "♘\n"
     ]
    }
   ],
   "source": [
    "print(\"\\u2658\")"
   ]
  },
  {
   "cell_type": "code",
   "execution_count": 15,
   "id": "79c40836-07b3-4fef-b92c-a8e0547eac77",
   "metadata": {},
   "outputs": [
    {
     "name": "stdout",
     "output_type": "stream",
     "text": [
      "Hello world\n",
      "Hello world\n"
     ]
    }
   ],
   "source": [
    "print(\"Hello world\")\n",
    "print('Hello world')"
   ]
  },
  {
   "cell_type": "code",
   "execution_count": 21,
   "id": "1dc70fe9-00f2-4ac6-8055-2c994c263e2a",
   "metadata": {},
   "outputs": [
    {
     "name": "stdout",
     "output_type": "stream",
     "text": [
      "Hello world,\n",
      "    this is krishna\n",
      "\n",
      "I am in MCA final year\n",
      "Hello world\n"
     ]
    }
   ],
   "source": [
    "print(\"\"\"Hello world,\n",
    "    this is krishna\n",
    "\n",
    "I am in MCA final year\"\"\")\n",
    "print('''Hello world''')"
   ]
  },
  {
   "cell_type": "code",
   "execution_count": 22,
   "id": "fe9c16c7-d356-4bf4-a42a-4ddfb3b7e053",
   "metadata": {},
   "outputs": [],
   "source": [
    "# empty string"
   ]
  },
  {
   "cell_type": "code",
   "execution_count": 38,
   "id": "582403a3-fac4-4b08-a5d6-adcabd70545a",
   "metadata": {},
   "outputs": [
    {
     "name": "stdout",
     "output_type": "stream",
     "text": [
      "<class 'str'>\n"
     ]
    },
    {
     "data": {
      "text/plain": [
       "''"
      ]
     },
     "execution_count": 38,
     "metadata": {},
     "output_type": "execute_result"
    }
   ],
   "source": [
    "a=str()\n",
    "print(type(a))\n",
    "a\n"
   ]
  },
  {
   "cell_type": "code",
   "execution_count": 39,
   "id": "af0140e4-59b6-450f-8419-a0fd263eddf2",
   "metadata": {},
   "outputs": [
    {
     "name": "stdout",
     "output_type": "stream",
     "text": [
      "<class 'str'>\n"
     ]
    },
    {
     "data": {
      "text/plain": [
       "''"
      ]
     },
     "execution_count": 39,
     "metadata": {},
     "output_type": "execute_result"
    }
   ],
   "source": [
    "b=\"\"\n",
    "print(type(b))\n",
    "b"
   ]
  },
  {
   "cell_type": "code",
   "execution_count": 40,
   "id": "f523c39d-660f-49d6-951d-758ccdc21fc0",
   "metadata": {},
   "outputs": [
    {
     "name": "stdout",
     "output_type": "stream",
     "text": [
      "<class 'str'>\n"
     ]
    },
    {
     "data": {
      "text/plain": [
       "''"
      ]
     },
     "execution_count": 40,
     "metadata": {},
     "output_type": "execute_result"
    }
   ],
   "source": [
    "c=''\n",
    "print(type(c))\n",
    "c"
   ]
  },
  {
   "cell_type": "code",
   "execution_count": 41,
   "id": "0ca486fc-4b50-409a-a679-1cd8fa4b11de",
   "metadata": {},
   "outputs": [
    {
     "name": "stdout",
     "output_type": "stream",
     "text": [
      "<class 'str'>\n"
     ]
    },
    {
     "data": {
      "text/plain": [
       "''"
      ]
     },
     "execution_count": 41,
     "metadata": {},
     "output_type": "execute_result"
    }
   ],
   "source": [
    "d=\"\"\"\"\"\"\n",
    "print(type(d))\n",
    "d"
   ]
  },
  {
   "cell_type": "code",
   "execution_count": 42,
   "id": "b3e00aac-a67b-4520-8a86-8b2d19dd03de",
   "metadata": {},
   "outputs": [
    {
     "name": "stdout",
     "output_type": "stream",
     "text": [
      "<class 'str'>\n"
     ]
    },
    {
     "data": {
      "text/plain": [
       "''"
      ]
     },
     "execution_count": 42,
     "metadata": {},
     "output_type": "execute_result"
    }
   ],
   "source": [
    "e=''''''\n",
    "print(type(e))\n",
    "e"
   ]
  },
  {
   "cell_type": "code",
   "execution_count": 48,
   "id": "963d0476-2b91-4916-a7b3-358bf0684035",
   "metadata": {},
   "outputs": [],
   "source": [
    "a=\"KRISHNA\""
   ]
  },
  {
   "cell_type": "code",
   "execution_count": 49,
   "id": "a75d4a84-3aec-4f19-96c2-75edcf0c3894",
   "metadata": {},
   "outputs": [
    {
     "name": "stdout",
     "output_type": "stream",
     "text": [
      "<class 'str'>\n"
     ]
    }
   ],
   "source": [
    "print(type(a))"
   ]
  },
  {
   "cell_type": "code",
   "execution_count": 50,
   "id": "55f70520-d8bd-40f7-be20-cd06c36af59e",
   "metadata": {},
   "outputs": [
    {
     "name": "stdout",
     "output_type": "stream",
     "text": [
      "KRISHNA\n"
     ]
    }
   ],
   "source": [
    "print(a)"
   ]
  },
  {
   "cell_type": "code",
   "execution_count": 51,
   "id": "7c025164-b809-41f2-8007-b3a63128bc5b",
   "metadata": {},
   "outputs": [
    {
     "name": "stdout",
     "output_type": "stream",
     "text": [
      "S\n"
     ]
    }
   ],
   "source": [
    "print(a[3])"
   ]
  },
  {
   "cell_type": "code",
   "execution_count": 53,
   "id": "ae47fd7d-f6d0-4039-b98a-bd16f8e6a33d",
   "metadata": {},
   "outputs": [
    {
     "name": "stdout",
     "output_type": "stream",
     "text": [
      "KRIS\n"
     ]
    }
   ],
   "source": [
    "print(a[0:4:1])"
   ]
  },
  {
   "cell_type": "code",
   "execution_count": 59,
   "id": "6665d45a-c6c2-4d48-879d-98f81c267916",
   "metadata": {},
   "outputs": [
    {
     "name": "stdout",
     "output_type": "stream",
     "text": [
      "hello world hello world\n",
      "hello world\n"
     ]
    }
   ],
   "source": [
    "print(\"hello world\",end=\" \");print(\"hello world\",end=\"\\n\");\n",
    "print(\"hello world\")\n"
   ]
  },
  {
   "cell_type": "code",
   "execution_count": 60,
   "id": "9a42d15e-37fa-4219-aa38-82f862221e7f",
   "metadata": {},
   "outputs": [
    {
     "name": "stdout",
     "output_type": "stream",
     "text": [
      "hello world hello world\n",
      "hello world\n"
     ]
    }
   ],
   "source": [
    "print(\"hello world\",end=\" \")\n",
    "print(\"hello world\",end=\"\\n\")\n",
    "print(\"hello world\")"
   ]
  },
  {
   "cell_type": "code",
   "execution_count": 62,
   "id": "fe1ddf8d-8044-428c-a97e-a5d33ecd57c0",
   "metadata": {},
   "outputs": [
    {
     "ename": "SyntaxError",
     "evalue": "invalid syntax (2197724153.py, line 1)",
     "output_type": "error",
     "traceback": [
      "\u001b[1;36m  Cell \u001b[1;32mIn[62], line 1\u001b[1;36m\u001b[0m\n\u001b[1;33m    print(\"AMit\")print(\"Amit\")\u001b[0m\n\u001b[1;37m                 ^\u001b[0m\n\u001b[1;31mSyntaxError\u001b[0m\u001b[1;31m:\u001b[0m invalid syntax\n"
     ]
    }
   ],
   "source": [
    "print(\"AMit\")print(\"Amit\")"
   ]
  },
  {
   "cell_type": "code",
   "execution_count": 63,
   "id": "c9e92c9d-9168-47f1-8654-6ca225956463",
   "metadata": {},
   "outputs": [
    {
     "name": "stdout",
     "output_type": "stream",
     "text": [
      "krishna Shyam Mohan\n",
      "krishna Shyam Mohan\n"
     ]
    }
   ],
   "source": [
    "print(\"krishna\",\"Shyam\",\"Mohan\")\n",
    "print(\"krishna\",\"Shyam\",\"Mohan\")"
   ]
  },
  {
   "cell_type": "code",
   "execution_count": 65,
   "id": "5b1997ca-3e30-4624-bfd4-6d0dbd5eac3f",
   "metadata": {},
   "outputs": [
    {
     "name": "stdout",
     "output_type": "stream",
     "text": [
      "krishna$Shyam$Mohan\n",
      "krishna Shyam Mohan\n"
     ]
    }
   ],
   "source": [
    "print(\"krishna\",\"Shyam\",\"Mohan\",sep=\"$\")\n",
    "print(\"krishna\",\"Shyam\",\"Mohan\")"
   ]
  },
  {
   "cell_type": "code",
   "execution_count": 66,
   "id": "24b0a676-05da-4819-a3ae-0311a86132e0",
   "metadata": {},
   "outputs": [
    {
     "name": "stdout",
     "output_type": "stream",
     "text": [
      "krishnaShyamMohan\n"
     ]
    }
   ],
   "source": [
    "print(\"krishna\"\"Shyam\"\"Mohan\")"
   ]
  },
  {
   "cell_type": "code",
   "execution_count": 67,
   "id": "1de99293-6954-40ed-a10f-a247c9e0cf90",
   "metadata": {},
   "outputs": [
    {
     "name": "stdout",
     "output_type": "stream",
     "text": [
      "krishna Shyam Mohan\n"
     ]
    }
   ],
   "source": [
    "print(\"krishna \"\"Shyam \"\"Mohan\")"
   ]
  },
  {
   "cell_type": "code",
   "execution_count": 68,
   "id": "21db8aed-516f-41b8-9d11-119240c7a24a",
   "metadata": {},
   "outputs": [
    {
     "name": "stdout",
     "output_type": "stream",
     "text": [
      "krishna Shyam Mohan\n"
     ]
    }
   ],
   "source": [
    "print(\"krishna Shyam Mohan\")"
   ]
  },
  {
   "cell_type": "markdown",
   "id": "438767d2-9f86-4169-83f4-9096128cf46b",
   "metadata": {},
   "source": [
    "# Concatination"
   ]
  },
  {
   "cell_type": "code",
   "execution_count": 1,
   "id": "2925e461-7c00-413b-bbc1-7f4cd5f8f2e4",
   "metadata": {},
   "outputs": [],
   "source": [
    "a=\"Krishna\"\n",
    "b=\"Kumar\""
   ]
  },
  {
   "cell_type": "code",
   "execution_count": 2,
   "id": "61de6b0e-b63f-4c17-8419-56198dbaa828",
   "metadata": {},
   "outputs": [
    {
     "name": "stdout",
     "output_type": "stream",
     "text": [
      "KrishnaKumar\n"
     ]
    }
   ],
   "source": [
    "print(a+b) # operend1+operend2"
   ]
  },
  {
   "cell_type": "code",
   "execution_count": 3,
   "id": "88e15c0c-3a20-4f19-82c4-346ee3749569",
   "metadata": {},
   "outputs": [
    {
     "name": "stdout",
     "output_type": "stream",
     "text": [
      "KrishnaKumar\n"
     ]
    }
   ],
   "source": [
    "print(a,b,sep=\"\")"
   ]
  },
  {
   "cell_type": "markdown",
   "id": "c2a2d298-b0dd-4f77-8c0c-c9d42e1dfe15",
   "metadata": {},
   "source": [
    "# indexing"
   ]
  },
  {
   "cell_type": "code",
   "execution_count": 4,
   "id": "7ee7a191-7fb0-472d-8d9d-13427af7ea96",
   "metadata": {},
   "outputs": [
    {
     "name": "stdout",
     "output_type": "stream",
     "text": [
      "Krishna\n"
     ]
    }
   ],
   "source": [
    "print(a)"
   ]
  },
  {
   "cell_type": "code",
   "execution_count": 5,
   "id": "f8e2c0f8-7107-4ca2-bde6-6af27570985e",
   "metadata": {},
   "outputs": [
    {
     "name": "stdout",
     "output_type": "stream",
     "text": [
      "r\n"
     ]
    }
   ],
   "source": [
    "print(a[-6])"
   ]
  },
  {
   "cell_type": "code",
   "execution_count": 6,
   "id": "2b39765a-ca58-4b96-b081-5fa2b02e8b7e",
   "metadata": {},
   "outputs": [
    {
     "name": "stdout",
     "output_type": "stream",
     "text": [
      "r\n"
     ]
    }
   ],
   "source": [
    "print(a[1])"
   ]
  },
  {
   "cell_type": "markdown",
   "id": "4c9323f7-a156-4a1f-8a26-6f8dfb7d5f27",
   "metadata": {},
   "source": [
    "# slicing"
   ]
  },
  {
   "cell_type": "code",
   "execution_count": 7,
   "id": "df3d90e7-fd02-47e7-9d8b-942776b70ae0",
   "metadata": {},
   "outputs": [
    {
     "name": "stdout",
     "output_type": "stream",
     "text": [
      "Krishna\n"
     ]
    }
   ],
   "source": [
    "print(a)"
   ]
  },
  {
   "cell_type": "code",
   "execution_count": 8,
   "id": "3bce8357-d8a7-4fe7-9df3-d92b8d5b53fd",
   "metadata": {},
   "outputs": [
    {
     "name": "stdout",
     "output_type": "stream",
     "text": [
      "Krish\n"
     ]
    }
   ],
   "source": [
    "print(a[0:5:1])"
   ]
  },
  {
   "cell_type": "code",
   "execution_count": 11,
   "id": "17480619-08dc-4411-8365-2795fba9970c",
   "metadata": {},
   "outputs": [],
   "source": [
    "b=\"Amit Kumar\""
   ]
  },
  {
   "cell_type": "code",
   "execution_count": 12,
   "id": "fc4c7ca0-61ac-42e4-a84a-5037198e5272",
   "metadata": {},
   "outputs": [
    {
     "name": "stdout",
     "output_type": "stream",
     "text": [
      "Amit Kum\n"
     ]
    }
   ],
   "source": [
    "print(b[0:8])"
   ]
  },
  {
   "cell_type": "code",
   "execution_count": 13,
   "id": "36a43777-4dc1-47fa-883b-6e71a6e75b9d",
   "metadata": {},
   "outputs": [],
   "source": [
    "b=\"Amit\""
   ]
  },
  {
   "cell_type": "code",
   "execution_count": 15,
   "id": "00eebaaf-0ab3-451f-8f8b-aa9dda34fb8c",
   "metadata": {},
   "outputs": [
    {
     "name": "stdout",
     "output_type": "stream",
     "text": [
      "\n"
     ]
    }
   ],
   "source": [
    "print(b[4324324:343434:3424234])"
   ]
  },
  {
   "cell_type": "code",
   "execution_count": 16,
   "id": "f5f0b854-28e2-48d8-bf19-5b2a14620a42",
   "metadata": {},
   "outputs": [
    {
     "name": "stdout",
     "output_type": "stream",
     "text": [
      "Krishna\n"
     ]
    }
   ],
   "source": [
    "print(a)"
   ]
  },
  {
   "cell_type": "code",
   "execution_count": 17,
   "id": "d1f712fc-7d1f-4db9-a54f-0b369e5f4886",
   "metadata": {},
   "outputs": [
    {
     "data": {
      "text/plain": [
       "'anhsirK'"
      ]
     },
     "execution_count": 17,
     "metadata": {},
     "output_type": "execute_result"
    }
   ],
   "source": [
    "a[-1:-8:-1]"
   ]
  },
  {
   "cell_type": "code",
   "execution_count": 20,
   "id": "5700f070-a0f6-435f-90ab-8c6960b46384",
   "metadata": {},
   "outputs": [
    {
     "data": {
      "text/plain": [
       "'anhsirK'"
      ]
     },
     "execution_count": 20,
     "metadata": {},
     "output_type": "execute_result"
    }
   ],
   "source": [
    "a[6:-8:-1]"
   ]
  },
  {
   "cell_type": "code",
   "execution_count": 42,
   "id": "5c90af74-97ba-4993-b13b-93fec118e062",
   "metadata": {},
   "outputs": [],
   "source": [
    "a=\"Radiocarbon dating is used to determine the age of carbon-bearing material by measuring its levels of radiocarbon, the radioactive isotope carbon-14. Invented by Willard Libby in the late 1940s, it soon became a standard tool for archaeologists. Radiocarbon is constantly created in the atmosphere, when cosmic rays create free neutrons that hit nitrogen. Plants take in radiocarbon through photosynthesis, and animals eat the plants. After death, they stop exchanging carbon with the environment.\""
   ]
  },
  {
   "cell_type": "code",
   "execution_count": 22,
   "id": "8751e34e-781b-4b67-93a0-7a390f56502b",
   "metadata": {},
   "outputs": [
    {
     "name": "stdout",
     "output_type": "stream",
     "text": [
      "Radiocarbon dating is used to determine the age of carbon-bearing material by measuring its levels of radiocarbon, the radioactive isotope carbon-14. Invented by Willard Libby in the late 1940s, it soon became a standard tool for archaeologists. Radiocarbon is constantly created in the atmosphere, when cosmic rays create free neutrons that hit nitrogen. Plants take in radiocarbon through photosynthesis, and animals eat the plants. After death, they stop exchanging carbon with the environment.\n"
     ]
    }
   ],
   "source": [
    "print(a)"
   ]
  },
  {
   "cell_type": "code",
   "execution_count": 23,
   "id": "4a9e78bd-7a46-46bf-801e-c3f7cb91b1d5",
   "metadata": {},
   "outputs": [
    {
     "data": {
      "text/plain": [
       "0"
      ]
     },
     "execution_count": 23,
     "metadata": {},
     "output_type": "execute_result"
    }
   ],
   "source": [
    "a.find(\"Radiocarbon\")"
   ]
  },
  {
   "cell_type": "code",
   "execution_count": 24,
   "id": "615d088b-16db-4443-a99b-9d30e91e8d1a",
   "metadata": {},
   "outputs": [
    {
     "data": {
      "text/plain": [
       "188"
      ]
     },
     "execution_count": 24,
     "metadata": {},
     "output_type": "execute_result"
    }
   ],
   "source": [
    "a.find(\"1940s\")"
   ]
  },
  {
   "cell_type": "code",
   "execution_count": 25,
   "id": "416fa4b3-4f61-49e4-a6f0-69e327df97ab",
   "metadata": {},
   "outputs": [
    {
     "data": {
      "text/plain": [
       "'Radiocarbon dating is used to determine the age of carbon-bearing material by measuring its levels of radiocarbon, the radioactive isotope carbon-14. Invented by Willard Libby in the late 1940s'"
      ]
     },
     "execution_count": 25,
     "metadata": {},
     "output_type": "execute_result"
    }
   ],
   "source": [
    "a[0:193]"
   ]
  },
  {
   "cell_type": "code",
   "execution_count": 27,
   "id": "b0a8bf42-135f-4995-a2c7-2e92de79440d",
   "metadata": {},
   "outputs": [
    {
     "name": "stdout",
     "output_type": "stream",
     "text": [
      "['Radiocarbon', 'dating', 'is', 'used', 'to', 'determine', 'the', 'age', 'of', 'carbon-bearing', 'material', 'by', 'measuring', 'its', 'levels', 'of', 'radiocarbon,', 'the', 'radioactive', 'isotope', 'carbon-14.', 'Invented', 'by', 'Willard', 'Libby', 'in', 'the', 'late', '1940s,', 'it', 'soon', 'became', 'a', 'standard', 'tool', 'for', 'archaeologists.', 'Radiocarbon', 'is', 'constantly', 'created', 'in', 'the', 'atmosphere,', 'when', 'cosmic', 'rays', 'create', 'free', 'neutrons', 'that', 'hit', 'nitrogen.', 'Plants', 'take', 'in', 'radiocarbon', 'through', 'photosynthesis,', 'and', 'animals', 'eat', 'the', 'plants.', 'After', 'death,', 'they', 'stop', 'exchanging', 'carbon', 'with', 'the', 'environment.']\n"
     ]
    }
   ],
   "source": [
    "print(a.split())"
   ]
  },
  {
   "cell_type": "code",
   "execution_count": 28,
   "id": "d68ba7cd-fa72-4acf-89f1-e77a953b1e13",
   "metadata": {},
   "outputs": [],
   "source": [
    "b=\"this is krishna\""
   ]
  },
  {
   "cell_type": "code",
   "execution_count": 30,
   "id": "4e72641d-76e2-47cd-8d99-91100fe3f0b2",
   "metadata": {},
   "outputs": [
    {
     "data": {
      "text/plain": [
       "['th', 's ', 's kr', 'shna']"
      ]
     },
     "execution_count": 30,
     "metadata": {},
     "output_type": "execute_result"
    }
   ],
   "source": [
    "b.split(\"i\")"
   ]
  },
  {
   "cell_type": "code",
   "execution_count": 31,
   "id": "f4645185-4305-4598-8525-af0ce8668d68",
   "metadata": {},
   "outputs": [
    {
     "name": "stdout",
     "output_type": "stream",
     "text": [
      "this is krishna\n"
     ]
    }
   ],
   "source": [
    "print(b)"
   ]
  },
  {
   "cell_type": "markdown",
   "id": "7763c07d-7f99-4dc8-992b-d1d10f9e14d5",
   "metadata": {},
   "source": [
    "# methods"
   ]
  },
  {
   "cell_type": "code",
   "execution_count": 35,
   "id": "664964ca-645d-4970-930f-e6a2a00390f0",
   "metadata": {},
   "outputs": [],
   "source": [
    "a=\"krishna\""
   ]
  },
  {
   "cell_type": "code",
   "execution_count": 36,
   "id": "5a5ff2a9-166e-4f14-86b1-08efc1b4363a",
   "metadata": {},
   "outputs": [
    {
     "name": "stdout",
     "output_type": "stream",
     "text": [
      "Krishna\n"
     ]
    }
   ],
   "source": [
    "print(a.capitalize())"
   ]
  },
  {
   "cell_type": "code",
   "execution_count": 37,
   "id": "844c1478-c74e-4506-8f7d-62bbdfe31984",
   "metadata": {},
   "outputs": [
    {
     "name": "stdout",
     "output_type": "stream",
     "text": [
      "krishna\n"
     ]
    }
   ],
   "source": [
    "print(a)"
   ]
  },
  {
   "cell_type": "code",
   "execution_count": 38,
   "id": "cf3d7f62-6bf7-4aa6-bca3-36da10233b4b",
   "metadata": {},
   "outputs": [],
   "source": [
    "b=\"nNkRIshna714@gmail.COM\""
   ]
  },
  {
   "cell_type": "code",
   "execution_count": 39,
   "id": "8da9b1af-850d-437d-957d-9e4baa945b67",
   "metadata": {},
   "outputs": [
    {
     "data": {
      "text/plain": [
       "'nnkrishna714@gmail.com'"
      ]
     },
     "execution_count": 39,
     "metadata": {},
     "output_type": "execute_result"
    }
   ],
   "source": [
    "b.casefold()"
   ]
  },
  {
   "cell_type": "code",
   "execution_count": 41,
   "id": "9c24df4b-8ca6-40f4-986c-3728122f72e2",
   "metadata": {},
   "outputs": [
    {
     "data": {
      "text/plain": [
       "' krishna  '"
      ]
     },
     "execution_count": 41,
     "metadata": {},
     "output_type": "execute_result"
    }
   ],
   "source": [
    "a.center(10)"
   ]
  },
  {
   "cell_type": "code",
   "execution_count": 43,
   "id": "cd367c95-e8bb-4c8c-ad78-dba5113128f0",
   "metadata": {},
   "outputs": [],
   "source": [
    "a=\"Radiocarbon dating is used to determine the age of carbon-bearing material by measuring its levels of radiocarbon, the radioactive isotope carbon-14. Invented by Willard Libby in the late 1940s, it soon became a standard tool for archaeologists. Radiocarbon is constantly created in the atmosphere, when cosmic rays create free neutrons that hit nitrogen. Plants take in radiocarbon through photosynthesis, and animals eat the plants. After death, they stop exchanging carbon with the environment.\""
   ]
  },
  {
   "cell_type": "code",
   "execution_count": 45,
   "id": "b3118895-54c9-4349-8cf2-98146e647b5f",
   "metadata": {},
   "outputs": [
    {
     "data": {
      "text/plain": [
       "2"
      ]
     },
     "execution_count": 45,
     "metadata": {},
     "output_type": "execute_result"
    }
   ],
   "source": [
    "a.count(\"radiocarbon\")"
   ]
  },
  {
   "cell_type": "code",
   "execution_count": 47,
   "id": "d44e8337-f4b6-497e-8d72-73adf9b94203",
   "metadata": {},
   "outputs": [
    {
     "data": {
      "text/plain": [
       "4"
      ]
     },
     "execution_count": 47,
     "metadata": {},
     "output_type": "execute_result"
    }
   ],
   "source": [
    "a.casefold().count(\"radiocarbon\")"
   ]
  },
  {
   "cell_type": "code",
   "execution_count": 48,
   "id": "0bd8ead4-08bf-46d7-8494-8cebbee1ef98",
   "metadata": {},
   "outputs": [
    {
     "name": "stdout",
     "output_type": "stream",
     "text": [
      "Radiocarbon dating is used to determine the age of carbon-bearing material by measuring its levels of radiocarbon, the radioactive isotope carbon-14. Invented by Willard Libby in the late 1940s, it soon became a standard tool for archaeologists. Radiocarbon is constantly created in the atmosphere, when cosmic rays create free neutrons that hit nitrogen. Plants take in radiocarbon through photosynthesis, and animals eat the plants. After death, they stop exchanging carbon with the environment.\n"
     ]
    }
   ],
   "source": [
    "print(a)"
   ]
  },
  {
   "cell_type": "code",
   "execution_count": 50,
   "id": "575f7fd0-0f20-4bc9-bacf-38bdc6000c55",
   "metadata": {},
   "outputs": [],
   "source": []
  },
  {
   "cell_type": "code",
   "execution_count": 53,
   "id": "465e8145-1e4c-4221-91e7-ce47260faad3",
   "metadata": {},
   "outputs": [
    {
     "data": {
      "text/plain": [
       "4"
      ]
     },
     "execution_count": 53,
     "metadata": {},
     "output_type": "execute_result"
    }
   ],
   "source": [
    "\"Radiocarbon dating is used to determine the age of carbon-bearing material by measuring its levels of radiocarbon, the radioactive isotope carbon-14. Invented by Willard Libby in the late 1940s, it soon became a standard tool for archaeologists. Radiocarbon is constantly created in the atmosphere, when cosmic rays create free neutrons that hit nitrogen. Plants take in radiocarbon through photosynthesis, and animals eat the plants. After death, they stop exchanging carbon with the environment.\".casefold().count(\"radiocarbon\")"
   ]
  },
  {
   "cell_type": "code",
   "execution_count": null,
   "id": "d17f1ed5-9d8c-4e91-92db-e7c35092b66e",
   "metadata": {},
   "outputs": [],
   "source": [
    "\"Radiocarbon dating is used to determine the age of carbon-bearing material by measuring its levels of radiocarbon, the radioactive isotope carbon-14. Invented by Willard Libby in the late 1940s, it soon became a standard tool for archaeologists. Radiocarbon is constantly created in the atmosphere, when cosmic rays create free neutrons that hit nitrogen. Plants take in radiocarbon through photosynthesis, and animals eat the plants. After death, they stop exchanging carbon with the environment.\""
   ]
  },
  {
   "cell_type": "code",
   "execution_count": 54,
   "id": "cdcb6f82-72e2-449f-a289-72ce6993bc9e",
   "metadata": {},
   "outputs": [
    {
     "name": "stdout",
     "output_type": "stream",
     "text": [
      "radiocarbon dating is used to determine the age of carbon-bearing material by measuring its levels of radiocarbon, the radioactive isotope carbon-14. invented by willard libby in the late 1940s, it soon became a standard tool for archaeologists. radiocarbon is constantly created in the atmosphere, when cosmic rays create free neutrons that hit nitrogen. plants take in radiocarbon through photosynthesis, and animals eat the plants. after death, they stop exchanging carbon with the environment.\n"
     ]
    }
   ],
   "source": [
    "print(b)"
   ]
  },
  {
   "cell_type": "code",
   "execution_count": 55,
   "id": "7128734e-5f40-4262-a281-c09bac2274d8",
   "metadata": {},
   "outputs": [
    {
     "data": {
      "text/plain": [
       "False"
      ]
     },
     "execution_count": 55,
     "metadata": {},
     "output_type": "execute_result"
    }
   ],
   "source": []
  },
  {
   "cell_type": "code",
   "execution_count": 57,
   "id": "a5459ee2-e69b-476b-b8f5-6815029a68b0",
   "metadata": {},
   "outputs": [],
   "source": [
    "b=\"nnkrishna714@gmail.com\""
   ]
  },
  {
   "cell_type": "code",
   "execution_count": 58,
   "id": "0ad6cf9b-f13f-4206-ba76-8de75470cc0a",
   "metadata": {},
   "outputs": [
    {
     "data": {
      "text/plain": [
       "True"
      ]
     },
     "execution_count": 58,
     "metadata": {},
     "output_type": "execute_result"
    }
   ],
   "source": [
    "b.endswith(\"m\")"
   ]
  },
  {
   "cell_type": "code",
   "execution_count": 61,
   "id": "54d0b4c9-fda7-4785-8791-95ed0a3b3cf5",
   "metadata": {},
   "outputs": [
    {
     "data": {
      "text/plain": [
       "True"
      ]
     },
     "execution_count": 61,
     "metadata": {},
     "output_type": "execute_result"
    }
   ],
   "source": [
    "b.endswith(\"com\")"
   ]
  },
  {
   "cell_type": "code",
   "execution_count": 70,
   "id": "b93d5e64-6ecc-4c7f-b2ed-c595b0d45289",
   "metadata": {},
   "outputs": [],
   "source": [
    "b=\"nnkrishna714mailcom\""
   ]
  },
  {
   "cell_type": "code",
   "execution_count": 71,
   "id": "e3d21a1e-8646-49e2-8a16-dfdb3d935901",
   "metadata": {},
   "outputs": [
    {
     "data": {
      "text/plain": [
       "True"
      ]
     },
     "execution_count": 71,
     "metadata": {},
     "output_type": "execute_result"
    }
   ],
   "source": [
    "b.isalnum()"
   ]
  },
  {
   "cell_type": "code",
   "execution_count": 72,
   "id": "3cbe3dc4-a9b4-46bb-9285-ba94a94e5644",
   "metadata": {},
   "outputs": [
    {
     "data": {
      "text/plain": [
       "'!\"#$%&\\'()*+,-./:;<=>?@[\\\\]^_`{|}~'"
      ]
     },
     "execution_count": 72,
     "metadata": {},
     "output_type": "execute_result"
    }
   ],
   "source": [
    "import string\n",
    "\n",
    "string.punctuation"
   ]
  },
  {
   "cell_type": "code",
   "execution_count": 73,
   "id": "eecc2d38-3b40-4e61-81bf-9f5055ecc4e0",
   "metadata": {},
   "outputs": [
    {
     "data": {
      "text/plain": [
       "False"
      ]
     },
     "execution_count": 73,
     "metadata": {},
     "output_type": "execute_result"
    }
   ],
   "source": [
    "b.isalpha()"
   ]
  },
  {
   "cell_type": "code",
   "execution_count": 74,
   "id": "f9c3dbe0-4562-4f52-9931-7bba4f12366e",
   "metadata": {},
   "outputs": [
    {
     "data": {
      "text/plain": [
       "True"
      ]
     },
     "execution_count": 74,
     "metadata": {},
     "output_type": "execute_result"
    }
   ],
   "source": [
    "b.isascii()"
   ]
  },
  {
   "cell_type": "code",
   "execution_count": 76,
   "id": "a53ab2b3-4c5b-4f71-874e-8e6cf456c82d",
   "metadata": {},
   "outputs": [
    {
     "name": "stdout",
     "output_type": "stream",
     "text": [
      "♘\n"
     ]
    }
   ],
   "source": [
    "print(\"\\u2658\")"
   ]
  },
  {
   "cell_type": "code",
   "execution_count": 77,
   "id": "99419f44-3b30-40d0-9a71-59e9472d7d63",
   "metadata": {},
   "outputs": [],
   "source": [
    "z=\"\\u2658\""
   ]
  },
  {
   "cell_type": "code",
   "execution_count": 78,
   "id": "c81d6dda-b668-4048-a6dc-1a4283b19b71",
   "metadata": {},
   "outputs": [
    {
     "data": {
      "text/plain": [
       "False"
      ]
     },
     "execution_count": 78,
     "metadata": {},
     "output_type": "execute_result"
    }
   ],
   "source": [
    "z.isascii()"
   ]
  },
  {
   "cell_type": "code",
   "execution_count": 79,
   "id": "f925940e-ffd9-48f7-a984-1090c2d7918a",
   "metadata": {},
   "outputs": [],
   "source": [
    "a=\"KRISHNA\""
   ]
  },
  {
   "cell_type": "code",
   "execution_count": 80,
   "id": "ec1f8211-c21a-42a8-bd42-6218253309f6",
   "metadata": {},
   "outputs": [
    {
     "data": {
      "text/plain": [
       "1"
      ]
     },
     "execution_count": 80,
     "metadata": {},
     "output_type": "execute_result"
    }
   ],
   "source": [
    "a.index(\"R\")"
   ]
  },
  {
   "cell_type": "code",
   "execution_count": 82,
   "id": "6170f9ef-055f-4d0b-9222-8ff567ebbd24",
   "metadata": {},
   "outputs": [
    {
     "data": {
      "text/plain": [
       "'R'"
      ]
     },
     "execution_count": 82,
     "metadata": {},
     "output_type": "execute_result"
    }
   ],
   "source": [
    "a[1]"
   ]
  },
  {
   "cell_type": "code",
   "execution_count": 83,
   "id": "e0967d85-274c-4e1f-99c5-66c1e6e20bdc",
   "metadata": {},
   "outputs": [
    {
     "data": {
      "text/plain": [
       "False"
      ]
     },
     "execution_count": 83,
     "metadata": {},
     "output_type": "execute_result"
    }
   ],
   "source": [
    "a.islower()"
   ]
  },
  {
   "cell_type": "code",
   "execution_count": 90,
   "id": "956bcfdc-7681-4d5b-827e-c5c5cda4922c",
   "metadata": {},
   "outputs": [],
   "source": [
    "age=12"
   ]
  },
  {
   "cell_type": "code",
   "execution_count": 91,
   "id": "3fb206de-50f5-46bf-979e-e8c8bd2e1c4e",
   "metadata": {},
   "outputs": [],
   "source": [
    "name=\"Mohan\""
   ]
  },
  {
   "cell_type": "code",
   "execution_count": 93,
   "id": "59e4e301-bb2a-4a88-8640-d266258375c0",
   "metadata": {},
   "outputs": [
    {
     "name": "stdout",
     "output_type": "stream",
     "text": [
      "I am Mohan and age 12\n"
     ]
    }
   ],
   "source": [
    "print(\"I am {0} and age {1}\".format(name,age))"
   ]
  },
  {
   "cell_type": "code",
   "execution_count": 94,
   "id": "ee7422ab-ca5b-4cde-b746-a0936c5a868e",
   "metadata": {},
   "outputs": [
    {
     "name": "stdout",
     "output_type": "stream",
     "text": [
      "I am 12 and age Mohan\n"
     ]
    }
   ],
   "source": [
    "print(\"I am {1} and age {0}\".format(name,age))"
   ]
  },
  {
   "cell_type": "code",
   "execution_count": 95,
   "id": "f4d866f5-013e-4f26-bf0b-f606d697f8eb",
   "metadata": {},
   "outputs": [
    {
     "name": "stdout",
     "output_type": "stream",
     "text": [
      "I am Mohan and age 12\n"
     ]
    }
   ],
   "source": [
    "print(\"I am {1} and age {0}\".format(age,name))"
   ]
  },
  {
   "cell_type": "code",
   "execution_count": 96,
   "id": "74ef279e-0e09-4e6f-ba8e-936e76f94fb1",
   "metadata": {},
   "outputs": [
    {
     "name": "stdout",
     "output_type": "stream",
     "text": [
      "I am Mohan and age 12\n"
     ]
    }
   ],
   "source": [
    "print(f\"I am {name} and age {age}\")"
   ]
  },
  {
   "cell_type": "code",
   "execution_count": 97,
   "id": "d00be149-e0e0-44e7-a9e2-bce868c1e18f",
   "metadata": {},
   "outputs": [
    {
     "name": "stdout",
     "output_type": "stream",
     "text": [
      "I am Mohan and age 12\n"
     ]
    }
   ],
   "source": [
    "print(F\"I am {name} and age {age}\")"
   ]
  },
  {
   "cell_type": "code",
   "execution_count": null,
   "id": "b5fb64f0-fb7d-426f-b1c6-a1c5067ece78",
   "metadata": {},
   "outputs": [],
   "source": [
    "https://www.w3schools.com/python/python_strings_methods.asp"
   ]
  }
 ],
 "metadata": {
  "kernelspec": {
   "display_name": "Python 3 (ipykernel)",
   "language": "python",
   "name": "python3"
  },
  "language_info": {
   "codemirror_mode": {
    "name": "ipython",
    "version": 3
   },
   "file_extension": ".py",
   "mimetype": "text/x-python",
   "name": "python",
   "nbconvert_exporter": "python",
   "pygments_lexer": "ipython3",
   "version": "3.11.4"
  }
 },
 "nbformat": 4,
 "nbformat_minor": 5
}
