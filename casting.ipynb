{
 "cells": [
  {
   "cell_type": "markdown",
   "id": "c2e29cf1-3b17-46ae-88e0-3e8830cbb5be",
   "metadata": {},
   "source": [
    "# casting\n",
    "\n",
    "> conversion of one datatype to another datatype is called casting."
   ]
  },
  {
   "cell_type": "markdown",
   "id": "5c8e18bd-0117-4b65-8254-89dca1bc9a88",
   "metadata": {},
   "source": [
    "int()\n",
    "float()\n",
    "str()\n",
    "list()\n",
    "tuple()\n",
    "set()\n",
    "frozenset()\n",
    "dict()\n",
    "complex()\n",
    "bool()"
   ]
  },
  {
   "cell_type": "code",
   "execution_count": 1,
   "id": "863c125e-757d-4582-959a-3f07e1f12116",
   "metadata": {},
   "outputs": [],
   "source": [
    "# int() convert  float(), str()"
   ]
  },
  {
   "cell_type": "code",
   "execution_count": 2,
   "id": "8b192b53-d324-41cd-b803-f1b83cdba353",
   "metadata": {},
   "outputs": [
    {
     "name": "stdout",
     "output_type": "stream",
     "text": [
      "<class 'int'> 10\n"
     ]
    }
   ],
   "source": [
    "a=10\n",
    "print(type(a),a)"
   ]
  },
  {
   "cell_type": "code",
   "execution_count": 5,
   "id": "9f181c4f-d5d1-4ffc-ac5b-c856a415bbac",
   "metadata": {},
   "outputs": [
    {
     "name": "stdout",
     "output_type": "stream",
     "text": [
      "10.0\n"
     ]
    }
   ],
   "source": [
    "b=float(a)\n",
    "print(b)"
   ]
  },
  {
   "cell_type": "code",
   "execution_count": 6,
   "id": "d1faad9e-49e7-4b1c-ae36-24cd89a04400",
   "metadata": {},
   "outputs": [
    {
     "data": {
      "text/plain": [
       "'10'"
      ]
     },
     "execution_count": 6,
     "metadata": {},
     "output_type": "execute_result"
    }
   ],
   "source": [
    "str(a)"
   ]
  },
  {
   "cell_type": "code",
   "execution_count": 7,
   "id": "b1bed3d1-7db3-4508-a01f-91c5a59822ba",
   "metadata": {},
   "outputs": [],
   "source": [
    "# float()convert int(), str()"
   ]
  },
  {
   "cell_type": "code",
   "execution_count": 8,
   "id": "41bb5128-4392-44fc-9045-645b348864a6",
   "metadata": {},
   "outputs": [
    {
     "name": "stdout",
     "output_type": "stream",
     "text": [
      "<class 'float'> 10.99\n"
     ]
    }
   ],
   "source": [
    "a=10.99\n",
    "print(type(a),a)"
   ]
  },
  {
   "cell_type": "code",
   "execution_count": 9,
   "id": "1eea7c94-7632-466b-957c-b9114c63da30",
   "metadata": {},
   "outputs": [
    {
     "data": {
      "text/plain": [
       "10"
      ]
     },
     "execution_count": 9,
     "metadata": {},
     "output_type": "execute_result"
    }
   ],
   "source": [
    "int(a)"
   ]
  },
  {
   "cell_type": "code",
   "execution_count": 10,
   "id": "9c95e1d7-9cb4-44a8-a337-78164d1c1f12",
   "metadata": {},
   "outputs": [
    {
     "data": {
      "text/plain": [
       "'10.99'"
      ]
     },
     "execution_count": 10,
     "metadata": {},
     "output_type": "execute_result"
    }
   ],
   "source": [
    "str(a)"
   ]
  },
  {
   "cell_type": "code",
   "execution_count": 11,
   "id": "0f068f2f-f56b-4559-ac9e-1bad9e56e251",
   "metadata": {},
   "outputs": [],
   "source": [
    "# str()convert int(), float()"
   ]
  },
  {
   "cell_type": "code",
   "execution_count": 12,
   "id": "d60b84c2-4ea1-4955-b169-2d958fda82d3",
   "metadata": {},
   "outputs": [],
   "source": [
    "a=\"10\""
   ]
  },
  {
   "cell_type": "code",
   "execution_count": 13,
   "id": "e56ae6ed-38ed-495d-b5f6-d688210ee745",
   "metadata": {},
   "outputs": [
    {
     "name": "stdout",
     "output_type": "stream",
     "text": [
      "<class 'str'> 10\n"
     ]
    }
   ],
   "source": [
    "print(type(a),a)"
   ]
  },
  {
   "cell_type": "code",
   "execution_count": 14,
   "id": "3b50d380-f92e-42fb-aa7c-d3ef3176058c",
   "metadata": {},
   "outputs": [
    {
     "data": {
      "text/plain": [
       "10"
      ]
     },
     "execution_count": 14,
     "metadata": {},
     "output_type": "execute_result"
    }
   ],
   "source": [
    "int(a)"
   ]
  },
  {
   "cell_type": "code",
   "execution_count": 15,
   "id": "b6f19061-9bb9-4980-87a5-2fd05821ec3a",
   "metadata": {},
   "outputs": [
    {
     "data": {
      "text/plain": [
       "10.0"
      ]
     },
     "execution_count": 15,
     "metadata": {},
     "output_type": "execute_result"
    }
   ],
   "source": [
    "float(a)"
   ]
  },
  {
   "cell_type": "code",
   "execution_count": 16,
   "id": "3cde36da-0570-4320-b373-a7e265ed258f",
   "metadata": {},
   "outputs": [],
   "source": [
    "b=\"10.99\""
   ]
  },
  {
   "cell_type": "code",
   "execution_count": 17,
   "id": "b46bdc00-ff8f-4d77-9346-f636c9f3b870",
   "metadata": {},
   "outputs": [
    {
     "ename": "ValueError",
     "evalue": "invalid literal for int() with base 10: '10.99'",
     "output_type": "error",
     "traceback": [
      "\u001b[1;31m---------------------------------------------------------------------------\u001b[0m",
      "\u001b[1;31mValueError\u001b[0m                                Traceback (most recent call last)",
      "Cell \u001b[1;32mIn[17], line 1\u001b[0m\n\u001b[1;32m----> 1\u001b[0m \u001b[38;5;28;43mint\u001b[39;49m\u001b[43m(\u001b[49m\u001b[43mb\u001b[49m\u001b[43m)\u001b[49m\n",
      "\u001b[1;31mValueError\u001b[0m: invalid literal for int() with base 10: '10.99'"
     ]
    }
   ],
   "source": [
    "int(b)"
   ]
  },
  {
   "cell_type": "code",
   "execution_count": 20,
   "id": "77a7ec05-6c85-49ee-a890-1d8075873c80",
   "metadata": {},
   "outputs": [
    {
     "data": {
      "text/plain": [
       "10.99"
      ]
     },
     "execution_count": 20,
     "metadata": {},
     "output_type": "execute_result"
    }
   ],
   "source": [
    "c=float(b)\n",
    "c"
   ]
  },
  {
   "cell_type": "code",
   "execution_count": 21,
   "id": "fd1c3666-90c6-413a-84cc-39ea8ae7cc37",
   "metadata": {},
   "outputs": [
    {
     "data": {
      "text/plain": [
       "10"
      ]
     },
     "execution_count": 21,
     "metadata": {},
     "output_type": "execute_result"
    }
   ],
   "source": [
    "int(c)"
   ]
  },
  {
   "cell_type": "code",
   "execution_count": 22,
   "id": "7d222c1b-327b-4989-94ac-d85daf6dc45d",
   "metadata": {},
   "outputs": [],
   "source": [
    "# list  to tuple , set, frozenset"
   ]
  },
  {
   "cell_type": "code",
   "execution_count": 23,
   "id": "fcba1b9b-02d1-4f98-b565-558d014499a1",
   "metadata": {},
   "outputs": [],
   "source": [
    "a=[1,2,3,4,5,6]"
   ]
  },
  {
   "cell_type": "code",
   "execution_count": 25,
   "id": "c1f40b16-3171-496d-8305-48fdca979c88",
   "metadata": {},
   "outputs": [
    {
     "name": "stdout",
     "output_type": "stream",
     "text": [
      "[1, 2, 3, 4, 5, 6] <class 'list'>\n"
     ]
    }
   ],
   "source": [
    "print(a,type(a))"
   ]
  },
  {
   "cell_type": "code",
   "execution_count": 26,
   "id": "7b46f31f-4387-43c2-9fb0-75853d569eeb",
   "metadata": {},
   "outputs": [
    {
     "data": {
      "text/plain": [
       "(1, 2, 3, 4, 5, 6)"
      ]
     },
     "execution_count": 26,
     "metadata": {},
     "output_type": "execute_result"
    }
   ],
   "source": [
    "tuple(a)"
   ]
  },
  {
   "cell_type": "code",
   "execution_count": 27,
   "id": "145f1170-647a-4848-a222-22c668140391",
   "metadata": {},
   "outputs": [
    {
     "name": "stdout",
     "output_type": "stream",
     "text": [
      "[1, 2, 3, 4, 5, 6]\n"
     ]
    }
   ],
   "source": [
    "print(a)"
   ]
  },
  {
   "cell_type": "code",
   "execution_count": 28,
   "id": "e11db661-ae22-4636-b5be-d74d0b4a1448",
   "metadata": {},
   "outputs": [
    {
     "data": {
      "text/plain": [
       "{1, 2, 3, 4, 5, 6}"
      ]
     },
     "execution_count": 28,
     "metadata": {},
     "output_type": "execute_result"
    }
   ],
   "source": [
    "set(a)"
   ]
  },
  {
   "cell_type": "code",
   "execution_count": 29,
   "id": "0efbe275-875f-4129-900e-fa38dfb57b39",
   "metadata": {},
   "outputs": [
    {
     "data": {
      "text/plain": [
       "frozenset({1, 2, 3, 4, 5, 6})"
      ]
     },
     "execution_count": 29,
     "metadata": {},
     "output_type": "execute_result"
    }
   ],
   "source": [
    "frozenset(a)"
   ]
  },
  {
   "cell_type": "code",
   "execution_count": 30,
   "id": "2ee12501-e978-4ebf-81ad-8e760b3b02f5",
   "metadata": {},
   "outputs": [],
   "source": [
    "a=(1,2,3,4,5,6,7)"
   ]
  },
  {
   "cell_type": "code",
   "execution_count": 31,
   "id": "b5d3be66-5e4c-4d85-ae27-a76c161523e3",
   "metadata": {},
   "outputs": [],
   "source": [
    "b=list(a)"
   ]
  },
  {
   "cell_type": "code",
   "execution_count": 32,
   "id": "cb7250b6-8d4a-466a-abf6-1436060a7015",
   "metadata": {},
   "outputs": [
    {
     "data": {
      "text/plain": [
       "[1, 2, 3, 4, 5, 6, 7]"
      ]
     },
     "execution_count": 32,
     "metadata": {},
     "output_type": "execute_result"
    }
   ],
   "source": [
    "b"
   ]
  },
  {
   "cell_type": "code",
   "execution_count": 33,
   "id": "f0c33948-c559-454c-a81c-abc8bdd5521c",
   "metadata": {},
   "outputs": [],
   "source": [
    "b.append(8)"
   ]
  },
  {
   "cell_type": "code",
   "execution_count": 34,
   "id": "6b1c01d5-40a1-4b05-8872-9714aa9e8106",
   "metadata": {},
   "outputs": [
    {
     "name": "stdout",
     "output_type": "stream",
     "text": [
      "[1, 2, 3, 4, 5, 6, 7, 8]\n"
     ]
    }
   ],
   "source": [
    "print(b)"
   ]
  },
  {
   "cell_type": "code",
   "execution_count": 35,
   "id": "f1de4710-9860-42d4-8e7b-d4db89543c7a",
   "metadata": {},
   "outputs": [],
   "source": [
    "a=tuple(b)"
   ]
  },
  {
   "cell_type": "code",
   "execution_count": 36,
   "id": "43416861-ce0a-4edb-b785-12be6b648cbf",
   "metadata": {},
   "outputs": [
    {
     "name": "stdout",
     "output_type": "stream",
     "text": [
      "(1, 2, 3, 4, 5, 6, 7, 8)\n"
     ]
    }
   ],
   "source": [
    "print(a)"
   ]
  },
  {
   "cell_type": "code",
   "execution_count": 37,
   "id": "0c4be02d-452a-4ee4-b8af-2665f8568d1a",
   "metadata": {},
   "outputs": [],
   "source": [
    "a=(1,1,2,2,3,2,2,23,3,4,4,5)"
   ]
  },
  {
   "cell_type": "code",
   "execution_count": 38,
   "id": "baad297d-f109-4b92-b1da-85aed45d4995",
   "metadata": {},
   "outputs": [
    {
     "data": {
      "text/plain": [
       "(1, 1, 2, 2, 3, 2, 2, 23, 3, 4, 4, 5)"
      ]
     },
     "execution_count": 38,
     "metadata": {},
     "output_type": "execute_result"
    }
   ],
   "source": [
    "a"
   ]
  },
  {
   "cell_type": "code",
   "execution_count": 39,
   "id": "bdd635a4-edaa-412b-9513-5b335110be5a",
   "metadata": {},
   "outputs": [
    {
     "data": {
      "text/plain": [
       "{1, 2, 3, 4, 5, 23}"
      ]
     },
     "execution_count": 39,
     "metadata": {},
     "output_type": "execute_result"
    }
   ],
   "source": [
    "set(a)"
   ]
  },
  {
   "cell_type": "code",
   "execution_count": 40,
   "id": "434ea3d2-9093-4e49-9adc-55bbf916e062",
   "metadata": {},
   "outputs": [],
   "source": [
    "a={1:\"krishna\",2:\"Mohan\",3:\"Sohan\"}"
   ]
  },
  {
   "cell_type": "code",
   "execution_count": 41,
   "id": "2c5bfb7a-4631-4aa3-9e7d-e1cc4146a3b7",
   "metadata": {},
   "outputs": [
    {
     "name": "stdout",
     "output_type": "stream",
     "text": [
      "{1: 'krishna', 2: 'Mohan', 3: 'Sohan'}\n"
     ]
    }
   ],
   "source": [
    "print(a)"
   ]
  },
  {
   "cell_type": "code",
   "execution_count": 42,
   "id": "9aa2d0a7-0a5c-41c8-b4d5-aabf6ace199c",
   "metadata": {},
   "outputs": [
    {
     "data": {
      "text/plain": [
       "[1, 2, 3]"
      ]
     },
     "execution_count": 42,
     "metadata": {},
     "output_type": "execute_result"
    }
   ],
   "source": [
    "list(a)"
   ]
  },
  {
   "cell_type": "code",
   "execution_count": 43,
   "id": "f257b7b0-9b93-4cbb-9fdf-e4e9d6d63514",
   "metadata": {},
   "outputs": [
    {
     "data": {
      "text/plain": [
       "(1, 2, 3)"
      ]
     },
     "execution_count": 43,
     "metadata": {},
     "output_type": "execute_result"
    }
   ],
   "source": [
    "tuple(a)"
   ]
  },
  {
   "cell_type": "code",
   "execution_count": 44,
   "id": "9b4c59e2-a2b4-4ec7-af4c-a9fdbf689f60",
   "metadata": {},
   "outputs": [
    {
     "data": {
      "text/plain": [
       "frozenset({1, 2, 3})"
      ]
     },
     "execution_count": 44,
     "metadata": {},
     "output_type": "execute_result"
    }
   ],
   "source": [
    "frozenset(a)"
   ]
  },
  {
   "cell_type": "code",
   "execution_count": 45,
   "id": "26a63507-e412-4db5-9fec-56169dbf6fb0",
   "metadata": {},
   "outputs": [
    {
     "data": {
      "text/plain": [
       "{1, 2, 3}"
      ]
     },
     "execution_count": 45,
     "metadata": {},
     "output_type": "execute_result"
    }
   ],
   "source": [
    "set(a)"
   ]
  },
  {
   "cell_type": "code",
   "execution_count": null,
   "id": "b873b4b7-8e2e-4e2a-8f85-b6a93a9dccc2",
   "metadata": {},
   "outputs": [],
   "source": []
  }
 ],
 "metadata": {
  "kernelspec": {
   "display_name": "Python 3 (ipykernel)",
   "language": "python",
   "name": "python3"
  },
  "language_info": {
   "codemirror_mode": {
    "name": "ipython",
    "version": 3
   },
   "file_extension": ".py",
   "mimetype": "text/x-python",
   "name": "python",
   "nbconvert_exporter": "python",
   "pygments_lexer": "ipython3",
   "version": "3.11.4"
  }
 },
 "nbformat": 4,
 "nbformat_minor": 5
}
