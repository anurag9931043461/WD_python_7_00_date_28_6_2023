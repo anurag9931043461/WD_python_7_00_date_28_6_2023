{
 "cells": [
  {
   "cell_type": "code",
   "execution_count": 1,
   "id": "6e2a078a-15f0-499c-89ba-18cc2d7146d4",
   "metadata": {},
   "outputs": [],
   "source": [
    "class A:\n",
    "    def a(self):\n",
    "        print(\"I am a\")"
   ]
  },
  {
   "cell_type": "code",
   "execution_count": 5,
   "id": "5f9f6398-87b7-4a0f-bb06-2523809988ea",
   "metadata": {},
   "outputs": [],
   "source": [
    "class B(A):\n",
    "    def b(self):\n",
    "        print(\"I am b\")"
   ]
  },
  {
   "cell_type": "code",
   "execution_count": 6,
   "id": "120cb92a-7472-4f7b-a00d-b294f3b3b89a",
   "metadata": {},
   "outputs": [],
   "source": [
    "krishna=B()"
   ]
  },
  {
   "cell_type": "code",
   "execution_count": 7,
   "id": "cc539b00-346b-4dd3-81f0-be43e0f470fd",
   "metadata": {},
   "outputs": [
    {
     "name": "stdout",
     "output_type": "stream",
     "text": [
      "I am a\n"
     ]
    }
   ],
   "source": [
    "krishna.a()"
   ]
  },
  {
   "cell_type": "code",
   "execution_count": 8,
   "id": "79ab9a06-0a40-41f0-aeb7-dd4b69327248",
   "metadata": {},
   "outputs": [
    {
     "name": "stdout",
     "output_type": "stream",
     "text": [
      "I am b\n"
     ]
    }
   ],
   "source": [
    "krishna.b()"
   ]
  },
  {
   "cell_type": "markdown",
   "id": "d019a0f7-e583-4218-9f45-86b0cd79d4b5",
   "metadata": {},
   "source": [
    "# multilevel inheritance"
   ]
  },
  {
   "cell_type": "code",
   "execution_count": 16,
   "id": "29299476-ba63-4f32-8621-f47830f952ae",
   "metadata": {},
   "outputs": [],
   "source": [
    "class A:\n",
    "    def a(self):\n",
    "        print(\"I am a\")\n",
    "class B(A):\n",
    "    def b(self):\n",
    "        print(\"I am b\")\n",
    "class C(B):\n",
    "    def c(self):\n",
    "        print(\"I am c\")"
   ]
  },
  {
   "cell_type": "code",
   "execution_count": 17,
   "id": "c6bc98af-bfba-421f-9499-045ec4e9ed45",
   "metadata": {},
   "outputs": [],
   "source": [
    "krishna=C()"
   ]
  },
  {
   "cell_type": "code",
   "execution_count": 14,
   "id": "e5e92ab6-fc8a-4217-9ab0-4f01c140e0b6",
   "metadata": {},
   "outputs": [
    {
     "name": "stdout",
     "output_type": "stream",
     "text": [
      "I am b\n"
     ]
    }
   ],
   "source": [
    "krishna."
   ]
  },
  {
   "cell_type": "code",
   "execution_count": 15,
   "id": "4fb54872-71c6-489c-84d7-1b253e8c5b58",
   "metadata": {},
   "outputs": [
    {
     "name": "stdout",
     "output_type": "stream",
     "text": [
      "I am c\n"
     ]
    }
   ],
   "source": [
    "krishna.c()"
   ]
  },
  {
   "cell_type": "code",
   "execution_count": null,
   "id": "1b1aa01b-ed1c-44ea-9dbc-ee156b5ba5cc",
   "metadata": {},
   "outputs": [],
   "source": []
  }
 ],
 "metadata": {
  "kernelspec": {
   "display_name": "Python 3 (ipykernel)",
   "language": "python",
   "name": "python3"
  },
  "language_info": {
   "codemirror_mode": {
    "name": "ipython",
    "version": 3
   },
   "file_extension": ".py",
   "mimetype": "text/x-python",
   "name": "python",
   "nbconvert_exporter": "python",
   "pygments_lexer": "ipython3",
   "version": "3.11.5"
  }
 },
 "nbformat": 4,
 "nbformat_minor": 5
}
