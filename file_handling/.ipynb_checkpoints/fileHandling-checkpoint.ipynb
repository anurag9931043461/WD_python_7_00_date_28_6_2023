{
 "cells": [
  {
   "cell_type": "markdown",
   "id": "0efec659-409c-4188-a8e4-cc5a9e3d4ed8",
   "metadata": {},
   "source": [
    "# File handling\n",
    "\n",
    "Mode:\n",
    "\n",
    "x:to create a file in current working directory,if file already exist it will through an error.\n",
    "\n",
    "r: read: it is used to read a file\n",
    "\n",
    "w: write: it is used to write something on a file. it also create a file , it override all the data when we open a file in write w.\n",
    "\n",
    "a: append: to write something on a file without overriding existing content on that file. it will also create a file if not exist.\n",
    "\n",
    "rb: readBinary: it is used to read image file. and store into a file."
   ]
  },
  {
   "cell_type": "code",
   "execution_count": 7,
   "id": "b96d1a66-6c1e-444b-9e17-16f996dfe26d",
   "metadata": {},
   "outputs": [],
   "source": [
    "f1=open(\"abc.txt\",\"x\")"
   ]
  },
  {
   "cell_type": "code",
   "execution_count": 8,
   "id": "dd9e8f37-715c-4a03-885a-95274e0d15ff",
   "metadata": {},
   "outputs": [],
   "source": [
    "f1.close()"
   ]
  },
  {
   "cell_type": "code",
   "execution_count": 9,
   "id": "e0e9824b-00b1-4a95-a220-f7e440ca6fb7",
   "metadata": {},
   "outputs": [],
   "source": [
    "f2=open(\"abc.txt\",\"r\")"
   ]
  },
  {
   "cell_type": "code",
   "execution_count": 10,
   "id": "07f02608-3574-41f0-ac1d-f24ac13c94db",
   "metadata": {},
   "outputs": [
    {
     "data": {
      "text/plain": [
       "'I am'"
      ]
     },
     "execution_count": 10,
     "metadata": {},
     "output_type": "execute_result"
    }
   ],
   "source": [
    "f2.read(4)"
   ]
  },
  {
   "cell_type": "code",
   "execution_count": 11,
   "id": "ae397f1a-b95f-4852-84c0-cb0742f361ce",
   "metadata": {},
   "outputs": [
    {
     "data": {
      "text/plain": [
       "' krishna'"
      ]
     },
     "execution_count": 11,
     "metadata": {},
     "output_type": "execute_result"
    }
   ],
   "source": [
    "f2.read(8)"
   ]
  },
  {
   "cell_type": "code",
   "execution_count": 12,
   "id": "d22f249a-0979-428d-bb50-fe5387ffb93b",
   "metadata": {},
   "outputs": [
    {
     "data": {
      "text/plain": [
       "' kumar\\nI am in MCA final year\\nI am an Ai Trainer'"
      ]
     },
     "execution_count": 12,
     "metadata": {},
     "output_type": "execute_result"
    }
   ],
   "source": [
    "f2.read()"
   ]
  },
  {
   "cell_type": "code",
   "execution_count": 13,
   "id": "0a255751-405a-458f-b33f-2d27e0b2556f",
   "metadata": {},
   "outputs": [
    {
     "data": {
      "text/plain": [
       "''"
      ]
     },
     "execution_count": 13,
     "metadata": {},
     "output_type": "execute_result"
    }
   ],
   "source": [
    "f2.read(1)"
   ]
  },
  {
   "cell_type": "code",
   "execution_count": 14,
   "id": "75359231-8521-42e5-82ad-221301fdc673",
   "metadata": {},
   "outputs": [
    {
     "data": {
      "text/plain": [
       "10"
      ]
     },
     "execution_count": 14,
     "metadata": {},
     "output_type": "execute_result"
    }
   ],
   "source": [
    "f2.seek(10)"
   ]
  },
  {
   "cell_type": "code",
   "execution_count": 15,
   "id": "9972b73e-d575-4d34-af86-938d7b9caf6a",
   "metadata": {},
   "outputs": [
    {
     "data": {
      "text/plain": [
       "'na kumar\\nI am i'"
      ]
     },
     "execution_count": 15,
     "metadata": {},
     "output_type": "execute_result"
    }
   ],
   "source": [
    "f2.read(15)"
   ]
  },
  {
   "cell_type": "code",
   "execution_count": 16,
   "id": "2e01b176-66ef-4793-a373-13991be4f4b5",
   "metadata": {},
   "outputs": [
    {
     "data": {
      "text/plain": [
       "0"
      ]
     },
     "execution_count": 16,
     "metadata": {},
     "output_type": "execute_result"
    }
   ],
   "source": [
    "f2.seek(0)"
   ]
  },
  {
   "cell_type": "code",
   "execution_count": 17,
   "id": "87efe7ff-23a3-4302-8775-5a2f39119bc6",
   "metadata": {},
   "outputs": [
    {
     "name": "stdout",
     "output_type": "stream",
     "text": [
      "I am krishna kumar\n",
      "I am in MCA final year\n",
      "I am an Ai Trainer\n"
     ]
    }
   ],
   "source": [
    "print(f2.read())"
   ]
  },
  {
   "cell_type": "code",
   "execution_count": 20,
   "id": "fcef85b7-9bc1-4c7e-85e8-edd89a2318d7",
   "metadata": {},
   "outputs": [],
   "source": [
    "f2.close()"
   ]
  },
  {
   "cell_type": "code",
   "execution_count": 24,
   "id": "61698161-4036-4f95-a400-06608d06ab1c",
   "metadata": {},
   "outputs": [],
   "source": [
    "f3=open(\"xyz.txt\",\"w\")"
   ]
  },
  {
   "cell_type": "code",
   "execution_count": 25,
   "id": "0f0b2490-c30a-4960-b870-dcf3fa01adda",
   "metadata": {},
   "outputs": [
    {
     "data": {
      "text/plain": [
       "56"
      ]
     },
     "execution_count": 25,
     "metadata": {},
     "output_type": "execute_result"
    }
   ],
   "source": [
    "f3.write(\"I am krishna \\nI am in MCA final year\\nI am an Ai trainer.\")"
   ]
  },
  {
   "cell_type": "code",
   "execution_count": 26,
   "id": "5da2bd2d-c109-42cd-b596-a60611a2b117",
   "metadata": {},
   "outputs": [],
   "source": [
    "f3.close()"
   ]
  },
  {
   "cell_type": "code",
   "execution_count": 28,
   "id": "5254350f-f57d-42dd-94de-b2a60c839d40",
   "metadata": {},
   "outputs": [],
   "source": [
    "f4=open(\"xyz.txt\",\"w\")"
   ]
  },
  {
   "cell_type": "code",
   "execution_count": 29,
   "id": "ac117409-bf90-48c1-ae71-6de5e2eb487b",
   "metadata": {},
   "outputs": [
    {
     "data": {
      "text/plain": [
       "12"
      ]
     },
     "execution_count": 29,
     "metadata": {},
     "output_type": "execute_result"
    }
   ],
   "source": [
    "f4.write(\"I am krishna\")"
   ]
  },
  {
   "cell_type": "code",
   "execution_count": 30,
   "id": "b53ad867-9557-4231-b810-f5b27a31d1dd",
   "metadata": {},
   "outputs": [],
   "source": [
    "f4.close()"
   ]
  },
  {
   "cell_type": "code",
   "execution_count": 31,
   "id": "0d5538ce-7929-44f5-9da8-e0ce82d32450",
   "metadata": {},
   "outputs": [],
   "source": [
    "f5=open(\"abc.txt\",'a')"
   ]
  },
  {
   "cell_type": "code",
   "execution_count": 32,
   "id": "44503950-c34f-4600-a3ea-1ae02af866f2",
   "metadata": {},
   "outputs": [],
   "source": [
    "f5.writelines(\"I am krishna\\n\")"
   ]
  },
  {
   "cell_type": "code",
   "execution_count": 33,
   "id": "91841120-2566-4275-a3b5-3ccdc81bc870",
   "metadata": {},
   "outputs": [],
   "source": [
    "f5.close()"
   ]
  },
  {
   "cell_type": "code",
   "execution_count": 34,
   "id": "738accc4-eb80-42b3-876d-9421d00081e7",
   "metadata": {},
   "outputs": [],
   "source": [
    "f6=open(\"abc.txt\",'a')"
   ]
  },
  {
   "cell_type": "code",
   "execution_count": 35,
   "id": "53a73794-e405-4527-b602-3f75e4092542",
   "metadata": {},
   "outputs": [
    {
     "data": {
      "text/plain": [
       "11"
      ]
     },
     "execution_count": 35,
     "metadata": {},
     "output_type": "execute_result"
    }
   ],
   "source": [
    "f6.write(\"hello world\")"
   ]
  },
  {
   "cell_type": "code",
   "execution_count": 36,
   "id": "17d71521-2b5c-408c-b1a8-91e0e93da9ea",
   "metadata": {},
   "outputs": [],
   "source": [
    "f6.close()"
   ]
  },
  {
   "cell_type": "code",
   "execution_count": 39,
   "id": "94987cbb-e7e1-449c-ac5a-6bf95ef000d5",
   "metadata": {},
   "outputs": [
    {
     "name": "stdout",
     "output_type": "stream",
     "text": [
      "* \n",
      "* * \n",
      "* * * \n",
      "* * * * \n",
      "* * * * * \n"
     ]
    }
   ],
   "source": [
    "for i in range(1,6):\n",
    "    print(i*\"* \")\n",
    "    "
   ]
  },
  {
   "cell_type": "code",
   "execution_count": 44,
   "id": "1938f287-281a-4026-9775-d73fd01dfbed",
   "metadata": {},
   "outputs": [],
   "source": [
    "f7=open(\"abc.txt\",\"a\")"
   ]
  },
  {
   "cell_type": "code",
   "execution_count": 45,
   "id": "2cc87604-b0bc-48e2-b4f1-be65c7d96054",
   "metadata": {},
   "outputs": [],
   "source": [
    "f7.write(\"\\n\")\n",
    "for i in range(1,6):\n",
    "    f7.write(i*\"* \")\n",
    "    f7.write(\"\\n\")"
   ]
  },
  {
   "cell_type": "code",
   "execution_count": 46,
   "id": "bd1d391e-9088-4aa5-9d1f-7c5139cf2eb9",
   "metadata": {},
   "outputs": [],
   "source": [
    "f7.close()"
   ]
  },
  {
   "cell_type": "code",
   "execution_count": null,
   "id": "6f8b2406-e6b9-4dfa-a0f5-350124726a7b",
   "metadata": {},
   "outputs": [],
   "source": []
  }
 ],
 "metadata": {
  "kernelspec": {
   "display_name": "Python 3 (ipykernel)",
   "language": "python",
   "name": "python3"
  },
  "language_info": {
   "codemirror_mode": {
    "name": "ipython",
    "version": 3
   },
   "file_extension": ".py",
   "mimetype": "text/x-python",
   "name": "python",
   "nbconvert_exporter": "python",
   "pygments_lexer": "ipython3",
   "version": "3.11.5"
  }
 },
 "nbformat": 4,
 "nbformat_minor": 5
}
