{
 "cells": [
  {
   "cell_type": "code",
   "execution_count": 1,
   "id": "0db8d83e-cbb2-4013-98b9-cb5935b3adb2",
   "metadata": {},
   "outputs": [],
   "source": [
    "import mysql.connector as sql"
   ]
  },
  {
   "cell_type": "code",
   "execution_count": 2,
   "id": "ab486d72-5b1e-4a33-8019-b55de4272007",
   "metadata": {
    "tags": []
   },
   "outputs": [],
   "source": [
    "krishna=sql.connect(host=\"localhost\",user=\"root\",password=\"root\",port=3306)"
   ]
  },
  {
   "cell_type": "code",
   "execution_count": 3,
   "id": "14ee9941-1161-4a79-8240-895d1c1c5db8",
   "metadata": {
    "tags": []
   },
   "outputs": [],
   "source": [
    "car=krishna.cursor()"
   ]
  },
  {
   "cell_type": "code",
   "execution_count": 4,
   "id": "24ccfa45-db91-42b0-8507-9434dffb1340",
   "metadata": {
    "tags": []
   },
   "outputs": [],
   "source": [
    "car.execute(\"show databases\")"
   ]
  },
  {
   "cell_type": "code",
   "execution_count": 5,
   "id": "a6f8ed63-ffc5-4d6a-b499-dcda47a36372",
   "metadata": {
    "tags": []
   },
   "outputs": [
    {
     "name": "stdout",
     "output_type": "stream",
     "text": [
      "('information_schema',)\n",
      "('mysql',)\n",
      "('performance_schema',)\n",
      "('sakila',)\n",
      "('sys',)\n",
      "('wd12',)\n",
      "('wd2',)\n",
      "('wd5',)\n",
      "('wd7',)\n",
      "('we10',)\n",
      "('we2',)\n",
      "('we4',)\n",
      "('world',)\n"
     ]
    }
   ],
   "source": [
    "for i in car:\n",
    "    print(i)"
   ]
  },
  {
   "cell_type": "code",
   "execution_count": 7,
   "id": "5ed1b977-e227-443d-b4e9-3f635414eff8",
   "metadata": {
    "tags": []
   },
   "outputs": [],
   "source": [
    "car.execute(\"use wd7\")"
   ]
  },
  {
   "cell_type": "code",
   "execution_count": 8,
   "id": "c05ad469-28ab-454f-b090-8901b7c4b7ae",
   "metadata": {
    "tags": []
   },
   "outputs": [],
   "source": [
    "car.execute(\"show tables\")"
   ]
  },
  {
   "cell_type": "code",
   "execution_count": 9,
   "id": "2a49a726-65cc-408a-b207-be6448367a98",
   "metadata": {
    "tags": []
   },
   "outputs": [
    {
     "name": "stdout",
     "output_type": "stream",
     "text": [
      "('college',)\n",
      "('college2',)\n",
      "('family',)\n",
      "('government',)\n",
      "('hostel',)\n",
      "('hostel2',)\n",
      "('library',)\n",
      "('restra',)\n",
      "('shubidha',)\n"
     ]
    }
   ],
   "source": [
    "for i in car:\n",
    "    print(i)"
   ]
  },
  {
   "cell_type": "code",
   "execution_count": 13,
   "id": "de13bb8c-3f66-4c6d-aa81-96476b23abc3",
   "metadata": {
    "tags": []
   },
   "outputs": [],
   "source": [
    "car.execute(\"select * from college\")"
   ]
  },
  {
   "cell_type": "code",
   "execution_count": 14,
   "id": "6cec2976-60d6-4c2d-9fee-b814491354f7",
   "metadata": {
    "tags": []
   },
   "outputs": [
    {
     "name": "stdout",
     "output_type": "stream",
     "text": [
      "(1, 'krishna', 'MCA')\n",
      "(2, 'Mohan', 'BCA')\n",
      "(3, 'Sohan', 'BBA')\n"
     ]
    }
   ],
   "source": [
    "for i in car:\n",
    "    print(i)"
   ]
  },
  {
   "cell_type": "code",
   "execution_count": 17,
   "id": "e89c79f7-5fb1-4f86-a5ef-e00144c9f4f2",
   "metadata": {
    "tags": []
   },
   "outputs": [],
   "source": [
    "car.execute(\"select * from college2\")"
   ]
  },
  {
   "cell_type": "code",
   "execution_count": 18,
   "id": "2c91c836-18d1-4761-b06c-01d46ad5b9e4",
   "metadata": {
    "tags": []
   },
   "outputs": [
    {
     "name": "stdout",
     "output_type": "stream",
     "text": [
      "(1, 'dhava', 'Science')\n",
      "(2, 'Mukesh', 'Maths')\n",
      "(3, 'Krishna', 'Art')\n",
      "(10, 'Santosh', 'Art')\n"
     ]
    }
   ],
   "source": [
    "for i in car:\n",
    "    print(i)"
   ]
  },
  {
   "cell_type": "code",
   "execution_count": 19,
   "id": "8ec9d844-7e9b-4341-a9be-01fdad679dbf",
   "metadata": {
    "tags": []
   },
   "outputs": [],
   "source": [
    "car.execute(\"desc college2\")"
   ]
  },
  {
   "cell_type": "code",
   "execution_count": 20,
   "id": "2a044a93-88d2-426c-b7eb-147997ab3113",
   "metadata": {
    "tags": []
   },
   "outputs": [
    {
     "name": "stdout",
     "output_type": "stream",
     "text": [
      "('enrollment', b'int', 'NO', 'PRI', None, '')\n",
      "('name', b'varchar(50)', 'NO', '', None, '')\n",
      "('branch', b'char(30)', 'NO', '', None, '')\n"
     ]
    }
   ],
   "source": [
    "for i in car:\n",
    "    print(i)"
   ]
  },
  {
   "cell_type": "code",
   "execution_count": 21,
   "id": "ce589776-ae64-4410-87c6-4f854d16dbfa",
   "metadata": {
    "tags": []
   },
   "outputs": [],
   "source": [
    "car.execute(\"show tables\")"
   ]
  },
  {
   "cell_type": "code",
   "execution_count": 22,
   "id": "f85e0adc-4d20-4bdf-90e6-f7841a308caa",
   "metadata": {
    "tags": []
   },
   "outputs": [
    {
     "name": "stdout",
     "output_type": "stream",
     "text": [
      "('college',)\n",
      "('college2',)\n",
      "('family',)\n",
      "('government',)\n",
      "('hostel',)\n",
      "('hostel2',)\n",
      "('library',)\n",
      "('restra',)\n",
      "('shubidha',)\n"
     ]
    }
   ],
   "source": [
    "for i in car:\n",
    "    print(i)"
   ]
  },
  {
   "cell_type": "code",
   "execution_count": 23,
   "id": "0d8acb02-51b4-44ca-80df-5e23d1f8e67e",
   "metadata": {
    "tags": []
   },
   "outputs": [],
   "source": [
    "car.execute(\"create table introduction(sn int primary key auto_increment,name varchar(50))\")"
   ]
  },
  {
   "cell_type": "code",
   "execution_count": 24,
   "id": "70791e73-93f1-4828-b6b5-1bbf5c7809b0",
   "metadata": {
    "tags": []
   },
   "outputs": [],
   "source": [
    "car.execute(\"show tables\")"
   ]
  },
  {
   "cell_type": "code",
   "execution_count": 25,
   "id": "c13d757a-4f41-48d0-af74-20344494391b",
   "metadata": {
    "tags": []
   },
   "outputs": [
    {
     "name": "stdout",
     "output_type": "stream",
     "text": [
      "('college',)\n",
      "('college2',)\n",
      "('family',)\n",
      "('government',)\n",
      "('hostel',)\n",
      "('hostel2',)\n",
      "('introduction',)\n",
      "('library',)\n",
      "('restra',)\n",
      "('shubidha',)\n"
     ]
    }
   ],
   "source": [
    "for i in car:\n",
    "    print(i)"
   ]
  },
  {
   "cell_type": "code",
   "execution_count": 31,
   "id": "d40bf942-70d8-4243-92b0-e965b347d108",
   "metadata": {
    "tags": []
   },
   "outputs": [
    {
     "name": "stdin",
     "output_type": "stream",
     "text": [
      "Enter your name: krishna\n",
      "Enter your name: sanju\n",
      "Enter your name: dhava\n",
      "Enter your name: mukesh\n",
      "Enter your name: rajani\n",
      "Enter your name: Luxman\n"
     ]
    }
   ],
   "source": [
    "for i in range(6):\n",
    "    user=input(\"Enter your name:\")\n",
    "    car.execute(\"insert into introduction(name) values('{}')\".format(user))\n",
    "krishna.commit()"
   ]
  },
  {
   "cell_type": "code",
   "execution_count": 27,
   "id": "b13684e4-b859-44d3-aedc-05c61b784c9c",
   "metadata": {
    "tags": []
   },
   "outputs": [
    {
     "name": "stdout",
     "output_type": "stream",
     "text": [
      "this is 'krishna'\n"
     ]
    }
   ],
   "source": [
    "print(\"this is 'krishna'\")"
   ]
  },
  {
   "cell_type": "code",
   "execution_count": 28,
   "id": "a8543b9c-0f64-4ee7-a3e7-a86cf900ccc5",
   "metadata": {
    "tags": []
   },
   "outputs": [
    {
     "name": "stdout",
     "output_type": "stream",
     "text": [
      "this is \"krishna\"\n"
     ]
    }
   ],
   "source": [
    "print('this is \"krishna\"')"
   ]
  },
  {
   "cell_type": "code",
   "execution_count": 29,
   "id": "35e27d2a-2ea8-439c-9203-b6306a2b7192",
   "metadata": {
    "tags": []
   },
   "outputs": [
    {
     "name": "stdout",
     "output_type": "stream",
     "text": [
      "this is \"krishna\"\n"
     ]
    }
   ],
   "source": [
    "print(\"this is \\\"krishna\\\"\")"
   ]
  },
  {
   "cell_type": "code",
   "execution_count": 32,
   "id": "aa6ced17-23b8-460a-bbe7-642075723fbe",
   "metadata": {
    "tags": []
   },
   "outputs": [],
   "source": [
    "car.execute(\"select * from introduction\")"
   ]
  },
  {
   "cell_type": "code",
   "execution_count": 33,
   "id": "d0a9d22d-cff9-486f-8413-6fdabfade1ff",
   "metadata": {
    "tags": []
   },
   "outputs": [
    {
     "name": "stdout",
     "output_type": "stream",
     "text": [
      "(1, 'Krishna Kumar')\n",
      "(2, 'sanju')\n",
      "(3, 'dhava')\n",
      "(4, 'mukesh')\n",
      "(5, 'rajni')\n",
      "(6, 'luxman')\n",
      "(7, 'krishna')\n",
      "(8, 'sanju')\n",
      "(9, 'dhava')\n",
      "(10, 'mukesh')\n",
      "(11, 'rajani')\n",
      "(12, 'Luxman')\n"
     ]
    }
   ],
   "source": [
    "for i in car:\n",
    "    print(i)"
   ]
  },
  {
   "cell_type": "code",
   "execution_count": null,
   "id": "aa46fde0-19ee-49ad-aac1-8bfbea168771",
   "metadata": {},
   "outputs": [],
   "source": []
  }
 ],
 "metadata": {
  "kernelspec": {
   "display_name": "Python 3 (ipykernel)",
   "language": "python",
   "name": "python3"
  },
  "language_info": {
   "codemirror_mode": {
    "name": "ipython",
    "version": 3
   },
   "file_extension": ".py",
   "mimetype": "text/x-python",
   "name": "python",
   "nbconvert_exporter": "python",
   "pygments_lexer": "ipython3",
   "version": "3.11.5"
  }
 },
 "nbformat": 4,
 "nbformat_minor": 5
}
