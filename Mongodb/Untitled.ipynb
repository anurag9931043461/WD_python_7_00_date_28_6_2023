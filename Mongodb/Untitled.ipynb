{
 "cells": [
  {
   "cell_type": "code",
   "execution_count": 1,
   "id": "376205d2-7345-41d9-8e66-fb9cf1329f13",
   "metadata": {},
   "outputs": [],
   "source": [
    "#pip install pymongo"
   ]
  },
  {
   "cell_type": "code",
   "execution_count": 2,
   "id": "94ff47a0-d985-4779-8e9b-3bcfd9b6a4b2",
   "metadata": {},
   "outputs": [],
   "source": [
    "#pip install --upgrade pip"
   ]
  },
  {
   "cell_type": "code",
   "execution_count": 3,
   "id": "ba2894c2-31c0-45f2-83b0-e1b5bcc2bba6",
   "metadata": {},
   "outputs": [],
   "source": [
    "import pymongo"
   ]
  },
  {
   "cell_type": "code",
   "execution_count": 5,
   "id": "23ef7174-cb76-4912-a163-e9f75661d59c",
   "metadata": {},
   "outputs": [],
   "source": [
    "krishna=pymongo.MongoClient(\"mongodb://localhost:27017\")"
   ]
  },
  {
   "cell_type": "code",
   "execution_count": 6,
   "id": "f38a341b-3a32-4a7b-91c9-cb67188a2020",
   "metadata": {},
   "outputs": [],
   "source": [
    "car=krishna[\"wd7\"]"
   ]
  },
  {
   "cell_type": "code",
   "execution_count": 7,
   "id": "7c54b253-b91e-4bfd-bcd3-ed9ffbd005d7",
   "metadata": {},
   "outputs": [],
   "source": [
    "information=car.bekar"
   ]
  },
  {
   "cell_type": "code",
   "execution_count": 11,
   "id": "e2ed7bd9-b829-44b0-9f6c-c9c72d466086",
   "metadata": {},
   "outputs": [],
   "source": [
    "rec=[{\"name\":\"Dhava\",\"age\":26},{\"name\":\"Dhava\",\"age\":26},{\"name\":\"Dhava\",\"age\":26},{\"name\":\"Dhava\",\"age\":26}]"
   ]
  },
  {
   "cell_type": "code",
   "execution_count": 12,
   "id": "09fd2fec-14f4-4521-8ef2-a8111de3f1aa",
   "metadata": {},
   "outputs": [
    {
     "data": {
      "text/plain": [
       "<pymongo.results.InsertManyResult at 0x1d891991240>"
      ]
     },
     "execution_count": 12,
     "metadata": {},
     "output_type": "execute_result"
    }
   ],
   "source": [
    "information.insert_many(rec)"
   ]
  },
  {
   "cell_type": "code",
   "execution_count": null,
   "id": "479e9b47-c1c5-4ea4-82e3-e35bf9d7d99d",
   "metadata": {},
   "outputs": [],
   "source": []
  }
 ],
 "metadata": {
  "kernelspec": {
   "display_name": "Python 3 (ipykernel)",
   "language": "python",
   "name": "python3"
  },
  "language_info": {
   "codemirror_mode": {
    "name": "ipython",
    "version": 3
   },
   "file_extension": ".py",
   "mimetype": "text/x-python",
   "name": "python",
   "nbconvert_exporter": "python",
   "pygments_lexer": "ipython3",
   "version": "3.12.0"
  }
 },
 "nbformat": 4,
 "nbformat_minor": 5
}
