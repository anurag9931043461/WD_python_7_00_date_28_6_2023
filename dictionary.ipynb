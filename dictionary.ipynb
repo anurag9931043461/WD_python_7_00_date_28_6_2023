{
 "cells": [
  {
   "cell_type": "code",
   "execution_count": 3,
   "id": "35baac38-8c9f-411e-947a-3e51d82d8a1a",
   "metadata": {},
   "outputs": [],
   "source": [
    "a=[\"krishna\",\"Mohan\",\"Sohan\",\"Ramesh\"]"
   ]
  },
  {
   "cell_type": "code",
   "execution_count": 4,
   "id": "84411b1f-9e7d-4453-8732-eaf40dd94c5a",
   "metadata": {},
   "outputs": [
    {
     "name": "stdout",
     "output_type": "stream",
     "text": [
      "['krishna', 'Mohan', 'Sohan', 'Ramesh']\n"
     ]
    }
   ],
   "source": [
    "print(a)"
   ]
  },
  {
   "cell_type": "markdown",
   "id": "896ce5cc-40a2-4e2e-801c-741091a6f5a0",
   "metadata": {},
   "source": [
    "# dictinary:\n",
    "\n",
    "> constructor is dict()\n",
    "\n",
    "> literal literal is {}\n",
    "\n",
    "> dictionary is ordered set of sequence of items.\n",
    "\n",
    "> it is combination of key(s) and value(s) pair called item(s).\n",
    "\n",
    "> dictionary key must be immutable datatype.\n",
    "\n",
    "> dictionary is mutable.\n",
    "\n",
    "> dictionary support nested dictionary\n",
    "\n",
    "> dictionary does not support slicing, concationation.\n",
    "\n",
    "> dictionary methods."
   ]
  },
  {
   "cell_type": "code",
   "execution_count": 5,
   "id": "1bf5b791-a8a7-449e-bc5e-7c503bce2ffb",
   "metadata": {},
   "outputs": [],
   "source": [
    "a=[\"krishna\",\"Mohan\",\"Sohan\",\"Ramesh\"]\n",
    "b={1:\"krishna\",2:\"Mohan\",3:\"Sohan\",4:\"Ramesh\"}"
   ]
  },
  {
   "cell_type": "code",
   "execution_count": 6,
   "id": "d5978d25-6346-49e1-a8da-60f5442eaae4",
   "metadata": {},
   "outputs": [
    {
     "name": "stdout",
     "output_type": "stream",
     "text": [
      "{1: 'krishna', 2: 'Mohan', 3: 'Sohan', 4: 'Ramesh'}\n"
     ]
    }
   ],
   "source": [
    "print(b)"
   ]
  },
  {
   "cell_type": "code",
   "execution_count": 7,
   "id": "fb06eed0-331b-4af0-b9f6-f25acf7d17f0",
   "metadata": {},
   "outputs": [
    {
     "name": "stdout",
     "output_type": "stream",
     "text": [
      "<class 'dict'>\n"
     ]
    }
   ],
   "source": [
    "print(type(b))"
   ]
  },
  {
   "cell_type": "code",
   "execution_count": 9,
   "id": "c58dcc94-1d7f-4528-a40a-dde7ad86abc2",
   "metadata": {},
   "outputs": [
    {
     "data": {
      "text/plain": [
       "'krishna'"
      ]
     },
     "execution_count": 9,
     "metadata": {},
     "output_type": "execute_result"
    }
   ],
   "source": [
    "b[1]"
   ]
  },
  {
   "cell_type": "code",
   "execution_count": 10,
   "id": "cc10eb6c-2880-49bb-8307-77e9ab279b2c",
   "metadata": {},
   "outputs": [],
   "source": [
    "d={10:\"Sohan\",15:\"Moni\",20:\"Soni\",43:\"Krishna\"}"
   ]
  },
  {
   "cell_type": "code",
   "execution_count": 11,
   "id": "be0d00ec-6a9b-48a2-bd16-ba6f88cb203a",
   "metadata": {},
   "outputs": [
    {
     "name": "stdout",
     "output_type": "stream",
     "text": [
      "{10: 'Sohan', 15: 'Moni', 20: 'Soni', 43: 'Krishna'}\n"
     ]
    }
   ],
   "source": [
    "print(d)"
   ]
  },
  {
   "cell_type": "code",
   "execution_count": 12,
   "id": "223c4cee-0cee-41c5-80e9-6783e0f1e004",
   "metadata": {},
   "outputs": [
    {
     "data": {
      "text/plain": [
       "dict_items([(10, 'Sohan'), (15, 'Moni'), (20, 'Soni'), (43, 'Krishna')])"
      ]
     },
     "execution_count": 12,
     "metadata": {},
     "output_type": "execute_result"
    }
   ],
   "source": [
    "d.items()"
   ]
  },
  {
   "cell_type": "code",
   "execution_count": 13,
   "id": "4c533d3d-1a58-4c50-a54f-766529459ab2",
   "metadata": {},
   "outputs": [
    {
     "data": {
      "text/plain": [
       "dict_keys([10, 15, 20, 43])"
      ]
     },
     "execution_count": 13,
     "metadata": {},
     "output_type": "execute_result"
    }
   ],
   "source": [
    "d.keys()"
   ]
  },
  {
   "cell_type": "code",
   "execution_count": 14,
   "id": "8d39ceb6-2634-4133-98c9-268ef375207f",
   "metadata": {},
   "outputs": [
    {
     "data": {
      "text/plain": [
       "dict_values(['Sohan', 'Moni', 'Soni', 'Krishna'])"
      ]
     },
     "execution_count": 14,
     "metadata": {},
     "output_type": "execute_result"
    }
   ],
   "source": [
    "d.values()"
   ]
  },
  {
   "cell_type": "code",
   "execution_count": 15,
   "id": "9d94bb79-788a-48ef-bb28-a3207c3d62bc",
   "metadata": {},
   "outputs": [
    {
     "data": {
      "text/plain": [
       "{10}"
      ]
     },
     "execution_count": 15,
     "metadata": {},
     "output_type": "execute_result"
    }
   ],
   "source": [
    "{10}"
   ]
  },
  {
   "cell_type": "code",
   "execution_count": 16,
   "id": "d3fd1f03-2fb2-4211-941a-6e5bfa2f1a61",
   "metadata": {},
   "outputs": [
    {
     "data": {
      "text/plain": [
       "{10.444}"
      ]
     },
     "execution_count": 16,
     "metadata": {},
     "output_type": "execute_result"
    }
   ],
   "source": [
    "{10.444}"
   ]
  },
  {
   "cell_type": "code",
   "execution_count": 17,
   "id": "51227f4f-8c1f-4496-9e9f-3e2ba59f4100",
   "metadata": {},
   "outputs": [
    {
     "data": {
      "text/plain": [
       "{'krishna'}"
      ]
     },
     "execution_count": 17,
     "metadata": {},
     "output_type": "execute_result"
    }
   ],
   "source": [
    "{\"krishna\"}"
   ]
  },
  {
   "cell_type": "code",
   "execution_count": 18,
   "id": "8880379f-b8b7-4efd-aeca-d9929b8062c1",
   "metadata": {},
   "outputs": [
    {
     "ename": "TypeError",
     "evalue": "unhashable type: 'list'",
     "output_type": "error",
     "traceback": [
      "\u001b[1;31m---------------------------------------------------------------------------\u001b[0m",
      "\u001b[1;31mTypeError\u001b[0m                                 Traceback (most recent call last)",
      "Cell \u001b[1;32mIn[18], line 1\u001b[0m\n\u001b[1;32m----> 1\u001b[0m {[\u001b[38;5;241m1\u001b[39m,\u001b[38;5;241m2\u001b[39m,\u001b[38;5;241m3\u001b[39m,\u001b[38;5;241m4\u001b[39m]}\n",
      "\u001b[1;31mTypeError\u001b[0m: unhashable type: 'list'"
     ]
    }
   ],
   "source": [
    "{[1,2,3,4]}"
   ]
  },
  {
   "cell_type": "code",
   "execution_count": 19,
   "id": "a9418e49-c64d-419e-ad24-166ae386f353",
   "metadata": {},
   "outputs": [
    {
     "data": {
      "text/plain": [
       "{(1, 2, 3, 4)}"
      ]
     },
     "execution_count": 19,
     "metadata": {},
     "output_type": "execute_result"
    }
   ],
   "source": [
    "{(1,2,3,4)}"
   ]
  },
  {
   "cell_type": "code",
   "execution_count": 20,
   "id": "78abd670-6f6c-435c-98d5-ae6e1c2abc1c",
   "metadata": {},
   "outputs": [
    {
     "ename": "TypeError",
     "evalue": "unhashable type: 'set'",
     "output_type": "error",
     "traceback": [
      "\u001b[1;31m---------------------------------------------------------------------------\u001b[0m",
      "\u001b[1;31mTypeError\u001b[0m                                 Traceback (most recent call last)",
      "Cell \u001b[1;32mIn[20], line 1\u001b[0m\n\u001b[1;32m----> 1\u001b[0m {{\u001b[38;5;241m1\u001b[39m,\u001b[38;5;241m2\u001b[39m,\u001b[38;5;241m3\u001b[39m,\u001b[38;5;241m4\u001b[39m}}\n",
      "\u001b[1;31mTypeError\u001b[0m: unhashable type: 'set'"
     ]
    }
   ],
   "source": [
    "{{1,2,3,4}}"
   ]
  },
  {
   "cell_type": "code",
   "execution_count": null,
   "id": "8d756280-2be6-4ca1-b9d9-2943202fb55b",
   "metadata": {},
   "outputs": [],
   "source": [
    "8700103696"
   ]
  },
  {
   "cell_type": "code",
   "execution_count": 21,
   "id": "2bd390c6-f315-4871-9465-6099e69c9f75",
   "metadata": {},
   "outputs": [],
   "source": [
    "f={10:\"krishna\",10.99:\"Vicky\",\"chiti\":\"1tz,1zb\",(1,2,3):\"Dhava\"}"
   ]
  },
  {
   "cell_type": "code",
   "execution_count": 22,
   "id": "49e418e9-3fe1-40ce-8069-779a44d77fd5",
   "metadata": {},
   "outputs": [
    {
     "name": "stdout",
     "output_type": "stream",
     "text": [
      "{10: 'krishna', 10.99: 'Vicky', 'chiti': '1tz,1zb', (1, 2, 3): 'Dhava'}\n"
     ]
    }
   ],
   "source": [
    "print(f)"
   ]
  },
  {
   "cell_type": "code",
   "execution_count": 23,
   "id": "1e52a118-e371-412b-a808-9a19ccf1c886",
   "metadata": {},
   "outputs": [
    {
     "ename": "TypeError",
     "evalue": "unhashable type: 'list'",
     "output_type": "error",
     "traceback": [
      "\u001b[1;31m---------------------------------------------------------------------------\u001b[0m",
      "\u001b[1;31mTypeError\u001b[0m                                 Traceback (most recent call last)",
      "Cell \u001b[1;32mIn[23], line 1\u001b[0m\n\u001b[1;32m----> 1\u001b[0m g\u001b[38;5;241m=\u001b[39m{[\u001b[38;5;241m1\u001b[39m,\u001b[38;5;241m2\u001b[39m,\u001b[38;5;241m3\u001b[39m]:(\u001b[38;5;241m1\u001b[39m,\u001b[38;5;241m2\u001b[39m,\u001b[38;5;241m3\u001b[39m,\u001b[38;5;241m4\u001b[39m)}\n",
      "\u001b[1;31mTypeError\u001b[0m: unhashable type: 'list'"
     ]
    }
   ],
   "source": [
    "g={[1,2,3]:(1,2,3,4)}"
   ]
  },
  {
   "cell_type": "code",
   "execution_count": 25,
   "id": "be1f21b8-bd90-4c54-acab-7e615ea2af44",
   "metadata": {},
   "outputs": [],
   "source": [
    "h={1:10,2:10.99,3:\"krishna\",4:[1,2,4],5:(12,3,4),6:{1,3,4,5},7:{1:\"krishna\"}}"
   ]
  },
  {
   "cell_type": "code",
   "execution_count": 26,
   "id": "63f3d3bd-0996-4e6b-9fcf-2f6fec37f177",
   "metadata": {},
   "outputs": [
    {
     "name": "stdout",
     "output_type": "stream",
     "text": [
      "{1: 10, 2: 10.99, 3: 'krishna', 4: [1, 2, 4], 5: (12, 3, 4), 6: {1, 3, 4, 5}, 7: {1: 'krishna'}}\n"
     ]
    }
   ],
   "source": [
    "print(h)"
   ]
  },
  {
   "cell_type": "code",
   "execution_count": 30,
   "id": "4f1e2912-9661-4fad-b325-2081a7115921",
   "metadata": {},
   "outputs": [],
   "source": [
    "j={1:\"krishna\",2:\"mohan\",3:\"Sunny\",1:\"Nick\"}"
   ]
  },
  {
   "cell_type": "code",
   "execution_count": 31,
   "id": "848e8e1b-0b41-4c9c-8505-bab2366bffe7",
   "metadata": {},
   "outputs": [
    {
     "name": "stdout",
     "output_type": "stream",
     "text": [
      "{1: 'Nick', 2: 'mohan', 3: 'Sunny'}\n"
     ]
    }
   ],
   "source": [
    "print(j)"
   ]
  },
  {
   "cell_type": "code",
   "execution_count": 32,
   "id": "9bb44f0d-96bb-42ef-96ce-c2f96ea4732a",
   "metadata": {},
   "outputs": [],
   "source": [
    "j={1:\"krishna\",2:\"mohan\",3:\"Sunny\",4:\"krishna\"}"
   ]
  },
  {
   "cell_type": "code",
   "execution_count": 33,
   "id": "7c1dbf28-d546-4864-bb10-133b8b7b3843",
   "metadata": {},
   "outputs": [
    {
     "name": "stdout",
     "output_type": "stream",
     "text": [
      "{1: 'krishna', 2: 'mohan', 3: 'Sunny', 4: 'krishna'}\n"
     ]
    }
   ],
   "source": [
    "print(j)"
   ]
  },
  {
   "cell_type": "code",
   "execution_count": 35,
   "id": "b0b4e3f3-5181-4776-82a8-3d2bcbffd145",
   "metadata": {},
   "outputs": [
    {
     "data": {
      "text/plain": [
       "{1: 'krishna', 2: 'mohan', 3: 'Sunny', 4: 'krishna'}"
      ]
     },
     "execution_count": 35,
     "metadata": {},
     "output_type": "execute_result"
    }
   ],
   "source": [
    "j"
   ]
  },
  {
   "cell_type": "code",
   "execution_count": 39,
   "id": "f2355878-9ec5-456a-8384-32aff114ce01",
   "metadata": {},
   "outputs": [],
   "source": [
    "k={5:\"kumar\"}"
   ]
  },
  {
   "cell_type": "code",
   "execution_count": 40,
   "id": "e474dde9-ec6a-4adf-b637-e180f263d402",
   "metadata": {},
   "outputs": [
    {
     "ename": "TypeError",
     "evalue": "unsupported operand type(s) for +: 'dict' and 'dict'",
     "output_type": "error",
     "traceback": [
      "\u001b[1;31m---------------------------------------------------------------------------\u001b[0m",
      "\u001b[1;31mTypeError\u001b[0m                                 Traceback (most recent call last)",
      "Cell \u001b[1;32mIn[40], line 1\u001b[0m\n\u001b[1;32m----> 1\u001b[0m \u001b[43mj\u001b[49m\u001b[38;5;241;43m+\u001b[39;49m\u001b[43mk\u001b[49m\n",
      "\u001b[1;31mTypeError\u001b[0m: unsupported operand type(s) for +: 'dict' and 'dict'"
     ]
    }
   ],
   "source": [
    "j+k"
   ]
  },
  {
   "cell_type": "code",
   "execution_count": 41,
   "id": "fe109f13-8a8b-401b-880d-1aa38248ed6c",
   "metadata": {},
   "outputs": [
    {
     "data": {
      "text/plain": [
       "{1: 'krishna', 2: 'mohan', 3: 'Sunny', 4: 'krishna'}"
      ]
     },
     "execution_count": 41,
     "metadata": {},
     "output_type": "execute_result"
    }
   ],
   "source": [
    "j"
   ]
  },
  {
   "cell_type": "code",
   "execution_count": 42,
   "id": "4d056cc4-ff25-4224-8cc4-b6a901753054",
   "metadata": {},
   "outputs": [
    {
     "data": {
      "text/plain": [
       "'krishna'"
      ]
     },
     "execution_count": 42,
     "metadata": {},
     "output_type": "execute_result"
    }
   ],
   "source": [
    "j[1]"
   ]
  },
  {
   "cell_type": "code",
   "execution_count": 43,
   "id": "b1576afb-84d5-4a2a-98d5-22de20de545b",
   "metadata": {},
   "outputs": [
    {
     "ename": "KeyError",
     "evalue": "10",
     "output_type": "error",
     "traceback": [
      "\u001b[1;31m---------------------------------------------------------------------------\u001b[0m",
      "\u001b[1;31mKeyError\u001b[0m                                  Traceback (most recent call last)",
      "Cell \u001b[1;32mIn[43], line 1\u001b[0m\n\u001b[1;32m----> 1\u001b[0m \u001b[43mj\u001b[49m\u001b[43m[\u001b[49m\u001b[38;5;241;43m10\u001b[39;49m\u001b[43m]\u001b[49m\n",
      "\u001b[1;31mKeyError\u001b[0m: 10"
     ]
    }
   ],
   "source": [
    "j[10]"
   ]
  },
  {
   "cell_type": "code",
   "execution_count": 44,
   "id": "6c8b8db1-19a7-4e9b-9def-8ce1e80f30fb",
   "metadata": {},
   "outputs": [
    {
     "data": {
      "text/plain": [
       "'krishna'"
      ]
     },
     "execution_count": 44,
     "metadata": {},
     "output_type": "execute_result"
    }
   ],
   "source": [
    "j.get(1)"
   ]
  },
  {
   "cell_type": "code",
   "execution_count": 45,
   "id": "1dcb0c38-706c-4555-b7db-c636d94d7c19",
   "metadata": {},
   "outputs": [],
   "source": [
    "j.get(10)"
   ]
  },
  {
   "cell_type": "code",
   "execution_count": 46,
   "id": "1ba6236c-b364-45eb-970c-7aec3f975bf8",
   "metadata": {},
   "outputs": [
    {
     "data": {
      "text/plain": [
       "'value is not available'"
      ]
     },
     "execution_count": 46,
     "metadata": {},
     "output_type": "execute_result"
    }
   ],
   "source": [
    "j.get(10,\"value is not available\")"
   ]
  },
  {
   "cell_type": "code",
   "execution_count": 47,
   "id": "f33d4dc4-1474-4dce-95a6-61392669ea05",
   "metadata": {},
   "outputs": [
    {
     "data": {
      "text/plain": [
       "'krishna'"
      ]
     },
     "execution_count": 47,
     "metadata": {},
     "output_type": "execute_result"
    }
   ],
   "source": [
    "j.get(1,\"value is not available\")"
   ]
  },
  {
   "cell_type": "code",
   "execution_count": 48,
   "id": "46ac9108-6d6c-428c-8a83-211847529c98",
   "metadata": {},
   "outputs": [
    {
     "data": {
      "text/plain": [
       "'Sunny'"
      ]
     },
     "execution_count": 48,
     "metadata": {},
     "output_type": "execute_result"
    }
   ],
   "source": [
    "j.pop(3)"
   ]
  },
  {
   "cell_type": "code",
   "execution_count": 49,
   "id": "13456be6-5c1f-439c-a690-bebd958ea301",
   "metadata": {},
   "outputs": [
    {
     "name": "stdout",
     "output_type": "stream",
     "text": [
      "{1: 'krishna', 2: 'mohan', 4: 'krishna'}\n"
     ]
    }
   ],
   "source": [
    "print(j)"
   ]
  },
  {
   "cell_type": "code",
   "execution_count": 50,
   "id": "1b38c43c-a003-4324-8f94-c78e8d082da1",
   "metadata": {},
   "outputs": [
    {
     "data": {
      "text/plain": [
       "(4, 'krishna')"
      ]
     },
     "execution_count": 50,
     "metadata": {},
     "output_type": "execute_result"
    }
   ],
   "source": [
    "j.popitem()"
   ]
  },
  {
   "cell_type": "code",
   "execution_count": 51,
   "id": "3ca3e1e9-75b8-4131-8700-f7a0f53a4c10",
   "metadata": {},
   "outputs": [
    {
     "name": "stdout",
     "output_type": "stream",
     "text": [
      "{1: 'krishna', 2: 'mohan'}\n"
     ]
    }
   ],
   "source": [
    "print(j)"
   ]
  },
  {
   "cell_type": "code",
   "execution_count": 52,
   "id": "cc74fb03-eeaf-4523-bb4e-0cd3d99f80a5",
   "metadata": {},
   "outputs": [],
   "source": [
    "j.update({4:\"krishna\",3:\"Mohit\",6:\"abc\"})"
   ]
  },
  {
   "cell_type": "code",
   "execution_count": 53,
   "id": "ccc34dec-a596-4393-ae94-c4d93e36caff",
   "metadata": {},
   "outputs": [
    {
     "name": "stdout",
     "output_type": "stream",
     "text": [
      "{1: 'krishna', 2: 'mohan', 4: 'krishna', 3: 'Mohit', 6: 'abc'}\n"
     ]
    }
   ],
   "source": [
    "print(j)"
   ]
  },
  {
   "cell_type": "code",
   "execution_count": 54,
   "id": "96df1aa6-1700-4c09-ae34-29631698f663",
   "metadata": {},
   "outputs": [],
   "source": [
    "k=j"
   ]
  },
  {
   "cell_type": "code",
   "execution_count": 55,
   "id": "8f97755b-5990-4388-b310-615733c12ee6",
   "metadata": {},
   "outputs": [
    {
     "data": {
      "text/plain": [
       "{1: 'krishna', 2: 'mohan', 4: 'krishna', 3: 'Mohit', 6: 'abc'}"
      ]
     },
     "execution_count": 55,
     "metadata": {},
     "output_type": "execute_result"
    }
   ],
   "source": [
    "k"
   ]
  },
  {
   "cell_type": "code",
   "execution_count": 56,
   "id": "aecd6931-f9ef-4eba-806c-87e87ba7476a",
   "metadata": {},
   "outputs": [
    {
     "data": {
      "text/plain": [
       "{1: 'krishna', 2: 'mohan', 4: 'krishna', 3: 'Mohit', 6: 'abc'}"
      ]
     },
     "execution_count": 56,
     "metadata": {},
     "output_type": "execute_result"
    }
   ],
   "source": [
    "j"
   ]
  },
  {
   "cell_type": "code",
   "execution_count": 57,
   "id": "883303c9-48cb-4747-b400-a25ea8175c42",
   "metadata": {},
   "outputs": [],
   "source": [
    "k.update({10:\"Vicky\"})"
   ]
  },
  {
   "cell_type": "code",
   "execution_count": 58,
   "id": "64ef86bc-2102-4a59-88d3-2daa05790746",
   "metadata": {},
   "outputs": [
    {
     "name": "stdout",
     "output_type": "stream",
     "text": [
      "{1: 'krishna', 2: 'mohan', 4: 'krishna', 3: 'Mohit', 6: 'abc', 10: 'Vicky'}\n"
     ]
    }
   ],
   "source": [
    "print(k)"
   ]
  },
  {
   "cell_type": "code",
   "execution_count": 59,
   "id": "17439b4a-9c0c-4c07-9997-5e8c4a016dd1",
   "metadata": {},
   "outputs": [
    {
     "data": {
      "text/plain": [
       "{1: 'krishna', 2: 'mohan', 4: 'krishna', 3: 'Mohit', 6: 'abc', 10: 'Vicky'}"
      ]
     },
     "execution_count": 59,
     "metadata": {},
     "output_type": "execute_result"
    }
   ],
   "source": [
    "j"
   ]
  },
  {
   "cell_type": "code",
   "execution_count": 60,
   "id": "75467b30-ea27-400d-b28c-c15a597ea001",
   "metadata": {},
   "outputs": [
    {
     "data": {
      "text/plain": [
       "2166821729920"
      ]
     },
     "execution_count": 60,
     "metadata": {},
     "output_type": "execute_result"
    }
   ],
   "source": [
    "id(j)"
   ]
  },
  {
   "cell_type": "code",
   "execution_count": 61,
   "id": "6b657621-9140-4579-ab68-fc96f909977e",
   "metadata": {},
   "outputs": [
    {
     "data": {
      "text/plain": [
       "2166821729920"
      ]
     },
     "execution_count": 61,
     "metadata": {},
     "output_type": "execute_result"
    }
   ],
   "source": [
    "id(k)"
   ]
  },
  {
   "cell_type": "code",
   "execution_count": 62,
   "id": "a0bed6c9-e26b-4142-abb5-bebc4ef07356",
   "metadata": {},
   "outputs": [
    {
     "data": {
      "text/plain": [
       "{1: 'krishna', 2: 'mohan', 4: 'krishna', 3: 'Mohit', 6: 'abc', 10: 'Vicky'}"
      ]
     },
     "execution_count": 62,
     "metadata": {},
     "output_type": "execute_result"
    }
   ],
   "source": [
    "j"
   ]
  },
  {
   "cell_type": "code",
   "execution_count": 63,
   "id": "c608e156-0e73-458c-b311-b931aeea5f08",
   "metadata": {},
   "outputs": [],
   "source": [
    "l=j.copy()"
   ]
  },
  {
   "cell_type": "code",
   "execution_count": 65,
   "id": "3cd5d219-62e4-4839-9c8e-f47bf28a2de3",
   "metadata": {},
   "outputs": [],
   "source": [
    "l.update({100:\"Raju\"})"
   ]
  },
  {
   "cell_type": "code",
   "execution_count": 67,
   "id": "a7644b61-ac17-4eb9-a4b4-06d2bfb22c3a",
   "metadata": {},
   "outputs": [
    {
     "name": "stdout",
     "output_type": "stream",
     "text": [
      "{1: 'krishna', 2: 'mohan', 4: 'krishna', 3: 'Mohit', 6: 'abc', 10: 'Vicky', 100: 'Raju'}\n"
     ]
    }
   ],
   "source": [
    "print(l)"
   ]
  },
  {
   "cell_type": "code",
   "execution_count": 68,
   "id": "440b0737-c7d0-4b9c-934e-a61a58b86b4a",
   "metadata": {},
   "outputs": [
    {
     "name": "stdout",
     "output_type": "stream",
     "text": [
      "{1: 'krishna', 2: 'mohan', 4: 'krishna', 3: 'Mohit', 6: 'abc', 10: 'Vicky'}\n"
     ]
    }
   ],
   "source": [
    "print(j)"
   ]
  },
  {
   "cell_type": "code",
   "execution_count": 69,
   "id": "38f40654-77bb-4492-951a-7fec4732dac0",
   "metadata": {},
   "outputs": [
    {
     "name": "stdout",
     "output_type": "stream",
     "text": [
      "2166823843584\n"
     ]
    }
   ],
   "source": [
    "print(id(l))"
   ]
  },
  {
   "cell_type": "code",
   "execution_count": 70,
   "id": "8f546ed5-60a3-46f3-87eb-e18375be594a",
   "metadata": {},
   "outputs": [
    {
     "name": "stdout",
     "output_type": "stream",
     "text": [
      "2166821729920\n"
     ]
    }
   ],
   "source": [
    "print(id(j))"
   ]
  },
  {
   "cell_type": "code",
   "execution_count": 72,
   "id": "6d152dc5-17dc-46cd-a13b-2ada08aef59a",
   "metadata": {},
   "outputs": [],
   "source": [
    "j.setdefault(11,)"
   ]
  },
  {
   "cell_type": "code",
   "execution_count": 73,
   "id": "eb91f660-05ec-48c6-a20c-fc63662bd99f",
   "metadata": {},
   "outputs": [
    {
     "data": {
      "text/plain": [
       "{1: 'krishna',\n",
       " 2: 'mohan',\n",
       " 4: 'krishna',\n",
       " 3: 'Mohit',\n",
       " 6: 'abc',\n",
       " 10: 'Vicky',\n",
       " 11: None}"
      ]
     },
     "execution_count": 73,
     "metadata": {},
     "output_type": "execute_result"
    }
   ],
   "source": [
    "j"
   ]
  },
  {
   "cell_type": "code",
   "execution_count": 74,
   "id": "c133d1df-84b2-4492-95b9-655abebf566a",
   "metadata": {},
   "outputs": [],
   "source": [
    "j.update({11:\"Mohit\"})"
   ]
  },
  {
   "cell_type": "code",
   "execution_count": 75,
   "id": "fe325186-2c12-49ef-ac47-a30bd039d4ed",
   "metadata": {},
   "outputs": [
    {
     "name": "stdout",
     "output_type": "stream",
     "text": [
      "{1: 'krishna', 2: 'mohan', 4: 'krishna', 3: 'Mohit', 6: 'abc', 10: 'Vicky', 11: 'Mohit'}\n"
     ]
    }
   ],
   "source": [
    "print(j)"
   ]
  },
  {
   "cell_type": "code",
   "execution_count": 76,
   "id": "7a895165-d1a7-4138-a127-f99b8a901399",
   "metadata": {},
   "outputs": [
    {
     "name": "stdout",
     "output_type": "stream",
     "text": [
      "{}\n"
     ]
    }
   ],
   "source": [
    "a=dict()\n",
    "print(a)"
   ]
  },
  {
   "cell_type": "code",
   "execution_count": 78,
   "id": "e7e7cda5-3719-4a80-b536-379f16fbc735",
   "metadata": {},
   "outputs": [],
   "source": [
    "b=a.fromkeys([1,2,3,4,5,6,7,8,9,10],\"available\")"
   ]
  },
  {
   "cell_type": "code",
   "execution_count": 79,
   "id": "7a8cc2b1-0108-46c7-9032-7d824891f63d",
   "metadata": {},
   "outputs": [
    {
     "data": {
      "text/plain": [
       "{1: 'available',\n",
       " 2: 'available',\n",
       " 3: 'available',\n",
       " 4: 'available',\n",
       " 5: 'available',\n",
       " 6: 'available',\n",
       " 7: 'available',\n",
       " 8: 'available',\n",
       " 9: 'available',\n",
       " 10: 'available'}"
      ]
     },
     "execution_count": 79,
     "metadata": {},
     "output_type": "execute_result"
    }
   ],
   "source": [
    "b"
   ]
  },
  {
   "cell_type": "code",
   "execution_count": 80,
   "id": "77068e08-ad41-4d51-b4d8-cf6414a8dd9c",
   "metadata": {},
   "outputs": [],
   "source": [
    "b[1]=\"mohan\""
   ]
  },
  {
   "cell_type": "code",
   "execution_count": 81,
   "id": "56e09b69-fa9b-4b8b-a1d5-3d7c7aa5a782",
   "metadata": {},
   "outputs": [
    {
     "name": "stdout",
     "output_type": "stream",
     "text": [
      "{1: 'mohan', 2: 'available', 3: 'available', 4: 'available', 5: 'available', 6: 'available', 7: 'available', 8: 'available', 9: 'available', 10: 'available'}\n"
     ]
    }
   ],
   "source": [
    "print(b)"
   ]
  },
  {
   "cell_type": "code",
   "execution_count": 83,
   "id": "abfa1612-ddf7-4ad2-9963-e67b329b2b6f",
   "metadata": {},
   "outputs": [],
   "source": [
    "b.update({2:\"Sohan\"})"
   ]
  },
  {
   "cell_type": "code",
   "execution_count": 84,
   "id": "214c9d49-e061-4fa7-aa9f-e18e474e8639",
   "metadata": {},
   "outputs": [
    {
     "name": "stdout",
     "output_type": "stream",
     "text": [
      "{1: 'mohan', 2: 'Sohan', 3: 'available', 4: 'available', 5: 'available', 6: 'available', 7: 'available', 8: 'available', 9: 'available', 10: 'available'}\n"
     ]
    }
   ],
   "source": [
    "print(b)"
   ]
  },
  {
   "cell_type": "code",
   "execution_count": 85,
   "id": "44eff9c1-b142-435b-ba02-9853af656123",
   "metadata": {},
   "outputs": [],
   "source": [
    "b.clear()"
   ]
  },
  {
   "cell_type": "code",
   "execution_count": 86,
   "id": "d49cec7f-1a09-40f0-9f3c-d897771480af",
   "metadata": {},
   "outputs": [
    {
     "name": "stdout",
     "output_type": "stream",
     "text": [
      "{}\n"
     ]
    }
   ],
   "source": [
    "print(b)"
   ]
  },
  {
   "cell_type": "code",
   "execution_count": null,
   "id": "94b8f4f9-477f-48cf-8936-2bd4425cb0bc",
   "metadata": {},
   "outputs": [],
   "source": []
  }
 ],
 "metadata": {
  "kernelspec": {
   "display_name": "Python 3 (ipykernel)",
   "language": "python",
   "name": "python3"
  },
  "language_info": {
   "codemirror_mode": {
    "name": "ipython",
    "version": 3
   },
   "file_extension": ".py",
   "mimetype": "text/x-python",
   "name": "python",
   "nbconvert_exporter": "python",
   "pygments_lexer": "ipython3",
   "version": "3.11.4"
  }
 },
 "nbformat": 4,
 "nbformat_minor": 5
}
